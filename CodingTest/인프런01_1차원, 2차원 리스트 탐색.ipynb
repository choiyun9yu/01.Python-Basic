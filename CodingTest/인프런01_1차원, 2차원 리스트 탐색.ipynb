{
 "cells": [
  {
   "cell_type": "markdown",
   "id": "1ddd57e4",
   "metadata": {},
   "source": [
    "# 탐색&시뮬레이션(string, 1차원, 2차원 리스트 탐색)"
   ]
  },
  {
   "cell_type": "markdown",
   "id": "660bd2fc",
   "metadata": {},
   "source": [
    "## 회문 문자열 검색\n",
    "N개의 문자열 데이터를 입력받아 앞에서 읽을 때나 뒤에서 읽을 때나 같은 경우,  \n",
    "회문 문자열이면 YES를 출력하고 회문 문자열이 아니면 NO를 출력하는 프로그램  \n",
    "단 회문을 검사할 때 대소문자를 구분하지 않는다."
   ]
  },
  {
   "cell_type": "code",
   "execution_count": 17,
   "id": "88bacc8a",
   "metadata": {},
   "outputs": [
    {
     "name": "stdout",
     "output_type": "stream",
     "text": [
      "YES\n"
     ]
    }
   ],
   "source": [
    "s='level'\n",
    "s=s.upper()  # str.upper()는 문자열을 대문자화 / str.lowwer()는 문자를 소문자화\n",
    "size=len(s)\n",
    "\n",
    "for i in range(size//2):  # 회문문자열이 홀수인 경우 가운데는 의미없어서 로직에서도 고려하지 않는다.\n",
    "    if s[i]!=s[-1-i]:\n",
    "        print('NO')\n",
    "        break\n",
    "else:\n",
    "    print('YES')  # for else문 : 반복문이 정상적으로 종료되었을 때 else문이 실행됨\n",
    "        "
   ]
  },
  {
   "cell_type": "code",
   "execution_count": 19,
   "id": "a5ba2691",
   "metadata": {},
   "outputs": [
    {
     "name": "stdout",
     "output_type": "stream",
     "text": [
      "NO\n"
     ]
    }
   ],
   "source": [
    "s='moon'\n",
    "s=s.upper()  # str.upper()는 문자열을 대문자화 / str.lowwer()는 문자를 소문자화\n",
    "size=len(s)\n",
    "\n",
    "if s == s[::-1]:  #s[::-1] : 역순으로 만들어줌\n",
    "    print('YES')\n",
    "else:\n",
    "    print('NO')\n",
    "    "
   ]
  },
  {
   "cell_type": "markdown",
   "id": "1a177e8a",
   "metadata": {},
   "source": [
    "## 숫자만 추출\n",
    "\n",
    "문자와 숫자가 섞여있는 문자열이 주어지면 그 중 숫자만 추출하여 그 순서대로 자연수를 만듭니다.  \n",
    "만들어진 자연수와 그 자연수의 약수 개수를 출력합니다. 첫자리 0은 자연수화 할 때 무시합니다.  \n",
    "단 추출하여 만들어지는 자연수는 100,000,000을 넘지 않습니다."
   ]
  },
  {
   "cell_type": "code",
   "execution_count": 23,
   "id": "30dfe16d",
   "metadata": {},
   "outputs": [
    {
     "name": "stdout",
     "output_type": "stream",
     "text": [
      "28\n",
      "6\n"
     ]
    }
   ],
   "source": [
    "s='g0en2Ts8eSoft'\n",
    "\n",
    "#숫자 추출하기\n",
    "res=0\n",
    "for i in s:\n",
    "    if i.isdecimal():  # .isdigit(): 숫자면 Ture / .isdecimal(): 1~9면 True\n",
    "        res=res*10+int(i)  # 0이면 0에다가 10을 곱하니까 0이고 0이 아니면 10의 자리씩 올리는 매커니즘\n",
    "print(res)\n",
    "\n",
    "#약수 개수 구하기\n",
    "cnt=0\n",
    "for j in range(1, res+1):\n",
    "    if res%j==0:\n",
    "        cnt+=1\n",
    "print(cnt)"
   ]
  },
  {
   "cell_type": "markdown",
   "id": "b0ff3cde",
   "metadata": {},
   "source": [
    "## 카드 역배치\n",
    "\n",
    "1부터 20까지 숫자가 하나씩 쓰인 20장의 카드가 아래 그림과 같이 오름차순으로 한 줄로 높여있다.  \n",
    "각 카드의 위치는 카드 위에 적힌 숫자와 같이 1부터 20까지로 나타낸다.  \n",
    "이제 여러분은 다음과 같은 규칙으로 카드의 위치를 바꾼다 : 구간 [a,b] (단, 1<=a<=b<=20)가 주어지면  \n",
    "위치 a부터 위치 b까지의 카드를 현재의 역순으로 놓는다.  \n",
    "이 상태에서 구간 [9,13]이 다시 주어진다면 위치 9부터 13까지의 카드를 역순으로 놓는다.  \n"
   ]
  },
  {
   "cell_type": "code",
   "execution_count": 30,
   "id": "ce78970a",
   "metadata": {},
   "outputs": [
    {
     "name": "stdout",
     "output_type": "stream",
     "text": [
      "[1, 2, 3, 4, 10, 9, 8, 7, 6, 5, 11, 12, 13, 14, 15, 16, 17, 18, 19, 20]\n"
     ]
    }
   ],
   "source": [
    "a, b = 5, 10\n",
    "\n",
    "list1 = list(range(21))\n",
    "\n",
    "for i in range((b-a+1)//2):  # 역순으로 자리바꿔야하는 횟수 / 2~7이면 27, 36, 45 3번 바꿔야하는데 그냥 7-2하면 2.5로 2번만하니까 +1\n",
    "    list1[a+i], list1[b-i] = list1[b-i], list1[a+i]  # 스왚 \n",
    "    \n",
    "list1.pop(0)\n",
    "print(list1)"
   ]
  },
  {
   "cell_type": "markdown",
   "id": "1c314e4c",
   "metadata": {},
   "source": [
    "## 두 리스트 합치기\n",
    "\n",
    "오름차순으로 정렬이 된 두 리스트가 주어지면 두 리스트를 오름차순으로 합쳐 출력하는 프로그램을 작성하시오.  \n",
    "리스트 두개를 더하고 sort정렬하면 시간 복잡도가(NlogN)이다.  \n",
    "그러나 이미 정렬된 리스트이기 때문에 그것을 활용하면 시간복잡도(N)으로 가능하다.  \n",
    "그러기 위해서는 a와 b의 0번 인덱스를 가르키는 포인터 변수 p1과 p2가 필요하다.  "
   ]
  },
  {
   "cell_type": "code",
   "execution_count": 15,
   "id": "af80bda8",
   "metadata": {},
   "outputs": [
    {
     "name": "stdout",
     "output_type": "stream",
     "text": [
      "1 2 3 3 5 6 7 9 "
     ]
    }
   ],
   "source": [
    "a=[1, 3, 5] \n",
    "b=[2, 3, 6, 7, 9]\n",
    "\n",
    "p1=p2=0\n",
    "c=[]\n",
    "\n",
    "while p1<len(a) and p2<len(b):\n",
    "    if a[p1]<b[p2]:\n",
    "        c.append(a[p1])\n",
    "        p1+=1\n",
    "    else:\n",
    "        c.append(b[p2])\n",
    "        p2+=1\n",
    "if len(a)>len(b):\n",
    "    c=c+a[p1:]\n",
    "elif len(a)<len(b):\n",
    "    c=c+b[p2:]\n",
    "\n",
    "for i in c:\n",
    "    print(i, end=' ')"
   ]
  },
  {
   "cell_type": "markdown",
   "id": "ef8bc778",
   "metadata": {},
   "source": [
    "## 수들의 합\n",
    "N개의 수로 된 수열 A[1], A[2],..., A[N] 이 있다. 이 수열의 i번째 수부터 j번째 수까지의 합  \n",
    "A[i]+A[i+1]+...+A[j-1]+A[j]가 M이 되는 경우의 수를 구하는 프로그램을 작성하시오."
   ]
  },
  {
   "cell_type": "code",
   "execution_count": 32,
   "id": "7bb8dde3",
   "metadata": {},
   "outputs": [
    {
     "name": "stdout",
     "output_type": "stream",
     "text": [
      "5\n"
     ]
    }
   ],
   "source": [
    "n,m=8,3\n",
    "a=[1,2,1,3,1,1,1,2]\n",
    "cnt=0\n",
    "lt,rt=0,1\n",
    "\n",
    "# lt는 0번인덱스로 초기화 rt는 1번 인덱스로 초기화\n",
    "# tot는 lt 이상부터 rt 미만까지 자료의 합\n",
    "while lt<7:\n",
    "    tot=sum(a[lt:rt])\n",
    "    if tot<m:\n",
    "        rt+=1\n",
    "    elif tot==m:\n",
    "        lt+=1\n",
    "        rt=lt+1\n",
    "        cnt+=1\n",
    "    elif tot>m:\n",
    "        lt+=1\n",
    "        rt=lt+1\n",
    "if a[-1] == m:\n",
    "    cnt+=1\n",
    "print(cnt)"
   ]
  },
  {
   "cell_type": "code",
   "execution_count": 35,
   "id": "89296938",
   "metadata": {},
   "outputs": [
    {
     "name": "stdout",
     "output_type": "stream",
     "text": [
      "5\n"
     ]
    }
   ],
   "source": [
    "n,m=8,3\n",
    "a=[1,2,1,3,1,1,1,2]\n",
    "cnt=0\n",
    "tot=a[0]\n",
    "lt,rt=0,1\n",
    "\n",
    "while True:\n",
    "    if tot<m:\n",
    "        if rt<n:\n",
    "            tot+=a[rt]\n",
    "            rt+=1\n",
    "        else:\n",
    "            break\n",
    "    elif tot==m:\n",
    "        cnt+=1\n",
    "        tot-=a[lt]\n",
    "        lt+=1\n",
    "    else:\n",
    "        tot-=a[lt]\n",
    "        lt+=1\n",
    "print(cnt)"
   ]
  },
  {
   "cell_type": "markdown",
   "id": "975ca767",
   "metadata": {},
   "source": [
    "## 격자판 최대합\n",
    "\n",
    "5*5 격자판에 아래와 같이 숫자가 적혀있습니다.  \n",
    "  \n",
    "10  13  10  12  15   \n",
    "12  39  30  28  11  \n",
    "11  25  50  53  15  \n",
    "19  27  29  37  27  \n",
    "19  13  30  13  19  \n",
    "  \n",
    "N*N의 격자판이 주어지면 각 행의 합, 각 열의 합, 두 대각선의 합 중 가장 큰 합을 출력합니다."
   ]
  },
  {
   "cell_type": "code",
   "execution_count": 40,
   "id": "8972f343",
   "metadata": {},
   "outputs": [
    {
     "name": "stdout",
     "output_type": "stream",
     "text": [
      "155\n"
     ]
    }
   ],
   "source": [
    "a=[[10, 13, 10, 12, 15],   \n",
    "   [12, 39, 30, 23, 11],  \n",
    "   [11, 25, 50, 53, 15],  \n",
    "   [19, 27, 29, 37, 27],  \n",
    "   [19, 13, 30, 13, 19]]\n",
    "largest=-2147000000  # 제일 작은 수\n",
    "\n",
    "for i in range(5):\n",
    "    sum1=sum2=0\n",
    "    for j in range(5):\n",
    "        sum1+=a[i][j]  # 행 고정\n",
    "        sum2+=a[j][i]  # 열 고정\n",
    "    if sum1>largest:\n",
    "        largest=sum1\n",
    "    elif sum2>largest:\n",
    "        largest=sum2\n",
    "\n",
    "# 대각선 합\n",
    "sum1=sum2=0\n",
    "for i in range(5):\n",
    "    sum1+=a[i][i]\n",
    "    sum2+=a[i][5-1-i]\n",
    "if sum1>largest:\n",
    "    largest=sum1\n",
    "elif sum2>largest:\n",
    "    largest=sum2\n",
    "\n",
    "print(largest)"
   ]
  },
  {
   "cell_type": "markdown",
   "id": "dd6e8a95",
   "metadata": {},
   "source": [
    "## 사과나무(다이아몬드)\n",
    "\n",
    "현수의 농장은 N*N 격자판으로 이루어져있으며, 각 격자안에는 한 그루의 사과나무가 심어져있다.  \n",
    "N의 크기는 항상 홀 수 이다. 가을이 되어 사과를 수확해야하는데 현수는 격자판안의 사과를  \n",
    "수확할 때 다이아몬드 모양만 수확하고 나머지 사과는 새들을 위해 남겨 놓는다.  \n",
    "현수가 수확하는 사과의 총 개수를 출력하시오.\n",
    "  \n",
    "10 13 10 12 15  \n",
    "12 39 30 23 11  \n",
    "11 25 50 53 15  \n",
    "19 27 29 37 27  \n",
    "19 13 30 13 19  "
   ]
  },
  {
   "cell_type": "code",
   "execution_count": 17,
   "id": "d48cb3b6",
   "metadata": {},
   "outputs": [
    {
     "name": "stdout",
     "output_type": "stream",
     "text": [
      "10\n",
      "39\n",
      "30\n",
      "23\n",
      "11\n",
      "25\n",
      "50\n",
      "53\n",
      "15\n",
      "27\n",
      "29\n",
      "37\n",
      "30\n",
      "379\n"
     ]
    }
   ],
   "source": [
    "a=[[10, 13, 10, 12, 15],   \n",
    "   [12, 39, 30, 23, 11],  \n",
    "   [11, 25, 50, 53, 15],  \n",
    "   [19, 27, 29, 37, 27],  \n",
    "   [19, 13, 30, 13, 19]]\n",
    "n=len(a)\n",
    "lt=rt=(n//2)  #홀수개 중에서 중간 인덱스 뽑기\n",
    "res=0\n",
    "\n",
    "for i in range(n):\n",
    "    for j in range(lt,rt+1):\n",
    "        res+=a[i][j]  # i는 행을 나타내고 j는 열을 나타냄 (반복문으로 j는 여러개 더하는 로직)\n",
    "    if i<(n//2):\n",
    "        lt-=1\n",
    "        rt+=1\n",
    "    else:\n",
    "        lt+=1\n",
    "        rt-=1\n",
    "print(res)"
   ]
  },
  {
   "cell_type": "code",
   "execution_count": 15,
   "id": "54694603",
   "metadata": {},
   "outputs": [
    {
     "data": {
      "text/plain": [
       "30"
      ]
     },
     "execution_count": 15,
     "metadata": {},
     "output_type": "execute_result"
    }
   ],
   "source": [
    "a[i][j]"
   ]
  },
  {
   "cell_type": "markdown",
   "id": "695fb34f",
   "metadata": {},
   "source": [
    "## 곳감(모래시계)\n",
    "현수는 곳감을 만들기 위해 감을 깍아 마당에 말리고 있습니다. 현수의 마당은 N*N 격자판으로 이루어져 있으며,  \n",
    "현수는 각 격자단위로 말리는 감의 수를 정합니다. 그런데 해의 위치에 따라 특정위치의 감은 잘마르지 않습니다.  \n",
    "그래서 현수는 격자의 행을 기준으로 왼쪽, 또는 오른쪽으로 회전시켜 위치를 변경해 모든 감이 잘 마르게 합니다.  \n",
    "명령어의 첫번째 수는 행번호 / 두번째 수는 방향인데 0이면 왼쪽, 1이면 오른쪽 / 세번째 수는 회전하는 격자의 수 입니다.  \n",
    "M개의 회전명령을 실행하고 난 후 모래시계 모양의 영역에 감이 총 몇개가 있는지 출력하는 프로그램을 작성하시오."
   ]
  },
  {
   "cell_type": "code",
   "execution_count": 23,
   "id": "f7e0c350",
   "metadata": {},
   "outputs": [
    {
     "name": "stdout",
     "output_type": "stream",
     "text": [
      "362\n"
     ]
    }
   ],
   "source": [
    "a=[[10, 13, 10, 12, 15],\n",
    "   [12, 39, 30, 23, 11],\n",
    "   [11, 25, 50, 53, 15],\n",
    "   [19, 27, 29, 37, 27],\n",
    "   [19, 13, 30, 13, 19]]\n",
    "\n",
    "b=[[2,0,3],\n",
    "   [5,1,2],\n",
    "   [3,1,4]]\n",
    "\n",
    "lt=0\n",
    "rt=len(a[0])-1\n",
    "res=0\n",
    "\n",
    "for i in range(len(b)):\n",
    "    row, rl, num =b[i][0], b[i][1], b[i][2] \n",
    "    if rl==0:  #왼쪽\n",
    "        for _ in range(num):\n",
    "            # pop(index) : 해당 인덱스 값 뽑아옴\n",
    "            a[row-1].append(a[row-1].pop(0))\n",
    "            \n",
    "    else:  #오른쪽\n",
    "        for _ in range(num):\n",
    "            # insert(넣을 인덱스 자리, 넣을 값)\n",
    "            # pop(): 맨 뒷 값 뽑아옴\n",
    "            a[row-1].insert(0, a[row-1].pop())\n",
    "\n",
    "for i in range(len(a)):\n",
    "    for j in range(lt, rt+1):\n",
    "        res+=a[i][j]\n",
    "    if i<len(a)//2:  # 모래시계허리 이전이면 // i는 0부터 시작하고 a는 몫이니까  \n",
    "        lt+=1\n",
    "        rt-=1\n",
    "    else:\n",
    "        lt-=1\n",
    "        rt+=1\n",
    "print(res)"
   ]
  },
  {
   "cell_type": "markdown",
   "id": "94a40f68",
   "metadata": {},
   "source": [
    "## 봉우리\n",
    "지도 정보가 N*N 격자판에 주어집니다. 각 격자에는 그 지역의 높이가 쓰여있습니다.   \n",
    "각 격자판의 숫자 중 자신의 상하좌우 숫자보다 큰 숫자는 봉우리 지역 입니다.  \n",
    "봉우리 지역이 몇 개 있는지 알아내는 프로그램을 작성하시오.  \n",
    "단, 격자의 가장자리는 0으로 초기화 되어 있다고 가정한다."
   ]
  },
  {
   "cell_type": "code",
   "execution_count": 45,
   "id": "75e94f45",
   "metadata": {},
   "outputs": [
    {
     "name": "stdout",
     "output_type": "stream",
     "text": [
      "[0, 0, 0, 0, 0, 0, 0]\n",
      "[0, 5, 3, 7, 2, 3, 0]\n",
      "[0, 3, 7, 1, 6, 1, 0]\n",
      "[0, 7, 2, 5, 3, 4, 0]\n",
      "[0, 4, 3, 6, 4, 1, 0]\n",
      "[0, 8, 7, 3, 5, 2, 0]\n",
      "[0, 0, 0, 0, 0, 0, 0]\n",
      "10\n"
     ]
    }
   ],
   "source": [
    "n=5\n",
    "a=[[5,3,7,2,3],\n",
    "   [3,7,1,6,1],\n",
    "   [7,2,5,3,4],\n",
    "   [4,3,6,4,1],\n",
    "   [8,7,3,5,2]]\n",
    "\n",
    "# 가장자리 맨위 0으로 초기화\n",
    "a.insert(0, [0]*n)\n",
    "# 가장자리 맨아래 0으로 초기화\n",
    "a.append([0]*n)\n",
    "# 가장자리 좌우 0으로 초기\n",
    "for i in a:\n",
    "    i.insert(0,0)\n",
    "    i.append(0)\n",
    "    \n",
    "# 2차원으로 출력해보기\n",
    "for i in range(n+2):\n",
    "    print(a[i])\n",
    "    \n",
    "# 각 셀마다 상하좌우 비교하기\n",
    "cnt=0\n",
    "dx=[-1,0,1,0]  #행이 하나 작아지니까 (위)/ 행은 그대로 있음 / 행이 하나 커지니까 (아래) / 행은 그대로 있음\n",
    "dy=[0,1,0,-1]  #열은 그대로 있음/ 열이 하나 더해지니까 (오른쪽) / 열은 그대로 있음 / 열이 하나작아지니까 (왼쪽)\n",
    "for i in range(1,n+1):  #행\n",
    "    for j in range(1,n+1):  #열\n",
    "        # all() : 요소가 모두 참이여야 참\n",
    "        if all(a[i][j]>a[i+dx[k]][j+dy[k]] for k in range(len(dx))):\n",
    "            cnt+=1\n",
    "print(cnt)\n"
   ]
  },
  {
   "cell_type": "markdown",
   "id": "24073e94",
   "metadata": {},
   "source": [
    "## 스도쿠 검사\n",
    "완성된 스도쿠가 주어졌을 때 정확하게 풀었으면 Yes, 잘 못 풀었으면 No를 출력하는 프로그램을 작성하시오."
   ]
  },
  {
   "cell_type": "code",
   "execution_count": 54,
   "id": "2697515a",
   "metadata": {},
   "outputs": [
    {
     "name": "stdout",
     "output_type": "stream",
     "text": [
      "YES\n"
     ]
    }
   ],
   "source": [
    "a=[[1,4,3,6,2,8,5,7,9],\n",
    "   [5,7,2,1,3,9,4,6,8],\n",
    "   [9,8,6,7,5,4,2,3,1],\n",
    "   [3,9,1,5,4,2,7,8,6],\n",
    "   [4,6,8,9,1,7,3,5,2],\n",
    "   [7,2,5,8,6,3,9,1,4],\n",
    "   [2,3,7,4,8,1,6,9,5],\n",
    "   [6,1,9,2,7,5,8,4,3],\n",
    "   [8,5,4,3,9,6,1,2,7]]\n",
    "\n",
    "def check(tmp):\n",
    "    # 직선 체크\n",
    "    for i in range(9):\n",
    "        checklist1 = [0]*10  # 행 체크 (체크리스트 10개를 만들어야 0~9까지 인덱스가 나옴)\n",
    "        checklist2 = [0]*10  # 열 체크 (체크리스트1~9까지 모두 1로 표시가 되어야함)\n",
    "        for j in range(9):\n",
    "            checklist1[a[i][j]]=1  # 행 고정 열 9칸 도는 것 / checklist[a[i][j]]: a의 해당 행렬의 숫자가 체크리스트에 1로 체크됨\n",
    "            checklist2[a[j][i]]=1  # 열 고정 행 9칸 도는 것\n",
    "        if sum(checklist1)!=9 or sum(checklist2)!=9:\n",
    "            return False\n",
    "    # 그룹 체크\n",
    "    for i in range(3):\n",
    "        for j in range(3):  # i*j 이중 for문은 3*3 이니까 9그룹을 도는 것 \n",
    "            checklist3 = [0]*10  # 그룹 체크\n",
    "            for k in range(3):\n",
    "                for s in range(3):  #k*s 이중 for문은 3*3 이니까 그룹 내 9칸을 도는 것\n",
    "                    checklist3[a[i*3+k][j*3+s]]=1\n",
    "            if sum(checklist3)!=9:\n",
    "                return False\n",
    "    return True\n",
    "if check(a):\n",
    "    print(\"YES\")\n",
    "else:\n",
    "    print(\"NO\")"
   ]
  },
  {
   "cell_type": "markdown",
   "id": "f117729b",
   "metadata": {},
   "source": [
    "## 격자판 회문수\n",
    "1부터 9까지의 자연수로 채워진 7*7 격자판이 주어지면 격자판 위에서 가로방향 또는 세로방향으로  \n",
    "길이 5자리 회문수가 몇 개 있는지 구하는 프로그램을 작성하시오.  \n",
    "단, 구부러진 경우는 회문수로 간주하지 않습니다."
   ]
  },
  {
   "cell_type": "code",
   "execution_count": 66,
   "id": "b879978a",
   "metadata": {},
   "outputs": [
    {
     "name": "stdout",
     "output_type": "stream",
     "text": [
      "3\n"
     ]
    }
   ],
   "source": [
    "a = [[2,4,1,5,3,2,6],\n",
    "     [3,5,1,8,7,1,7],\n",
    "     [8,3,2,7,1,3,8],\n",
    "     [6,1,2,3,2,1,1],\n",
    "     [1,3,1,3,5,3,2],\n",
    "     [1,1,2,5,6,5,2],\n",
    "     [1,2,2,2,2,1,5]]\n",
    "cnt=0\n",
    "\n",
    "for i in range(3):  # 길이가 7이니까 인덱스는 0부터 6까지, 3에서 시작하면 5개를 못채우니까 굳이 검사할 필요 없어서 시작점 0,1,2만 검사\n",
    "    for j in range(7):\n",
    "        tmp=a[j][i:i+5]  # 행 회문은 슬라이싱으로 점검\n",
    "        if tmp==tmp[::-1]:  # 회문 역순\n",
    "            cnt+=1\n",
    "        for k in range(2):  # 열 회문은 반복문으로 / 2인 이유는 5//2 만큼만 검사하면 됨(회문의 가운데 수는 영향없어서)\n",
    "            if a[i+k][j]!=a[i+5-k-1][j]:  #j로 열 고정\n",
    "                break\n",
    "        else:\n",
    "            cnt+=1\n",
    "print(cnt) "
   ]
  }
 ],
 "metadata": {
  "kernelspec": {
   "display_name": "Python 3",
   "language": "python",
   "name": "python3"
  },
  "language_info": {
   "codemirror_mode": {
    "name": "ipython",
    "version": 3
   },
   "file_extension": ".py",
   "mimetype": "text/x-python",
   "name": "python",
   "nbconvert_exporter": "python",
   "pygments_lexer": "ipython3",
   "version": "3.8.9 (default, Apr 13 2022, 08:48:06) \n[Clang 13.1.6 (clang-1316.0.21.2.5)]"
  },
  "vscode": {
   "interpreter": {
    "hash": "31f2aee4e71d21fbe5cf8b01ff0e069b9275f58929596ceb00d14d90e3e16cd6"
   }
  }
 },
 "nbformat": 4,
 "nbformat_minor": 5
}
