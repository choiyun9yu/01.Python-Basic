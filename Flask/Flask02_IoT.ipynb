{
 "cells": [
  {
   "attachments": {},
   "cell_type": "markdown",
   "id": "9fa60668",
   "metadata": {},
   "source": [
    "##  What is Server?"
   ]
  },
  {
   "attachments": {},
   "cell_type": "markdown",
   "id": "781ca068",
   "metadata": {},
   "source": [
    "- flask Server(웹 파이크로 프레임 워크)\n",
    "- 서버: 클라이언트에게 네트워크를 통해 정보나 서비스를 제공하는 컴퓨터 시스템으로 컴퓨터 프로그램(server program) 또는 장치(device)를 의미한다.\n",
    "- Network = Net + Work \"그물 처럼 서로 엮여서 일하는 것\"\n",
    "- IPv4 : 0~255.0~255.0~255.0~255 (8bite*4 = 32bite) 2^32개 만큼의 주소 배정 가능 / 127.0.0.1 나를 가리키는 주소 localhost\n",
    "- IPv6 : (128bite)"
   ]
  },
  {
   "attachments": {},
   "cell_type": "markdown",
   "id": "acd31ead",
   "metadata": {},
   "source": [
    "## 요청방식\n",
    "- get방식 : 내가 URL 주소의 key:Value 형식을 요청하면 그에 대한 데이터를 리턴\n",
    "    - (장점) 주소만 가지고 있으면 같은 페이지 볼 수 있음\n",
    "    - (단점) 보안에 취약 // #get방식으로 보내면 주소/?키1=밸류1&키2=밸류2 \n",
    "    - 물음표로 시작하는 방식 : 쿼리스트림 방식  "
   ]
  },
  {
   "attachments": {},
   "cell_type": "markdown",
   "id": "38244df5",
   "metadata": {},
   "source": [
    "- post방식 : 바디태그 안에 key:value가 담겨져서 이동  \n",
    "    - (장점) 보안에 강함\n",
    "    - (단점) 같은 웹페이지 주소를 볼 수 없음"
   ]
  },
  {
   "cell_type": "code",
   "execution_count": 5,
   "id": "eb636a5f",
   "metadata": {},
   "outputs": [
    {
     "name": "stdout",
     "output_type": "stream",
     "text": [
      "Collecting flask\n",
      "  Downloading Flask-2.2.2-py3-none-any.whl (101 kB)\n",
      "\u001b[2K     \u001b[90m━━━━━━━━━━━━━━━━━━━━━━━━━━━━━━━━━━━━━━━\u001b[0m \u001b[32m101.5/101.5 KB\u001b[0m \u001b[31m2.3 MB/s\u001b[0m eta \u001b[36m0:00:00\u001b[0ma \u001b[36m0:00:01\u001b[0m\n",
      "\u001b[?25hCollecting itsdangerous>=2.0\n",
      "  Downloading itsdangerous-2.1.2-py3-none-any.whl (15 kB)\n",
      "Collecting click>=8.0\n",
      "  Downloading click-8.1.3-py3-none-any.whl (96 kB)\n",
      "\u001b[2K     \u001b[90m━━━━━━━━━━━━━━━━━━━━━━━━━━━━━━━━━━━━━━━━\u001b[0m \u001b[32m96.6/96.6 KB\u001b[0m \u001b[31m4.0 MB/s\u001b[0m eta \u001b[36m0:00:00\u001b[0m\n",
      "\u001b[?25hRequirement already satisfied: Jinja2>=3.0 in /Library/Frameworks/Python.framework/Versions/3.10/lib/python3.10/site-packages (from flask) (3.1.2)\n",
      "Collecting Werkzeug>=2.2.2\n",
      "  Downloading Werkzeug-2.2.2-py3-none-any.whl (232 kB)\n",
      "\u001b[2K     \u001b[90m━━━━━━━━━━━━━━━━━━━━━━━━━━━━━━━━━━━━━━━\u001b[0m \u001b[32m232.7/232.7 KB\u001b[0m \u001b[31m5.3 MB/s\u001b[0m eta \u001b[36m0:00:00\u001b[0ma \u001b[36m0:00:01\u001b[0m\n",
      "\u001b[?25hRequirement already satisfied: MarkupSafe>=2.0 in /Library/Frameworks/Python.framework/Versions/3.10/lib/python3.10/site-packages (from Jinja2>=3.0->flask) (2.1.1)\n",
      "Installing collected packages: Werkzeug, itsdangerous, click, flask\n",
      "Successfully installed Werkzeug-2.2.2 click-8.1.3 flask-2.2.2 itsdangerous-2.1.2\n",
      "\u001b[33mWARNING: You are using pip version 22.0.4; however, version 22.3.1 is available.\n",
      "You should consider upgrading via the '/usr/local/bin/python3 -m pip install --upgrade pip' command.\u001b[0m\u001b[33m\n",
      "\u001b[0mNote: you may need to restart the kernel to use updated packages.\n"
     ]
    }
   ],
   "source": [
    "# pip install flask"
   ]
  },
  {
   "attachments": {},
   "cell_type": "markdown",
   "id": "00449d7b",
   "metadata": {},
   "source": [
    "## 웹 페이지에서 보드제어"
   ]
  },
  {
   "cell_type": "code",
   "execution_count": null,
   "id": "b864ef03",
   "metadata": {},
   "outputs": [],
   "source": [
    "# 서버 기본 form\n",
    "from flask import Flask #서버 올리는 라이브러리\n",
    "from flask import render_template \n",
    "\n",
    "app = Flask(__name__)  #app이라는 객체 만든 것\n",
    "\n",
    "led = '2'\n",
    "\n",
    "@app.route('/')  #경로잡아줌\n",
    "def index():\n",
    "    return render_template('index.html')\n",
    "\n",
    "@app.route('/led')\n",
    "def state():\n",
    "    global led\n",
    "    print(f'현재 LED상태 : {LED}')\n",
    "    return led\n",
    "\n",
    "@app.route('/led/on')\n",
    "def led_on():\n",
    "    global led # 이 밑으로 쓰는 led는 다 글로벌 led야\n",
    "    led = '1'\n",
    "    print('LED 켜짐')\n",
    "    return 'LED ON'\n",
    "\n",
    "@app.route('/led/off')\n",
    "def led_off():\n",
    "    global led\n",
    "    led = '0'\n",
    "    print('LED 꺼짐')\n",
    "    return 'LED OFF'\n",
    "\n",
    "if __name__ == '__main__':\n",
    "    app.run(host='172.20.10.5', port=5031)  \n",
    "    \n",
    "# ip 주소 확인\n",
    "# 'localhost' or '127,0,01\n",
    "# 터미널창에 window는 ipconfig / mac은 ifconfig\n",
    "# port는 50으로 시작하는 4자리"
   ]
  },
  {
   "cell_type": "code",
   "execution_count": 2,
   "id": "8217e24a",
   "metadata": {},
   "outputs": [
    {
     "name": "stdout",
     "output_type": "stream",
     "text": [
      "Collecting requests\n",
      "  Downloading requests-2.28.1-py3-none-any.whl (62 kB)\n",
      "\u001b[2K     \u001b[90m━━━━━━━━━━━━━━━━━━━━━━━━━━━━━━━━━━━━━━━━\u001b[0m \u001b[32m62.8/62.8 KB\u001b[0m \u001b[31m1.5 MB/s\u001b[0m eta \u001b[36m0:00:00\u001b[0m\n",
      "\u001b[?25hCollecting urllib3<1.27,>=1.21.1\n",
      "  Downloading urllib3-1.26.13-py2.py3-none-any.whl (140 kB)\n",
      "\u001b[2K     \u001b[90m━━━━━━━━━━━━━━━━━━━━━━━━━━━━━━━━━━━━━━━\u001b[0m \u001b[32m140.6/140.6 KB\u001b[0m \u001b[31m3.4 MB/s\u001b[0m eta \u001b[36m0:00:00\u001b[0ma \u001b[36m0:00:01\u001b[0m\n",
      "\u001b[?25hRequirement already satisfied: certifi>=2017.4.17 in /Library/Frameworks/Python.framework/Versions/3.10/lib/python3.10/site-packages (from requests) (2022.12.7)\n",
      "Collecting idna<4,>=2.5\n",
      "  Downloading idna-3.4-py3-none-any.whl (61 kB)\n",
      "\u001b[2K     \u001b[90m━━━━━━━━━━━━━━━━━━━━━━━━━━━━━━━━━━━━━━━━\u001b[0m \u001b[32m61.5/61.5 KB\u001b[0m \u001b[31m2.6 MB/s\u001b[0m eta \u001b[36m0:00:00\u001b[0m\n",
      "\u001b[?25hCollecting charset-normalizer<3,>=2\n",
      "  Downloading charset_normalizer-2.1.1-py3-none-any.whl (39 kB)\n",
      "Installing collected packages: urllib3, idna, charset-normalizer, requests\n",
      "Successfully installed charset-normalizer-2.1.1 idna-3.4 requests-2.28.1 urllib3-1.26.13\n",
      "\u001b[33mWARNING: You are using pip version 22.0.4; however, version 22.3.1 is available.\n",
      "You should consider upgrading via the '/usr/local/bin/python3 -m pip install --upgrade pip' command.\u001b[0m\u001b[33m\n",
      "\u001b[0mNote: you may need to restart the kernel to use updated packages.\n"
     ]
    }
   ],
   "source": [
    "# pip install requests"
   ]
  },
  {
   "cell_type": "markdown",
   "id": "ebf04ee3",
   "metadata": {},
   "source": [
    "### get"
   ]
  },
  {
   "cell_type": "code",
   "execution_count": null,
   "id": "42774af9",
   "metadata": {},
   "outputs": [],
   "source": [
    "import requests\n",
    "\n",
    "\n",
    "# get 방식\n",
    "res = requests.get('url')  # 객체에 담아서 메서드 적용하는 방식\n",
    "\n",
    "# 200번은 정상 / 400번대는 클라이언트 에러 / 500번대는 서버 에러\n",
    "res.status_code\n",
    "\n",
    "# header 출력\n",
    "res.headers\n",
    "\n",
    "# content 출력\n",
    "res.content\n",
    "\n",
    "# josn 출력\n",
    "res.json"
   ]
  },
  {
   "cell_type": "code",
   "execution_count": null,
   "id": "1a61c61f",
   "metadata": {},
   "outputs": [],
   "source": [
    "from flask import Flask, request\n",
    "\n",
    "# url로 get 요청 넣기 (josn 형식으로)\n",
    "# 주소:포트번호/라우터?키=벨류&키=밸류 \n",
    "'http://127.0.0.1:5000/insert?key1=value1&key2=value'\n",
    "\n",
    "# Flask 서버에서 들어온 요청 읽기\n",
    "@app.route('/insert', methods=['GET','POST'])\n",
    "def insert():\n",
    "    if request.method == 'GET':\n",
    "        request.get_json()\n",
    "        r = request.args['키값']"
   ]
  },
  {
   "attachments": {},
   "cell_type": "markdown",
   "id": "4dbfb953",
   "metadata": {},
   "source": [
    "### post"
   ]
  },
  {
   "cell_type": "code",
   "execution_count": null,
   "id": "71ad7656",
   "metadata": {},
   "outputs": [],
   "source": [
    "response = requests.post('url')"
   ]
  },
  {
   "attachments": {},
   "cell_type": "markdown",
   "id": "822f317d",
   "metadata": {},
   "source": [
    "## render_template"
   ]
  },
  {
   "cell_type": "markdown",
   "id": "2c50ecb1",
   "metadata": {},
   "source": [
    "현재 실행되고 있는 파이썬 파일과 같은 경로에 있는 templates 폴더 내 html문서를 불러온다."
   ]
  },
  {
   "cell_type": "code",
   "execution_count": 1,
   "id": "8e3f8b0a",
   "metadata": {
    "scrolled": true
   },
   "outputs": [
    {
     "name": "stdout",
     "output_type": "stream",
     "text": [
      " * Serving Flask app '__main__'\n",
      " * Debug mode: off\n"
     ]
    },
    {
     "name": "stderr",
     "output_type": "stream",
     "text": [
      "\u001b[31m\u001b[1mWARNING: This is a development server. Do not use it in a production deployment. Use a production WSGI server instead.\u001b[0m\n",
      " * Running on http://localhost:5000\n",
      "\u001b[33mPress CTRL+C to quit\u001b[0m\n"
     ]
    }
   ],
   "source": [
    "from flask import Flask \n",
    "from flask import render_template  #내가 만든 HTML문서를 불러오는 기능 (vscode : ! 엔터)\n",
    "from flask import request  #요청 객체 안쪽을 확인할 수 있는 라이브러리\n",
    "\n",
    "app = Flask(__name__)  # 언더바 두개\n",
    "\n",
    "@app.route('/')   # route경로 찾아주는 함수\n",
    "def index():   # 이 주소로 접근했을 때 실행되는 함수\n",
    "    return render_template('iot_main.html')  # 요청한 클라이언트에게 반환하는 값 / 템플릿이 같은 경로에 있어야 한다.\n",
    "\n",
    "@app.route('/cal', methods=['GET','POST']) #요청객체 사용하기 위해서 methods옵션 하나 넣어줘야햠\n",
    "def cal():  \n",
    "    if request.method == 'GET':\n",
    "        num1 = request.args['num1']  #arguments 약자\n",
    "        num2 = request.args['num2'] \n",
    "        result = int(num1) + int(num2)   #데이터는 문자열 형태로 넘어다니니까 형변환 해줘야함\n",
    "        return str(result)\n",
    "    \n",
    "    elif request.method == 'POST':\n",
    "        num1 = request.form['num1']  #정형화 된 것이라고해서 form으로 꺼냄\n",
    "        num2 = request.form['num2']  #\n",
    "        result2 = int(num1) + int(num2)\n",
    "        return str(result2)\n",
    "    \n",
    "    return '계산실패'\n",
    "\n",
    "if __name__ == '__main__' :\n",
    "    app.run('localhost', 5000)   #run 함수 host 나의 ip주소, port 50으로 시작하는 네자리 수\n",
    "    # 나의 아이피 알 수 있는 명령 >> cmd 명령 프롬프트 >> ipconfig\n",
    "    # 서버 수정할 때 수정사항이 반영 안되면 kenel clearout 해야함\n",
    "    "
   ]
  },
  {
   "cell_type": "markdown",
   "id": "bb5ce592",
   "metadata": {},
   "source": [
    "## Json 파일 사용"
   ]
  },
  {
   "cell_type": "code",
   "execution_count": null,
   "id": "3f207ef6",
   "metadata": {},
   "outputs": [],
   "source": [
    "# Json 키 값으로 데이터 가져오는 방법 : google 검색창에 JSON PARSER 검색"
   ]
  },
  {
   "cell_type": "code",
   "execution_count": 25,
   "id": "7d9413a5",
   "metadata": {},
   "outputs": [],
   "source": [
    "movie = {\"boxOfficeResult\":{\"boxofficeType\":\"일별 박스오피스\",\"showRange\":\"20220719~20220719\",\"dailyBoxOfficeList\":[{\"rnum\":\"1\",\"rank\":\"1\",\"rankInten\":\"0\",\"rankOldAndNew\":\"OLD\",\"movieCd\":\"20194376\",\"movieNm\":\"탑건: 매버릭\",\"openDt\":\"2022-06-22\",\"salesAmt\":\"1041355737\",\"salesShare\":\"42.6\",\"salesInten\":\"63359407\",\"salesChange\":\"6.5\",\"salesAcc\":\"63424540697\",\"audiCnt\":\"100098\",\"audiInten\":\"6139\",\"audiChange\":\"6.5\",\"audiAcc\":\"5927870\",\"scrnCnt\":\"1406\",\"showCnt\":\"5517\"},{\"rnum\":\"2\",\"rank\":\"2\",\"rankInten\":\"0\",\"rankOldAndNew\":\"OLD\",\"movieCd\":\"20224662\",\"movieNm\":\"토르: 러브 앤 썬더\",\"openDt\":\"2022-07-06\",\"salesAmt\":\"407603700\",\"salesShare\":\"16.7\",\"salesInten\":\"-31788890\",\"salesChange\":\"-7.2\",\"salesAcc\":\"28014190190\",\"audiCnt\":\"38827\",\"audiInten\":\"-3484\",\"audiChange\":\"-8.2\",\"audiAcc\":\"2574967\",\"scrnCnt\":\"1124\",\"showCnt\":\"4106\"},{\"rnum\":\"3\",\"rank\":\"3\",\"rankInten\":\"0\",\"rankOldAndNew\":\"OLD\",\"movieCd\":\"20209654\",\"movieNm\":\"헤어질 결심\",\"openDt\":\"2022-06-29\",\"salesAmt\":\"384746950\",\"salesShare\":\"15.7\",\"salesInten\":\"11289710\",\"salesChange\":\"3\",\"salesAcc\":\"13533359220\",\"audiCnt\":\"37298\",\"audiInten\":\"1370\",\"audiChange\":\"3.8\",\"audiAcc\":\"1320414\",\"scrnCnt\":\"864\",\"showCnt\":\"2156\"},{\"rnum\":\"4\",\"rank\":\"4\",\"rankInten\":\"0\",\"rankOldAndNew\":\"OLD\",\"movieCd\":\"20225237\",\"movieNm\":\"명탐정 코난: 할로윈의 신부\",\"openDt\":\"2022-07-13\",\"salesAmt\":\"250318806\",\"salesShare\":\"10.2\",\"salesInten\":\"59849666\",\"salesChange\":\"31.4\",\"salesAcc\":\"2695681866\",\"audiCnt\":\"24580\",\"audiInten\":\"6089\",\"audiChange\":\"32.9\",\"audiAcc\":\"259815\",\"scrnCnt\":\"623\",\"showCnt\":\"1463\"},{\"rnum\":\"5\",\"rank\":\"5\",\"rankInten\":\"1\",\"rankOldAndNew\":\"OLD\",\"movieCd\":\"20225175\",\"movieNm\":\"엘비스\",\"openDt\":\"2022-07-13\",\"salesAmt\":\"74362510\",\"salesShare\":\"3.0\",\"salesInten\":\"11098080\",\"salesChange\":\"17.5\",\"salesAcc\":\"733004700\",\"audiCnt\":\"7199\",\"audiInten\":\"973\",\"audiChange\":\"15.6\",\"audiAcc\":\"69021\",\"scrnCnt\":\"570\",\"showCnt\":\"1076\"},{\"rnum\":\"6\",\"rank\":\"6\",\"rankInten\":\"-1\",\"rankOldAndNew\":\"OLD\",\"movieCd\":\"20204548\",\"movieNm\":\"범죄도시 2\",\"openDt\":\"2022-05-18\",\"salesAmt\":\"62761320\",\"salesShare\":\"2.6\",\"salesInten\":\"-2599000\",\"salesChange\":\"-4\",\"salesAcc\":\"131073176630\",\"audiCnt\":\"6233\",\"audiInten\":\"-149\",\"audiChange\":\"-2.3\",\"audiAcc\":\"12671674\",\"scrnCnt\":\"326\",\"showCnt\":\"505\"},{\"rnum\":\"7\",\"rank\":\"7\",\"rankInten\":\"0\",\"rankOldAndNew\":\"OLD\",\"movieCd\":\"20225186\",\"movieNm\":\"더 킬러: 죽어도 되는 아이\",\"openDt\":\"2022-07-13\",\"salesAmt\":\"41868800\",\"salesShare\":\"1.7\",\"salesInten\":\"-1492200\",\"salesChange\":\"-3.4\",\"salesAcc\":\"544710840\",\"audiCnt\":\"4129\",\"audiInten\":\"-92\",\"audiChange\":\"-2.2\",\"audiAcc\":\"52744\",\"scrnCnt\":\"298\",\"showCnt\":\"495\"},{\"rnum\":\"8\",\"rank\":\"8\",\"rankInten\":\"1\",\"rankOldAndNew\":\"OLD\",\"movieCd\":\"20225180\",\"movieNm\":\"뒤틀린 집\",\"openDt\":\"2022-07-13\",\"salesAmt\":\"29221300\",\"salesShare\":\"1.2\",\"salesInten\":\"9001500\",\"salesChange\":\"44.5\",\"salesAcc\":\"287953800\",\"audiCnt\":\"3651\",\"audiInten\":\"1399\",\"audiChange\":\"62.1\",\"audiAcc\":\"30207\",\"scrnCnt\":\"140\",\"showCnt\":\"236\"},{\"rnum\":\"9\",\"rank\":\"9\",\"rankInten\":\"1\",\"rankOldAndNew\":\"OLD\",\"movieCd\":\"20224791\",\"movieNm\":\"그레이 맨\",\"openDt\":\"2022-07-13\",\"salesAmt\":\"27433260\",\"salesShare\":\"1.1\",\"salesInten\":\"6340760\",\"salesChange\":\"30.1\",\"salesAcc\":\"205259060\",\"audiCnt\":\"3168\",\"audiInten\":\"1075\",\"audiChange\":\"51.4\",\"audiAcc\":\"21276\",\"scrnCnt\":\"206\",\"showCnt\":\"354\"},{\"rnum\":\"10\",\"rank\":\"10\",\"rankInten\":\"0\",\"rankOldAndNew\":\"NEW\",\"movieCd\":\"20209343\",\"movieNm\":\"한산: 용의 출현\",\"openDt\":\"2022-07-27\",\"salesAmt\":\"27502000\",\"salesShare\":\"1.1\",\"salesInten\":\"27502000\",\"salesChange\":\"100\",\"salesAcc\":\"27502000\",\"audiCnt\":\"2632\",\"audiInten\":\"2632\",\"audiChange\":\"100\",\"audiAcc\":\"2632\",\"scrnCnt\":\"10\",\"showCnt\":\"20\"}]}}"
   ]
  },
  {
   "cell_type": "code",
   "execution_count": 27,
   "id": "d998699d",
   "metadata": {
    "collapsed": true
   },
   "outputs": [
    {
     "data": {
      "text/plain": [
       "{'boxofficeType': '일별 박스오피스',\n",
       " 'showRange': '20220719~20220719',\n",
       " 'dailyBoxOfficeList': [{'rnum': '1',\n",
       "   'rank': '1',\n",
       "   'rankInten': '0',\n",
       "   'rankOldAndNew': 'OLD',\n",
       "   'movieCd': '20194376',\n",
       "   'movieNm': '탑건: 매버릭',\n",
       "   'openDt': '2022-06-22',\n",
       "   'salesAmt': '1041355737',\n",
       "   'salesShare': '42.6',\n",
       "   'salesInten': '63359407',\n",
       "   'salesChange': '6.5',\n",
       "   'salesAcc': '63424540697',\n",
       "   'audiCnt': '100098',\n",
       "   'audiInten': '6139',\n",
       "   'audiChange': '6.5',\n",
       "   'audiAcc': '5927870',\n",
       "   'scrnCnt': '1406',\n",
       "   'showCnt': '5517'},\n",
       "  {'rnum': '2',\n",
       "   'rank': '2',\n",
       "   'rankInten': '0',\n",
       "   'rankOldAndNew': 'OLD',\n",
       "   'movieCd': '20224662',\n",
       "   'movieNm': '토르: 러브 앤 썬더',\n",
       "   'openDt': '2022-07-06',\n",
       "   'salesAmt': '407603700',\n",
       "   'salesShare': '16.7',\n",
       "   'salesInten': '-31788890',\n",
       "   'salesChange': '-7.2',\n",
       "   'salesAcc': '28014190190',\n",
       "   'audiCnt': '38827',\n",
       "   'audiInten': '-3484',\n",
       "   'audiChange': '-8.2',\n",
       "   'audiAcc': '2574967',\n",
       "   'scrnCnt': '1124',\n",
       "   'showCnt': '4106'},\n",
       "  {'rnum': '3',\n",
       "   'rank': '3',\n",
       "   'rankInten': '0',\n",
       "   'rankOldAndNew': 'OLD',\n",
       "   'movieCd': '20209654',\n",
       "   'movieNm': '헤어질 결심',\n",
       "   'openDt': '2022-06-29',\n",
       "   'salesAmt': '384746950',\n",
       "   'salesShare': '15.7',\n",
       "   'salesInten': '11289710',\n",
       "   'salesChange': '3',\n",
       "   'salesAcc': '13533359220',\n",
       "   'audiCnt': '37298',\n",
       "   'audiInten': '1370',\n",
       "   'audiChange': '3.8',\n",
       "   'audiAcc': '1320414',\n",
       "   'scrnCnt': '864',\n",
       "   'showCnt': '2156'},\n",
       "  {'rnum': '4',\n",
       "   'rank': '4',\n",
       "   'rankInten': '0',\n",
       "   'rankOldAndNew': 'OLD',\n",
       "   'movieCd': '20225237',\n",
       "   'movieNm': '명탐정 코난: 할로윈의 신부',\n",
       "   'openDt': '2022-07-13',\n",
       "   'salesAmt': '250318806',\n",
       "   'salesShare': '10.2',\n",
       "   'salesInten': '59849666',\n",
       "   'salesChange': '31.4',\n",
       "   'salesAcc': '2695681866',\n",
       "   'audiCnt': '24580',\n",
       "   'audiInten': '6089',\n",
       "   'audiChange': '32.9',\n",
       "   'audiAcc': '259815',\n",
       "   'scrnCnt': '623',\n",
       "   'showCnt': '1463'},\n",
       "  {'rnum': '5',\n",
       "   'rank': '5',\n",
       "   'rankInten': '1',\n",
       "   'rankOldAndNew': 'OLD',\n",
       "   'movieCd': '20225175',\n",
       "   'movieNm': '엘비스',\n",
       "   'openDt': '2022-07-13',\n",
       "   'salesAmt': '74362510',\n",
       "   'salesShare': '3.0',\n",
       "   'salesInten': '11098080',\n",
       "   'salesChange': '17.5',\n",
       "   'salesAcc': '733004700',\n",
       "   'audiCnt': '7199',\n",
       "   'audiInten': '973',\n",
       "   'audiChange': '15.6',\n",
       "   'audiAcc': '69021',\n",
       "   'scrnCnt': '570',\n",
       "   'showCnt': '1076'},\n",
       "  {'rnum': '6',\n",
       "   'rank': '6',\n",
       "   'rankInten': '-1',\n",
       "   'rankOldAndNew': 'OLD',\n",
       "   'movieCd': '20204548',\n",
       "   'movieNm': '범죄도시 2',\n",
       "   'openDt': '2022-05-18',\n",
       "   'salesAmt': '62761320',\n",
       "   'salesShare': '2.6',\n",
       "   'salesInten': '-2599000',\n",
       "   'salesChange': '-4',\n",
       "   'salesAcc': '131073176630',\n",
       "   'audiCnt': '6233',\n",
       "   'audiInten': '-149',\n",
       "   'audiChange': '-2.3',\n",
       "   'audiAcc': '12671674',\n",
       "   'scrnCnt': '326',\n",
       "   'showCnt': '505'},\n",
       "  {'rnum': '7',\n",
       "   'rank': '7',\n",
       "   'rankInten': '0',\n",
       "   'rankOldAndNew': 'OLD',\n",
       "   'movieCd': '20225186',\n",
       "   'movieNm': '더 킬러: 죽어도 되는 아이',\n",
       "   'openDt': '2022-07-13',\n",
       "   'salesAmt': '41868800',\n",
       "   'salesShare': '1.7',\n",
       "   'salesInten': '-1492200',\n",
       "   'salesChange': '-3.4',\n",
       "   'salesAcc': '544710840',\n",
       "   'audiCnt': '4129',\n",
       "   'audiInten': '-92',\n",
       "   'audiChange': '-2.2',\n",
       "   'audiAcc': '52744',\n",
       "   'scrnCnt': '298',\n",
       "   'showCnt': '495'},\n",
       "  {'rnum': '8',\n",
       "   'rank': '8',\n",
       "   'rankInten': '1',\n",
       "   'rankOldAndNew': 'OLD',\n",
       "   'movieCd': '20225180',\n",
       "   'movieNm': '뒤틀린 집',\n",
       "   'openDt': '2022-07-13',\n",
       "   'salesAmt': '29221300',\n",
       "   'salesShare': '1.2',\n",
       "   'salesInten': '9001500',\n",
       "   'salesChange': '44.5',\n",
       "   'salesAcc': '287953800',\n",
       "   'audiCnt': '3651',\n",
       "   'audiInten': '1399',\n",
       "   'audiChange': '62.1',\n",
       "   'audiAcc': '30207',\n",
       "   'scrnCnt': '140',\n",
       "   'showCnt': '236'},\n",
       "  {'rnum': '9',\n",
       "   'rank': '9',\n",
       "   'rankInten': '1',\n",
       "   'rankOldAndNew': 'OLD',\n",
       "   'movieCd': '20224791',\n",
       "   'movieNm': '그레이 맨',\n",
       "   'openDt': '2022-07-13',\n",
       "   'salesAmt': '27433260',\n",
       "   'salesShare': '1.1',\n",
       "   'salesInten': '6340760',\n",
       "   'salesChange': '30.1',\n",
       "   'salesAcc': '205259060',\n",
       "   'audiCnt': '3168',\n",
       "   'audiInten': '1075',\n",
       "   'audiChange': '51.4',\n",
       "   'audiAcc': '21276',\n",
       "   'scrnCnt': '206',\n",
       "   'showCnt': '354'},\n",
       "  {'rnum': '10',\n",
       "   'rank': '10',\n",
       "   'rankInten': '0',\n",
       "   'rankOldAndNew': 'NEW',\n",
       "   'movieCd': '20209343',\n",
       "   'movieNm': '한산: 용의 출현',\n",
       "   'openDt': '2022-07-27',\n",
       "   'salesAmt': '27502000',\n",
       "   'salesShare': '1.1',\n",
       "   'salesInten': '27502000',\n",
       "   'salesChange': '100',\n",
       "   'salesAcc': '27502000',\n",
       "   'audiCnt': '2632',\n",
       "   'audiInten': '2632',\n",
       "   'audiChange': '100',\n",
       "   'audiAcc': '2632',\n",
       "   'scrnCnt': '10',\n",
       "   'showCnt': '20'}]}"
      ]
     },
     "execution_count": 27,
     "metadata": {},
     "output_type": "execute_result"
    }
   ],
   "source": [
    "result1 = movie[\"boxOfficeResult\"]\n",
    "result1"
   ]
  },
  {
   "cell_type": "code",
   "execution_count": 29,
   "id": "9d74136b",
   "metadata": {
    "collapsed": true
   },
   "outputs": [
    {
     "data": {
      "text/plain": [
       "[{'rnum': '1',\n",
       "  'rank': '1',\n",
       "  'rankInten': '0',\n",
       "  'rankOldAndNew': 'OLD',\n",
       "  'movieCd': '20194376',\n",
       "  'movieNm': '탑건: 매버릭',\n",
       "  'openDt': '2022-06-22',\n",
       "  'salesAmt': '1041355737',\n",
       "  'salesShare': '42.6',\n",
       "  'salesInten': '63359407',\n",
       "  'salesChange': '6.5',\n",
       "  'salesAcc': '63424540697',\n",
       "  'audiCnt': '100098',\n",
       "  'audiInten': '6139',\n",
       "  'audiChange': '6.5',\n",
       "  'audiAcc': '5927870',\n",
       "  'scrnCnt': '1406',\n",
       "  'showCnt': '5517'},\n",
       " {'rnum': '2',\n",
       "  'rank': '2',\n",
       "  'rankInten': '0',\n",
       "  'rankOldAndNew': 'OLD',\n",
       "  'movieCd': '20224662',\n",
       "  'movieNm': '토르: 러브 앤 썬더',\n",
       "  'openDt': '2022-07-06',\n",
       "  'salesAmt': '407603700',\n",
       "  'salesShare': '16.7',\n",
       "  'salesInten': '-31788890',\n",
       "  'salesChange': '-7.2',\n",
       "  'salesAcc': '28014190190',\n",
       "  'audiCnt': '38827',\n",
       "  'audiInten': '-3484',\n",
       "  'audiChange': '-8.2',\n",
       "  'audiAcc': '2574967',\n",
       "  'scrnCnt': '1124',\n",
       "  'showCnt': '4106'},\n",
       " {'rnum': '3',\n",
       "  'rank': '3',\n",
       "  'rankInten': '0',\n",
       "  'rankOldAndNew': 'OLD',\n",
       "  'movieCd': '20209654',\n",
       "  'movieNm': '헤어질 결심',\n",
       "  'openDt': '2022-06-29',\n",
       "  'salesAmt': '384746950',\n",
       "  'salesShare': '15.7',\n",
       "  'salesInten': '11289710',\n",
       "  'salesChange': '3',\n",
       "  'salesAcc': '13533359220',\n",
       "  'audiCnt': '37298',\n",
       "  'audiInten': '1370',\n",
       "  'audiChange': '3.8',\n",
       "  'audiAcc': '1320414',\n",
       "  'scrnCnt': '864',\n",
       "  'showCnt': '2156'},\n",
       " {'rnum': '4',\n",
       "  'rank': '4',\n",
       "  'rankInten': '0',\n",
       "  'rankOldAndNew': 'OLD',\n",
       "  'movieCd': '20225237',\n",
       "  'movieNm': '명탐정 코난: 할로윈의 신부',\n",
       "  'openDt': '2022-07-13',\n",
       "  'salesAmt': '250318806',\n",
       "  'salesShare': '10.2',\n",
       "  'salesInten': '59849666',\n",
       "  'salesChange': '31.4',\n",
       "  'salesAcc': '2695681866',\n",
       "  'audiCnt': '24580',\n",
       "  'audiInten': '6089',\n",
       "  'audiChange': '32.9',\n",
       "  'audiAcc': '259815',\n",
       "  'scrnCnt': '623',\n",
       "  'showCnt': '1463'},\n",
       " {'rnum': '5',\n",
       "  'rank': '5',\n",
       "  'rankInten': '1',\n",
       "  'rankOldAndNew': 'OLD',\n",
       "  'movieCd': '20225175',\n",
       "  'movieNm': '엘비스',\n",
       "  'openDt': '2022-07-13',\n",
       "  'salesAmt': '74362510',\n",
       "  'salesShare': '3.0',\n",
       "  'salesInten': '11098080',\n",
       "  'salesChange': '17.5',\n",
       "  'salesAcc': '733004700',\n",
       "  'audiCnt': '7199',\n",
       "  'audiInten': '973',\n",
       "  'audiChange': '15.6',\n",
       "  'audiAcc': '69021',\n",
       "  'scrnCnt': '570',\n",
       "  'showCnt': '1076'},\n",
       " {'rnum': '6',\n",
       "  'rank': '6',\n",
       "  'rankInten': '-1',\n",
       "  'rankOldAndNew': 'OLD',\n",
       "  'movieCd': '20204548',\n",
       "  'movieNm': '범죄도시 2',\n",
       "  'openDt': '2022-05-18',\n",
       "  'salesAmt': '62761320',\n",
       "  'salesShare': '2.6',\n",
       "  'salesInten': '-2599000',\n",
       "  'salesChange': '-4',\n",
       "  'salesAcc': '131073176630',\n",
       "  'audiCnt': '6233',\n",
       "  'audiInten': '-149',\n",
       "  'audiChange': '-2.3',\n",
       "  'audiAcc': '12671674',\n",
       "  'scrnCnt': '326',\n",
       "  'showCnt': '505'},\n",
       " {'rnum': '7',\n",
       "  'rank': '7',\n",
       "  'rankInten': '0',\n",
       "  'rankOldAndNew': 'OLD',\n",
       "  'movieCd': '20225186',\n",
       "  'movieNm': '더 킬러: 죽어도 되는 아이',\n",
       "  'openDt': '2022-07-13',\n",
       "  'salesAmt': '41868800',\n",
       "  'salesShare': '1.7',\n",
       "  'salesInten': '-1492200',\n",
       "  'salesChange': '-3.4',\n",
       "  'salesAcc': '544710840',\n",
       "  'audiCnt': '4129',\n",
       "  'audiInten': '-92',\n",
       "  'audiChange': '-2.2',\n",
       "  'audiAcc': '52744',\n",
       "  'scrnCnt': '298',\n",
       "  'showCnt': '495'},\n",
       " {'rnum': '8',\n",
       "  'rank': '8',\n",
       "  'rankInten': '1',\n",
       "  'rankOldAndNew': 'OLD',\n",
       "  'movieCd': '20225180',\n",
       "  'movieNm': '뒤틀린 집',\n",
       "  'openDt': '2022-07-13',\n",
       "  'salesAmt': '29221300',\n",
       "  'salesShare': '1.2',\n",
       "  'salesInten': '9001500',\n",
       "  'salesChange': '44.5',\n",
       "  'salesAcc': '287953800',\n",
       "  'audiCnt': '3651',\n",
       "  'audiInten': '1399',\n",
       "  'audiChange': '62.1',\n",
       "  'audiAcc': '30207',\n",
       "  'scrnCnt': '140',\n",
       "  'showCnt': '236'},\n",
       " {'rnum': '9',\n",
       "  'rank': '9',\n",
       "  'rankInten': '1',\n",
       "  'rankOldAndNew': 'OLD',\n",
       "  'movieCd': '20224791',\n",
       "  'movieNm': '그레이 맨',\n",
       "  'openDt': '2022-07-13',\n",
       "  'salesAmt': '27433260',\n",
       "  'salesShare': '1.1',\n",
       "  'salesInten': '6340760',\n",
       "  'salesChange': '30.1',\n",
       "  'salesAcc': '205259060',\n",
       "  'audiCnt': '3168',\n",
       "  'audiInten': '1075',\n",
       "  'audiChange': '51.4',\n",
       "  'audiAcc': '21276',\n",
       "  'scrnCnt': '206',\n",
       "  'showCnt': '354'},\n",
       " {'rnum': '10',\n",
       "  'rank': '10',\n",
       "  'rankInten': '0',\n",
       "  'rankOldAndNew': 'NEW',\n",
       "  'movieCd': '20209343',\n",
       "  'movieNm': '한산: 용의 출현',\n",
       "  'openDt': '2022-07-27',\n",
       "  'salesAmt': '27502000',\n",
       "  'salesShare': '1.1',\n",
       "  'salesInten': '27502000',\n",
       "  'salesChange': '100',\n",
       "  'salesAcc': '27502000',\n",
       "  'audiCnt': '2632',\n",
       "  'audiInten': '2632',\n",
       "  'audiChange': '100',\n",
       "  'audiAcc': '2632',\n",
       "  'scrnCnt': '10',\n",
       "  'showCnt': '20'}]"
      ]
     },
     "execution_count": 29,
     "metadata": {},
     "output_type": "execute_result"
    }
   ],
   "source": [
    "result2 = result1[\"dailyBoxOfficeList\"]\n",
    "result2"
   ]
  },
  {
   "cell_type": "code",
   "execution_count": 33,
   "id": "98f12555",
   "metadata": {
    "collapsed": true
   },
   "outputs": [
    {
     "data": {
      "text/plain": [
       "{'rnum': '1',\n",
       " 'rank': '1',\n",
       " 'rankInten': '0',\n",
       " 'rankOldAndNew': 'OLD',\n",
       " 'movieCd': '20194376',\n",
       " 'movieNm': '탑건: 매버릭',\n",
       " 'openDt': '2022-06-22',\n",
       " 'salesAmt': '1041355737',\n",
       " 'salesShare': '42.6',\n",
       " 'salesInten': '63359407',\n",
       " 'salesChange': '6.5',\n",
       " 'salesAcc': '63424540697',\n",
       " 'audiCnt': '100098',\n",
       " 'audiInten': '6139',\n",
       " 'audiChange': '6.5',\n",
       " 'audiAcc': '5927870',\n",
       " 'scrnCnt': '1406',\n",
       " 'showCnt': '5517'}"
      ]
     },
     "execution_count": 33,
     "metadata": {},
     "output_type": "execute_result"
    }
   ],
   "source": [
    "result3 = result2[0]\n",
    "result3"
   ]
  },
  {
   "cell_type": "code",
   "execution_count": 44,
   "id": "85fa341c",
   "metadata": {},
   "outputs": [
    {
     "data": {
      "text/plain": [
       "'100098'"
      ]
     },
     "execution_count": 44,
     "metadata": {},
     "output_type": "execute_result"
    }
   ],
   "source": [
    "result4 = result3[\"audiCnt\"]\n",
    "result4"
   ]
  },
  {
   "cell_type": "code",
   "execution_count": 46,
   "id": "12a351c7",
   "metadata": {},
   "outputs": [
    {
     "name": "stdout",
     "output_type": "stream",
     "text": [
      "227815\n"
     ]
    }
   ],
   "source": [
    "sum = 0\n",
    "for i in range(10):\n",
    "    sum += int(result2[i][\"audiCnt\"])\n",
    "print(sum)"
   ]
  }
 ],
 "metadata": {
  "kernelspec": {
   "display_name": "Python 3.10.5 64-bit",
   "language": "python",
   "name": "python3"
  },
  "language_info": {
   "codemirror_mode": {
    "name": "ipython",
    "version": 3
   },
   "file_extension": ".py",
   "mimetype": "text/x-python",
   "name": "python",
   "nbconvert_exporter": "python",
   "pygments_lexer": "ipython3",
   "version": "3.10.5 (v3.10.5:f377153967, Jun  6 2022, 12:36:10) [Clang 13.0.0 (clang-1300.0.29.30)]"
  },
  "toc": {
   "base_numbering": 1,
   "nav_menu": {},
   "number_sections": false,
   "sideBar": true,
   "skip_h1_title": false,
   "title_cell": "Table of Contents",
   "title_sidebar": "Contents",
   "toc_cell": false,
   "toc_position": {},
   "toc_section_display": true,
   "toc_window_display": false
  },
  "vscode": {
   "interpreter": {
    "hash": "aee8b7b246df8f9039afb4144a1f6fd8d2ca17a180786b69acc140d282b71a49"
   }
  }
 },
 "nbformat": 4,
 "nbformat_minor": 5
}
