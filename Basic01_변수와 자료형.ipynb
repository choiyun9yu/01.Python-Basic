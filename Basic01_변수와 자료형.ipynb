{
 "cells": [
  {
   "attachments": {},
   "cell_type": "markdown",
   "id": "0a247def",
   "metadata": {},
   "source": [
    "## 변수"
   ]
  },
  {
   "attachments": {},
   "cell_type": "markdown",
   "id": "a7e66bb6",
   "metadata": {},
   "source": [
    "### 변수 이름 짓는 규칙\n",
    "- 숫자로 시작 불가능, 예약어 사용 불가능, 명령어는 변수명으로 쓸 수 있지만 기능을 상실하게 됨"
   ]
  },
  {
   "cell_type": "code",
   "execution_count": 1,
   "id": "2fac716e",
   "metadata": {},
   "outputs": [
    {
     "name": "stdout",
     "output_type": "stream",
     "text": [
      "['False', 'None', 'True', 'and', 'as', 'assert', 'async', 'await', 'break', 'class', 'continue', 'def', 'del', 'elif', 'else', 'except', 'finally', 'for', 'from', 'global', 'if', 'import', 'in', 'is', 'lambda', 'nonlocal', 'not', 'or', 'pass', 'raise', 'return', 'try', 'while', 'with', 'yield']\n"
     ]
    }
   ],
   "source": [
    "# 예약어 알려주는 코드\n",
    "import keyword\n",
    "print(keyword.kwlist)"
   ]
  },
  {
   "cell_type": "markdown",
   "id": "c5ae601b",
   "metadata": {},
   "source": [
    "### 변수에 대입하기"
   ]
  },
  {
   "cell_type": "code",
   "execution_count": 2,
   "id": "96c93cfe",
   "metadata": {},
   "outputs": [
    {
     "name": "stdout",
     "output_type": "stream",
     "text": [
      "10 15\n",
      "15 10\n"
     ]
    }
   ],
   "source": [
    "a,b=10,15\n",
    "print(a,b)\n",
    "\n",
    "# 스왑\n",
    "a,b=b,a\n",
    "print(a,b)"
   ]
  },
  {
   "cell_type": "markdown",
   "id": "751be629",
   "metadata": {},
   "source": [
    "### 파이썬 자료형의 종류\n",
    "- int : 정수  \n",
    "- float : 실수  \n",
    "- bool : 논리값  \n",
    "- str : 문자열  \n",
    "- list : 리스트  \n",
    "- tuple : 튜플  \n",
    "- dictionary : 딕셔너리  \n",
    "- set : 집합 <- 중복을 허용X, 순서X\n"
   ]
  },
  {
   "attachments": {},
   "cell_type": "markdown",
   "id": "0ed6f455",
   "metadata": {},
   "source": [
    "## 입출력\n"
   ]
  },
  {
   "cell_type": "markdown",
   "id": "93516e71",
   "metadata": {},
   "source": [
    "### 입력"
   ]
  },
  {
   "cell_type": "code",
   "execution_count": null,
   "id": "25dc8362",
   "metadata": {},
   "outputs": [],
   "source": [
    "# 문자열로 받기(입력은 문자열로 받아짐)\n",
    "s=input()  \n",
    "\n",
    "# 문자열로 받아서 형변환 하기\n",
    "i=int(input())  \n",
    "\n",
    "# 공백을 기준으로 여러개 입력받기\n",
    "a,b=input().split()  \n",
    "\n",
    "# 여러개 받아서 형변환 하기\n",
    "# map(무엇으로 형변환할지, 형변환할 재료)\n",
    "c,d=map(int, input().split())"
   ]
  },
  {
   "cell_type": "markdown",
   "id": "5cabafc3",
   "metadata": {},
   "source": [
    "### 출력"
   ]
  },
  {
   "cell_type": "code",
   "execution_count": 4,
   "id": "0157ca4e",
   "metadata": {},
   "outputs": [
    {
     "name": "stdout",
     "output_type": "stream",
     "text": [
      "hello world!\n",
      "hello world!\n"
     ]
    }
   ],
   "source": [
    "# 디폴트\n",
    "print('hello world!', end='\\n')\n",
    "print('hello world!', end='\\n')"
   ]
  },
  {
   "cell_type": "code",
   "execution_count": 5,
   "id": "2deb6f6c",
   "metadata": {},
   "outputs": [
    {
     "name": "stdout",
     "output_type": "stream",
     "text": [
      "hello world!\thello world!\t"
     ]
    }
   ],
   "source": [
    "# 수평탭\n",
    "print('hello world!', end='\\t')\n",
    "print('hello world!', end='\\t')"
   ]
  },
  {
   "cell_type": "code",
   "execution_count": 6,
   "id": "56f1eb86",
   "metadata": {},
   "outputs": [
    {
     "name": "stdout",
     "output_type": "stream",
     "text": [
      "hello worldhello world"
     ]
    }
   ],
   "source": [
    "# 개행X\n",
    "print('hello world', end='')\n",
    "print('hello world', end='')"
   ]
  },
  {
   "attachments": {},
   "cell_type": "markdown",
   "id": "a9a991d1",
   "metadata": {},
   "source": [
    "## 문자열"
   ]
  },
  {
   "cell_type": "code",
   "execution_count": 10,
   "id": "42d7f405",
   "metadata": {},
   "outputs": [
    {
     "name": "stdout",
     "output_type": "stream",
     "text": [
      "he said that \"she is gone\"\n",
      "he said that \"she is gone\"\n"
     ]
    }
   ],
   "source": [
    "# '와 \"구분\n",
    "s1 = 'he said that \"she is gone\"'\n",
    "s2 = \"he said that \\\"she is gone\\\"\"\n",
    "print(s1)\n",
    "print(s2)"
   ]
  },
  {
   "cell_type": "code",
   "execution_count": 9,
   "id": "3a269052",
   "metadata": {},
   "outputs": [
    {
     "name": "stdout",
     "output_type": "stream",
     "text": [
      "여러줄로 구성된 \n",
      "문자열을 하나로 대입할 때\n"
     ]
    }
   ],
   "source": [
    "# 문자열 개행\n",
    "s = \"여러줄로 구성된 \\n문자열을 하나로 대입할 때\"\n",
    "print(s)"
   ]
  },
  {
   "attachments": {},
   "cell_type": "markdown",
   "id": "7c8e2b97",
   "metadata": {},
   "source": [
    "### 인덱싱"
   ]
  },
  {
   "cell_type": "code",
   "execution_count": 54,
   "id": "1a5ec3b1",
   "metadata": {
    "scrolled": true
   },
   "outputs": [
    {
     "name": "stdout",
     "output_type": "stream",
     "text": [
      "M\n",
      "i\n",
      "YG\n",
      "G\n",
      "Y\n",
      "My\n",
      "name\n",
      "is\n",
      "My name\n",
      "My name\n"
     ]
    }
   ],
   "source": [
    "s = \"My name is YG\"\n",
    "print(s[0])\n",
    "print(s[8])\n",
    "print(s[-2:])\n",
    "print(s[-1])\n",
    "print(s[-2])\n",
    "print(s[0:2])\n",
    "print(s[3:7])\n",
    "print(s[8:10])\n",
    "print(s[0:7])\n",
    "print(s[:7])\n",
    "print(s[8:13])\n",
    "print(s[8:])\n",
    "print(s[-5:])"
   ]
  },
  {
   "attachments": {},
   "cell_type": "markdown",
   "id": "aa673d62",
   "metadata": {},
   "source": [
    "### 슬라이싱"
   ]
  },
  {
   "cell_type": "code",
   "execution_count": 57,
   "id": "a31b99b3",
   "metadata": {
    "scrolled": true
   },
   "outputs": [
    {
     "name": "stdout",
     "output_type": "stream",
     "text": [
      "is YG\n",
      "is YG\n",
      "is YG\n"
     ]
    }
   ],
   "source": [
    "s = \"My name is YG\"\n",
    "print(s[8:13])\n",
    "print(s[8:])\n",
    "print(s[-5:])"
   ]
  },
  {
   "cell_type": "code",
   "execution_count": 62,
   "id": "481c21cf",
   "metadata": {
    "scrolled": true
   },
   "outputs": [
    {
     "name": "stdout",
     "output_type": "stream",
     "text": [
      "My name is YG\n",
      "My name is YG\n",
      "My name is YG\n",
      "My name is YG\n",
      "My name is YG\n",
      "My name is YG\n"
     ]
    }
   ],
   "source": [
    "s = \"My name is YG\"\n",
    "print(s[0:13])\n",
    "print(s[-13:])\n",
    "print(s[:13])\n",
    "print(s[0:])\n",
    "print(s[:])\n",
    "print(s)"
   ]
  },
  {
   "cell_type": "code",
   "execution_count": 67,
   "id": "86b94d7a",
   "metadata": {
    "scrolled": true
   },
   "outputs": [
    {
     "name": "stdout",
     "output_type": "stream",
     "text": [
      "날짜 : 2020년 3월 3일\n",
      "날씨 : 맑음\n"
     ]
    }
   ],
   "source": [
    "s = \"2020년 3월 3일의 날씨는 맑음입니다.\"\n",
    "print(\"날짜 : \"+s[0:11])\n",
    "print(\"날씨 : \"+s[-6:-4])"
   ]
  },
  {
   "cell_type": "code",
   "execution_count": 69,
   "id": "294f8d9c",
   "metadata": {
    "scrolled": true
   },
   "outputs": [
    {
     "name": "stdout",
     "output_type": "stream",
     "text": [
      "날짜 : 2020년 3월 3일\n",
      "날씨 : 맑음\n"
     ]
    }
   ],
   "source": [
    "s = \"2020년 3월 3일의 날씨는 맑음입니다.\"\n",
    "print(\"날짜 :\",s[0:11])\n",
    "print(\"날씨 :\",s[-6:-4])\n"
   ]
  },
  {
   "attachments": {},
   "cell_type": "markdown",
   "id": "0799da4a",
   "metadata": {},
   "source": [
    "### 포메팅\n",
    "- %d : 0~9  \n",
    "- %f : 실수  \n",
    "- %c : 문자 1개  \n",
    "- %s : 문자열  \n",
    "- %% : 퍼센트  "
   ]
  },
  {
   "cell_type": "code",
   "execution_count": 17,
   "id": "c87faece",
   "metadata": {},
   "outputs": [
    {
     "name": "stdout",
     "output_type": "stream",
     "text": [
      "오늘은 12월 27일 입니다.\n"
     ]
    }
   ],
   "source": [
    "# 기본 포메팅\n",
    "month, day = 12, 27\n",
    "print(\"오늘은 %d월 %d일 입니다.\"%(month,day))  # 순서대로 들어감"
   ]
  },
  {
   "cell_type": "code",
   "execution_count": 19,
   "id": "87878df9",
   "metadata": {},
   "outputs": [
    {
     "name": "stdout",
     "output_type": "stream",
     "text": [
      "오늘은 12월 27일 입니다.\n"
     ]
    }
   ],
   "source": [
    "# format 함수\n",
    "print(\"오늘은 {}월 {}일 입니다.\".format(month,day))"
   ]
  },
  {
   "cell_type": "code",
   "execution_count": 21,
   "id": "13f4994b",
   "metadata": {},
   "outputs": [
    {
     "name": "stdout",
     "output_type": "stream",
     "text": [
      "오늘은 12월 27일 입니다.\n"
     ]
    }
   ],
   "source": [
    "# f-string\n",
    "print(f\"오늘은 {month}월 {day}일 입니다.\")"
   ]
  },
  {
   "attachments": {},
   "cell_type": "markdown",
   "id": "caed7b63",
   "metadata": {},
   "source": [
    "### 자주 사용하는 문자열 함수"
   ]
  },
  {
   "cell_type": "code",
   "execution_count": 22,
   "id": "bd341e65",
   "metadata": {},
   "outputs": [
    {
     "data": {
      "text/plain": [
       "3"
      ]
     },
     "execution_count": 22,
     "metadata": {},
     "output_type": "execute_result"
    }
   ],
   "source": [
    "# 해당 문자열에 괄호안의 단어가 몇개 포함되어 출력\n",
    "s = '오늘 점심 메뉴는 탕수육입니다. 저는 탕수육을 매우 좋아해서 탕수육만 먹을겁니다.'\n",
    "s.count('탕수육')"
   ]
  },
  {
   "cell_type": "code",
   "execution_count": 24,
   "id": "c8e90106",
   "metadata": {},
   "outputs": [
    {
     "data": {
      "text/plain": [
       "'오늘 점심 메뉴는 탕수육입니다.'"
      ]
     },
     "execution_count": 24,
     "metadata": {},
     "output_type": "execute_result"
    }
   ],
   "source": [
    "# 양쪽 공백 지우기\n",
    "s = '  오늘 점심 메뉴는 탕수육입니다.'\n",
    "s.strip()"
   ]
  },
  {
   "cell_type": "code",
   "execution_count": 26,
   "id": "0f199061",
   "metadata": {},
   "outputs": [
    {
     "data": {
      "text/plain": [
       "['오늘은', '기분이', '좋다']"
      ]
     },
     "execution_count": 26,
     "metadata": {},
     "output_type": "execute_result"
    }
   ],
   "source": [
    "# 괄호안의 내용을 기준으로 문자열 나누기 (디폴트:공백)\n",
    "s = '오늘은 기분이 좋다'\n",
    "s.split()"
   ]
  },
  {
   "cell_type": "code",
   "execution_count": 34,
   "id": "447e55eb",
   "metadata": {},
   "outputs": [
    {
     "name": "stdout",
     "output_type": "stream",
     "text": [
      "오늘 점심 메뉴는 깐풍기입니다. 저는 깐풍기을 매우 좋아해서 깐풍기만 먹을겁니다.\n",
      " 점심 메뉴는 탕수육입니다.\n"
     ]
    }
   ],
   "source": [
    "# 괄호 앞 문자를 괄호 뒤 문자로 교체\n",
    "s = '오늘 점심 메뉴는 탕수육입니다. 저는 탕수육을 매우 좋아해서 탕수육만 먹을겁니다.'\n",
    "print(s.replace('탕수육','깐풍기'))\n",
    "\n",
    "# replace()로 글자 지우기 (근데 공백 남는 듯)\n",
    "s = '오늘 점심 메뉴는 탕수육입니다.'\n",
    "print(s.replace('오늘',''))"
   ]
  },
  {
   "cell_type": "code",
   "execution_count": 38,
   "id": "89ca5aa0",
   "metadata": {},
   "outputs": [
    {
     "name": "stdout",
     "output_type": "stream",
     "text": [
      "HELLO\n",
      "world\n",
      "False\n",
      "True\n",
      "True\n",
      "False\n",
      "True\n"
     ]
    }
   ],
   "source": [
    "# 대문자화 (inpace=True 아닌듯)\n",
    "a='hello'\n",
    "print(a.upper())\n",
    "\n",
    "# 소문자화\n",
    "b='WORLD'\n",
    "print(b.lower())\n",
    "\n",
    "# 대문자인지 check\n",
    "print(a.isupper())\n",
    "print(b.isupper())\n",
    "\n",
    "# 소문자인지 check\n",
    "print(a.islower())\n",
    "print(b.islower())\n",
    "\n",
    "# 알파벳인지 check\n",
    "print(a.isalpha())\n"
   ]
  },
  {
   "cell_type": "code",
   "execution_count": 46,
   "id": "3a76c011",
   "metadata": {},
   "outputs": [
    {
     "name": "stdout",
     "output_type": "stream",
     "text": [
      "True\n",
      "True\n"
     ]
    }
   ],
   "source": [
    "# 0~9 숫자인지 check\n",
    "i='22'\n",
    "print(i.isdecimal())\n",
    "\n",
    "# 숫자인지 check \n",
    "print(i.isdigit())"
   ]
  },
  {
   "cell_type": "code",
   "execution_count": 51,
   "id": "3c63ac7d",
   "metadata": {},
   "outputs": [
    {
     "name": "stdout",
     "output_type": "stream",
     "text": [
      "True\n",
      "False\n"
     ]
    }
   ],
   "source": [
    "# 문자열 점검1\n",
    "str1 = \"파이썬 최고\"\n",
    "print(\"파이썬\" in str1)\n",
    "\n",
    "# 문자열 점검2\n",
    "print(\"파이썬\" not in str1)"
   ]
  },
  {
   "attachments": {},
   "cell_type": "markdown",
   "id": "627346a1",
   "metadata": {},
   "source": [
    "### 아스키 코드"
   ]
  },
  {
   "cell_type": "code",
   "execution_count": 43,
   "id": "41c05aa0",
   "metadata": {},
   "outputs": [
    {
     "name": "stdout",
     "output_type": "stream",
     "text": [
      "97\n",
      "a\n"
     ]
    }
   ],
   "source": [
    "# 괄호안 문자의 아스키 넘버 반환\n",
    "print(ord('a'))\n",
    "\n",
    "# 아스키 넘버 숫자에 해당하는 문자 반환\n",
    "print(chr(97))"
   ]
  },
  {
   "attachments": {},
   "cell_type": "markdown",
   "id": "e53ac2a0",
   "metadata": {},
   "source": [
    "## 숫자형"
   ]
  },
  {
   "attachments": {},
   "cell_type": "markdown",
   "id": "b4751bf8",
   "metadata": {},
   "source": [
    "- int(integer) : 양의 정수, 0, 음의 정수  \n",
    "- float(floating-point) : 소수점이 포함된 수 -> 실수  \n",
    "- bin(binary) : 2진수    \n",
    "- oct(octal) : 8진수  \n",
    "- hex(hexadecimal) : 16진수  \n",
    "\n",
    "### 연산자"
   ]
  },
  {
   "attachments": {},
   "cell_type": "markdown",
   "id": "8cb0b156",
   "metadata": {},
   "source": [
    "### 산술 연산자"
   ]
  },
  {
   "cell_type": "code",
   "execution_count": 48,
   "id": "c39da727",
   "metadata": {},
   "outputs": [],
   "source": [
    "# + : 덧셈 연산자  \n",
    "# - : 뺄셈 연산자  \n",
    "# * : 곱셈 연산자  \n",
    "# ** : 지수 연산자  \n",
    "# / : 나눗셈 연산자  \n",
    "# // : 몫 연산자  \n",
    "# % : 나머지 연산자  "
   ]
  },
  {
   "attachments": {},
   "cell_type": "markdown",
   "id": "ce9571f0",
   "metadata": {},
   "source": [
    "### 대입 연산자"
   ]
  },
  {
   "cell_type": "code",
   "execution_count": 53,
   "id": "da0e3737",
   "metadata": {},
   "outputs": [],
   "source": [
    "# =  \n",
    "# +=  \n",
    "# -=  \n",
    "# *=  \n",
    "# /=  \n",
    "# //=  \n",
    "# %=  "
   ]
  },
  {
   "attachments": {},
   "cell_type": "markdown",
   "id": "e5454280",
   "metadata": {},
   "source": [
    "### 비교 연산자"
   ]
  },
  {
   "cell_type": "code",
   "execution_count": 54,
   "id": "5b5e86e8",
   "metadata": {},
   "outputs": [],
   "source": [
    "# >\n",
    "# <\n",
    "# <=\n",
    "# >=\n",
    "# ==\n",
    "# !="
   ]
  },
  {
   "cell_type": "markdown",
   "id": "3f75f77b",
   "metadata": {},
   "source": [
    "### 논리 연산자"
   ]
  },
  {
   "cell_type": "code",
   "execution_count": 47,
   "id": "c2cf37ec",
   "metadata": {},
   "outputs": [],
   "source": [
    "# not\n",
    "# and\n",
    "# or\n",
    "\n",
    "# all() : 괄호 안이 모두 참이어야 True\n",
    "# any() : 괄호 안 중 하나만 참이어도 True\n"
   ]
  },
  {
   "cell_type": "code",
   "execution_count": null,
   "id": "a16bf110",
   "metadata": {},
   "outputs": [],
   "source": []
  },
  {
   "cell_type": "markdown",
   "id": "633dc44f",
   "metadata": {},
   "source": [
    "### 비트 연산자"
   ]
  },
  {
   "cell_type": "code",
   "execution_count": 56,
   "id": "3991007e",
   "metadata": {},
   "outputs": [],
   "source": [
    "# 1 : 참\n",
    "# 0 : 거짓\n",
    "# & : 연언\n",
    "# | : 선언\n",
    "# ^ : 베타적 선언"
   ]
  },
  {
   "cell_type": "markdown",
   "id": "48d8b3f6",
   "metadata": {},
   "source": [
    "### 삼항 연산자"
   ]
  },
  {
   "cell_type": "code",
   "execution_count": 57,
   "id": "5a53798e",
   "metadata": {},
   "outputs": [],
   "source": [
    "# A if 조건식 else B \n",
    "# 조건식이 참이면 A, 조건식이 거짓이면 B 실행 "
   ]
  },
  {
   "cell_type": "code",
   "execution_count": 61,
   "id": "ceb8fe9b",
   "metadata": {},
   "outputs": [
    {
     "name": "stdout",
     "output_type": "stream",
     "text": [
      "0\n",
      "1\n",
      "2\n",
      "3\n",
      "4\n"
     ]
    },
    {
     "data": {
      "text/plain": [
       "[None, None, None, None, None]"
      ]
     },
     "execution_count": 61,
     "metadata": {},
     "output_type": "execute_result"
    }
   ],
   "source": [
    "# 왜 대괄호로 묶어야하는지는 아직 모름\n",
    "[print(i) for i in range(5)]"
   ]
  },
  {
   "attachments": {},
   "cell_type": "markdown",
   "id": "d6bd46f2",
   "metadata": {},
   "source": [
    "## 리스트"
   ]
  },
  {
   "attachments": {},
   "cell_type": "markdown",
   "id": "82d56066",
   "metadata": {},
   "source": [
    "listName = []  \n",
    "- 추가, 삭제, 수정 가능\n",
    "- 자료형이 달라도 한 리스트 안에 담을 수 있음\n",
    "- 리스트 안에 또 다른 리스트 넣어서 다차원 리스트 형성 가능"
   ]
  },
  {
   "attachments": {},
   "cell_type": "markdown",
   "id": "9f415292",
   "metadata": {},
   "source": [
    "### 추가하기"
   ]
  },
  {
   "cell_type": "code",
   "execution_count": 3,
   "id": "c7d1090a",
   "metadata": {},
   "outputs": [
    {
     "name": "stdout",
     "output_type": "stream",
     "text": [
      "[0, 1, 2, 3]\n",
      "[0, 1, 2, 3, 4]\n",
      "[0, 1, 2, 3, 4, 5, 6]\n"
     ]
    }
   ],
   "source": [
    "list1=[1,2,3]\n",
    "\n",
    "# .insert(넣을 인덱스 번호, 넣을 요소)\n",
    "list1.insert(0,0)\n",
    "print(list1) \n",
    "\n",
    "# .append() : 맨 뒤에 추가\n",
    "list1.append(4)\n",
    "print(list1)\n",
    "\n",
    "# .extend() : list+list 처럼 동작 (inplace=Ture임)\n",
    "list1.extend([5,6])\n",
    "print(list1)"
   ]
  },
  {
   "attachments": {},
   "cell_type": "markdown",
   "id": "57945b6c",
   "metadata": {},
   "source": [
    "### 삭제하기"
   ]
  },
  {
   "cell_type": "code",
   "execution_count": 18,
   "id": "dbeb1f9e",
   "metadata": {},
   "outputs": [
    {
     "name": "stdout",
     "output_type": "stream",
     "text": [
      "[2, 2, 3, 4, 5, 6]\n",
      "[2, 3, 4, 5, 6]\n",
      "[2, 3, 4, 5]\n",
      "[2, 3, 5]\n",
      "4\n"
     ]
    }
   ],
   "source": [
    "list2=[1,2,2,3,4,5,6]\n",
    "\n",
    "# del listName[삭제할 요소 인덱스]\n",
    "del list2[0]\n",
    "print(list2)\n",
    " \n",
    "# .remove[삭제할 요소] : 맨 앞 한개만 삭제\n",
    "list2.remove(2)\n",
    "print(list2)\n",
    " \n",
    "# .pop() : 디폴트는 맨 오른쪽 반환이고, 괄호안에 인덱스 번호 지정해서 삭제하고 그걸 변수엠 담을 수 있음\n",
    "list2.pop()\n",
    "print(list2)\n",
    "\n",
    "p=list2.pop(2)\n",
    "print(list2)\n",
    "print(p)"
   ]
  },
  {
   "attachments": {},
   "cell_type": "markdown",
   "id": "0ae8f3c2",
   "metadata": {},
   "source": [
    "### 수정하기"
   ]
  },
  {
   "cell_type": "code",
   "execution_count": 30,
   "id": "fc3d284c",
   "metadata": {},
   "outputs": [
    {
     "name": "stdout",
     "output_type": "stream",
     "text": [
      "[1, 2, 3, 4]\n"
     ]
    }
   ],
   "source": [
    "# listName[수정할 인덱스 번호]\n",
    "list3=[1,2,2,4]\n",
    "list3[2]=3\n",
    "print(list3)"
   ]
  },
  {
   "attachments": {},
   "cell_type": "markdown",
   "id": "9d5ca82c",
   "metadata": {},
   "source": [
    "### 정렬하기"
   ]
  },
  {
   "cell_type": "code",
   "execution_count": 28,
   "id": "0507c8e6",
   "metadata": {},
   "outputs": [
    {
     "name": "stdout",
     "output_type": "stream",
     "text": [
      "[3, 9, 13, 51, 77, 100]\n",
      "[100, 77, 51, 13, 9, 3]\n",
      "[3, 9, 13, 51, 77, 100]\n"
     ]
    }
   ],
   "source": [
    "# 오름차순 \n",
    "list4 = [9, 77, 13, 51, 100, 3]\n",
    "list4.sort()\n",
    "print(list4)\n",
    "\n",
    "# 내림차순\n",
    "list4.sort(reverse=True)\n",
    "print(list4)\n",
    "\n",
    "# 역정렬\n",
    "print(list4[::-1])"
   ]
  },
  {
   "attachments": {},
   "cell_type": "markdown",
   "id": "ef20c4e1",
   "metadata": {},
   "source": [
    "### 기타"
   ]
  },
  {
   "cell_type": "code",
   "execution_count": 35,
   "id": "4c5b15dd",
   "metadata": {},
   "outputs": [
    {
     "name": "stdout",
     "output_type": "stream",
     "text": [
      "1\n",
      "2\n"
     ]
    }
   ],
   "source": [
    "# 해당 요소의 인덱스 반환\n",
    "list5 = ['a', 'b', 'c', 'c', 'd']\n",
    "print(list5.index('b'))\n",
    "print(list5.index('c'))  # 여러개 존재하는 경우 제일 왼쪽에 있는 인덱스 알려줌"
   ]
  },
  {
   "cell_type": "code",
   "execution_count": 39,
   "id": "28ab380a",
   "metadata": {},
   "outputs": [
    {
     "name": "stdout",
     "output_type": "stream",
     "text": [
      "0 a\n",
      "1 b\n",
      "2 c\n",
      "3 c\n",
      "4 d\n"
     ]
    }
   ],
   "source": [
    "# 리스트 인덱스와 요소를 튜플로 묶어줌\n",
    "e=enumerate(list5)\n",
    "\n",
    "for i, v in e:\n",
    "    print(i,v)"
   ]
  },
  {
   "cell_type": "code",
   "execution_count": 43,
   "id": "5a4f58c8",
   "metadata": {},
   "outputs": [
    {
     "data": {
      "text/plain": [
       "'a-b-c-d-e-f'"
      ]
     },
     "execution_count": 43,
     "metadata": {},
     "output_type": "execute_result"
    }
   ],
   "source": [
    "# 리스트 요소들을 구분자가 들어간 문자열로 반환 <- 텍스트 마이닝 시 형태소 분석기 넣기 전에 사용\n",
    "# 요소를 구분할 구분자.join(listName)\n",
    "\n",
    "list6 = ['a', 'b', 'c', 'd', 'e', 'f']\n",
    "'-'.join(list6)"
   ]
  },
  {
   "cell_type": "code",
   "execution_count": 46,
   "id": "75a88593",
   "metadata": {},
   "outputs": [
    {
     "name": "stdout",
     "output_type": "stream",
     "text": [
      "a b c d e f\n"
     ]
    }
   ],
   "source": [
    "# 리스트 언팩킹\n",
    "print(*list6)"
   ]
  },
  {
   "cell_type": "code",
   "execution_count": 52,
   "id": "a7600929",
   "metadata": {},
   "outputs": [
    {
     "name": "stdout",
     "output_type": "stream",
     "text": [
      "False\n",
      "True\n"
     ]
    }
   ],
   "source": [
    "# 리스트 점검1\n",
    "list7 = [77, 38, 10]\n",
    "print(33 in list7)\n",
    "\n",
    "# 리스트 점검2\n",
    "print(33 not in list7)"
   ]
  },
  {
   "attachments": {},
   "cell_type": "markdown",
   "id": "22697aee",
   "metadata": {},
   "source": [
    "## 튜플"
   ]
  },
  {
   "attachments": {},
   "cell_type": "markdown",
   "id": "b52a9975",
   "metadata": {},
   "source": [
    "tupleName = ()\n",
    "- 추가, 수정, 삭제 할 수 없다."
   ]
  },
  {
   "attachments": {},
   "cell_type": "markdown",
   "id": "acdfed06",
   "metadata": {},
   "source": [
    "## 딕셔너리"
   ]
  },
  {
   "attachments": {},
   "cell_type": "markdown",
   "id": "3aba3062",
   "metadata": {},
   "source": [
    "dicName = {'key' : value}\n",
    "- key는 변할 수 없는 자료형 이어야 해서 리스트 못씀\n",
    "- 리스트가 인덱스를 기반으로 요소를 저장하는 것이라면 딕셔너리는 key를 기반으로 요소를 저장"
   ]
  },
  {
   "attachments": {},
   "cell_type": "markdown",
   "id": "edb6c1ac",
   "metadata": {},
   "source": [
    "### 추가하기"
   ]
  },
  {
   "cell_type": "code",
   "execution_count": 57,
   "id": "afa30da3",
   "metadata": {},
   "outputs": [
    {
     "name": "stdout",
     "output_type": "stream",
     "text": [
      "{'윤규': 31, '수지': 28}\n"
     ]
    }
   ],
   "source": [
    "dic1 = {\"윤규\":31}\n",
    "dic1['수지'] = 28\n",
    "print(dic1)"
   ]
  },
  {
   "attachments": {},
   "cell_type": "markdown",
   "id": "764f0c8b",
   "metadata": {},
   "source": [
    "### 삭제하기"
   ]
  },
  {
   "cell_type": "code",
   "execution_count": 58,
   "id": "3328592b",
   "metadata": {},
   "outputs": [
    {
     "name": "stdout",
     "output_type": "stream",
     "text": [
      "{'윤규': 31}\n",
      "{}\n"
     ]
    }
   ],
   "source": [
    "# 개별 요소 삭제\n",
    "del dic1[\"수지\"]\n",
    "print(dic1)\n",
    "\n",
    "# 모든 요소 삭제\n",
    "dic1.clear()\n",
    "print(dic1)"
   ]
  },
  {
   "attachments": {},
   "cell_type": "markdown",
   "id": "d1a149dc",
   "metadata": {},
   "source": [
    "### 가져오기"
   ]
  },
  {
   "cell_type": "code",
   "execution_count": 63,
   "id": "367e2e6d",
   "metadata": {},
   "outputs": [
    {
     "name": "stdout",
     "output_type": "stream",
     "text": [
      "31\n",
      "dict_keys(['윤규', '수지'])\n",
      "dict_values([31, 28])\n"
     ]
    }
   ],
   "source": [
    "# key로 value 가져오기\n",
    "dic2 = {\"윤규\":31, \"수지\":28}\n",
    "print(dic2.get(\"윤규\"))\n",
    "\n",
    "\n",
    "# key 값들만 가져오기\n",
    "print(dic2.keys())\n",
    "\n",
    "# value 값들만 가져오기\n",
    "print(dic2.values())"
   ]
  },
  {
   "attachments": {},
   "cell_type": "markdown",
   "id": "8d4edcb5",
   "metadata": {},
   "source": [
    "### 기타"
   ]
  },
  {
   "cell_type": "code",
   "execution_count": 65,
   "id": "23f9c4aa",
   "metadata": {},
   "outputs": [
    {
     "name": "stdout",
     "output_type": "stream",
     "text": [
      "dict_items([('윤규', 31), ('수지', 28)])\n"
     ]
    }
   ],
   "source": [
    "# key와 value를 item으로 묶어주기\n",
    "print(dic2.items())"
   ]
  },
  {
   "cell_type": "code",
   "execution_count": 67,
   "id": "3ab61b46",
   "metadata": {},
   "outputs": [
    {
     "name": "stdout",
     "output_type": "stream",
     "text": [
      "True\n",
      "False\n"
     ]
    }
   ],
   "source": [
    "# in 명령어는 key 값에 한하여 작동\n",
    "print('윤규' in dic2)\n",
    "print(31 in dic2)"
   ]
  },
  {
   "attachments": {},
   "cell_type": "markdown",
   "id": "2a480da5",
   "metadata": {},
   "source": [
    "## 집합"
   ]
  },
  {
   "attachments": {},
   "cell_type": "markdown",
   "id": "c555c9c1",
   "metadata": {},
   "source": [
    "setName = {}\n",
    "- 중복을 허용하지 않는다.\n",
    "- 순서가 없다(딕셔너리도 순서가 없음)"
   ]
  },
  {
   "attachments": {},
   "cell_type": "markdown",
   "id": "5faa523a",
   "metadata": {},
   "source": [
    "### 집합 연산"
   ]
  },
  {
   "cell_type": "code",
   "execution_count": 79,
   "id": "9018cc67",
   "metadata": {},
   "outputs": [
    {
     "name": "stdout",
     "output_type": "stream",
     "text": [
      "{12, 6}\n",
      "{2, 3, 4, 6, 8, 9, 10, 12, 15, 18}\n",
      "{8, 2, 10, 4}\n"
     ]
    }
   ],
   "source": [
    "set1 = {2,4,6,8,10,12}\n",
    "set2 = {3,6,9,12,15,18}\n",
    "\n",
    "# 교집합 (순서상관없음)\n",
    "print(set1.intersection(set2))\n",
    "\n",
    "# 합집합 (순서상관없음)\n",
    "print(set1.union(set2))\n",
    "\n",
    "# 차집합 (순서상관있음)\n",
    "print(set1.difference(set2))"
   ]
  },
  {
   "attachments": {},
   "cell_type": "markdown",
   "id": "f4967c47",
   "metadata": {},
   "source": [
    "### 추가하기"
   ]
  },
  {
   "cell_type": "code",
   "execution_count": 80,
   "id": "406c86db",
   "metadata": {},
   "outputs": [
    {
     "name": "stdout",
     "output_type": "stream",
     "text": [
      "{4, 8, 12, 16, 20}\n",
      "{4, 8, 12, 16, 20, 24, 28}\n"
     ]
    }
   ],
   "source": [
    "# 1개만 추가\n",
    "set4 = {4,8,12,16}\n",
    "set4.add(20)\n",
    "print(set4)\n",
    "\n",
    "# 여러개 추가\n",
    "set4.update([24,28])\n",
    "print(set4)"
   ]
  },
  {
   "attachments": {},
   "cell_type": "markdown",
   "id": "c7d2e1ae",
   "metadata": {},
   "source": [
    "### 삭제하기"
   ]
  },
  {
   "cell_type": "code",
   "execution_count": 81,
   "id": "890332b2",
   "metadata": {},
   "outputs": [
    {
     "name": "stdout",
     "output_type": "stream",
     "text": [
      "{4, 8, 12, 16, 20, 24}\n"
     ]
    }
   ],
   "source": [
    "set4.remove(28)\n",
    "print(set4)"
   ]
  }
 ],
 "metadata": {
  "kernelspec": {
   "display_name": "Python 3.10.5 64-bit",
   "language": "python",
   "name": "python3"
  },
  "language_info": {
   "codemirror_mode": {
    "name": "ipython",
    "version": 3
   },
   "file_extension": ".py",
   "mimetype": "text/x-python",
   "name": "python",
   "nbconvert_exporter": "python",
   "pygments_lexer": "ipython3",
   "version": "3.10.5"
  },
  "vscode": {
   "interpreter": {
    "hash": "aee8b7b246df8f9039afb4144a1f6fd8d2ca17a180786b69acc140d282b71a49"
   }
  }
 },
 "nbformat": 4,
 "nbformat_minor": 5
}
