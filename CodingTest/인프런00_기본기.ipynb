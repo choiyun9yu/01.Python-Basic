{
 "cells": [
  {
   "cell_type": "markdown",
   "metadata": {},
   "source": [
    "# 기본기"
   ]
  },
  {
   "attachments": {},
   "cell_type": "markdown",
   "metadata": {},
   "source": [
    "## 입력\n",
    "sys.stdin.readline.rstrip()\n",
    "- 입력값이 클수록 속도를 높이기 위해 사용\n",
    "- 기본적으로 readline()은 개행문자를 포함있음\n",
    "- .rstrip()은 오른쪽에 포함되는 개행이나 공백제거\n",
    "- https://www.acmicpc.net/board/view/39939#comment-70591"
   ]
  },
  {
   "cell_type": "code",
   "execution_count": 3,
   "metadata": {},
   "outputs": [
    {
     "name": "stdout",
     "output_type": "stream",
     "text": [
      "\n"
     ]
    }
   ],
   "source": [
    "# sys.stdin.readline.rstrip()\n",
    "import sys\n",
    "a=sys.stdin.readline().rstrip()\n",
    "print(a)\n"
   ]
  },
  {
   "cell_type": "code",
   "execution_count": 7,
   "metadata": {},
   "outputs": [
    {
     "data": {
      "text/plain": [
       "''"
      ]
     },
     "execution_count": 7,
     "metadata": {},
     "output_type": "execute_result"
    }
   ],
   "source": [
    "# 주피터에서 sys.stdin.readline()사용하기 (로컬에서는 주석처리)\n",
    "import sys\n",
    "input = lambda: sys.stdin.readline().rstrip()\n",
    "input()"
   ]
  },
  {
   "cell_type": "markdown",
   "metadata": {},
   "source": [
    "## 출력"
   ]
  },
  {
   "cell_type": "code",
   "execution_count": 2,
   "metadata": {},
   "outputs": [
    {
     "name": "stdout",
     "output_type": "stream",
     "text": [
      "1, 2, 3\n",
      "1\n",
      "2\n",
      "3\n",
      "1 2 3\n"
     ]
    }
   ],
   "source": [
    "#출력시 end, seq 파라미터\n",
    "a, b, c = 1, 2, 3\n",
    "print(a,b,c, sep=', ')\n",
    "print(a,b,c, sep='\\n')\n",
    "\n",
    "print(a, end=' ')\n",
    "print(b, end=' ')\n",
    "print(c)"
   ]
  },
  {
   "cell_type": "markdown",
   "metadata": {},
   "source": [
    "## mapping"
   ]
  },
  {
   "cell_type": "code",
   "execution_count": 4,
   "metadata": {},
   "outputs": [
    {
     "name": "stdout",
     "output_type": "stream",
     "text": [
      "7\n"
     ]
    }
   ],
   "source": [
    "# map(변환 함수, 순회 가능한 데이터) : 여러 개의 데이터를 한 번에 다른 형태로 변환하기 위해 사용 \n",
    "a, b = map(int, input(\"숫자를 입력하세요 : \").split()) \n",
    "print(a+b)"
   ]
  },
  {
   "cell_type": "markdown",
   "metadata": {},
   "source": [
    "## 반복문으로 변수 생성하기"
   ]
  },
  {
   "cell_type": "code",
   "execution_count": null,
   "metadata": {},
   "outputs": [],
   "source": [
    "n=int(input())\n",
    "for i in range(n):\n",
    "    globals()[f'g{i}']=0"
   ]
  },
  {
   "cell_type": "markdown",
   "metadata": {},
   "source": [
    "## 제일 큰수, 제일 작은수"
   ]
  },
  {
   "cell_type": "code",
   "execution_count": 10,
   "metadata": {},
   "outputs": [],
   "source": [
    "maxint = 2147000000  # 정확히는 2147483647\n",
    "minint = -2147483647\n",
    "\n",
    "positiveinf = float('inf')  # 양의 무한대\n",
    "negativeinf = float('-inf')  # 음의 무한대"
   ]
  },
  {
   "attachments": {},
   "cell_type": "markdown",
   "metadata": {},
   "source": [
    "## 최빈값"
   ]
  },
  {
   "cell_type": "code",
   "execution_count": 10,
   "metadata": {},
   "outputs": [
    {
     "data": {
      "text/plain": [
       "[(3, 5), (2, 3), (1, 2), (4, 2), (5, 1)]"
      ]
     },
     "execution_count": 10,
     "metadata": {},
     "output_type": "execute_result"
    }
   ],
   "source": [
    "# Counter함수 사용\n",
    "from collections import Counter\n",
    "\n",
    "l=[1,1,2,2,2,3,3,3,3,3,4,4,5]\n",
    "\n",
    "Counter(l)  # 딕셔너리 형태로 해당 키가 몇개 인지 알려줌\n",
    "\n",
    "# Counter(l).most_common(n)  # l을 빈도수 딕셔너리로 정리해서 최빈값을 n개 만큼 출력\n",
    "\n",
    "Counter(l).most_common()  # 입력안하면 빈도순 내림차순 정리, 같으면 key값 기준 오름차순?\n"
   ]
  },
  {
   "cell_type": "code",
   "execution_count": 4,
   "metadata": {},
   "outputs": [
    {
     "data": {
      "text/plain": [
       "[6, 11]"
      ]
     },
     "execution_count": 4,
     "metadata": {},
     "output_type": "execute_result"
    }
   ],
   "source": [
    "# (확실하지 않음)\n",
    "\n",
    "# dictionary 사용\n",
    "# dictionary의 key값은 중복될 수 없음을 이용\n",
    "def mode1(l):\n",
    "    dict={}\n",
    "    for i in l:\n",
    "        if dict.get(i) is None:dict[i]=1\n",
    "        else: dict[i]+=1\n",
    "    # 최빈값\n",
    "    most=max(dict.values())\n",
    "    # 최빈값 중복 까지 찾기\n",
    "    mostList=[]\n",
    "    for k,v in dict.items():\n",
    "        if v==most:\n",
    "            mostList.append(k)\n",
    "    mostList.sort()\n",
    "    return mostList\n"
   ]
  },
  {
   "cell_type": "markdown",
   "metadata": {},
   "source": [
    "## 올림, 버림, 반올림"
   ]
  },
  {
   "cell_type": "code",
   "execution_count": 1,
   "metadata": {},
   "outputs": [
    {
     "name": "stdout",
     "output_type": "stream",
     "text": [
      "4\n",
      "3\n",
      "4.0\n"
     ]
    }
   ],
   "source": [
    "import math\n",
    "\n",
    "# 올림\n",
    "print(math.ceil(3.2))\n",
    "# 버림\n",
    "print(math.trunc(3.9))\n",
    "# 반올림 : round(수,소수점 몇번째자리까지 남길지)\n",
    "print(round(3.5,0))"
   ]
  },
  {
   "attachments": {},
   "cell_type": "markdown",
   "metadata": {},
   "source": [
    "## 소수점 자리 설정하는 4가지 방법\n",
    "- 내장함수를 쓰지 않아도 출력하는 자리까지 알아서 반올림된다."
   ]
  },
  {
   "cell_type": "code",
   "execution_count": null,
   "metadata": {},
   "outputs": [],
   "source": [
    "# round()함수 사용\n",
    "# round(실수,소수점 몇번째자리까지 남길지)\n",
    "\n",
    "# f-string 사용\n",
    "# f\"{실수: .소수몇번째자리까지 남길지f}\"\n",
    "\n",
    "# \"{}\".format() 함수 사용\n",
    "# f\"{: .소수몇번째자리까지 남길지f}\".format(실수)\n",
    "\n",
    "# format() 함수 사용\n",
    "# format(실수, \".소수몇번째자리까지 남길지f\")"
   ]
  },
  {
   "attachments": {},
   "cell_type": "markdown",
   "metadata": {},
   "source": [
    "## 절대값"
   ]
  },
  {
   "cell_type": "code",
   "execution_count": 3,
   "metadata": {},
   "outputs": [
    {
     "data": {
      "text/plain": [
       "2"
      ]
     },
     "execution_count": 3,
     "metadata": {},
     "output_type": "execute_result"
    }
   ],
   "source": [
    "abs(2-4)"
   ]
  },
  {
   "cell_type": "markdown",
   "metadata": {},
   "source": [
    "## divmod 메서드"
   ]
  },
  {
   "cell_type": "code",
   "execution_count": null,
   "metadata": {},
   "outputs": [],
   "source": [
    "# divmod(n,m) -> (a,b) : n을 m으로 나눈 것의 몫을 a, 나머지를 b로 갖는 튜플 반환\n",
    "a,b=divmod(10,2)\n",
    "print(a,b)"
   ]
  },
  {
   "attachments": {},
   "cell_type": "markdown",
   "metadata": {},
   "source": [
    "## pow 메서드"
   ]
  },
  {
   "cell_type": "code",
   "execution_count": 5,
   "metadata": {},
   "outputs": [
    {
     "name": "stdout",
     "output_type": "stream",
     "text": [
      "8\n"
     ]
    }
   ],
   "source": [
    "# pow(숫자1, 숫자2) : 숫자1의 숫자2제곱 반환\n",
    "print(pow(2,3))\n"
   ]
  },
  {
   "attachments": {},
   "cell_type": "markdown",
   "metadata": {},
   "source": [
    "## 홀짝 판별기"
   ]
  },
  {
   "cell_type": "code",
   "execution_count": 1,
   "metadata": {},
   "outputs": [
    {
     "name": "stdout",
     "output_type": "stream",
     "text": [
      "짝수 2개, 홀수 7개\n"
     ]
    }
   ],
   "source": [
    "list1=[1,30,7,9,17,3,5,23,44]\n",
    "a = 0\n",
    "b = 0\n",
    "\n",
    "for i in list1:\n",
    "    if i%2 == 0:\n",
    "        a += 1\n",
    "    else:\n",
    "        b += 1\n",
    "\n",
    "print(f\"짝수 {a}개, 홀수 {b}개\")"
   ]
  },
  {
   "attachments": {},
   "cell_type": "markdown",
   "metadata": {},
   "source": [
    "## 시간"
   ]
  },
  {
   "cell_type": "code",
   "execution_count": null,
   "metadata": {},
   "outputs": [],
   "source": []
  },
  {
   "cell_type": "markdown",
   "metadata": {},
   "source": [
    "## 오늘 날짜 출력하기"
   ]
  },
  {
   "cell_type": "code",
   "execution_count": 6,
   "metadata": {},
   "outputs": [
    {
     "name": "stdout",
     "output_type": "stream",
     "text": [
      "현재 :  2022-12-26 21:24:47.679786\n",
      "현재 날짜 :  2022-12-26\n",
      "현재 시간 :  21:24:47.679786\n",
      "timestamp :  1672057487.679786\n",
      "년 :  2022\n",
      "월 :  12\n",
      "일 :  26\n",
      "시 :  21\n",
      "분 :  24\n",
      "초 :  47\n",
      "마이크로초 :  679786\n",
      "요일 :  0\n",
      "문자열 변환 :  2022-12-26 21:24:47\n"
     ]
    }
   ],
   "source": [
    "# datetime 사용\n",
    "from datetime import datetime\n",
    "\n",
    "now = datetime.now()\n",
    "\n",
    "print(\"현재 : \", now)\n",
    "print(\"현재 날짜 : \", now.date())\n",
    "print(\"현재 시간 : \", now.time())\n",
    "print(\"timestamp : \", now.timestamp())\n",
    "print(\"년 : \", now.year)\n",
    "print(\"월 : \", now.month)\n",
    "print(\"일 : \", now.day)\n",
    "print(\"시 : \", now.hour)\n",
    "print(\"분 : \", now.minute)\n",
    "print(\"초 : \", now.second)\n",
    "print(\"마이크로초 : \", now.microsecond)\n",
    "print(\"요일 : \", now.weekday())\n",
    "print(\"문자열 변환 : \", now.strftime('%Y-%m-%d %H:%M:%S'))"
   ]
  },
  {
   "cell_type": "code",
   "execution_count": 7,
   "metadata": {},
   "outputs": [
    {
     "name": "stdout",
     "output_type": "stream",
     "text": [
      "현재 :  <module 'time' (built-in)>\n",
      "현재 :  time.struct_time(tm_year=2022, tm_mon=12, tm_mday=26, tm_hour=21, tm_min=24, tm_sec=48, tm_wday=0, tm_yday=360, tm_isdst=0)\n",
      "timestamp :  1672057488.664407\n",
      "년 :  2022\n",
      "월 :  12\n",
      "일 :  26\n",
      "시 :  21\n",
      "분 :  24\n",
      "초 :  48\n",
      "요일 :  0\n",
      "올해로부터 경과된 일 :  360\n",
      "문자열 변환 :  2022-12-26 21:24:48\n"
     ]
    }
   ],
   "source": [
    "# time 사용\n",
    "import time\n",
    "\n",
    "now = time\n",
    "\n",
    "print(\"현재 : \", now)\n",
    "print(\"현재 : \", now.localtime())\n",
    "print(\"timestamp : \", now.time())\n",
    "print(\"년 : \", now.localtime().tm_year)\n",
    "print(\"월 : \", now.localtime().tm_mon)\n",
    "print(\"일 : \", now.localtime().tm_mday)\n",
    "print(\"시 : \", now.localtime().tm_hour)\n",
    "print(\"분 : \", now.localtime().tm_min)\n",
    "print(\"초 : \", now.localtime().tm_sec)\n",
    "print(\"요일 : \", now.localtime().tm_wday)\n",
    "print(\"올해로부터 경과된 일 : \", now.localtime().tm_yday)\n",
    "print(\"문자열 변환 : \", now.strftime('%Y-%m-%d %H:%M:%S'))"
   ]
  },
  {
   "cell_type": "markdown",
   "metadata": {},
   "source": [
    "## 회문(역순 정렬)"
   ]
  },
  {
   "cell_type": "code",
   "execution_count": 1,
   "metadata": {},
   "outputs": [
    {
     "name": "stdout",
     "output_type": "stream",
     "text": [
      "noom\n"
     ]
    }
   ],
   "source": [
    "a='moon'\n",
    "print(a[::-1])"
   ]
  },
  {
   "attachments": {},
   "cell_type": "markdown",
   "metadata": {},
   "source": [
    "# 수학"
   ]
  },
  {
   "cell_type": "markdown",
   "metadata": {},
   "source": [
    "## 최대 공약수(GCD)"
   ]
  },
  {
   "cell_type": "code",
   "execution_count": 2,
   "metadata": {},
   "outputs": [],
   "source": [
    "# 기본적인 방법\n",
    "def gcd(a, b):\n",
    "    for i in range(min(a,b),0,-1):  # 더 작은 수에서부터 1씩 작아지면서 for문\n",
    "        if a%i==0 and b%i==0:  # 둘 다 나눠지는 수에서 return\n",
    "            return i"
   ]
  },
  {
   "cell_type": "code",
   "execution_count": null,
   "metadata": {},
   "outputs": [],
   "source": [
    "# 유크리드 호제법 사용1\n",
    "def gcd(a,b):\n",
    "    while b>0:\n",
    "        a,b=b,a%b\n",
    "    return a"
   ]
  },
  {
   "cell_type": "code",
   "execution_count": null,
   "metadata": {},
   "outputs": [],
   "source": [
    "# 유크리드 호제법 사용2\n",
    "def gcd(a,b):\n",
    "    if a%b==0:\n",
    "        return b\n",
    "    elif b==0:\n",
    "        return a\n",
    "    else:\n",
    "        return gcd(b,a%b)"
   ]
  },
  {
   "cell_type": "code",
   "execution_count": null,
   "metadata": {},
   "outputs": [],
   "source": [
    "import math\n",
    "a,b=30,20\n",
    "math.gcd(a,b)"
   ]
  },
  {
   "cell_type": "markdown",
   "metadata": {},
   "source": [
    "## 최소 공배수(LCM)"
   ]
  },
  {
   "cell_type": "code",
   "execution_count": null,
   "metadata": {},
   "outputs": [],
   "source": [
    "def gcd(a, b):\n",
    "    for i in range(min(a,b),0,-1): \n",
    "        if a%i==0 and b%i==0:\n",
    "            return i\n",
    "    return a\n",
    "def lcm(a, b):  # 최소 공배수\n",
    "    return a*b/gcd(a,b)"
   ]
  },
  {
   "cell_type": "code",
   "execution_count": null,
   "metadata": {},
   "outputs": [],
   "source": [
    "import math\n",
    "a,b=13,17\n",
    "math.lcm(a,b)  # python 3.9 이상에서 가능"
   ]
  },
  {
   "cell_type": "code",
   "execution_count": null,
   "metadata": {},
   "outputs": [],
   "source": [
    "# 시간 초과1\n",
    "t=int(input())\n",
    "for i in range(t):\n",
    "    a,b=map(int,input().split())\n",
    "    r=[]\n",
    "    for j in range(1,b+1):\n",
    "        for k in range(1,a+1):   \n",
    "            if a*j==b*k:\n",
    "                r.append(a*j)\n",
    "    print(r[0])"
   ]
  },
  {
   "cell_type": "code",
   "execution_count": null,
   "metadata": {},
   "outputs": [],
   "source": [
    "# 시간 초과2\n",
    "t=int(input())\n",
    "for i in range(t):\n",
    "    a,b=map(int,input().split())\n",
    "    for i in range(max(a,b),a*b+1):\n",
    "        if i%a==0 and i%b==0:\n",
    "            print(i)\n",
    "            break"
   ]
  },
  {
   "cell_type": "markdown",
   "metadata": {},
   "source": [
    "## 에라토스테네스의 체(소수, 체크리스트)\n",
    "자연수 N이 입력되면 1부터 N까지의 소수의 개수를 출력하는 프로그램을 작성하시오.  "
   ]
  },
  {
   "cell_type": "code",
   "execution_count": 14,
   "metadata": {},
   "outputs": [
    {
     "name": "stdout",
     "output_type": "stream",
     "text": [
      "2\n"
     ]
    }
   ],
   "source": [
    "n=int(input())\n",
    "ch=[0]*(n+1)  #체크리스트의 인덱스 넘버로 체크함 -> +1을 해줘야 n까지 체크 가능\n",
    "cnt=0\n",
    "\n",
    "for i in range(2,n+1):  # 1은 소수가 아니라 2부터\n",
    "    if ch[i]==0:\n",
    "        cnt+=1\n",
    "        for j in range(i, n+1, i) :  # 여기서 i의 배수들을 1로 바꿔서 체크해버림 <- 에라토스테네스의 체\n",
    "             ch[j]=1\n",
    "print(cnt)\n",
    "        \n",
    "    "
   ]
  },
  {
   "attachments": {},
   "cell_type": "markdown",
   "metadata": {},
   "source": [
    "## 소수 판독기\n",
    "소수n의 조건 : 소수n을 2부터 n-1까지 나누었을 때 나머지가 0인게 없는 수"
   ]
  },
  {
   "cell_type": "code",
   "execution_count": 1,
   "metadata": {},
   "outputs": [
    {
     "name": "stdout",
     "output_type": "stream",
     "text": [
      "YES\n"
     ]
    }
   ],
   "source": [
    "a=list(map(int,input().split()))  # 그냥 이렇게 넣으면 리스트가 된다\n",
    "c=0\n",
    "for i in a:\n",
    "    if i==1:continue\n",
    "    elif i==2 or i==3:c+=1\n",
    "    else:\n",
    "        for j in range(2,i):\n",
    "            if i%j==0:\n",
    "                break\n",
    "        else:c+=1\n",
    "print(c)"
   ]
  },
  {
   "cell_type": "markdown",
   "metadata": {},
   "source": [
    "## 소인수분해\n",
    "1. 나누어떨어지는 소수로만 분해할 수 있다.\n",
    "2. 최종 값이 소수가 될 때까지 나눈다.\n",
    "3. 소인수 분해 한 결과를 쓸 때는 작은 소수부터 큰 순서로 나열한다."
   ]
  },
  {
   "cell_type": "code",
   "execution_count": 1,
   "metadata": {},
   "outputs": [
    {
     "name": "stdout",
     "output_type": "stream",
     "text": [
      "97\n",
      "103\n"
     ]
    }
   ],
   "source": [
    "#1등 코드\n",
    "n=int(input())\n",
    "while n%2==0:  # 2로 나누어질 때, 2출력하고 2로 나누어진 값 반영\n",
    "    n//=2\n",
    "    print(2)\n",
    "i=3\n",
    "while n>=i*i:  # n이 i제곱 이상일 때, (i제곱보다 n이 작으면 while문 끝내고 밑에 if에서 출력 )    \n",
    "    if n%i==0:  # 나누어 떨어지면 그거 출력하고 나누어진 값 반영\n",
    "        n//=i\n",
    "        print(i)\n",
    "    else:\n",
    "        i+=2  # 만약 안나누어 떨어지면 i를 2만큼 증가시킨다. (왜1이 아니지?) 소수가 3에서 2만큼 큰 숫자들이어서\n",
    "if n>2:  # 첫번째 while 문에서 걸려서 출력한 2는 중복으로 출력하면 안되니까\n",
    "    print(n)"
   ]
  },
  {
   "attachments": {},
   "cell_type": "markdown",
   "metadata": {},
   "source": [
    "## 피보나치 수열"
   ]
  },
  {
   "cell_type": "code",
   "execution_count": 8,
   "metadata": {},
   "outputs": [
    {
     "data": {
      "text/plain": [
       "6765"
      ]
     },
     "execution_count": 8,
     "metadata": {},
     "output_type": "execute_result"
    }
   ],
   "source": [
    "# 피보나치 수열\n",
    "def fibo(hang):\n",
    "    if hang <= 2:\n",
    "        return 1\n",
    "    else:\n",
    "        return fibo(hang-2) + fibo(hang-1)\n",
    "    \n",
    "fibo(20)"
   ]
  },
  {
   "attachments": {},
   "cell_type": "markdown",
   "metadata": {},
   "source": [
    "## 1부터 N까지의 합 구하기"
   ]
  },
  {
   "cell_type": "code",
   "execution_count": 6,
   "metadata": {},
   "outputs": [
    {
     "name": "stdout",
     "output_type": "stream",
     "text": [
      "10\n"
     ]
    }
   ],
   "source": [
    "# 반복문 이용\n",
    "def sum_m(n):\n",
    "    s=0\n",
    "    for i in range(1,n+1):\n",
    "        s=s+i\n",
    "    return s\n",
    "\n",
    "print(sum_m(4))"
   ]
  },
  {
   "cell_type": "code",
   "execution_count": 5,
   "metadata": {},
   "outputs": [
    {
     "name": "stdout",
     "output_type": "stream",
     "text": [
      "10\n"
     ]
    }
   ],
   "source": [
    "# 가우스 알고리즘\n",
    "def sum_g(n):\n",
    "    return n * (n+1) // 2\n",
    "print(sum_g(4))"
   ]
  },
  {
   "attachments": {},
   "cell_type": "markdown",
   "metadata": {},
   "source": [
    "## 팩토리얼"
   ]
  },
  {
   "cell_type": "code",
   "execution_count": 2,
   "metadata": {},
   "outputs": [
    {
     "name": "stdout",
     "output_type": "stream",
     "text": [
      "24\n"
     ]
    }
   ],
   "source": [
    "# 재귀를 이용한 팩토리얼\n",
    "def factorial(n):\n",
    "    if n > 1:\n",
    "        return n * factorial(n-1)\n",
    "    else:\n",
    "        return 1\n",
    "print(factorial(4))"
   ]
  },
  {
   "cell_type": "code",
   "execution_count": 7,
   "metadata": {},
   "outputs": [
    {
     "data": {
      "text/plain": [
       "24"
      ]
     },
     "execution_count": 7,
     "metadata": {},
     "output_type": "execute_result"
    }
   ],
   "source": [
    "# math.factorial 함수를 이용한 팩토리얼\n",
    "import math\n",
    "math.factorial(4)"
   ]
  },
  {
   "attachments": {},
   "cell_type": "markdown",
   "metadata": {},
   "source": [
    "## 피보나치 수열"
   ]
  },
  {
   "cell_type": "code",
   "execution_count": null,
   "metadata": {},
   "outputs": [],
   "source": [
    "# 재귀함수\n",
    "def fibo(n):\n",
    "    if n<2:return n\n",
    "    else: return fibo(n-1)+fibo(n-2)"
   ]
  },
  {
   "cell_type": "code",
   "execution_count": null,
   "metadata": {},
   "outputs": [],
   "source": []
  },
  {
   "cell_type": "markdown",
   "metadata": {},
   "source": [
    "# 정렬"
   ]
  },
  {
   "attachments": {},
   "cell_type": "markdown",
   "metadata": {},
   "source": [
    "## 병합정렬"
   ]
  },
  {
   "cell_type": "code",
   "execution_count": null,
   "metadata": {},
   "outputs": [],
   "source": []
  },
  {
   "cell_type": "code",
   "execution_count": null,
   "metadata": {},
   "outputs": [],
   "source": []
  },
  {
   "cell_type": "code",
   "execution_count": null,
   "metadata": {},
   "outputs": [],
   "source": []
  },
  {
   "cell_type": "code",
   "execution_count": null,
   "metadata": {},
   "outputs": [],
   "source": []
  },
  {
   "cell_type": "code",
   "execution_count": null,
   "metadata": {},
   "outputs": [],
   "source": []
  }
 ],
 "metadata": {
  "kernelspec": {
   "display_name": "Python 3",
   "language": "python",
   "name": "python3"
  },
  "language_info": {
   "codemirror_mode": {
    "name": "ipython",
    "version": 3
   },
   "file_extension": ".py",
   "mimetype": "text/x-python",
   "name": "python",
   "nbconvert_exporter": "python",
   "pygments_lexer": "ipython3",
   "version": "3.8.9"
  },
  "orig_nbformat": 4,
  "vscode": {
   "interpreter": {
    "hash": "31f2aee4e71d21fbe5cf8b01ff0e069b9275f58929596ceb00d14d90e3e16cd6"
   }
  }
 },
 "nbformat": 4,
 "nbformat_minor": 2
}
