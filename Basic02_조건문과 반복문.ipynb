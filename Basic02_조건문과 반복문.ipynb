{
 "cells": [
  {
   "attachments": {},
   "cell_type": "markdown",
   "id": "6fdaf8e2",
   "metadata": {},
   "source": [
    "## 조건문"
   ]
  },
  {
   "attachments": {},
   "cell_type": "markdown",
   "id": "175da908",
   "metadata": {},
   "source": [
    "다양한 경우에 따라 다르게 명령하는 방법"
   ]
  },
  {
   "cell_type": "code",
   "execution_count": 1,
   "id": "dc9f5c48",
   "metadata": {},
   "outputs": [],
   "source": [
    "# if 조건식1 :\n",
    "#     명령1\n",
    "# elif 조건식2 :\n",
    "#     명령2\n",
    "# elif 조건식3 :\n",
    "#     명령3\n",
    "# else:\n",
    "#     명령4"
   ]
  },
  {
   "cell_type": "markdown",
   "id": "3313603f",
   "metadata": {},
   "source": [
    "### 예제"
   ]
  },
  {
   "cell_type": "code",
   "execution_count": 8,
   "id": "a4a1aab9",
   "metadata": {},
   "outputs": [
    {
     "name": "stdout",
     "output_type": "stream",
     "text": [
      "==============================================\n",
      "===============---- 자판기 ----===============\n",
      "==============================================\n",
      "== 1.콜라 == 2.사이다 == 3.물 =======insert===\n",
      "==--------==--------==--------=======------===\n",
      "==  600  ==    800   ==  1000  ====== 000원===\n",
      "=====================================------===\n",
      "==============================================\n",
      "==++++++++++++++++++++++++++++++++++++++++++==\n",
      "==++++++++++++++++++++++++++++++++++++++++++==\n",
      "==++++++++++++++++++++++++++++++++++++++++++==\n",
      "==+++++++++++++++            +++++++++++++++==\n",
      "==+++++++++++++++    SMHRD   +++++++++++++++==\n",
      "==+++++++++++++++            +++++++++++++++==\n",
      "==++++++++++++++++++++++++++++++++++++++++++==\n",
      "==++++++++++++++++++++++++++++++++++++++++++==\n",
      "==============================================\n",
      "==============================================\n",
      "  ===                                    ===  \n",
      "  ===                                    ===  \n",
      " \n",
      "insert coin >> 5000\n",
      "메뉴 선택 >> 3\n",
      "잔돈 >> 천원 4개, 오백원 0개, 백원 0개\n"
     ]
    }
   ],
   "source": [
    "print('='*46)\n",
    "print('='*15+'---- 자판기 ----'+'='*15)\n",
    "print('='*46)\n",
    "print('==','1.콜라','==','2.사이다','==','3.물','=======insert===')\n",
    "print('==--------==--------==--------=======------===')\n",
    "print('==  600  ==    800   ==  1000  ====== 000원===')\n",
    "print('='*37+'------===')\n",
    "print('='*46)\n",
    "print('=='+'+'*42+'==')\n",
    "print('=='+'+'*42+'==')\n",
    "print('=='+'+'*42+'==')\n",
    "print('=='+'+'*15+' '*12+'+'*15+'==')\n",
    "print('==' + '+'*15 + ' '*4 + 'SMHRD' + ' '*3+'+'*15+ '==')\n",
    "print('=='+'+'*15+' '*12+'+'*15+'==')\n",
    "print('=='+'+'*42+'==')\n",
    "print('=='+'+'*42+'==')\n",
    "print('='*46)\n",
    "print('='*46)\n",
    "print('  '+'==='+' '*36+'==='+'  ')\n",
    "print('  '+'==='+' '*36+'==='+'  ')\n",
    "print(' ')\n",
    "\n",
    "money = int(input(\"insert coin >> \"))\n",
    "num = int(input(\"메뉴 선택 >> \"))\n",
    "# 메뉴 선택하기\n",
    "if money >= 600 :\n",
    "    # 1번 메뉴 선택\n",
    "    if num == 1 :\n",
    "        money -= 600\n",
    "    elif num == 2 :\n",
    "        money -= 800\n",
    "    elif num == 3 :\n",
    "        money -= 1000\n",
    "    else :\n",
    "        print(\"잘못된 메뉴입니다!\")\n",
    "    # 잔돈 계산하기\n",
    "    cash_1000, cash_500, cash_100 = 0,0,0\n",
    "    if money >= 1000 :\n",
    "        # 천원짜리 개수\n",
    "        cash_1000 = money // 1000\n",
    "        # 오백원짜리 개수\n",
    "        cash_500 = money % 1000 // 500\n",
    "        # 백원짜리 개수\n",
    "        cash_100 = money % 1000 % 500 // 100\n",
    "    # 천원 미만 오백원 이상일 경우\n",
    "    elif money >= 500 :\n",
    "        cash_500 = money // 500\n",
    "        cash_100 = money % 500 // 100\n",
    "    # 오백원 미만일 경우\n",
    "    else :\n",
    "        chas_100 = money // 100\n",
    "    print(f\"잔돈 >> 천원 {cash_1000}개, 오백원 {cash_500}개, 백원 {cash_100}개\")\n",
    "else :\n",
    "    print(\"돈을 더 넣어주세요~~!\")"
   ]
  },
  {
   "attachments": {},
   "cell_type": "markdown",
   "id": "af1b27d5",
   "metadata": {},
   "source": [
    "## 반복문"
   ]
  },
  {
   "attachments": {},
   "cell_type": "markdown",
   "id": "4d711bcd",
   "metadata": {},
   "source": [
    "### for문"
   ]
  },
  {
   "attachments": {},
   "cell_type": "markdown",
   "id": "397e45fb",
   "metadata": {},
   "source": [
    "횟수로 반복하는 방법"
   ]
  },
  {
   "cell_type": "code",
   "execution_count": 3,
   "id": "f267f2f9",
   "metadata": {},
   "outputs": [],
   "source": [
    "# for 반복변수 in 반복변수에 순서대로 들어갈 재료 :\n",
    "#     반복명령\n",
    "\n",
    "# for 반복변수 in range(시작인데스,끝인덱스,증감량):\n",
    "#     반복명령"
   ]
  },
  {
   "cell_type": "code",
   "execution_count": null,
   "id": "250b869e",
   "metadata": {},
   "outputs": [],
   "source": [
    "# tqdm모듈\n",
    "from tqdm import tqdm\n",
    "for i tqdm(in range()):"
   ]
  },
  {
   "cell_type": "code",
   "execution_count": 5,
   "id": "e8e0c9d3",
   "metadata": {},
   "outputs": [],
   "source": [
    "# for else 문 : 중간에 break되지 않고 반복분이 완료되면 else문 실행\n",
    "# for i in range():\n",
    "#     명령1\n",
    "# else:\n",
    "#     명령2\n",
    "    "
   ]
  },
  {
   "cell_type": "code",
   "execution_count": 7,
   "id": "a7c93ee1",
   "metadata": {},
   "outputs": [
    {
     "name": "stdout",
     "output_type": "stream",
     "text": [
      "=============================================\n",
      "이름\tPython\tJava\tDB\t평균\t학점\t\n",
      "=============================================\n",
      "박매일\t89\t78\t99\t88\tB\n",
      "김미희\t67\t88\t77\t77\tC\n",
      "강예진\t100\t55\t96\t83\tB\n",
      "=============================================\n",
      "평균\t88\t77\t83\t"
     ]
    }
   ],
   "source": [
    "score_list = [[\"박매일\",89,78,99], [\"김미희\",67,88,77], [\"강예진\",100,55,96]]\n",
    "calums = ['이름', 'Python', 'Java', 'DB', '평균', '학점']\n",
    "mean = []\n",
    "\n",
    "print(\"=\"*45)\n",
    "for i in calums:   #칼럼 이름\n",
    "    print(i, end=\"\\t\")\n",
    "print(\"\")\n",
    "print(\"=\"*45)\n",
    "for i in range(len(score_list)):   #전체 반복 (세로로 쓰는 느낌임)\n",
    "    for j in range(4):   #과목+이름 반복문 / 이름1줄+과목3줄 = range(4)\n",
    "        print(score_list[i][j], end=\"\\t\")\n",
    "    for k in range(1):   #평균 반복문 / 평균1줄 = range(1)\n",
    "        avg = int((score_list[i][1]+score_list[i][2]+score_list[i][3])/3)   #과목수가 3개니까 나누기 3  \n",
    "        print(avg, end=\"\\t\")\n",
    "        mean.append(avg)\n",
    "    for l in range(1):   #학점 반복문 / 학점1줄 = range(1)\n",
    "        if avg >= 90:\n",
    "            grade = 'A'\n",
    "        elif avg >= 80:\n",
    "            grade = 'B'\n",
    "        elif avg >= 70:\n",
    "            grade = 'C'\n",
    "        elif avg >= 60:\n",
    "            grade = 'D'\n",
    "        else:\n",
    "            grade ='F'\n",
    "        print(grade)   \n",
    "                         #만약에 열 하나 늘어나면 for문 여기에 적어주면 됨 for문 하나당 세로 열 씀 \n",
    "print(\"=\"*45)\n",
    "print(calums[4], end=\"\\t\")\n",
    "for i in range(3):\n",
    "    print(mean[i], end=\"\\t\")  #과목별 평균"
   ]
  },
  {
   "attachments": {},
   "cell_type": "markdown",
   "id": "d39bc68f",
   "metadata": {},
   "source": [
    "### 이중 for문"
   ]
  },
  {
   "cell_type": "code",
   "execution_count": 8,
   "id": "1488d246",
   "metadata": {},
   "outputs": [
    {
     "name": "stdout",
     "output_type": "stream",
     "text": [
      "2*1=2\t3*1=3\t4*1=4\t5*1=5\t6*1=6\t7*1=7\t8*1=8\t9*1=9\t\n",
      "2*2=4\t3*2=6\t4*2=8\t5*2=10\t6*2=12\t7*2=14\t8*2=16\t9*2=18\t\n",
      "2*3=6\t3*3=9\t4*3=12\t5*3=15\t6*3=18\t7*3=21\t8*3=24\t9*3=27\t\n",
      "2*4=8\t3*4=12\t4*4=16\t5*4=20\t6*4=24\t7*4=28\t8*4=32\t9*4=36\t\n",
      "2*5=10\t3*5=15\t4*5=20\t5*5=25\t6*5=30\t7*5=35\t8*5=40\t9*5=45\t\n",
      "2*6=12\t3*6=18\t4*6=24\t5*6=30\t6*6=36\t7*6=42\t8*6=48\t9*6=54\t\n",
      "2*7=14\t3*7=21\t4*7=28\t5*7=35\t6*7=42\t7*7=49\t8*7=56\t9*7=63\t\n",
      "2*8=16\t3*8=24\t4*8=32\t5*8=40\t6*8=48\t7*8=56\t8*8=64\t9*8=72\t\n",
      "2*9=18\t3*9=27\t4*9=36\t5*9=45\t6*9=54\t7*9=63\t8*9=72\t9*9=81\t\n"
     ]
    }
   ],
   "source": [
    "for dan in range(1,10):\n",
    "    for i in range(2,10):\n",
    "        print(f\"{i}*{dan}={dan*i}\", end=\"\\t\")  #이스케이프 코드 한다면 큰 것 기준 일정한 간격으로 출력\n",
    "    print()"
   ]
  },
  {
   "attachments": {},
   "cell_type": "markdown",
   "id": "e2fd0769",
   "metadata": {},
   "source": [
    "### while문"
   ]
  },
  {
   "attachments": {},
   "cell_type": "markdown",
   "id": "51cfa484",
   "metadata": {},
   "source": [
    "조건으로 반복하는 방법"
   ]
  },
  {
   "cell_type": "code",
   "execution_count": 6,
   "id": "943fc051",
   "metadata": {},
   "outputs": [],
   "source": [
    "# while 조건 :\n",
    "#     반복명령\n",
    "#     break <- 반복문을 종료시킴\n",
    "#     continue <- 현재반복을 여기까지만 수행하고 다음 반복으로 스킵"
   ]
  },
  {
   "cell_type": "markdown",
   "id": "972eae89",
   "metadata": {},
   "source": [
    "###  try문"
   ]
  },
  {
   "cell_type": "markdown",
   "id": "ebded956",
   "metadata": {},
   "source": [
    "시도해보고 안되면 다른 명령 실행하는 방법"
   ]
  },
  {
   "cell_type": "code",
   "execution_count": null,
   "id": "38120fe2",
   "metadata": {},
   "outputs": [],
   "source": [
    "# try:\n",
    "#     명령1\n",
    "# except:\n",
    "#     명령2"
   ]
  },
  {
   "attachments": {},
   "cell_type": "markdown",
   "id": "b429e463",
   "metadata": {},
   "source": [
    "while문 오류날 때 피하는 방법"
   ]
  },
  {
   "cell_type": "code",
   "execution_count": 9,
   "id": "e14366ea",
   "metadata": {},
   "outputs": [],
   "source": [
    "# try:\n",
    "#     while True:\n",
    "#      반복명령\n",
    "# except:\n",
    "#     pass   "
   ]
  }
 ],
 "metadata": {
  "kernelspec": {
   "display_name": "Python 3.10.5 64-bit",
   "language": "python",
   "name": "python3"
  },
  "language_info": {
   "codemirror_mode": {
    "name": "ipython",
    "version": 3
   },
   "file_extension": ".py",
   "mimetype": "text/x-python",
   "name": "python",
   "nbconvert_exporter": "python",
   "pygments_lexer": "ipython3",
   "version": "3.10.5"
  },
  "vscode": {
   "interpreter": {
    "hash": "aee8b7b246df8f9039afb4144a1f6fd8d2ca17a180786b69acc140d282b71a49"
   }
  }
 },
 "nbformat": 4,
 "nbformat_minor": 5
}
