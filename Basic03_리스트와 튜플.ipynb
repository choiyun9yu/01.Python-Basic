{
 "cells": [
  {
   "cell_type": "code",
   "execution_count": null,
   "id": "d91742a5",
   "metadata": {},
   "outputs": [],
   "source": [
    "list1 = [2, 5, 7, 9, 10]\n",
    "print(list1[0])\n",
    "print(list1[3])\n",
    "print(list1[2]+list1[-1])"
   ]
  },
  {
   "cell_type": "code",
   "execution_count": null,
   "id": "4180abaf",
   "metadata": {},
   "outputs": [],
   "source": [
    "list2 = [1, 2, 3, ['a', 'b', 'c']]\n",
    "temp = list2[-1]\n",
    "print(temp)"
   ]
  },
  {
   "cell_type": "code",
   "execution_count": null,
   "id": "114aa5c1",
   "metadata": {},
   "outputs": [],
   "source": [
    "list2 = [1, 2, 3, ['a', 'b', 'c']]\n",
    "print(list2[-1][-2])"
   ]
  },
  {
   "cell_type": "code",
   "execution_count": null,
   "id": "7c187204",
   "metadata": {},
   "outputs": [],
   "source": [
    "list3 = [0, 1, 2, 3, 4]\n",
    "list3[1:3]"
   ]
  },
  {
   "cell_type": "code",
   "execution_count": null,
   "id": "dce99ae7",
   "metadata": {},
   "outputs": [],
   "source": [
    "list3[:2]"
   ]
  },
  {
   "cell_type": "code",
   "execution_count": null,
   "id": "6923189e",
   "metadata": {},
   "outputs": [],
   "source": [
    "list3[3:]"
   ]
  },
  {
   "cell_type": "code",
   "execution_count": null,
   "id": "7ebc834c",
   "metadata": {},
   "outputs": [],
   "source": [
    "list3[3:4]"
   ]
  },
  {
   "cell_type": "code",
   "execution_count": null,
   "id": "a252f67a",
   "metadata": {},
   "outputs": [],
   "source": [
    "list4 = [1, 2, 3]\n",
    "list5 = [3, 4, 5, 6]\n",
    "list4 + list5"
   ]
  },
  {
   "cell_type": "code",
   "execution_count": null,
   "id": "0909fb9b",
   "metadata": {},
   "outputs": [],
   "source": [
    "list5 = [0, 1, 2, 3, 4]\n",
    "list5.append(5)\n",
    "list5"
   ]
  },
  {
   "cell_type": "code",
   "execution_count": null,
   "id": "975965e6",
   "metadata": {},
   "outputs": [],
   "source": [
    "list5.append(6)\n",
    "list5"
   ]
  },
  {
   "cell_type": "code",
   "execution_count": null,
   "id": "d0ea1cb3",
   "metadata": {},
   "outputs": [],
   "source": [
    "list_ = ['사과', '포도', ['수박', '멜론'], '복숭아', '딸기', '오렌지']\n",
    "choice_list = [ ]\n",
    "\n",
    "choice_list.append(list_[0])\n",
    "choice_list.append(list_[-1])\n",
    "choice_list.append(list_[2][0])\n",
    "\n",
    "print(choice_list)"
   ]
  },
  {
   "cell_type": "code",
   "execution_count": null,
   "id": "99541da7",
   "metadata": {},
   "outputs": [],
   "source": [
    "list5 = [0, 1, 2, 3, 4]\n",
    "list5.insert(1,5)\n",
    "list5"
   ]
  },
  {
   "cell_type": "code",
   "execution_count": null,
   "id": "90da502f",
   "metadata": {},
   "outputs": [],
   "source": [
    "list5.insert(5,6)\n",
    "list5"
   ]
  },
  {
   "cell_type": "code",
   "execution_count": 1,
   "id": "b2d23333",
   "metadata": {},
   "outputs": [
    {
     "data": {
      "text/plain": [
       "[['LOVE DIVE', '아이브'],\n",
       " ['사랑인가봐', '멜로망스'],\n",
       " ['TOMBOY', '(여자)아이들'],\n",
       " ['봄여름가을겨울', '빅뱅'],\n",
       " ['That That', '싸이']]"
      ]
     },
     "execution_count": 1,
     "metadata": {},
     "output_type": "execute_result"
    }
   ],
   "source": [
    "music_list = [['LOVE DIVE', '아이브'],\n",
    "             ['TOMBOY', '(여자)아이들'],\n",
    "             ['That That', '싸이']]\n",
    "music_list.insert(1,['사랑인가봐','멜로망스'])\n",
    "music_list.insert(3,['봄여름가을겨울','빅뱅'])\n",
    "music_list"
   ]
  },
  {
   "cell_type": "code",
   "execution_count": 2,
   "id": "1a437c4b",
   "metadata": {},
   "outputs": [
    {
     "name": "stdout",
     "output_type": "stream",
     "text": [
      "인덱스 입력 >> -1\n",
      "노래 제목 >> 나의 x에게\n",
      "가수명 >> 경서\n"
     ]
    },
    {
     "data": {
      "text/plain": [
       "[['LOVE DIVE', '아이브'],\n",
       " ['사랑인가봐', '멜로망스'],\n",
       " ['TOMBOY', '(여자)아이들'],\n",
       " ['봄여름가을겨울', '빅뱅'],\n",
       " ['나의 x에게', '경서'],\n",
       " ['That That', '싸이']]"
      ]
     },
     "execution_count": 2,
     "metadata": {},
     "output_type": "execute_result"
    }
   ],
   "source": [
    "index_value = int(input(\"인덱스 입력 >> \"))\n",
    "song = input(\"노래 제목 >> \")\n",
    "singer = input(\"가수명 >> \")\n",
    "\n",
    "music_list.insert(index_value,[song, singer])\n",
    "music_list"
   ]
  },
  {
   "cell_type": "code",
   "execution_count": 4,
   "id": "a4b62886",
   "metadata": {},
   "outputs": [
    {
     "data": {
      "text/plain": [
       "[0, 1, 2, 3, 4]"
      ]
     },
     "execution_count": 4,
     "metadata": {},
     "output_type": "execute_result"
    }
   ],
   "source": [
    "list6 = [0, 1, 2, 3, 4]\n",
    "list6"
   ]
  },
  {
   "cell_type": "code",
   "execution_count": 6,
   "id": "8c8875ba",
   "metadata": {},
   "outputs": [
    {
     "name": "stdout",
     "output_type": "stream",
     "text": [
      "수정 전 : 1\n",
      "수정 후 7\n"
     ]
    }
   ],
   "source": [
    "print(\"수정 전 :\", list6[1])\n",
    "list6[1] = 7\n",
    "print(\"수정 후\", list6[1])"
   ]
  },
  {
   "cell_type": "code",
   "execution_count": 14,
   "id": "bca249ea",
   "metadata": {},
   "outputs": [
    {
     "data": {
      "text/plain": [
       "[1, ['a', 'b', 'c'], 3, 4, 5]"
      ]
     },
     "execution_count": 14,
     "metadata": {},
     "output_type": "execute_result"
    }
   ],
   "source": [
    "array = [1, 2, 3, 4, 5] \n",
    "array[1] = ['a', 'b', 'c']\n",
    "array"
   ]
  },
  {
   "cell_type": "code",
   "execution_count": 17,
   "id": "0c7b1fe2",
   "metadata": {},
   "outputs": [
    {
     "data": {
      "text/plain": [
       "[1, ['a', 'b', 'c'], 3, 'd', 'e', 'f', 'g']"
      ]
     },
     "execution_count": 17,
     "metadata": {},
     "output_type": "execute_result"
    }
   ],
   "source": [
    "array[-2:] = 'd', 'e', 'f', 'g'\n",
    "array"
   ]
  },
  {
   "cell_type": "code",
   "execution_count": 20,
   "id": "571fe63d",
   "metadata": {},
   "outputs": [
    {
     "data": {
      "text/plain": [
       "['h', 'i', 'j', ['a', 'b', 'c'], 3, 'd', 'e', 'f', 'g']"
      ]
     },
     "execution_count": 20,
     "metadata": {},
     "output_type": "execute_result"
    }
   ],
   "source": [
    "array[:1] = ['h', 'i', 'j']\n",
    "array"
   ]
  },
  {
   "cell_type": "code",
   "execution_count": 23,
   "id": "df5e90e4",
   "metadata": {},
   "outputs": [
    {
     "data": {
      "text/plain": [
       "[0, 5]"
      ]
     },
     "execution_count": 23,
     "metadata": {},
     "output_type": "execute_result"
    }
   ],
   "source": [
    "list7 = [0, 1, 2, 3, 4, 5]\n",
    "del list7[1:5]\n",
    "list7"
   ]
  },
  {
   "cell_type": "code",
   "execution_count": 25,
   "id": "a8ef93cc",
   "metadata": {},
   "outputs": [
    {
     "data": {
      "text/plain": [
       "['.a', 'c', 'd', 'e']"
      ]
     },
     "execution_count": 25,
     "metadata": {},
     "output_type": "execute_result"
    }
   ],
   "source": [
    "list7 = ['.a', 'b', 'c', 'd',  'e']\n",
    "list7.remove('b')\n",
    "list7"
   ]
  },
  {
   "cell_type": "code",
   "execution_count": 27,
   "id": "d11fc222",
   "metadata": {},
   "outputs": [
    {
     "data": {
      "text/plain": [
       "[9, 77, 13, 51, 100, 3]"
      ]
     },
     "execution_count": 27,
     "metadata": {},
     "output_type": "execute_result"
    }
   ],
   "source": [
    "list8 = [9, 77, 13, 51, 100, 3]\n",
    "list8"
   ]
  },
  {
   "cell_type": "code",
   "execution_count": 28,
   "id": "8a81f475",
   "metadata": {},
   "outputs": [
    {
     "data": {
      "text/plain": [
       "[3, 9, 13, 51, 77, 100]"
      ]
     },
     "execution_count": 28,
     "metadata": {},
     "output_type": "execute_result"
    }
   ],
   "source": [
    "list8.sort()\n",
    "list8"
   ]
  },
  {
   "cell_type": "code",
   "execution_count": 30,
   "id": "dd8764d9",
   "metadata": {},
   "outputs": [
    {
     "data": {
      "text/plain": [
       "[3, 9, 13, 51, 77, 100]"
      ]
     },
     "execution_count": 30,
     "metadata": {},
     "output_type": "execute_result"
    }
   ],
   "source": [
    "list10 = [9, 77, 13, 51, 100, 3]\n",
    "list10.sort()\n",
    "list10"
   ]
  },
  {
   "cell_type": "code",
   "execution_count": 32,
   "id": "35dc1430",
   "metadata": {},
   "outputs": [
    {
     "data": {
      "text/plain": [
       "2"
      ]
     },
     "execution_count": 32,
     "metadata": {},
     "output_type": "execute_result"
    }
   ],
   "source": [
    "list11 = ['a', 'b', 'c', 'd', 'e', 'f']\n",
    "list11.index('c')"
   ]
  },
  {
   "cell_type": "code",
   "execution_count": 33,
   "id": "cdab68e0",
   "metadata": {},
   "outputs": [
    {
     "data": {
      "text/plain": [
       "'f'"
      ]
     },
     "execution_count": 33,
     "metadata": {},
     "output_type": "execute_result"
    }
   ],
   "source": [
    "list11 = ['a', 'b', 'c', 'd', 'e', 'f']\n",
    "list11.pop()"
   ]
  },
  {
   "cell_type": "code",
   "execution_count": 34,
   "id": "457eb476",
   "metadata": {},
   "outputs": [
    {
     "data": {
      "text/plain": [
       "3"
      ]
     },
     "execution_count": 34,
     "metadata": {},
     "output_type": "execute_result"
    }
   ],
   "source": [
    "list13 = [0, 1, 2]\n",
    "len(list13)"
   ]
  },
  {
   "cell_type": "code",
   "execution_count": 35,
   "id": "cf27d62a",
   "metadata": {},
   "outputs": [
    {
     "data": {
      "text/plain": [
       "6"
      ]
     },
     "execution_count": 35,
     "metadata": {},
     "output_type": "execute_result"
    }
   ],
   "source": [
    "list14 = ['a', 'b', 'c', 'd', 'e', 'f']\n",
    "len(list14)"
   ]
  },
  {
   "cell_type": "code",
   "execution_count": 36,
   "id": "616b97e6",
   "metadata": {},
   "outputs": [
    {
     "data": {
      "text/plain": [
       "True"
      ]
     },
     "execution_count": 36,
     "metadata": {},
     "output_type": "execute_result"
    }
   ],
   "source": [
    "str1 = \"파이썬 최고\"\n",
    "\"파이썬\" in str1"
   ]
  },
  {
   "cell_type": "code",
   "execution_count": 37,
   "id": "a922bfcc",
   "metadata": {},
   "outputs": [
    {
     "data": {
      "text/plain": [
       "False"
      ]
     },
     "execution_count": 37,
     "metadata": {},
     "output_type": "execute_result"
    }
   ],
   "source": [
    "\"파이썬\" not in str1"
   ]
  },
  {
   "cell_type": "code",
   "execution_count": 38,
   "id": "55ae62ac",
   "metadata": {},
   "outputs": [
    {
     "data": {
      "text/plain": [
       "False"
      ]
     },
     "execution_count": 38,
     "metadata": {},
     "output_type": "execute_result"
    }
   ],
   "source": [
    "list1 = [77, 38, 10]\n",
    "33 in list1"
   ]
  },
  {
   "cell_type": "code",
   "execution_count": 39,
   "id": "f3ef2410",
   "metadata": {},
   "outputs": [
    {
     "data": {
      "text/plain": [
       "True"
      ]
     },
     "execution_count": 39,
     "metadata": {},
     "output_type": "execute_result"
    }
   ],
   "source": [
    "33 not in list1"
   ]
  },
  {
   "cell_type": "code",
   "execution_count": 44,
   "id": "550583d8",
   "metadata": {},
   "outputs": [
    {
     "name": "stdout",
     "output_type": "stream",
     "text": [
      "검색할 문자를 입력하세요 : n\n",
      "n는 2번 들어있네유!\n"
     ]
    }
   ],
   "source": [
    "s = \"Hi My name is YunGyu\"\n",
    "a = input(\"검색할 문자를 입력하세요 : \")\n",
    "b = s.count(a)\n",
    "\n",
    "if a in s:\n",
    "    print(f\"{a}는 {b}번 들어있네유!\")\n",
    "else:\n",
    "    print(f\"{a}는 들어있지 않네유...\")"
   ]
  },
  {
   "cell_type": "code",
   "execution_count": null,
   "id": "c1006864",
   "metadata": {},
   "outputs": [],
   "source": []
  },
  {
   "cell_type": "code",
   "execution_count": null,
   "id": "f70e5803",
   "metadata": {},
   "outputs": [],
   "source": []
  },
  {
   "cell_type": "code",
   "execution_count": null,
   "id": "f0197bfd",
   "metadata": {},
   "outputs": [],
   "source": []
  },
  {
   "cell_type": "code",
   "execution_count": null,
   "id": "5baef4d5",
   "metadata": {},
   "outputs": [],
   "source": []
  },
  {
   "cell_type": "code",
   "execution_count": null,
   "id": "31a7922b",
   "metadata": {},
   "outputs": [],
   "source": []
  },
  {
   "cell_type": "code",
   "execution_count": null,
   "id": "0db9fad1",
   "metadata": {},
   "outputs": [],
   "source": []
  },
  {
   "cell_type": "code",
   "execution_count": null,
   "id": "cff7f1c6",
   "metadata": {},
   "outputs": [],
   "source": []
  },
  {
   "cell_type": "code",
   "execution_count": null,
   "id": "872e3f80",
   "metadata": {},
   "outputs": [],
   "source": []
  },
  {
   "cell_type": "code",
   "execution_count": null,
   "id": "55f87d89",
   "metadata": {},
   "outputs": [],
   "source": []
  },
  {
   "cell_type": "code",
   "execution_count": null,
   "id": "cf7bc524",
   "metadata": {},
   "outputs": [],
   "source": []
  },
  {
   "cell_type": "code",
   "execution_count": null,
   "id": "f9ae9258",
   "metadata": {},
   "outputs": [],
   "source": []
  },
  {
   "cell_type": "code",
   "execution_count": null,
   "id": "8969fd17",
   "metadata": {},
   "outputs": [],
   "source": []
  },
  {
   "cell_type": "code",
   "execution_count": null,
   "id": "7227244b",
   "metadata": {},
   "outputs": [],
   "source": []
  },
  {
   "cell_type": "code",
   "execution_count": null,
   "id": "af3c0d8d",
   "metadata": {},
   "outputs": [],
   "source": []
  },
  {
   "cell_type": "code",
   "execution_count": null,
   "id": "c3237913",
   "metadata": {},
   "outputs": [],
   "source": []
  },
  {
   "cell_type": "code",
   "execution_count": null,
   "id": "a98c6851",
   "metadata": {},
   "outputs": [],
   "source": []
  },
  {
   "cell_type": "code",
   "execution_count": null,
   "id": "81989f00",
   "metadata": {},
   "outputs": [],
   "source": []
  },
  {
   "cell_type": "code",
   "execution_count": null,
   "id": "441530e9",
   "metadata": {},
   "outputs": [],
   "source": []
  },
  {
   "cell_type": "code",
   "execution_count": null,
   "id": "5e7cdc9d",
   "metadata": {},
   "outputs": [],
   "source": []
  },
  {
   "cell_type": "code",
   "execution_count": null,
   "id": "ad6d7776",
   "metadata": {},
   "outputs": [],
   "source": []
  },
  {
   "cell_type": "code",
   "execution_count": null,
   "id": "ea731e1f",
   "metadata": {},
   "outputs": [],
   "source": []
  },
  {
   "cell_type": "code",
   "execution_count": null,
   "id": "8cf4d54e",
   "metadata": {},
   "outputs": [],
   "source": []
  },
  {
   "cell_type": "code",
   "execution_count": null,
   "id": "12b181e7",
   "metadata": {},
   "outputs": [],
   "source": []
  }
 ],
 "metadata": {
  "kernelspec": {
   "display_name": "Python 3 (ipykernel)",
   "language": "python",
   "name": "python3"
  },
  "language_info": {
   "codemirror_mode": {
    "name": "ipython",
    "version": 3
   },
   "file_extension": ".py",
   "mimetype": "text/x-python",
   "name": "python",
   "nbconvert_exporter": "python",
   "pygments_lexer": "ipython3",
   "version": "3.9.12"
  }
 },
 "nbformat": 4,
 "nbformat_minor": 5
}
