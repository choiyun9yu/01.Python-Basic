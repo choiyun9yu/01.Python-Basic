{
 "cells": [
  {
   "cell_type": "code",
   "execution_count": null,
   "id": "3ff3eb33",
   "metadata": {},
   "outputs": [],
   "source": [
    "dic1 = {\"name\":\"윤규\", \"age\":31, \"H.P\": \"010-1234-1234\"}\n",
    "print(dic1)"
   ]
  },
  {
   "cell_type": "code",
   "execution_count": null,
   "id": "27d10498",
   "metadata": {},
   "outputs": [],
   "source": [
    "print(type(dic1))"
   ]
  },
  {
   "cell_type": "code",
   "execution_count": null,
   "id": "fde35c36",
   "metadata": {},
   "outputs": [],
   "source": [
    "dic1['birth'] = '02/08'"
   ]
  },
  {
   "cell_type": "code",
   "execution_count": null,
   "id": "e9551506",
   "metadata": {},
   "outputs": [],
   "source": [
    "dic1"
   ]
  },
  {
   "cell_type": "code",
   "execution_count": null,
   "id": "82c7b52f",
   "metadata": {},
   "outputs": [],
   "source": [
    "dic_test = {'노래제목':'참고사항'}\n",
    "dic_test['가수'] = '이무진'\n",
    "dic_test['날짜'] = '2022.06.23'\n",
    "dic_test"
   ]
  },
  {
   "cell_type": "code",
   "execution_count": null,
   "id": "b206bd3f",
   "metadata": {},
   "outputs": [],
   "source": [
    "dic1['age']\n",
    "dic1"
   ]
  },
  {
   "cell_type": "code",
   "execution_count": null,
   "id": "052e140e",
   "metadata": {},
   "outputs": [],
   "source": [
    "list(dic1.keys())"
   ]
  },
  {
   "cell_type": "code",
   "execution_count": null,
   "id": "c9d8fb8a",
   "metadata": {},
   "outputs": [],
   "source": [
    "for key in dic1.keys():\n",
    "    print(key)"
   ]
  },
  {
   "cell_type": "code",
   "execution_count": null,
   "id": "e34b7dee",
   "metadata": {},
   "outputs": [],
   "source": [
    "for value in dic1.values():\n",
    "    print(value)"
   ]
  },
  {
   "cell_type": "code",
   "execution_count": null,
   "id": "1c0b13d9",
   "metadata": {},
   "outputs": [],
   "source": [
    "for key, value in dic1.items():\n",
    "    print(key, \"\\t\", value)"
   ]
  },
  {
   "cell_type": "code",
   "execution_count": null,
   "id": "2ddfc252",
   "metadata": {},
   "outputs": [],
   "source": [
    "'name' in dic1"
   ]
  },
  {
   "cell_type": "code",
   "execution_count": null,
   "id": "501deadc",
   "metadata": {},
   "outputs": [],
   "source": [
    "dic1.clear()\n",
    "dic1"
   ]
  },
  {
   "cell_type": "code",
   "execution_count": null,
   "id": "e25de6b8",
   "metadata": {},
   "outputs": [],
   "source": [
    "def number_sum(num1, num2):\n",
    "    result = num1 + num2\n",
    "    return result\n",
    "\n",
    "number_sum(1,2)"
   ]
  },
  {
   "cell_type": "code",
   "execution_count": null,
   "id": "47433d7b",
   "metadata": {},
   "outputs": [],
   "source": [
    "def number_minus(num1, num2):\n",
    "    if num1 >= num2:\n",
    "        result = num1-num2\n",
    "    else: \n",
    "        result = num2-num1\n",
    "    return result\n",
    "\n",
    "num1 = int(input(\"첫 번째 정수 입력 >> \"))\n",
    "num2 = int(input(\"두 번째 정수 입력 >> \"))\n",
    "\n",
    "a = number_minus(num1, num2)\n",
    "\n",
    "print(a)"
   ]
  },
  {
   "cell_type": "code",
   "execution_count": null,
   "id": "d63f90b2",
   "metadata": {},
   "outputs": [],
   "source": [
    "def rep(s):\n",
    "    if 'ㅋ' in s:\n",
    "        result = s.replace('ㅋ',\"\") \n",
    "    return result\n",
    "            \n",
    "s = input(\"문자열 입력 >> \")\n",
    "\n",
    "a = rep(s)\n",
    "\n",
    "print(a)\n"
   ]
  },
  {
   "cell_type": "code",
   "execution_count": null,
   "id": "d837c984",
   "metadata": {},
   "outputs": [],
   "source": []
  },
  {
   "cell_type": "code",
   "execution_count": null,
   "id": "1e55ce70",
   "metadata": {},
   "outputs": [],
   "source": [
    "def cal(num1, num2, op):\n",
    "    if op == '+':\n",
    "        result = num1 + num2\n",
    "    elif op == '-':\n",
    "        result = num1 - num2\n",
    "    return result"
   ]
  },
  {
   "cell_type": "code",
   "execution_count": null,
   "id": "ce1f1d82",
   "metadata": {},
   "outputs": [],
   "source": [
    "num1 = int(input(\"첫 번째 정수 입력 >> \"))\n",
    "num2 = int(input(\"두 번째 정수 입력 >> \"))\n",
    "op = input(\"연산자 입력(+,-) >> \")\n",
    "\n",
    "def1 = cal(num1, num2, op)\n",
    "\n",
    "print(\"결과 :\", cal(num1, num2, op))"
   ]
  },
  {
   "cell_type": "markdown",
   "id": "ff3e23d8",
   "metadata": {},
   "source": [
    "#### 독스트링"
   ]
  },
  {
   "cell_type": "code",
   "execution_count": null,
   "id": "234fca33",
   "metadata": {},
   "outputs": [],
   "source": [
    "def divisor(x):\n",
    "    for i in range(1,(x+1),):\n",
    "        if x%i == 0:\n",
    "            print(i, end=\" \")"
   ]
  },
  {
   "cell_type": "code",
   "execution_count": null,
   "id": "4a804522",
   "metadata": {},
   "outputs": [],
   "source": [
    "divisor(10)"
   ]
  },
  {
   "cell_type": "code",
   "execution_count": null,
   "id": "c59298b3",
   "metadata": {},
   "outputs": [],
   "source": [
    "def add(*args):\n",
    "    print(args)"
   ]
  },
  {
   "cell_type": "code",
   "execution_count": null,
   "id": "2584075f",
   "metadata": {},
   "outputs": [],
   "source": [
    "add(1,2,3,)"
   ]
  },
  {
   "cell_type": "code",
   "execution_count": null,
   "id": "646965d5",
   "metadata": {},
   "outputs": [],
   "source": [
    "def add(*args):\n",
    "    return sum(args)\n",
    "    \n",
    "add(1,2,3)\n",
    "\n",
    "print(add(1,2,3,))"
   ]
  },
  {
   "cell_type": "markdown",
   "id": "41ea125f",
   "metadata": {},
   "source": []
  },
  {
   "cell_type": "code",
   "execution_count": 24,
   "id": "48c61f7e",
   "metadata": {},
   "outputs": [],
   "source": [
    "def string_replace(num_list):\n",
    "    for i in num_list:\n",
    "        print(i.replace(\"ㅋ\", \"\"))"
   ]
  },
  {
   "cell_type": "code",
   "execution_count": 25,
   "id": "52e715f8",
   "metadata": {},
   "outputs": [
    {
     "name": "stdout",
     "output_type": "stream",
     "text": [
      "월 스미스가 하드캐리\n",
      "쟈스민 너무 멋지고 팬 엄청나게 생길듯\n",
      "기대보다 더욱 재밌는 영화였다^^\n",
      "색감도 노래도 너무 화려하고 재밌었어요\n",
      "오늘부터 디즈니 팬입니다\n",
      "디즈니의 새로운 해석도 놀랍고, 윌스미스도 신의한수!\n"
     ]
    }
   ],
   "source": [
    "review_naver = [\"월 스미스가 하드캐리ㅋㅋㅋㅋㅋㅋㅋ\",\n",
    "               \"쟈스민 너무 멋지고 팬 엄청나게 생길듯ㅋㅋ\",\n",
    "               \"기대보다 더욱 재밌는 영화였다^^\"\n",
    "               ]\n",
    "review_google = [\"색감도 노래도 너무 화려하고 재밌었어요ㅋㅋㅋ\",\n",
    "               \"오늘부터 디즈니 팬입니다ㅋㅋㅋ\",\n",
    "               \"디즈니의 새로운 해석도 놀랍고, 윌스미스도 신의한수!\"\n",
    "                ]\n",
    "\n",
    "string_replace(review_naver)\n",
    "string_replace(review_google)"
   ]
  },
  {
   "cell_type": "code",
   "execution_count": null,
   "id": "ed6be59e",
   "metadata": {},
   "outputs": [],
   "source": [
    "def string_replace(num_list):\n",
    "    for i in num_list:\n",
    "        pi.replace(\"ㅋ\", \"\"))"
   ]
  },
  {
   "cell_type": "code",
   "execution_count": 1,
   "id": "0b34143e",
   "metadata": {},
   "outputs": [
    {
     "ename": "NameError",
     "evalue": "name 'num1' is not defined",
     "output_type": "error",
     "traceback": [
      "\u001b[1;31m---------------------------------------------------------------------------\u001b[0m",
      "\u001b[1;31mNameError\u001b[0m                                 Traceback (most recent call last)",
      "Input \u001b[1;32mIn [1]\u001b[0m, in \u001b[0;36m<cell line: 1>\u001b[1;34m()\u001b[0m\n\u001b[1;32m----> 1\u001b[0m \u001b[38;5;28;01mwhile\u001b[39;00m \u001b[43mnum1\u001b[49m\u001b[38;5;241m!=\u001b[39m\u001b[38;5;241m0\u001b[39m \u001b[38;5;129;01mor\u001b[39;00m num2\u001b[38;5;241m!=\u001b[39mo:\n\u001b[0;32m      2\u001b[0m     num1 \u001b[38;5;241m=\u001b[39m \u001b[38;5;28mint\u001b[39m(\u001b[38;5;28minput\u001b[39m(\u001b[38;5;124m\"\u001b[39m\u001b[38;5;124m첫번째 변수 입력 >> \u001b[39m\u001b[38;5;124m\"\u001b[39m))\n\u001b[0;32m      3\u001b[0m     num2 \u001b[38;5;241m=\u001b[39m \u001b[38;5;28mint\u001b[39m(\u001b[38;5;28minput\u001b[39m(\u001b[38;5;124m\"\u001b[39m\u001b[38;5;124m두번째 변수 입력 >> \u001b[39m\u001b[38;5;124m\"\u001b[39m))\n",
      "\u001b[1;31mNameError\u001b[0m: name 'num1' is not defined"
     ]
    }
   ],
   "source": [
    "\n",
    "    "
   ]
  },
  {
   "cell_type": "code",
   "execution_count": null,
   "id": "5162eb8b",
   "metadata": {},
   "outputs": [],
   "source": []
  },
  {
   "cell_type": "code",
   "execution_count": null,
   "id": "34141d09",
   "metadata": {},
   "outputs": [],
   "source": []
  },
  {
   "cell_type": "code",
   "execution_count": null,
   "id": "7074b810",
   "metadata": {},
   "outputs": [],
   "source": []
  },
  {
   "cell_type": "code",
   "execution_count": null,
   "id": "6b70e7fe",
   "metadata": {},
   "outputs": [],
   "source": []
  },
  {
   "cell_type": "code",
   "execution_count": null,
   "id": "38f502dd",
   "metadata": {},
   "outputs": [],
   "source": []
  },
  {
   "cell_type": "code",
   "execution_count": null,
   "id": "ab1a9df9",
   "metadata": {},
   "outputs": [],
   "source": []
  },
  {
   "cell_type": "code",
   "execution_count": null,
   "id": "a1272819",
   "metadata": {},
   "outputs": [],
   "source": []
  },
  {
   "cell_type": "code",
   "execution_count": null,
   "id": "e02749aa",
   "metadata": {},
   "outputs": [],
   "source": []
  },
  {
   "cell_type": "code",
   "execution_count": null,
   "id": "4c50ae10",
   "metadata": {},
   "outputs": [],
   "source": []
  },
  {
   "cell_type": "code",
   "execution_count": null,
   "id": "58f745f0",
   "metadata": {},
   "outputs": [],
   "source": []
  },
  {
   "cell_type": "code",
   "execution_count": null,
   "id": "1dc66687",
   "metadata": {},
   "outputs": [],
   "source": []
  },
  {
   "cell_type": "code",
   "execution_count": null,
   "id": "5a90b60b",
   "metadata": {},
   "outputs": [],
   "source": []
  }
 ],
 "metadata": {
  "kernelspec": {
   "display_name": "Python 3 (ipykernel)",
   "language": "python",
   "name": "python3"
  },
  "language_info": {
   "codemirror_mode": {
    "name": "ipython",
    "version": 3
   },
   "file_extension": ".py",
   "mimetype": "text/x-python",
   "name": "python",
   "nbconvert_exporter": "python",
   "pygments_lexer": "ipython3",
   "version": "3.9.12"
  }
 },
 "nbformat": 4,
 "nbformat_minor": 5
}
