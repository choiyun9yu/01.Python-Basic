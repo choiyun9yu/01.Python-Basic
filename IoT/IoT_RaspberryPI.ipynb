{
 "cells": [
  {
   "cell_type": "markdown",
   "id": "f3fb404c",
   "metadata": {},
   "source": [
    "라즈베리파이 \n",
    "-장점: 모니터연결, os선택가능, 영상처리, 복잡한 연산가능\n",
    "-단점: Raspbian라즈비안(리눅스기반지식필요), 호환 모듈 부족\n",
    "\n",
    "아두이노\n",
    "-장점: 저전력, 호환부품많음   \n",
    "-단점: 복잡한 연산 처리 어려움\n",
    "라즈베리파이 40개 핀  GPIO핀 하드웨어 설계당시에 디지털 입출력 용도로 제작된 핀 (제너럴펄포스 인풋 아웃풋)"
   ]
  },
  {
   "cell_type": "code",
   "execution_count": null,
   "id": "ed45fe7c",
   "metadata": {},
   "outputs": [],
   "source": [
    "# GPIO 18번 핀에 LED가 연결되어 있다.\n",
    "# 단, 긴 다리 : GPIO 18, 짧은 다리:GND\n",
    "\n",
    "import RPi.GPIO as gp\n",
    "\n",
    "gp.setmode(gp.BCM)   # index를 NAME 태그 사용하겠다. / NAME인덱스(BCM모드), Pin#(보드모드)\n",
    "gp.setup(led_pin, gp.OUT)   #  led_pin을 출력모드로!! 엑츄에이터\n",
    "\n",
    "gp.output(led_pin, gp.HIGH)"
   ]
  },
  {
   "cell_type": "code",
   "execution_count": 1,
   "id": "a21a71cc",
   "metadata": {},
   "outputs": [
    {
     "name": "stdout",
     "output_type": "stream",
     "text": [
      " * Serving Flask app \"__main__\" (lazy loading)\n",
      " * Environment: production\n",
      "\u001b[31m   WARNING: This is a development server. Do not use it in a production deployment.\u001b[0m\n",
      "\u001b[2m   Use a production WSGI server instead.\u001b[0m\n",
      " * Debug mode: off\n"
     ]
    },
    {
     "name": "stderr",
     "output_type": "stream",
     "text": [
      " * Running on http://127.0.0.1:5000/ (Press CTRL+C to quit)\n",
      "127.0.0.1 - - [24/Oct/2022 14:23:46] \"GET / HTTP/1.1\" 200 -\n",
      "127.0.0.1 - - [24/Oct/2022 14:23:47] \"GET /favicon.ico HTTP/1.1\" 404 -\n"
     ]
    }
   ],
   "source": [
    "# Flask server\n",
    "# root page에 \"hellow world\"\n",
    "\n",
    "from flask import Flask\n",
    "\n",
    "app = Flask(__name__)\n",
    "\n",
    "@app.route('/')\n",
    "def index():\n",
    "    return 'hellow world'\n",
    "\n",
    "if __name__ == '__main__':   # 인터프린터에서 직접 실행했을 경우에만 if문 내의 코드 실행하라는 명령\n",
    "    app.run()"
   ]
  },
  {
   "cell_type": "code",
   "execution_count": 7,
   "id": "be004b72",
   "metadata": {},
   "outputs": [
    {
     "name": "stdout",
     "output_type": "stream",
     "text": [
      " * Serving Flask app \"__main__\" (lazy loading)\n",
      " * Environment: production\n",
      "\u001b[31m   WARNING: This is a development server. Do not use it in a production deployment.\u001b[0m\n",
      "\u001b[2m   Use a production WSGI server instead.\u001b[0m\n",
      " * Debug mode: off\n"
     ]
    },
    {
     "name": "stderr",
     "output_type": "stream",
     "text": [
      " * Running on http://127.0.0.1:5000/ (Press CTRL+C to quit)\n",
      "127.0.0.1 - - [24/Oct/2022 16:33:19] \"GET / HTTP/1.1\" 200 -\n",
      "127.0.0.1 - - [24/Oct/2022 16:33:23] \"GET /led/on HTTP/1.1\" 1 -\n",
      "127.0.0.1 - - [24/Oct/2022 16:33:26] \"GET /led/off HTTP/1.1\" 0 -\n"
     ]
    }
   ],
   "source": [
    "from flask import Flask\n",
    "\n",
    "app = Flask(__name__)\n",
    "\n",
    "led = ''\n",
    "\n",
    "@app.route('/')\n",
    "def index():\n",
    "    return 'hellow world'\n",
    "\n",
    "@app.route('/led/on')\n",
    "def led_on():\n",
    "    global led\n",
    "    led = 1\n",
    "    return 'LED ON', led\n",
    "\n",
    "@app.route('/led/off')\n",
    "def led_off():\n",
    "    global led\n",
    "    led = 0\n",
    "    return 'LED OFF',led\n",
    "\n",
    "if __name__ == '__main__': \n",
    "    app.run()"
   ]
  },
  {
   "cell_type": "code",
   "execution_count": null,
   "id": "2aa87291",
   "metadata": {},
   "outputs": [],
   "source": []
  },
  {
   "cell_type": "code",
   "execution_count": null,
   "id": "cb603481",
   "metadata": {},
   "outputs": [],
   "source": []
  },
  {
   "cell_type": "code",
   "execution_count": null,
   "id": "af5ab3e8",
   "metadata": {},
   "outputs": [],
   "source": []
  },
  {
   "cell_type": "code",
   "execution_count": null,
   "id": "93213330",
   "metadata": {},
   "outputs": [],
   "source": []
  },
  {
   "cell_type": "code",
   "execution_count": null,
   "id": "8ab23eb3",
   "metadata": {},
   "outputs": [],
   "source": []
  },
  {
   "cell_type": "code",
   "execution_count": null,
   "id": "e5b184d8",
   "metadata": {},
   "outputs": [],
   "source": []
  },
  {
   "cell_type": "code",
   "execution_count": null,
   "id": "5e4df8e6",
   "metadata": {},
   "outputs": [],
   "source": []
  }
 ],
 "metadata": {
  "kernelspec": {
   "display_name": "Python 3 (ipykernel)",
   "language": "python",
   "name": "python3"
  },
  "language_info": {
   "codemirror_mode": {
    "name": "ipython",
    "version": 3
   },
   "file_extension": ".py",
   "mimetype": "text/x-python",
   "name": "python",
   "nbconvert_exporter": "python",
   "pygments_lexer": "ipython3",
   "version": "3.9.12"
  },
  "toc": {
   "base_numbering": 1,
   "nav_menu": {},
   "number_sections": true,
   "sideBar": true,
   "skip_h1_title": false,
   "title_cell": "Table of Contents",
   "title_sidebar": "Contents",
   "toc_cell": false,
   "toc_position": {},
   "toc_section_display": true,
   "toc_window_display": false
  }
 },
 "nbformat": 4,
 "nbformat_minor": 5
}
