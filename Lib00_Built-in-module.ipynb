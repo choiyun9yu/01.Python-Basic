{
 "cells": [
  {
   "cell_type": "markdown",
   "metadata": {},
   "source": [
    "## 파일 읽고 쓰기"
   ]
  },
  {
   "cell_type": "code",
   "execution_count": null,
   "metadata": {},
   "outputs": [],
   "source": [
    "f=open(\"파일이름.확장자\", \"열기모드\")\n",
    "# 열기모드\n",
    "## r : 읽기모드\n",
    "## w : 쓰기모드(없으면 새로 만들고 있으면 내용지우고 다시 씀)\n",
    "## a : 추가모드\n",
    "## wb, rb,: b가 붙으면 바이너리\n",
    "\n",
    "f.write('쓸내용')\n",
    "f.readline()\n",
    "f.readlines()\n",
    "f.read()\n",
    "f.close()\n",
    "\n",
    "# with문 : with블록을 벗어난 순간 자동으로 닫아준다.\n",
    "with open(\"파일이름.확장자\", \"열기모드\") as f:\n",
    "    f.write('쓸내용')"
   ]
  },
  {
   "cell_type": "markdown",
   "metadata": {},
   "source": [
    "## os"
   ]
  },
  {
   "cell_type": "code",
   "execution_count": null,
   "metadata": {},
   "outputs": [],
   "source": [
    "import os\n",
    "\n",
    "# 디렉토리 위치변경\n",
    "os.chdir(\"경로\")\n",
    "\n",
    "# 디렉토리 위치 돌려받기\n",
    "os.getcwd()\n",
    "\n",
    "# 시스템 명령어 호출하기\n",
    "os.system(\"시스템 명령어\")\n",
    "\n",
    "# 디렉토리 생성\n",
    "os.mkdir(디렉토리)\n",
    "\n",
    "# 디렉토리 삭제(비어있어야 가능)\n",
    "os.rmdir(디렉토리)\n",
    "\n",
    "# 파일 지우기\n",
    "os.unlink(파일이름)\n",
    "\n",
    "# 이름 바꾸기\n",
    "os.rename(바꾸기전파일이름, 바꾸후파일이름)"
   ]
  },
  {
   "cell_type": "markdown",
   "metadata": {},
   "source": [
    "## sys"
   ]
  },
  {
   "cell_type": "code",
   "execution_count": null,
   "metadata": {},
   "outputs": [],
   "source": [
    "import sys\n",
    "\n",
    "# 강제 스크립트 종료\n",
    "sys.exit()\n",
    "\n",
    "# 모듈 저장 위치\n",
    "sys.path\n",
    "\n",
    "# 모듈 경로 추가\n",
    "sys.path.append('/경로')"
   ]
  },
  {
   "cell_type": "markdown",
   "metadata": {},
   "source": [
    "## path"
   ]
  },
  {
   "cell_type": "code",
   "execution_count": null,
   "metadata": {},
   "outputs": [],
   "source": []
  },
  {
   "attachments": {},
   "cell_type": "markdown",
   "metadata": {},
   "source": [
    "## glob"
   ]
  },
  {
   "cell_type": "code",
   "execution_count": null,
   "metadata": {},
   "outputs": [],
   "source": [
    "import glob\n",
    "\n",
    "# 디렉토리에 있는 파일이름 리스트로 만들기\n",
    "glob.glob(\"경로\")\n",
    "\n",
    "# (예제) : glob.glob(c:/.../파일이름*)\n",
    "# * : 메타문자로 파일이름이 들어간 파일을 다 담아준다"
   ]
  },
  {
   "attachments": {},
   "cell_type": "markdown",
   "metadata": {},
   "source": [
    "## shutil"
   ]
  },
  {
   "cell_type": "code",
   "execution_count": null,
   "metadata": {},
   "outputs": [],
   "source": [
    "import shutil\n",
    "\n",
    "# 파일 복사\n",
    "shutil.copy(\"복사될파일이름\",\"복사된파일이름\")"
   ]
  },
  {
   "attachments": {},
   "cell_type": "markdown",
   "metadata": {},
   "source": [
    "## random"
   ]
  },
  {
   "cell_type": "code",
   "execution_count": null,
   "metadata": {},
   "outputs": [],
   "source": [
    "import random\n",
    "\n",
    "# 0이상 1미만의 난수 생성\n",
    "random.random()\n",
    "\n",
    "# 범위 내 정수인 난수 생성\n",
    "random.randint(start, stop)\n",
    "\n",
    "# low에서 high까지 step더해간 범위 내에서 정수 난수 생성 (수열에서 난수 뽑는 느낌)\n",
    "random.randrange(low, hight, step)"
   ]
  },
  {
   "cell_type": "markdown",
   "metadata": {},
   "source": [
    "## pickle"
   ]
  },
  {
   "cell_type": "code",
   "execution_count": null,
   "metadata": {},
   "outputs": [],
   "source": [
    "import pickle\n",
    "\n",
    "# 객체 저장\n",
    "pickle.dump(객체, f)\n",
    "\n",
    "# 객체 로드\n",
    "pickle.load(f)\n",
    "\n",
    "# (예제)저장하기\n",
    "with open(\"file_path1\", \"wb\") as f:\n",
    "    pickle.dump(객체1,f)\n",
    "with open(\"file_path2\", \"wb\") as f:\n",
    "    pickle.dump(객체2,f)\n",
    "\n",
    "# (예제)불러오기\n",
    "with open(\"file_path1\", \"wb\") as f:\n",
    "    pickle.load(f)\n",
    "with open(\"file_path2\", \"wb\") as f:\n",
    "    pickle.load(f)"
   ]
  },
  {
   "cell_type": "code",
   "execution_count": null,
   "metadata": {},
   "outputs": [],
   "source": []
  },
  {
   "cell_type": "code",
   "execution_count": null,
   "metadata": {},
   "outputs": [],
   "source": []
  }
 ],
 "metadata": {
  "kernelspec": {
   "display_name": "Python 3",
   "language": "python",
   "name": "python3"
  },
  "language_info": {
   "codemirror_mode": {
    "name": "ipython",
    "version": 3
   },
   "file_extension": ".py",
   "mimetype": "text/x-python",
   "name": "python",
   "nbconvert_exporter": "python",
   "pygments_lexer": "ipython3",
   "version": "3.10.5"
  },
  "orig_nbformat": 4,
  "vscode": {
   "interpreter": {
    "hash": "aee8b7b246df8f9039afb4144a1f6fd8d2ca17a180786b69acc140d282b71a49"
   }
  }
 },
 "nbformat": 4,
 "nbformat_minor": 2
}
