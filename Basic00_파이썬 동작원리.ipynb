{
 "cells": [
  {
   "attachments": {},
   "cell_type": "markdown",
   "metadata": {},
   "source": [
    "## 파이썬은 Call by reference? Call by value?\n",
    "- 두 방식은 함수의 인자 전달 방식이다. 각각 어떤 타입을 전달하느냐에 차이를 둔다."
   ]
  },
  {
   "attachments": {},
   "cell_type": "markdown",
   "metadata": {},
   "source": [
    "### Call by value : 변수를 복사한 값을 전달하는 방식\n",
    "- 함수의 인자를 받을 때, 변수에 담긴 값 자체를 stack에다가 복사하여 넘겨준다.  \n",
    "예를 들어 변수 a가 있고 함수 def1이 있을때,  \n",
    "def1(a)에서 전달받은 a는 a자체(주소 값)가 아니라 a의 복사 값, 레플리카이다.  \n",
    "- 따라서 함수 내에서 해당 인자를 조작하여 바꾸었다고 해도 원본 변수 a는 변하지 않는다.\n",
    "  \n",
    "- 원본을 건드리지 않아 안전하지만, 함수의 사용으로 해당 전역 변수를 바꾸고 싶을 때는  \n",
    "리턴 값을 다시 전역변수로 집어넣어야하는 번거로움과 시간 사용의 단점이 있다. "
   ]
  },
  {
   "attachments": {},
   "cell_type": "markdown",
   "metadata": {},
   "source": [
    "### Call by reference : 인자로 받은 변수의 주소 값을 전달하는 방식\n",
    "- 함수의 인자를 받을 때, 변수가 가리키는 주소 값을 전달한다.  \n",
    "  \n",
    "- 따라서 함수 내에서 해당 인자를 조작하면 원본 변수의 주소 값으로 타고 들어가 해당 값 자체를 바꿔버린다.  \n",
    "- 전역 변수의 즉각적인 변경이 가능하지만, 부주의하면 변수를 잘못 조작해 프로그램에 문제를 야기할 수 있다."
   ]
  },
  {
   "attachments": {},
   "cell_type": "markdown",
   "metadata": {},
   "source": [
    "### Call by assignment(=Call by object-reference) : 파이썬의 함수 인자 전달방식\n",
    "- 공식문서에 따르면 파이썬은  \n",
    "  Immutable Object의 경우에는 Call by value의 형태로 변수를 핸들링하고,  \n",
    "  Mutable Object의 경우에는 Call by reference의 형태로 다룬다.  \n",
    "  "
   ]
  },
  {
   "attachments": {},
   "cell_type": "markdown",
   "metadata": {},
   "source": [
    "## Immutable 한 포맷 객체와 Mutable한 포맷 객체\n",
    "- Immutable : tuple, str, int 등 불가변적인 포맷 \n",
    "  \n",
    "- Mutable : list, dictionary, set 등 가변적인 포맷"
   ]
  },
  {
   "cell_type": "code",
   "execution_count": 33,
   "metadata": {},
   "outputs": [
    {
     "name": "stdout",
     "output_type": "stream",
     "text": [
      "global : 10\n",
      "함수호출\n",
      " local : 12\n",
      "global : 10\n",
      "------------\n",
      "global : []\n",
      "함수호출\n",
      " local : [1]\n",
      "global : [1]\n"
     ]
    }
   ],
   "source": [
    "def exam1(a):\n",
    "    a += 2\n",
    "    print(f\" local : {str(a)}\")\n",
    "    return a\n",
    "\n",
    "def exam2(a):\n",
    "    a.append(1)\n",
    "    print(f\" local : {str(a)}\")\n",
    "    return a\n",
    "    \n",
    "b = 10\n",
    "print(f\"global : {b}\")\n",
    "print('함수호출')\n",
    "exam1(b)\n",
    "print(f\"global : {b}\")\n",
    "\n",
    "print('-'*12)\n",
    "\n",
    "c = []\n",
    "print(f\"global : {c}\")\n",
    "print('함수호출')\n",
    "exam2(c)\n",
    "print(f\"global : {c}\")"
   ]
  },
  {
   "attachments": {},
   "cell_type": "markdown",
   "metadata": {},
   "source": [
    "- exam1 함수의 경우 int형을 핸들링 하기 때문에 Call by value로 새로 변수를 할당해서 처리하는 모습을 보여준다.\n",
    "  \n",
    "- exam2 함수의 경우 list를 핸들링 하기 때문에 Cally by reference로 전달받은 객체를 직접 변경하는 모습을 보여준다."
   ]
  },
  {
   "cell_type": "code",
   "execution_count": null,
   "metadata": {},
   "outputs": [],
   "source": []
  },
  {
   "cell_type": "code",
   "execution_count": null,
   "metadata": {},
   "outputs": [],
   "source": []
  },
  {
   "cell_type": "code",
   "execution_count": null,
   "metadata": {},
   "outputs": [],
   "source": []
  },
  {
   "cell_type": "code",
   "execution_count": null,
   "metadata": {},
   "outputs": [],
   "source": []
  }
 ],
 "metadata": {
  "kernelspec": {
   "display_name": "Python 3",
   "language": "python",
   "name": "python3"
  },
  "language_info": {
   "codemirror_mode": {
    "name": "ipython",
    "version": 3
   },
   "file_extension": ".py",
   "mimetype": "text/x-python",
   "name": "python",
   "nbconvert_exporter": "python",
   "pygments_lexer": "ipython3",
   "version": "3.10.5"
  },
  "orig_nbformat": 4,
  "vscode": {
   "interpreter": {
    "hash": "aee8b7b246df8f9039afb4144a1f6fd8d2ca17a180786b69acc140d282b71a49"
   }
  }
 },
 "nbformat": 4,
 "nbformat_minor": 2
}
