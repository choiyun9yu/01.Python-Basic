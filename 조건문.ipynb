{
 "cells": [
  {
   "cell_type": "code",
   "execution_count": 2,
   "id": "dc9f5c48",
   "metadata": {},
   "outputs": [
    {
     "name": "stdout",
     "output_type": "stream",
     "text": [
      "실행문장 실행\n"
     ]
    }
   ],
   "source": [
    "if True:\n",
    "    print(\"실행문장 실행\")\n",
    "    "
   ]
  },
  {
   "cell_type": "code",
   "execution_count": 4,
   "id": "767538f9",
   "metadata": {},
   "outputs": [],
   "source": [
    "if False:\n",
    "    print(\"실행문장 실행\")"
   ]
  },
  {
   "cell_type": "code",
   "execution_count": 11,
   "id": "14e177f2",
   "metadata": {},
   "outputs": [
    {
     "name": "stdout",
     "output_type": "stream",
     "text": [
      "실행문장 실행\n",
      "if문 밖에 있는 실행문장\n"
     ]
    }
   ],
   "source": [
    "if True:\n",
    "    print(\"실행문장 실행\")\n",
    "print(\"if문 밖에 있는 실행문장\")"
   ]
  },
  {
   "cell_type": "code",
   "execution_count": 7,
   "id": "debc641a",
   "metadata": {},
   "outputs": [
    {
     "name": "stdout",
     "output_type": "stream",
     "text": [
      "if문 밖에 있는 실행문장\n"
     ]
    }
   ],
   "source": [
    "if False:\n",
    "    print(\"실행문장 실행\")\n",
    "print(\"if문 밖에 있는 실행문장\")"
   ]
  },
  {
   "cell_type": "code",
   "execution_count": 16,
   "id": "5eb4225e",
   "metadata": {},
   "outputs": [],
   "source": [
    "money = 10000\n",
    "if money>10000:\n",
    "    print(\"택시를 탄다\")\n"
   ]
  },
  {
   "cell_type": "code",
   "execution_count": 20,
   "id": "6707d33d",
   "metadata": {},
   "outputs": [
    {
     "name": "stdout",
     "output_type": "stream",
     "text": [
      "9999\n",
      "버스를 탄다.\n"
     ]
    }
   ],
   "source": [
    "money = int(input())\n",
    "\n",
    "if money >= 10000:\n",
    "    print(\"택시를 탄다.\")\n",
    "else:\n",
    "    print(\"버스를 탄다.\")"
   ]
  },
  {
   "cell_type": "code",
   "execution_count": 21,
   "id": "04d0d091",
   "metadata": {},
   "outputs": [
    {
     "name": "stdout",
     "output_type": "stream",
     "text": [
      "10000\n",
      "택시를 탄다\n"
     ]
    }
   ],
   "source": [
    "money = int(input())\n",
    "\n",
    "print(\"택시를 탄다\")if money>=10000 else print(\"버스를 탄다\")"
   ]
  },
  {
   "cell_type": "code",
   "execution_count": 26,
   "id": "dc8dff2c",
   "metadata": {},
   "outputs": [
    {
     "name": "stdout",
     "output_type": "stream",
     "text": [
      "정수 입력 >> 30\n",
      "3과 5의 배수입니다.\n"
     ]
    }
   ],
   "source": [
    "num = int(input(\"정수 입력 >> \"))\n",
    "\n",
    "if num%3 == 0 and num%5 == 0:\n",
    "    print(\"3과 5의 배수입니다.\")\n",
    "else:\n",
    "    print(\"3과 5의 배수가 아닙니다.\")"
   ]
  },
  {
   "cell_type": "code",
   "execution_count": 67,
   "id": "7b4a8eef",
   "metadata": {
    "scrolled": true
   },
   "outputs": [
    {
     "name": "stdout",
     "output_type": "stream",
     "text": [
      "주민등록번호 뒷자리 입력 >> 23456\n",
      "당신은 여자입니다.\n"
     ]
    }
   ],
   "source": [
    "num = input(\"주민등록번호 뒷자리 입력 >> \")\n",
    "\n",
    "if num[0]=='1' or num[0]=='3':\n",
    "    print(\"당신은 남자입니다.\")\n",
    "else:\n",
    "    print(\"당신은 여자입니다.\")"
   ]
  },
  {
   "cell_type": "code",
   "execution_count": 71,
   "id": "58c4a5f9",
   "metadata": {},
   "outputs": [
    {
     "name": "stdout",
     "output_type": "stream",
     "text": [
      "주민등록번호 뒷자리 입력 >> 2345678\n",
      "당신은 여자입니다.\n"
     ]
    }
   ],
   "source": [
    "num = int(input(\"주민등록번호 뒷자리 입력 >> \"))\n",
    "\n",
    "if num//1000000 == 1 or num//1000000 == 3:\n",
    "    print(\"당신은 남자입니다.\")\n",
    "else:\n",
    "    print(\"당신은 여자입니다.\")"
   ]
  },
  {
   "cell_type": "code",
   "execution_count": 79,
   "id": "c7e5971a",
   "metadata": {},
   "outputs": [
    {
     "name": "stdout",
     "output_type": "stream",
     "text": [
      "이름 입력 >> 성우\n",
      "나이 입력 >> 20\n",
      "카드 소지 여부(소지, 미소지) >> 소지\n",
      "성우님은 입장료 24500원에 예약되셨습니다.\n"
     ]
    }
   ],
   "source": [
    "a1 = input(\"이름 입력 >> \")\n",
    "a2 = int(input(\"나이 입력 >> \"))\n",
    "a3 = input(\"카드 소지 여부(소지, 미소지) >> \")\n",
    "fare = 35000\n",
    "\n",
    "if a2 >= 19:   #성인\n",
    "    if a3 == '소지':\n",
    "        fare = fare*0.7\n",
    "        \n",
    "else:   #미짜\n",
    "    fare = fare*0.5\n",
    "    if a3 == '소지':\n",
    "        fare = fare*0.9\n",
    "\n",
    "print(f\"{a1}님은 입장료 {int(fare)}원에 예약되셨습니다.\")\n"
   ]
  },
  {
   "cell_type": "code",
   "execution_count": 80,
   "id": "cab7ecb1",
   "metadata": {},
   "outputs": [
    {
     "name": "stdout",
     "output_type": "stream",
     "text": [
      "이름 입력 >> 성우\n",
      "나이 입력 >> 28\n",
      "카드 소지 여부(소지, 미소지) >> 미소지\n",
      "성우님은 입장료 35000원에 예약되셨습니다.\n"
     ]
    }
   ],
   "source": [
    "a1 = input(\"이름 입력 >> \")\n",
    "a2 = int(input(\"나이 입력 >> \"))\n",
    "a3 = input(\"카드 소지 여부(소지, 미소지) >> \")\n",
    "fare = 35000\n",
    "\n",
    "if a2 >= 19:   #성인\n",
    "    if a3 == '소지':\n",
    "        fare = fare*0.7\n",
    "        \n",
    "else:   #미짜\n",
    "    fare = fare*0.5\n",
    "    if a3 == '소지':\n",
    "        fare = fare*0.9\n",
    "\n",
    "print(f\"{a1}님은 입장료 {int(fare)}원에 예약되셨습니다.\")"
   ]
  },
  {
   "cell_type": "code",
   "execution_count": 81,
   "id": "fb97819f",
   "metadata": {},
   "outputs": [
    {
     "name": "stdout",
     "output_type": "stream",
     "text": [
      "이름 입력 >> 성우\n",
      "나이 입력 >> 18\n",
      "카드 소지 여부(소지, 미소지) >> 소지\n",
      "성우님은 입장료 15750원에 예약되셨습니다.\n"
     ]
    }
   ],
   "source": [
    "a1 = input(\"이름 입력 >> \")\n",
    "a2 = int(input(\"나이 입력 >> \"))\n",
    "a3 = input(\"카드 소지 여부(소지, 미소지) >> \")\n",
    "fare = 35000\n",
    "\n",
    "if a2 >= 19:   #성인\n",
    "    if a3 == '소지':\n",
    "        fare = fare*0.7\n",
    "        \n",
    "else:   #미짜\n",
    "    fare = fare*0.5\n",
    "    if a3 == '소지':\n",
    "        fare = fare*0.9\n",
    "\n",
    "print(f\"{a1}님은 입장료 {int(fare)}원에 예약되셨습니다.\")"
   ]
  },
  {
   "cell_type": "code",
   "execution_count": 82,
   "id": "36292647",
   "metadata": {},
   "outputs": [
    {
     "name": "stdout",
     "output_type": "stream",
     "text": [
      "이름 입력 >> 성우\n",
      "나이 입력 >> 15\n",
      "카드 소지 여부(소지, 미소지) >> 미소지\n",
      "성우님은 입장료 17500원에 예약되셨습니다.\n"
     ]
    }
   ],
   "source": [
    "a1 = input(\"이름 입력 >> \")\n",
    "a2 = int(input(\"나이 입력 >> \"))\n",
    "a3 = input(\"카드 소지 여부(소지, 미소지) >> \")\n",
    "fare = 35000\n",
    "\n",
    "if a2 >= 19:   #성인\n",
    "    if a3 == '소지':\n",
    "        fare = fare*0.7\n",
    "        \n",
    "else:   #미짜\n",
    "    fare = fare*0.5\n",
    "    if a3 == '소지':\n",
    "        fare = fare*0.9\n",
    "\n",
    "print(f\"{a1}님은 입장료 {int(fare)}원에 예약되셨습니다.\")"
   ]
  },
  {
   "cell_type": "code",
   "execution_count": 96,
   "id": "8d1fbb9d",
   "metadata": {},
   "outputs": [
    {
     "name": "stdout",
     "output_type": "stream",
     "text": [
      "마스크 개수 입력 >> 17\n",
      "8개들이 포장지 개수 : 2\n",
      "5개들이 포장지 개수 : 1\n"
     ]
    }
   ],
   "source": [
    "mask = int(input(\"마스크 개수 입력 >> \"))\n",
    "pk8 = 0\n",
    "pk5 = 0\n",
    "\n",
    "if mask//8 >= 1:\n",
    "    pk8+=(mask//8)\n",
    "    pk5+=(mask%8)//5     \n",
    "    if mask%8%5 >0:\n",
    "        pk5 += 1\n",
    "    \n",
    "else:\n",
    "    pk5+=(mask%8)//5\n",
    "    if mask%8%5 >0:\n",
    "        pk5 += 1\n",
    "\n",
    "print(\"8개들이 포장지 개수 :\", pk8)\n",
    "print(\"5개들이 포장지 개수 :\", pk5)"
   ]
  },
  {
   "cell_type": "code",
   "execution_count": 97,
   "id": "4776d996",
   "metadata": {},
   "outputs": [
    {
     "name": "stdout",
     "output_type": "stream",
     "text": [
      "마스크 개수 입력 >> 15\n",
      "8개들이 포장지 개수 : 1\n",
      "5개들이 포장지 개수 : 2\n"
     ]
    }
   ],
   "source": [
    "mask = int(input(\"마스크 개수 입력 >> \"))\n",
    "pk8 = 0\n",
    "pk5 = 0\n",
    "\n",
    "if mask//8 >= 1:\n",
    "    pk8+=(mask//8)\n",
    "    pk5+=(mask%8)//5     \n",
    "    if mask%8%5 >0:\n",
    "        pk5 += 1\n",
    "    \n",
    "else:\n",
    "    pk5+=(mask%8)//5\n",
    "    if mask%8%5 >0:\n",
    "        pk5 += 1\n",
    "\n",
    "print(\"8개들이 포장지 개수 :\", pk8)\n",
    "print(\"5개들이 포장지 개수 :\", pk5)"
   ]
  },
  {
   "cell_type": "code",
   "execution_count": 98,
   "id": "c82e8101",
   "metadata": {},
   "outputs": [
    {
     "name": "stdout",
     "output_type": "stream",
     "text": [
      "마스크 개수 입력 >> 4\n",
      "8개들이 포장지 개수 : 0\n",
      "5개들이 포장지 개수 : 1\n"
     ]
    }
   ],
   "source": [
    "mask = int(input(\"마스크 개수 입력 >> \"))\n",
    "pk8 = 0\n",
    "pk5 = 0\n",
    "\n",
    "if mask//8 >= 1:\n",
    "    pk8+=(mask//8)\n",
    "    pk5+=(mask%8)//5     \n",
    "    if mask%8%5 >0:\n",
    "        pk5 += 1\n",
    "    \n",
    "else:\n",
    "    pk5+=(mask%8)//5\n",
    "    if mask%8%5 >0:\n",
    "        pk5 += 1\n",
    "\n",
    "print(\"8개들이 포장지 개수 :\", pk8)\n",
    "print(\"5개들이 포장지 개수 :\", pk5)"
   ]
  },
  {
   "cell_type": "code",
   "execution_count": 100,
   "id": "38ef1c94",
   "metadata": {},
   "outputs": [
    {
     "name": "stdout",
     "output_type": "stream",
     "text": [
      "첫 번째 정수 입력 >> 5\n",
      "두 번째 정수 입력 >> 3\n",
      "첫 번째 정수가 더 큽니다.\n"
     ]
    }
   ],
   "source": [
    "num1 = int(input(\"첫 번째 정수 입력 >> \"))\n",
    "num2 = int(input(\"두 번째 정수 입력 >> \"))\n",
    "\n",
    "if num1>num2:\n",
    "    print(\"첫 번째 정수가 더 큽니다.\")\n",
    "\n",
    "elif num2>num1:\n",
    "    print(\"두 번째 정수가 더 큽니다.\")\n",
    "\n",
    "else:\n",
    "    print(\"두 수가 똑같습니다.\")\n"
   ]
  },
  {
   "cell_type": "code",
   "execution_count": 101,
   "id": "ba722b02",
   "metadata": {},
   "outputs": [
    {
     "name": "stdout",
     "output_type": "stream",
     "text": [
      "첫 번째 정수 입력 >> 7\n",
      "두 번째 정수 입력 >> 13\n",
      "두 번째 정수가 더 큽니다.\n"
     ]
    }
   ],
   "source": [
    "num1 = int(input(\"첫 번째 정수 입력 >> \"))\n",
    "num2 = int(input(\"두 번째 정수 입력 >> \"))\n",
    "\n",
    "if num1>num2:\n",
    "    print(\"첫 번째 정수가 더 큽니다.\")\n",
    "\n",
    "elif num2>num1:\n",
    "    print(\"두 번째 정수가 더 큽니다.\")\n",
    "\n",
    "else:\n",
    "    print(\"두 수가 똑같습니다.\")"
   ]
  },
  {
   "cell_type": "code",
   "execution_count": 102,
   "id": "03b3c7e8",
   "metadata": {},
   "outputs": [
    {
     "name": "stdout",
     "output_type": "stream",
     "text": [
      "첫 번째 정수 입력 >> 7\n",
      "두 번째 정수 입력 >> 7\n",
      "두 수가 똑같습니다.\n"
     ]
    }
   ],
   "source": [
    "num1 = int(input(\"첫 번째 정수 입력 >> \"))\n",
    "num2 = int(input(\"두 번째 정수 입력 >> \"))\n",
    "\n",
    "if num1>num2:\n",
    "    print(\"첫 번째 정수가 더 큽니다.\")\n",
    "\n",
    "elif num2>num1:\n",
    "    print(\"두 번째 정수가 더 큽니다.\")\n",
    "\n",
    "else:\n",
    "    print(\"두 수가 똑같습니다.\")"
   ]
  },
  {
   "cell_type": "code",
   "execution_count": 106,
   "id": "90b9ff1a",
   "metadata": {},
   "outputs": [
    {
     "name": "stdout",
     "output_type": "stream",
     "text": [
      "점수 입력 >> 98\n",
      "98점은 A학점 입니다.\n"
     ]
    }
   ],
   "source": [
    "score = int(input(\"점수 입력 >> \"))\n",
    "\n",
    "if 100>= score and score >= 90:\n",
    "    print(f'{score}점은 A학점 입니다.')\n",
    "elif 90>score and score >=80:\n",
    "    print(f'{score}점은 B학점 입니다.')\n",
    "elif 80>score and score >=70:\n",
    "    print(f'{score}점은 C학점 입니다.')\n",
    "elif 70>score and score >=60:\n",
    "    print(f'{score}점은 D학점 입니다.')\n",
    "else:\n",
    "    print(f'{score}점은 F학점 입니다.')"
   ]
  },
  {
   "cell_type": "code",
   "execution_count": 107,
   "id": "e08fa7ce",
   "metadata": {},
   "outputs": [
    {
     "name": "stdout",
     "output_type": "stream",
     "text": [
      "점수 입력 >> 70\n",
      "70점은 C학점 입니다.\n"
     ]
    }
   ],
   "source": [
    "score = int(input(\"점수 입력 >> \"))\n",
    "\n",
    "if 100>= score and score >= 90:\n",
    "    print(f'{score}점은 A학점 입니다.')\n",
    "elif 90>score and score >=80:\n",
    "    print(f'{score}점은 B학점 입니다.')\n",
    "elif 80>score and score >=70:\n",
    "    print(f'{score}점은 C학점 입니다.')\n",
    "elif 70>score and score >=60:\n",
    "    print(f'{score}점은 D학점 입니다.')\n",
    "else:\n",
    "    print(f'{score}점은 F학점 입니다.')"
   ]
  },
  {
   "cell_type": "code",
   "execution_count": 108,
   "id": "2249773c",
   "metadata": {},
   "outputs": [
    {
     "name": "stdout",
     "output_type": "stream",
     "text": [
      "점수 입력 >> 36\n",
      "36점은 F학점 입니다.\n"
     ]
    }
   ],
   "source": [
    "score = int(input(\"점수 입력 >> \"))\n",
    "\n",
    "if 100>= score and score >= 90:\n",
    "    print(f'{score}점은 A학점 입니다.')\n",
    "elif 90>score and score >=80:\n",
    "    print(f'{score}점은 B학점 입니다.')\n",
    "elif 80>score and score >=70:\n",
    "    print(f'{score}점은 C학점 입니다.')\n",
    "elif 70>score and score >=60:\n",
    "    print(f'{score}점은 D학점 입니다.')\n",
    "else:\n",
    "    print(f'{score}점은 F학점 입니다.')"
   ]
  },
  {
   "cell_type": "code",
   "execution_count": 112,
   "id": "949b22fe",
   "metadata": {},
   "outputs": [
    {
     "name": "stdout",
     "output_type": "stream",
     "text": [
      "x값을 입력하세요 : -12\n",
      "y값을 입력하세요 : 5\n",
      "좌표(-12,5)는 2사분면 입니다.\n"
     ]
    }
   ],
   "source": [
    "x = int(input('x값을 입력하세요 : '))\n",
    "y = int(input('y값을 입력하세요 : '))\n",
    "\n",
    "if x > 0 :\n",
    "    if y>0 :\n",
    "        qu = 1\n",
    "    else:\n",
    "        qu = 4\n",
    "else:\n",
    "    if y>0:\n",
    "        qu = 2\n",
    "    else:\n",
    "        qu = 3\n",
    "\n",
    "print(f\"좌표({x},{y})는 {qu}사분면 입니다.\")"
   ]
  },
  {
   "cell_type": "code",
   "execution_count": 113,
   "id": "859ac2ab",
   "metadata": {},
   "outputs": [
    {
     "name": "stdout",
     "output_type": "stream",
     "text": [
      "x값을 입력하세요 : 12\n",
      "y값을 입력하세요 : 5\n",
      "좌표(12,5)는 1사분면 입니다.\n"
     ]
    }
   ],
   "source": [
    "x = int(input('x값을 입력하세요 : '))\n",
    "y = int(input('y값을 입력하세요 : '))\n",
    "\n",
    "if x > 0 :\n",
    "    if y>0 :\n",
    "        qu = 1\n",
    "    else:\n",
    "        qu = 4\n",
    "else:\n",
    "    if y>0:\n",
    "        qu = 2\n",
    "    else:\n",
    "        qu = 3\n",
    "\n",
    "print(f\"좌표({x},{y})는 {qu}사분면 입니다.\")"
   ]
  },
  {
   "cell_type": "code",
   "execution_count": 114,
   "id": "dffed49f",
   "metadata": {},
   "outputs": [
    {
     "name": "stdout",
     "output_type": "stream",
     "text": [
      "x값을 입력하세요 : -12\n",
      "y값을 입력하세요 : -5\n",
      "좌표(-12,-5)는 3사분면 입니다.\n"
     ]
    }
   ],
   "source": [
    "x = int(input('x값을 입력하세요 : '))\n",
    "y = int(input('y값을 입력하세요 : '))\n",
    "\n",
    "if x > 0 :\n",
    "    if y>0 :\n",
    "        qu = 1\n",
    "    else:\n",
    "        qu = 4\n",
    "else:\n",
    "    if y>0:\n",
    "        qu = 2\n",
    "    else:\n",
    "        qu = 3\n",
    "\n",
    "print(f\"좌표({x},{y})는 {qu}사분면 입니다.\")"
   ]
  },
  {
   "cell_type": "code",
   "execution_count": 115,
   "id": "79760302",
   "metadata": {},
   "outputs": [
    {
     "name": "stdout",
     "output_type": "stream",
     "text": [
      "x값을 입력하세요 : 12\n",
      "y값을 입력하세요 : -5\n",
      "좌표(12,-5)는 4사분면 입니다.\n"
     ]
    }
   ],
   "source": [
    "x = int(input('x값을 입력하세요 : '))\n",
    "y = int(input('y값을 입력하세요 : '))\n",
    "\n",
    "if x > 0 :\n",
    "    if y>0 :\n",
    "        qu = 1\n",
    "    else:\n",
    "        qu = 4\n",
    "else:\n",
    "    if y>0:\n",
    "        qu = 2\n",
    "    else:\n",
    "        qu = 3\n",
    "\n",
    "print(f\"좌표({x},{y})는 {qu}사분면 입니다.\")"
   ]
  },
  {
   "cell_type": "code",
   "execution_count": 117,
   "id": "a9f7c6f9",
   "metadata": {
    "scrolled": true
   },
   "outputs": [
    {
     "name": "stdout",
     "output_type": "stream",
     "text": [
      "x값을 입력하세요 : -12\n",
      "y값을 입력하세요 : -5\n",
      "좌표(-12,-5)는 3사분면 입니다.\n"
     ]
    }
   ],
   "source": [
    "x = int(input('x값을 입력하세요 : '))\n",
    "y = int(input('y값을 입력하세요 : '))\n",
    "\n",
    "if x>0 and y>0 :\n",
    "        qu = 1\n",
    "elif x>0 and y<0:\n",
    "        qu = 4\n",
    "elif y>0:\n",
    "    qu = 2  \n",
    "else:\n",
    "    qu = 3\n",
    "        \n",
    "print(f\"좌표({x},{y})는 {qu}사분면 입니다.\")"
   ]
  },
  {
   "cell_type": "code",
   "execution_count": 135,
   "id": "a1d8a8ee",
   "metadata": {},
   "outputs": [
    {
     "name": "stdout",
     "output_type": "stream",
     "text": [
      "나이 입력 >> 67\n",
      "요금은 375원 입니다.\n"
     ]
    }
   ],
   "source": [
    "age=int(input(\"나이 입력 >> \"))\n",
    "fare=1500\n",
    "\n",
    "if age<5:\n",
    "    fare*=0.5\n",
    "elif 20>age: \n",
    "    fare*=0.75\n",
    "elif age>=65:\n",
    "    fare*=0.25\n",
    "else:\n",
    "    pass  \n",
    "    \n",
    "print(f\"요금은 {int(fare)}원 입니다.\")\n"
   ]
  },
  {
   "cell_type": "code",
   "execution_count": 8,
   "id": "a4a1aab9",
   "metadata": {},
   "outputs": [
    {
     "name": "stdout",
     "output_type": "stream",
     "text": [
      "==============================================\n",
      "===============---- 자판기 ----===============\n",
      "==============================================\n",
      "== 1.콜라 == 2.사이다 == 3.물 =======insert===\n",
      "==--------==--------==--------=======------===\n",
      "==  600  ==    800   ==  1000  ====== 000원===\n",
      "=====================================------===\n",
      "==============================================\n",
      "==++++++++++++++++++++++++++++++++++++++++++==\n",
      "==++++++++++++++++++++++++++++++++++++++++++==\n",
      "==++++++++++++++++++++++++++++++++++++++++++==\n",
      "==+++++++++++++++            +++++++++++++++==\n",
      "==+++++++++++++++    SMHRD   +++++++++++++++==\n",
      "==+++++++++++++++            +++++++++++++++==\n",
      "==++++++++++++++++++++++++++++++++++++++++++==\n",
      "==++++++++++++++++++++++++++++++++++++++++++==\n",
      "==============================================\n",
      "==============================================\n",
      "  ===                                    ===  \n",
      "  ===                                    ===  \n",
      " \n",
      "insert coin >> 5000\n",
      "메뉴 선택 >> 3\n",
      "잔돈 >> 천원 4개, 오백원 0개, 백원 0개\n"
     ]
    }
   ],
   "source": [
    "print('='*46)\n",
    "print('='*15+'---- 자판기 ----'+'='*15)\n",
    "print('='*46)\n",
    "print('==','1.콜라','==','2.사이다','==','3.물','=======insert===')\n",
    "print('==--------==--------==--------=======------===')\n",
    "print('==  600  ==    800   ==  1000  ====== 000원===')\n",
    "print('='*37+'------===')\n",
    "print('='*46)\n",
    "print('=='+'+'*42+'==')\n",
    "print('=='+'+'*42+'==')\n",
    "print('=='+'+'*42+'==')\n",
    "print('=='+'+'*15+' '*12+'+'*15+'==')\n",
    "print('==' + '+'*15 + ' '*4 + 'SMHRD' + ' '*3+'+'*15+ '==')\n",
    "print('=='+'+'*15+' '*12+'+'*15+'==')\n",
    "print('=='+'+'*42+'==')\n",
    "print('=='+'+'*42+'==')\n",
    "print('='*46)\n",
    "print('='*46)\n",
    "print('  '+'==='+' '*36+'==='+'  ')\n",
    "print('  '+'==='+' '*36+'==='+'  ')\n",
    "print(' ')\n",
    "\n",
    "money = int(input(\"insert coin >> \"))\n",
    "num = int(input(\"메뉴 선택 >> \"))\n",
    "# 메뉴 선택하기\n",
    "if money >= 600 :\n",
    "    # 1번 메뉴 선택\n",
    "    if num == 1 :\n",
    "        money -= 600\n",
    "    elif num == 2 :\n",
    "        money -= 800\n",
    "    elif num == 3 :\n",
    "        money -= 1000\n",
    "    else :\n",
    "        print(\"잘못된 메뉴입니다!\")\n",
    "    # 잔돈 계산하기\n",
    "    cash_1000, cash_500, cash_100 = 0,0,0\n",
    "    if money >= 1000 :\n",
    "        # 천원짜리 개수\n",
    "        cash_1000 = money // 1000\n",
    "        # 오백원짜리 개수\n",
    "        cash_500 = money % 1000 // 500\n",
    "        # 백원짜리 개수\n",
    "        cash_100 = money % 1000 % 500 // 100\n",
    "    # 천원 미만 오백원 이상일 경우\n",
    "    elif money >= 500 :\n",
    "        cash_500 = money // 500\n",
    "        cash_100 = money % 500 // 100\n",
    "    # 오백원 미만일 경우\n",
    "    else :\n",
    "        chas_100 = money // 100\n",
    "    print(f\"잔돈 >> 천원 {cash_1000}개, 오백원 {cash_500}개, 백원 {cash_100}개\")\n",
    "else :\n",
    "    print(\"돈을 더 넣어주세요~~!\")"
   ]
  },
  {
   "cell_type": "code",
   "execution_count": null,
   "id": "f0218956",
   "metadata": {},
   "outputs": [],
   "source": []
  },
  {
   "cell_type": "code",
   "execution_count": null,
   "id": "ad1d87fa",
   "metadata": {},
   "outputs": [],
   "source": []
  },
  {
   "cell_type": "code",
   "execution_count": null,
   "id": "c5eab727",
   "metadata": {},
   "outputs": [],
   "source": []
  },
  {
   "cell_type": "code",
   "execution_count": null,
   "id": "39ebbdd0",
   "metadata": {},
   "outputs": [],
   "source": []
  },
  {
   "cell_type": "code",
   "execution_count": null,
   "id": "be16dd5e",
   "metadata": {},
   "outputs": [],
   "source": []
  },
  {
   "cell_type": "code",
   "execution_count": null,
   "id": "49460a9c",
   "metadata": {},
   "outputs": [],
   "source": []
  },
  {
   "cell_type": "code",
   "execution_count": null,
   "id": "fad16110",
   "metadata": {},
   "outputs": [],
   "source": []
  },
  {
   "cell_type": "code",
   "execution_count": null,
   "id": "c453f1a9",
   "metadata": {},
   "outputs": [],
   "source": []
  },
  {
   "cell_type": "code",
   "execution_count": null,
   "id": "107f260c",
   "metadata": {},
   "outputs": [],
   "source": []
  },
  {
   "cell_type": "code",
   "execution_count": null,
   "id": "04ab4035",
   "metadata": {},
   "outputs": [],
   "source": []
  },
  {
   "cell_type": "code",
   "execution_count": null,
   "id": "af1b27d5",
   "metadata": {},
   "outputs": [],
   "source": []
  },
  {
   "cell_type": "code",
   "execution_count": null,
   "id": "de2d4108",
   "metadata": {},
   "outputs": [],
   "source": []
  },
  {
   "cell_type": "code",
   "execution_count": null,
   "id": "da8b267f",
   "metadata": {},
   "outputs": [],
   "source": []
  },
  {
   "cell_type": "code",
   "execution_count": null,
   "id": "ee4018e3",
   "metadata": {},
   "outputs": [],
   "source": []
  },
  {
   "cell_type": "code",
   "execution_count": null,
   "id": "c1d4bc16",
   "metadata": {},
   "outputs": [],
   "source": []
  },
  {
   "cell_type": "code",
   "execution_count": null,
   "id": "cd5312e6",
   "metadata": {},
   "outputs": [],
   "source": []
  },
  {
   "cell_type": "code",
   "execution_count": null,
   "id": "70b7178b",
   "metadata": {},
   "outputs": [],
   "source": []
  },
  {
   "cell_type": "code",
   "execution_count": null,
   "id": "9cacf986",
   "metadata": {},
   "outputs": [],
   "source": []
  },
  {
   "cell_type": "code",
   "execution_count": null,
   "id": "caf898b4",
   "metadata": {},
   "outputs": [],
   "source": []
  },
  {
   "cell_type": "code",
   "execution_count": null,
   "id": "2ac4ecb8",
   "metadata": {},
   "outputs": [],
   "source": []
  },
  {
   "cell_type": "code",
   "execution_count": null,
   "id": "8b64332d",
   "metadata": {},
   "outputs": [],
   "source": []
  },
  {
   "cell_type": "code",
   "execution_count": null,
   "id": "6bf491df",
   "metadata": {},
   "outputs": [],
   "source": []
  },
  {
   "cell_type": "code",
   "execution_count": null,
   "id": "d715a8dd",
   "metadata": {},
   "outputs": [],
   "source": []
  },
  {
   "cell_type": "code",
   "execution_count": null,
   "id": "5dbd83b7",
   "metadata": {},
   "outputs": [],
   "source": []
  },
  {
   "cell_type": "code",
   "execution_count": null,
   "id": "8bdac6a7",
   "metadata": {},
   "outputs": [],
   "source": []
  },
  {
   "cell_type": "code",
   "execution_count": null,
   "id": "dfcb3762",
   "metadata": {},
   "outputs": [],
   "source": []
  },
  {
   "cell_type": "code",
   "execution_count": null,
   "id": "4d711bcd",
   "metadata": {},
   "outputs": [],
   "source": []
  },
  {
   "cell_type": "code",
   "execution_count": null,
   "id": "972eae89",
   "metadata": {},
   "outputs": [],
   "source": []
  },
  {
   "cell_type": "code",
   "execution_count": null,
   "id": "38120fe2",
   "metadata": {},
   "outputs": [],
   "source": []
  },
  {
   "cell_type": "code",
   "execution_count": null,
   "id": "b429e463",
   "metadata": {},
   "outputs": [],
   "source": []
  },
  {
   "cell_type": "code",
   "execution_count": null,
   "id": "e14366ea",
   "metadata": {},
   "outputs": [],
   "source": []
  }
 ],
 "metadata": {
  "kernelspec": {
   "display_name": "Python 3 (ipykernel)",
   "language": "python",
   "name": "python3"
  },
  "language_info": {
   "codemirror_mode": {
    "name": "ipython",
    "version": 3
   },
   "file_extension": ".py",
   "mimetype": "text/x-python",
   "name": "python",
   "nbconvert_exporter": "python",
   "pygments_lexer": "ipython3",
   "version": "3.9.12"
  }
 },
 "nbformat": 4,
 "nbformat_minor": 5
}
