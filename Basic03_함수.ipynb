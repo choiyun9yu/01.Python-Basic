{
 "cells": [
  {
   "attachments": {},
   "cell_type": "markdown",
   "id": "76456dcc",
   "metadata": {},
   "source": [
    "## 내장함수"
   ]
  },
  {
   "attachments": {},
   "cell_type": "markdown",
   "id": "1f40a997",
   "metadata": {},
   "source": [
    "파이썬 개발자들이 이미 만들어 둔 함수"
   ]
  },
  {
   "cell_type": "code",
   "execution_count": 18,
   "id": "3e461937",
   "metadata": {},
   "outputs": [
    {
     "name": "stdout",
     "output_type": "stream",
     "text": [
      "(1, 'a', 'ㄱ')\n",
      "(2, 'b', 'ㄴ')\n",
      "(3, 'c', 'ㄷ')\n"
     ]
    }
   ],
   "source": [
    "# id(객체) : 객체 주소값 반환\n",
    "id(1)\n",
    "\n",
    "# zip(동일한 갯수로 이루어진 반복가능한 자료형 여러개) : 같은 인덱스 묶어서 출력\n",
    "a = (1,2,3) \n",
    "b = ('a', 'b', 'c')\n",
    "c = ('ㄱ', 'ㄴ', 'ㄷ')\n",
    "\n",
    "for i in zip(a,b,c):\n",
    "    print(i)"
   ]
  },
  {
   "cell_type": "code",
   "execution_count": null,
   "id": "19a86919",
   "metadata": {},
   "outputs": [],
   "source": [
    "# filter(함수, 반복가능한 자료형) : 반복 가능한 자료형을 함수에 넣어서 참인 것만 반환\n",
    "\n",
    "# isinstance(객체, 클래스) : 해당 객체가 해당 클래스의 인스턴스 인지 check"
   ]
  },
  {
   "attachments": {},
   "cell_type": "markdown",
   "id": "0674017c",
   "metadata": {},
   "source": [
    "## 사용자 정의 함수"
   ]
  },
  {
   "attachments": {},
   "cell_type": "markdown",
   "id": "22b5e174",
   "metadata": {},
   "source": [
    "사용자가 여러 코드를 묶어서 새로 만든 함수"
   ]
  },
  {
   "cell_type": "code",
   "execution_count": 1,
   "id": "0933d4ca",
   "metadata": {},
   "outputs": [],
   "source": [
    "# def 함수명(매개변수) :\n",
    "#     명령\n",
    "#     return 반환값  <- 함수 빠져나가고 출력(반환)\n",
    "\n",
    "# def 함수명(매개변수) :\n",
    "#     명령\n",
    "#     yield 반환값  <- 함수 빠져나가지 않고 출력(반환)"
   ]
  },
  {
   "attachments": {},
   "cell_type": "markdown",
   "id": "93dcc9fc",
   "metadata": {},
   "source": [
    "### 독스트링\n",
    "쌍따옴표 3개로 감싸서 함수의 설명을 적을 수 있다.   \n",
    "shift + Tap 키로 설명을 볼 수 있다."
   ]
  },
  {
   "cell_type": "code",
   "execution_count": 22,
   "id": "3ae45a9f",
   "metadata": {},
   "outputs": [
    {
     "data": {
      "text/plain": [
       "7"
      ]
     },
     "execution_count": 22,
     "metadata": {},
     "output_type": "execute_result"
    }
   ],
   "source": [
    "def plus_calculater(a,b):\n",
    "    \"\"\"첫 번째 인자와 두 번째 인자를 더해준다.\"\"\"   # 독스트링 위치\n",
    "    return a+b\n",
    "\n",
    "plus_calculater(3,4)"
   ]
  },
  {
   "attachments": {},
   "cell_type": "markdown",
   "id": "80c312f1",
   "metadata": {},
   "source": [
    "### 가변매개변수\n",
    "함수 호출 시 몇개의 매개변수가 필요한지 알 수 없을 때 사용"
   ]
  },
  {
   "cell_type": "code",
   "execution_count": 23,
   "id": "49676f7c",
   "metadata": {},
   "outputs": [
    {
     "name": "stdout",
     "output_type": "stream",
     "text": [
      "1\n"
     ]
    }
   ],
   "source": [
    "# 입력 변수 갯수 모를 때 사용\n",
    "def fistprint(*args):\n",
    "    print(args[0])\n",
    "    \n",
    "fistprint(1,2,3)"
   ]
  },
  {
   "attachments": {},
   "cell_type": "markdown",
   "id": "a7bd7983",
   "metadata": {},
   "source": [
    "### 스코프\n",
    "전역변수와 지역변수의 스코프 범위가 다르다"
   ]
  },
  {
   "attachments": {},
   "cell_type": "markdown",
   "id": "c7644342",
   "metadata": {},
   "source": [
    "## 재귀함수"
   ]
  },
  {
   "attachments": {},
   "cell_type": "markdown",
   "id": "680a877c",
   "metadata": {},
   "source": [
    "함수 내부에 자신을 호출할 수 있는 부분이 있는 함수\n",
    "\n",
    "- 어느 날 산에 올라갔더니 산신령이 있었다.  \n",
    "- 그 산신령에게 물어봤다.  \n",
    "- 코드를 잘 치려면 어떻게 해야하나요?  \n",
    "- 그러자 산신령이 말했다.  \n",
    "- 이 얘기를 잘 들어보렴  \n",
    "    - 어느 날 산에 올라갔더니 산신령이 있었다.  "
   ]
  },
  {
   "cell_type": "code",
   "execution_count": 25,
   "id": "39295bf2",
   "metadata": {},
   "outputs": [],
   "source": [
    "# 수열\n",
    "\n",
    "# 등차수열\n",
    "# 1 2 3 4 ?? 5\n",
    "# 2 4 6 8 ?? 10\n",
    "\n",
    "# 등비수열\n",
    "# 2 4 8 16 32 ?? 64\n",
    "\n",
    "# 피보나치 수열 : 앞선 두 항의 합을 다음 항으로 갖는 수열\n",
    "# 1 1 2 3 5 8"
   ]
  },
  {
   "cell_type": "code",
   "execution_count": 26,
   "id": "a0d5d164",
   "metadata": {},
   "outputs": [
    {
     "data": {
      "text/plain": [
       "6765"
      ]
     },
     "execution_count": 26,
     "metadata": {},
     "output_type": "execute_result"
    }
   ],
   "source": [
    "# 피보나치 수열\n",
    "def fibo(hang):\n",
    "    if hang <= 2:\n",
    "        return 1\n",
    "    else:\n",
    "        return fibo(hang-2) + fibo(hang-1)\n",
    "\n",
    "fibo(20)"
   ]
  },
  {
   "attachments": {},
   "cell_type": "markdown",
   "id": "94a5ed87",
   "metadata": {},
   "source": [
    "## lamda 함수"
   ]
  },
  {
   "attachments": {},
   "cell_type": "markdown",
   "id": "846f6edf",
   "metadata": {},
   "source": [
    "return 없어도 반환할 수 있는 함수  \n",
    "그러나 변수에 할당해야 호출이 가능한 함수  \n",
    "람다함수는 함수를 다른 함수의 인자처럼 쓰고싶을 때 자주 사용  "
   ]
  },
  {
   "cell_type": "code",
   "execution_count": 28,
   "id": "1b1eaa41",
   "metadata": {},
   "outputs": [],
   "source": [
    "# 함수이름 = lamda 매개변수1,매개변수2 : 명령"
   ]
  },
  {
   "cell_type": "code",
   "execution_count": null,
   "id": "6f5d8978",
   "metadata": {},
   "outputs": [],
   "source": [
    "# 내장 함수의 인자로 사용할 때 편리\n",
    "# map(lamda식, listName)"
   ]
  }
 ],
 "metadata": {
  "kernelspec": {
   "display_name": "Python 3.10.5 64-bit",
   "language": "python",
   "name": "python3"
  },
  "language_info": {
   "codemirror_mode": {
    "name": "ipython",
    "version": 3
   },
   "file_extension": ".py",
   "mimetype": "text/x-python",
   "name": "python",
   "nbconvert_exporter": "python",
   "pygments_lexer": "ipython3",
   "version": "3.10.5"
  },
  "toc": {
   "base_numbering": 1,
   "nav_menu": {},
   "number_sections": true,
   "sideBar": true,
   "skip_h1_title": false,
   "title_cell": "Table of Contents",
   "title_sidebar": "Contents",
   "toc_cell": false,
   "toc_position": {},
   "toc_section_display": true,
   "toc_window_display": false
  },
  "vscode": {
   "interpreter": {
    "hash": "aee8b7b246df8f9039afb4144a1f6fd8d2ca17a180786b69acc140d282b71a49"
   }
  }
 },
 "nbformat": 4,
 "nbformat_minor": 5
}
