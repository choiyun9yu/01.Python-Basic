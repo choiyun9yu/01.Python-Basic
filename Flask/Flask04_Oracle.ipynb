{
 "cells": [
  {
   "attachments": {},
   "cell_type": "markdown",
   "id": "c292c19a",
   "metadata": {},
   "source": [
    "## Oracle-Python 연결 Lib 설치"
   ]
  },
  {
   "attachments": {},
   "cell_type": "markdown",
   "id": "16c6265c",
   "metadata": {},
   "source": [
    "Instant Client 설치 \n",
    "https://www.oracle.com/kr/database/technologies/instant-client/winx64-64-downloads.html"
   ]
  },
  {
   "cell_type": "code",
   "execution_count": 4,
   "id": "5178634f",
   "metadata": {},
   "outputs": [],
   "source": [
    "import os\n",
    "\n",
    "LOCATION = r'C:\\Users\\AI\\instantclient_21_6'   # r 붙이면 이스케이프(\\) 코드 무시 됨\n",
    "os.environ[\"PATH\"] = LOCATION+';'+os.environ[\"PATH\"]"
   ]
  },
  {
   "cell_type": "code",
   "execution_count": null,
   "id": "bf2f484c",
   "metadata": {},
   "outputs": [],
   "source": [
    "#오라클 관련 라이브러리\n",
    "!pip install cx_oracle"
   ]
  },
  {
   "cell_type": "code",
   "execution_count": 5,
   "id": "715eb7f1",
   "metadata": {},
   "outputs": [],
   "source": [
    "import cx_Oracle "
   ]
  },
  {
   "attachments": {},
   "cell_type": "markdown",
   "id": "0c3dbede",
   "metadata": {},
   "source": [
    "## DB 연결"
   ]
  },
  {
   "cell_type": "markdown",
   "id": "e9deff2a",
   "metadata": {},
   "source": [
    "- 데이터베이스를 외부에서 연결하려고 할 때 4단계를 밟아야함\n",
    "\n",
    "1) Connection  \n",
    "2) Cursor  \n",
    "3) Execute  \n",
    "4) close  \n"
   ]
  },
  {
   "cell_type": "code",
   "execution_count": null,
   "id": "24f5db29",
   "metadata": {},
   "outputs": [],
   "source": [
    "ip_dic = {'192.168.0.38':'나예호', '192.168.70.160':'이명기'}"
   ]
  },
  {
   "cell_type": "code",
   "execution_count": null,
   "id": "b2a9106b",
   "metadata": {},
   "outputs": [],
   "source": [
    "from flask import Flask, request\n",
    "\n",
    "# app : Server실행, 경로를 잡아주는 객체\n",
    "app = Flask(__name__)\n",
    "\n",
    "@app.route('/')\n",
    "def index():\n",
    "    #페이지에 들어오는 사람의 ip주소를 받아들임\n",
    "    ip = request.remote_addr  # 5초안에 50번 이상의 접속시도가 있으면 차단 리스트에 넣는 용도로 씀 \n",
    "    \n",
    "    if ip == '192.168.70.228':\n",
    "        return 'local'\n",
    "    \n",
    "    return '<h1>Hello World</h1>'\n",
    "\n",
    "if __name__ == '__main__':\n",
    "    app.run(host='192.168.70.228', port=5021)"
   ]
  },
  {
   "cell_type": "code",
   "execution_count": 6,
   "id": "0c803ba3",
   "metadata": {
    "scrolled": true
   },
   "outputs": [
    {
     "name": "stdout",
     "output_type": "stream",
     "text": [
      "[('King', 24000.0), ('Kochhar', 17000.0), ('De Haan', 17000.0), ('Hunold', 9000.0), ('Ernst', 6000.0), ('Austin', 4800.0), ('Pataballa', 4800.0), ('Lorentz', 4200.0), ('Greenberg', 12008.0), ('Faviet', 9000.0), ('Chen', 8200.0), ('Sciarra', 7700.0), ('Urman', 7800.0), ('Popp', 6900.0), ('Raphaely', 11000.0), ('Khoo', 3100.0), ('Baida', 2900.0), ('Tobias', 2800.0), ('Himuro', 2600.0), ('Colmenares', 2500.0), ('Weiss', 8000.0), ('Fripp', 8200.0), ('Kaufling', 7900.0), ('Vollman', 6500.0), ('Mourgos', 5800.0), ('Nayer', 3200.0), ('Mikkilineni', 2700.0), ('Landry', 2400.0), ('Markle', 2200.0), ('Bissot', 3300.0), ('Atkinson', 2800.0), ('Marlow', 2500.0), ('Olson', 2100.0), ('Mallin', 3300.0), ('Rogers', 2900.0), ('Gee', 2400.0), ('Philtanker', 2200.0), ('Ladwig', 3600.0), ('Stiles', 3200.0), ('Seo', 2700.0), ('Patel', 2500.0), ('Rajs', 3500.0), ('Davies', 3100.0), ('Matos', 2600.0), ('Vargas', 2500.0), ('Russell', 14000.0), ('Partners', 13500.0), ('Errazuriz', 12000.0), ('Cambrault', 11000.0), ('Zlotkey', 10500.0), ('Tucker', 10000.0), ('Bernstein', 9500.0), ('Hall', 9000.0), ('Olsen', 8000.0), ('Cambrault', 7500.0), ('Tuvault', 7000.0), ('King', 10000.0), ('Sully', 9500.0), ('McEwen', 9000.0), ('Smith', 8000.0), ('Doran', 7500.0), ('Sewall', 7000.0), ('Vishney', 10500.0), ('Greene', 9500.0), ('Marvins', 7200.0), ('Lee', 6800.0), ('Ande', 6400.0), ('Banda', 6200.0), ('Ozer', 11500.0), ('Bloom', 10000.0), ('Fox', 9600.0), ('Smith', 7400.0), ('Bates', 7300.0), ('Kumar', 6100.0), ('Abel', 11000.0), ('Hutton', 8800.0), ('Taylor', 8600.0), ('Livingston', 8400.0), ('Grant', 7000.0), ('Johnson', 6200.0), ('Taylor', 3200.0), ('Fleaur', 3100.0), ('Sullivan', 2500.0), ('Geoni', 2800.0), ('Sarchand', 4200.0), ('Bull', 4100.0), ('Dellinger', 3400.0), ('Cabrio', 3000.0), ('Chung', 3800.0), ('Dilly', 3600.0), ('Gates', 2900.0), ('Perkins', 2500.0), ('Bell', 4000.0), ('Everett', 3900.0), ('McCain', 3200.0), ('Jones', 2800.0), ('Walsh', 3100.0), ('Feeney', 3000.0), ('OConnell', 2600.0), ('Grant', 2600.0), ('Whalen', 4400.0), ('Hartstein', 13000.0), ('Fay', 6000.0), ('Mavris', 6500.0), ('Baer', 10000.0), ('Higgins', 12008.0), ('Gietz', 8300.0)]\n"
     ]
    }
   ],
   "source": [
    "# Connection\n",
    "db_id = 'hr'\n",
    "db_pw = 'hr'\n",
    "db_url = '127.0.0.1:1521/xe'\n",
    "\n",
    "conn = cx_Oracle.connect(db_id, db_pw, db_url)  #오라클은 계정 내 DB가 다를 때 다른 DB에 같은 이름의 table 존재할 수 없음\n",
    "conn\n",
    "\n",
    "\n",
    "# Cursor\n",
    "curs = conn.cursor()\n",
    "\n",
    "\n",
    "# Execute\n",
    "sql = 'select last_name, salary from employees'  #세미콜론 안써도 됨\n",
    "result = curs.execute(sql)\n",
    "#conn.commit() \n",
    "# result.fetchall()\n",
    "print(result.fetchall())\n",
    "\n",
    "\n",
    "# Close : 연결통로 닫을 땐 열었던 역순으로 닫는다.\n",
    "if curs != None:\n",
    "    curs.close()\n",
    "if conn != None:\n",
    "    conn.close()"
   ]
  },
  {
   "cell_type": "code",
   "execution_count": 7,
   "id": "3cdde594",
   "metadata": {},
   "outputs": [],
   "source": [
    "# VO(Value Object) : 사용자 정의 데이터 타입\n",
    "\n",
    "# Design Pattern\n",
    "# 코드를 작성\n",
    "# Refactoring \n",
    "\n",
    "# 가장 보편적, 가장 많이 사용하는 약속된 Design Pattern -> MVC\n",
    "\n",
    "# MVC : Model, View, Controller\n",
    "    # Model : DTO + DAO\n",
    "        # DB에 넣을 때 이름, 이메일, 날짜, 시간을 넣고 싶을 때 이걸 넣는 데이터타입이 있나? -> class 로 만들면 됨\n",
    "        # DTO(Data Transfer Object) : 데이터 전송 객체\n",
    "        # DAO(Data Access Object) : 데이터 접근 객체\n",
    "    # View : 사용자에게 보이는 모든 것    \n",
    "    # Controller : View와 Model 사이의 기능을 관리\n",
    "    \n",
    "#Python 점수를 저장하려고 함\n",
    "\n",
    "score = 0\n",
    "#score의 타입은?? -> int\n",
    "\n",
    "name = ''\n",
    "#name의 타입은?? -> str\n",
    "\n",
    "#나예호와 Python점수를 동시에 저장하고 싶으면 class를 사용!!\n",
    "class Scores:\n",
    "    name = ''\n",
    "    score = 0\n",
    "    \n",
    "    def print_info(self):\n",
    "        print(f'이름 : {self.name} / 점수 : {self.score}')"
   ]
  },
  {
   "cell_type": "code",
   "execution_count": 8,
   "id": "2291576e",
   "metadata": {},
   "outputs": [
    {
     "name": "stdout",
     "output_type": "stream",
     "text": [
      "최윤규 100\n"
     ]
    }
   ],
   "source": [
    "s1 = Scores()\n",
    "s1.name='최윤규'\n",
    "s1.score=100\n",
    "\n",
    "print(s1.name, s1.score)"
   ]
  },
  {
   "attachments": {},
   "cell_type": "markdown",
   "id": "52e0b9b2",
   "metadata": {},
   "source": [
    "## DAO"
   ]
  },
  {
   "cell_type": "code",
   "execution_count": 47,
   "id": "b2e64563",
   "metadata": {},
   "outputs": [],
   "source": [
    "# %%writefile ./파일명.py   #모듈화 위한 코드\n",
    "import cx_Oracle\n",
    "import pandas as pd\n",
    "\n",
    "class DAO: \n",
    "    import cx_Oracle\n",
    "    import pandas as pd\n",
    "    \n",
    "    \n",
    "    def conn_db(self):\n",
    "        db_id = 'hr'\n",
    "        db_pw = 'hr'\n",
    "        db_url = '127.0.01:1521/xe'\n",
    "        conn = cx_Oracle.connect(db_id, db_pw, db_url)\n",
    "        curs = conn.cursor()\n",
    "        return conn, curs  # !중요\n",
    "        \n",
    "    \n",
    "    def select(self):\n",
    "        conn, curs = self.conn_db()\n",
    "        sql = 'select last_name, salary from employees'\n",
    "        result = curs.execute(sql)\n",
    "        r = result.fetchall()\n",
    "        if curs != None:curs.close()\n",
    "        if conn != None:conn.close()\n",
    "        return r\n",
    "    \n",
    "    \n",
    "    def select_df(self):\n",
    "        import pandas as pd\n",
    "        conn, curs = self.conn_db()\n",
    "        sql = 'select * from member'\n",
    "        df = pd.read_sql(sql,conn)\n",
    "        if conn != None:conn.close()\n",
    "        return df\n",
    "\n",
    "\n",
    "    def insert(self, join_id, join_pw, join_name):    #self 쓰는 이유 파이썬은 인터프린터 언어 한줄 씩 실행 / 자바는 컴파일러 한번에 실행 \n",
    "        conn, curs = self.conn_db()  # !중요\n",
    "        sql= '''insert into member(mem_id, id, pw, name) \n",
    "        values(mem_memid_seq.nextval, :1, :2, :3)'''         #:1 -> 아직 정해지지 않음 값 중 첫번째 \n",
    "        curs.execute(sql, (join_id, join_pw, join_name))     #위에서 정해지지 않은 값을 여기서 선언  /  f스트링 안쓰는 이유?\n",
    "        conn.commit()\n",
    "        if curs != None:curs.close()\n",
    "        if conn != None:conn.close()\n",
    "       \n",
    "    \n",
    "    def login(self, login_id, login_pw):\n",
    "        conn, curs = self.conn_db()\n",
    "        sql = '''select count(*) from member where id = :1 and pw = :2'''\n",
    "        curs.execute(sql, (login_id, login_pw))\n",
    "        result = curs.fetchall()\n",
    "#         print(result)\n",
    "        curs.close()\n",
    "        conn.close()\n",
    "        if result[0][0] == 1:\n",
    "            return '로그인 성공'\n",
    "        else:\n",
    "            return '로그인 실패'\n",
    "        \n",
    "        \n",
    "    def check(self, login_id):\n",
    "        conn, curs = self.conn_db()\n",
    "        sql = '''select count(*) from member where id =:1'''\n",
    "        curs.execute(sql,[login_id])\n",
    "        result = curs.fetchall()\n",
    "        print(result)\n",
    "        curs.close()\n",
    "        conn.close()\n",
    "        if result[0][0] == 1:\n",
    "            return '사용할 수 없는 ID 입니다.'\n",
    "        else:\n",
    "            return '사용 가능한 ID 입니다.'"
   ]
  },
  {
   "cell_type": "code",
   "execution_count": 48,
   "id": "fecc2636",
   "metadata": {},
   "outputs": [
    {
     "name": "stdout",
     "output_type": "stream",
     "text": [
      "[(1,)]\n"
     ]
    },
    {
     "data": {
      "text/plain": [
       "'사용할 수 없는 ID 입니다.'"
      ]
     },
     "execution_count": 48,
     "metadata": {},
     "output_type": "execute_result"
    }
   ],
   "source": [
    "dao = DAO()\n",
    "dao.check('suzyy')"
   ]
  },
  {
   "cell_type": "code",
   "execution_count": 4,
   "id": "d389d665",
   "metadata": {},
   "outputs": [],
   "source": [
    "dao = DAO()\n",
    "r = dao.select()  #select 결과 r변수에 담기  r은 데이터 타입 list임 \n",
    "\n",
    "# # 예쁘게 뽑으려면\n",
    "# for name, salary in r:\n",
    "#     print(f'name: {name}  /   salary: {salary}')"
   ]
  },
  {
   "cell_type": "code",
   "execution_count": 28,
   "id": "5a4b1308",
   "metadata": {
    "scrolled": false
   },
   "outputs": [
    {
     "name": "stderr",
     "output_type": "stream",
     "text": [
      "C:\\Users\\AI\\Anaconda3\\lib\\site-packages\\pandas\\io\\sql.py:761: UserWarning: pandas only support SQLAlchemy connectable(engine/connection) ordatabase string URI or sqlite3 DBAPI2 connectionother DBAPI2 objects are not tested, please consider using SQLAlchemy\n",
      "  warnings.warn(\n"
     ]
    },
    {
     "data": {
      "text/html": [
       "<div>\n",
       "<style scoped>\n",
       "    .dataframe tbody tr th:only-of-type {\n",
       "        vertical-align: middle;\n",
       "    }\n",
       "\n",
       "    .dataframe tbody tr th {\n",
       "        vertical-align: top;\n",
       "    }\n",
       "\n",
       "    .dataframe thead th {\n",
       "        text-align: right;\n",
       "    }\n",
       "</style>\n",
       "<table border=\"1\" class=\"dataframe\">\n",
       "  <thead>\n",
       "    <tr style=\"text-align: right;\">\n",
       "      <th></th>\n",
       "      <th>MEM_ID</th>\n",
       "      <th>ID</th>\n",
       "      <th>PW</th>\n",
       "      <th>NAME</th>\n",
       "      <th>MONEY</th>\n",
       "    </tr>\n",
       "  </thead>\n",
       "  <tbody>\n",
       "    <tr>\n",
       "      <th>0</th>\n",
       "      <td>122</td>\n",
       "      <td>yg3</td>\n",
       "      <td>1234</td>\n",
       "      <td>yun9yu</td>\n",
       "      <td>10000</td>\n",
       "    </tr>\n",
       "    <tr>\n",
       "      <th>1</th>\n",
       "      <td>123</td>\n",
       "      <td>yg4</td>\n",
       "      <td>1234</td>\n",
       "      <td>yun9yu</td>\n",
       "      <td>10000</td>\n",
       "    </tr>\n",
       "    <tr>\n",
       "      <th>2</th>\n",
       "      <td>124</td>\n",
       "      <td>yg5</td>\n",
       "      <td>1234</td>\n",
       "      <td>yun9yu</td>\n",
       "      <td>10000</td>\n",
       "    </tr>\n",
       "    <tr>\n",
       "      <th>3</th>\n",
       "      <td>125</td>\n",
       "      <td>yg6</td>\n",
       "      <td>1234</td>\n",
       "      <td>yun9yu</td>\n",
       "      <td>10000</td>\n",
       "    </tr>\n",
       "    <tr>\n",
       "      <th>4</th>\n",
       "      <td>141</td>\n",
       "      <td>yg9</td>\n",
       "      <td>1234</td>\n",
       "      <td>yun9yu</td>\n",
       "      <td>10000</td>\n",
       "    </tr>\n",
       "    <tr>\n",
       "      <th>5</th>\n",
       "      <td>100</td>\n",
       "      <td>yg</td>\n",
       "      <td>1234</td>\n",
       "      <td>yun9yu</td>\n",
       "      <td>10000</td>\n",
       "    </tr>\n",
       "    <tr>\n",
       "      <th>6</th>\n",
       "      <td>103</td>\n",
       "      <td>yg2</td>\n",
       "      <td>1234</td>\n",
       "      <td>yun9yu</td>\n",
       "      <td>10000</td>\n",
       "    </tr>\n",
       "    <tr>\n",
       "      <th>7</th>\n",
       "      <td>142</td>\n",
       "      <td>suzyy</td>\n",
       "      <td>1010</td>\n",
       "      <td>배수지</td>\n",
       "      <td>10000</td>\n",
       "    </tr>\n",
       "    <tr>\n",
       "      <th>8</th>\n",
       "      <td>131</td>\n",
       "      <td>yg8</td>\n",
       "      <td>1234</td>\n",
       "      <td>yun9yu</td>\n",
       "      <td>10000</td>\n",
       "    </tr>\n",
       "    <tr>\n",
       "      <th>9</th>\n",
       "      <td>129</td>\n",
       "      <td>yg7</td>\n",
       "      <td>1234</td>\n",
       "      <td>yun9yu</td>\n",
       "      <td>10000</td>\n",
       "    </tr>\n",
       "  </tbody>\n",
       "</table>\n",
       "</div>"
      ],
      "text/plain": [
       "   MEM_ID     ID    PW    NAME  MONEY\n",
       "0     122    yg3  1234  yun9yu  10000\n",
       "1     123    yg4  1234  yun9yu  10000\n",
       "2     124    yg5  1234  yun9yu  10000\n",
       "3     125    yg6  1234  yun9yu  10000\n",
       "4     141    yg9  1234  yun9yu  10000\n",
       "5     100     yg  1234  yun9yu  10000\n",
       "6     103    yg2  1234  yun9yu  10000\n",
       "7     142  suzyy  1010     배수지  10000\n",
       "8     131    yg8  1234  yun9yu  10000\n",
       "9     129    yg7  1234  yun9yu  10000"
      ]
     },
     "execution_count": 28,
     "metadata": {},
     "output_type": "execute_result"
    }
   ],
   "source": [
    "dao = DAO()\n",
    "df=dao.select_df()\n",
    "df"
   ]
  },
  {
   "cell_type": "code",
   "execution_count": 7,
   "id": "82083176",
   "metadata": {},
   "outputs": [],
   "source": [
    "dao = DAO()\n",
    "ins = dao.insert('yg9', 1234, 'yun9yu')\n",
    "ins"
   ]
  },
  {
   "cell_type": "code",
   "execution_count": 8,
   "id": "66fb0369",
   "metadata": {},
   "outputs": [
    {
     "data": {
      "text/plain": [
       "'로그인 성공'"
      ]
     },
     "execution_count": 8,
     "metadata": {},
     "output_type": "execute_result"
    }
   ],
   "source": [
    "dao = DAO()\n",
    "dao.login('yg7','1234')"
   ]
  },
  {
   "cell_type": "markdown",
   "id": "c0001bb4",
   "metadata": {},
   "source": [
    "#### server"
   ]
  },
  {
   "cell_type": "code",
   "execution_count": 17,
   "id": "6efcf768",
   "metadata": {},
   "outputs": [
    {
     "name": "stdout",
     "output_type": "stream",
     "text": [
      " * Serving Flask app \"__main__\" (lazy loading)\n",
      " * Environment: production\n",
      "\u001b[31m   WARNING: This is a development server. Do not use it in a production deployment.\u001b[0m\n",
      "\u001b[2m   Use a production WSGI server instead.\u001b[0m\n",
      " * Debug mode: off\n"
     ]
    },
    {
     "name": "stderr",
     "output_type": "stream",
     "text": [
      " * Running on http://192.168.70.228:5021/ (Press CTRL+C to quit)\n"
     ]
    }
   ],
   "source": [
    "from flask import Flask, redirect\n",
    "\n",
    "app = Flask(__name__)\n",
    "\n",
    "\n",
    "@app.route('/')\n",
    "def index():\n",
    "#     url = 'http://yun9yu.dothome.co.kr'\n",
    "#     return redirect(url)\n",
    "    return '<h1>Hello World</h1>'\n",
    "\n",
    "@app.route('/sel_emp')\n",
    "def sel_emp():\n",
    "    dao = DAO()\n",
    "    r = dao.select()\n",
    "    result = '</br>'.join(map(str,r)) #리스트 없이 한 문자열로 바꿔주는 것 Q.\n",
    "    return result\n",
    "\n",
    "if __name__ == '__main__':\n",
    "    app.run(host='192.168.70.228', port=5021)"
   ]
  },
  {
   "cell_type": "markdown",
   "id": "201de929",
   "metadata": {},
   "source": [
    "#### 로그인 "
   ]
  },
  {
   "cell_type": "code",
   "execution_count": 18,
   "id": "0e9f4225",
   "metadata": {},
   "outputs": [
    {
     "name": "stdout",
     "output_type": "stream",
     "text": [
      " * Serving Flask app \"__main__\" (lazy loading)\n",
      " * Environment: production\n",
      "\u001b[31m   WARNING: This is a development server. Do not use it in a production deployment.\u001b[0m\n",
      "\u001b[2m   Use a production WSGI server instead.\u001b[0m\n",
      " * Debug mode: off\n"
     ]
    },
    {
     "name": "stderr",
     "output_type": "stream",
     "text": [
      " * Running on http://192.168.70.128:5021/ (Press CTRL+C to quit)\n",
      "192.168.70.128 - - [26/Sep/2022 09:52:02] \"POST /join HTTP/1.1\" 302 -\n",
      "192.168.70.128 - - [26/Sep/2022 09:52:02] \"GET / HTTP/1.1\" 200 -\n"
     ]
    },
    {
     "name": "stdout",
     "output_type": "stream",
     "text": [
      "suzyy 1010 배수지\n"
     ]
    },
    {
     "name": "stderr",
     "output_type": "stream",
     "text": [
      "192.168.70.128 - - [26/Sep/2022 09:53:28] \"POST /login HTTP/1.1\" 302 -\n"
     ]
    },
    {
     "name": "stdout",
     "output_type": "stream",
     "text": [
      "yg7 1234\n",
      "로그인 성공\n"
     ]
    }
   ],
   "source": [
    "from flask import Flask, request, redirect\n",
    "\n",
    "app = Flask(__name__)\n",
    "\n",
    "\n",
    "@app.route('/')\n",
    "def index():\n",
    "    return '<h1>Hello World</h1>'\n",
    "\n",
    "\n",
    "@app.route('/join', methods=['POST', 'GET'])\n",
    "def join():\n",
    "    if request.method == 'POST':\n",
    "        join_id = request.form['join_id']\n",
    "        join_pw = request.form['join_pw']\n",
    "        join_name = request.form['join_name']\n",
    "        print(join_id,join_pw,join_name)\n",
    "        dao = DAO()\n",
    "        try:\n",
    "            dao.insert(join_id, join_pw, join_name)\n",
    "            return redirect('/')\n",
    "        except:\n",
    "            return redirect('http://192.168.70.128/index.html')\n",
    "\n",
    "\n",
    "@app.route('/login', methods=['GET', 'POST'])\n",
    "def login_db():\n",
    "    if request.method == 'POST':\n",
    "        login_id = request.form['login_id']\n",
    "        login_pw = request.form['login_pw']\n",
    "        print(login_id, login_pw)\n",
    "        login=dao.login(login_id,login_pw)\n",
    "        login\n",
    "        print(login)\n",
    "#     if request.method == 'GET' :\n",
    "        \n",
    "        if login == '로그인 성공':\n",
    "            url_success = 'http://yun9yu.dothome.co.kr/success.html'\n",
    "            return redirect(url_success)\n",
    "        else:\n",
    "            url_fail = 'http://yun9yu.dothome.co.kr/fail.html'\n",
    "            return redirect(url_fail)\n",
    "\n",
    "    \n",
    "if __name__ == '__main__':\n",
    "    app.run(host='192.168.70.128', port=5021)"
   ]
  },
  {
   "cell_type": "code",
   "execution_count": 50,
   "id": "5b4e8f80",
   "metadata": {
    "scrolled": true
   },
   "outputs": [
    {
     "name": "stdout",
     "output_type": "stream",
     "text": [
      " * Serving Flask app \"__main__\" (lazy loading)\n",
      " * Environment: production\n",
      "\u001b[31m   WARNING: This is a development server. Do not use it in a production deployment.\u001b[0m\n",
      "\u001b[2m   Use a production WSGI server instead.\u001b[0m\n",
      " * Debug mode: off\n"
     ]
    },
    {
     "name": "stderr",
     "output_type": "stream",
     "text": [
      " * Running on http://192.168.70.128:5021/ (Press CTRL+C to quit)\n"
     ]
    }
   ],
   "source": [
    "from flask import Flask, request, redirect\n",
    "\n",
    "app = Flask(__name__)\n",
    "\n",
    "\n",
    "@app.route('/')\n",
    "def index():\n",
    "    return '<h1>Hello World</h1>'\n",
    "\n",
    "\n",
    "@app.route('/join', methods=['POST', 'GET'])\n",
    "def join():\n",
    "    if request.method == 'POST':\n",
    "        join_id = request.form['join_id']\n",
    "        join_pw = request.form['join_pw']\n",
    "        join_name = request.form['join_name']\n",
    "        print(join_id,join_pw,join_name)\n",
    "        dao = DAO()\n",
    "        try:\n",
    "            dao.insert(join_id, join_pw, join_name)\n",
    "            return redirect('/')\n",
    "        except:\n",
    "            return redirect('/join')\n",
    "        \n",
    "    if request.method == 'GET':\n",
    "        return redirect('http://yun9yu.dothome.co.kr/')\n",
    "    \n",
    "    \n",
    "@app.route('/check', methods=['POST', 'GET'])\n",
    "def check():\n",
    "    if request.method == 'POST':\n",
    "        join_id = request.form['join_id']\n",
    "        print(join_id)\n",
    "        dao.DAO()\n",
    "        result = dao.check(join_id)\n",
    "        return result\n",
    "    \n",
    "    \n",
    "@app.route('/login', methods=['GET', 'POST'])\n",
    "def login_db():\n",
    "    if request.method == 'POST':\n",
    "        login_id = request.form['login_id']\n",
    "        login_pw = request.form['login_pw']\n",
    "        print(login_id, login_pw)\n",
    "        login=dao.login(login_id,login_pw)\n",
    "        login\n",
    "        print(login)\n",
    "#     if request.method == 'GET' :\n",
    "        \n",
    "        if login == '로그인 성공':\n",
    "            url_success = 'http://yun9yu.dothome.co.kr/success.html'\n",
    "            return redirect(url_success)\n",
    "        else:\n",
    "            url_fail = 'http://yun9yu.dothome.co.kr/fail.html'\n",
    "            return redirect(url_fail)\n",
    "\n",
    "    \n",
    "if __name__ == '__main__':\n",
    "    app.run(host='192.168.70.128', port=5021)"
   ]
  }
 ],
 "metadata": {
  "kernelspec": {
   "display_name": "Python 3",
   "language": "python",
   "name": "python3"
  },
  "language_info": {
   "codemirror_mode": {
    "name": "ipython",
    "version": 3
   },
   "file_extension": ".py",
   "mimetype": "text/x-python",
   "name": "python",
   "nbconvert_exporter": "python",
   "pygments_lexer": "ipython3",
   "version": "3.10.5 (v3.10.5:f377153967, Jun  6 2022, 12:36:10) [Clang 13.0.0 (clang-1300.0.29.30)]"
  },
  "toc": {
   "base_numbering": 1,
   "nav_menu": {},
   "number_sections": true,
   "sideBar": true,
   "skip_h1_title": false,
   "title_cell": "Table of Contents",
   "title_sidebar": "Contents",
   "toc_cell": false,
   "toc_position": {},
   "toc_section_display": true,
   "toc_window_display": false
  },
  "vscode": {
   "interpreter": {
    "hash": "aee8b7b246df8f9039afb4144a1f6fd8d2ca17a180786b69acc140d282b71a49"
   }
  }
 },
 "nbformat": 4,
 "nbformat_minor": 5
}
