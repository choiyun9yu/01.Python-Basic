{
 "cells": [
  {
   "attachments": {},
   "cell_type": "markdown",
   "metadata": {},
   "source": [
    "## 입출력과 사칙연산"
   ]
  },
  {
   "attachments": {},
   "cell_type": "markdown",
   "metadata": {},
   "source": [
    "### ??!"
   ]
  },
  {
   "cell_type": "code",
   "execution_count": null,
   "metadata": {},
   "outputs": [],
   "source": [
    "print(input()+'??!')"
   ]
  },
  {
   "attachments": {},
   "cell_type": "markdown",
   "metadata": {},
   "source": [
    "### 1998년생인 내가 태국에서는 2541년생?!"
   ]
  },
  {
   "cell_type": "code",
   "execution_count": null,
   "metadata": {},
   "outputs": [],
   "source": [
    "print(int(input())-543)\n"
   ]
  },
  {
   "attachments": {},
   "cell_type": "markdown",
   "metadata": {},
   "source": [
    "### 킹,퀸,룩,비숍,나이트,폰\n",
    "1,1,2,2,2,8"
   ]
  },
  {
   "cell_type": "code",
   "execution_count": null,
   "metadata": {},
   "outputs": [],
   "source": [
    "k,q,r,b,n,p=map(int,input().split())\n",
    "print(1-k,1-q,2-r,2-b,2-n,8-p)"
   ]
  },
  {
   "attachments": {},
   "cell_type": "markdown",
   "metadata": {},
   "source": [
    "### 고양이"
   ]
  },
  {
   "cell_type": "code",
   "execution_count": null,
   "metadata": {},
   "outputs": [],
   "source": [
    "\n"
   ]
  },
  {
   "cell_type": "markdown",
   "metadata": {},
   "source": [
    "### 개"
   ]
  },
  {
   "cell_type": "code",
   "execution_count": null,
   "metadata": {},
   "outputs": [],
   "source": [
    "print('|\\\\_/|')\n",
    "print('|q p|   /}')\n",
    "print('( 0 )\"\"\"\\\\')\n",
    "print('|\"^\"`    |')\n",
    "print('||_/=\\\\\\__|')"
   ]
  },
  {
   "attachments": {},
   "cell_type": "markdown",
   "metadata": {},
   "source": [
    "### 새싹"
   ]
  },
  {
   "cell_type": "code",
   "execution_count": null,
   "metadata": {},
   "outputs": [],
   "source": [
    "print('         ,r\\'\"7')\n",
    "print(\"r`-_   ,'  ,/\")\n",
    "print(\" \\\\. \\\". L_r'\")\n",
    "print(\"   `~\\/\")\n",
    "print('      |')\n",
    "print('      |')"
   ]
  },
  {
   "attachments": {},
   "cell_type": "markdown",
   "metadata": {},
   "source": [
    "## 조건문\n"
   ]
  },
  {
   "attachments": {},
   "cell_type": "markdown",
   "metadata": {},
   "source": [
    "### 두 수 비교하기"
   ]
  },
  {
   "cell_type": "code",
   "execution_count": null,
   "metadata": {},
   "outputs": [],
   "source": [
    "a,b=map(int, input().split())\n",
    "if a>b:print('>')\n",
    "elif a<b:print('<')\n",
    "else:print('==')"
   ]
  },
  {
   "attachments": {},
   "cell_type": "markdown",
   "metadata": {},
   "source": [
    "### 사분면 고르기"
   ]
  },
  {
   "cell_type": "code",
   "execution_count": null,
   "metadata": {},
   "outputs": [],
   "source": [
    "x=int(input())\n",
    "y=int(input())\n",
    "\n",
    "if x>0 and y>0:print(1)\n",
    "elif x<0 and y>0:print(2)\n",
    "elif x<0 and y<0:print(3)\n",
    "else:print(4)"
   ]
  },
  {
   "attachments": {},
   "cell_type": "markdown",
   "metadata": {},
   "source": [
    "## 반복문"
   ]
  },
  {
   "attachments": {},
   "cell_type": "markdown",
   "metadata": {},
   "source": [
    "### 구구단"
   ]
  },
  {
   "cell_type": "code",
   "execution_count": null,
   "metadata": {},
   "outputs": [],
   "source": [
    "n=int(input())\n",
    "for i in range(1,10):\n",
    "    print(f'{n} * {i} = {n*i}')"
   ]
  },
  {
   "attachments": {},
   "cell_type": "markdown",
   "metadata": {},
   "source": [
    "### A+B -3 "
   ]
  },
  {
   "cell_type": "code",
   "execution_count": null,
   "metadata": {},
   "outputs": [],
   "source": [
    "t=int(input())\n",
    "for i in range(t):\n",
    "    a,b=map(int,input().split())\n",
    "    print(a+b)"
   ]
  },
  {
   "attachments": {},
   "cell_type": "markdown",
   "metadata": {},
   "source": [
    "### 합"
   ]
  },
  {
   "cell_type": "code",
   "execution_count": null,
   "metadata": {},
   "outputs": [],
   "source": [
    "n=int(input())\n",
    "r=0\n",
    "for i in range(1,n+1):r+=i\n",
    "print(r)"
   ]
  },
  {
   "attachments": {},
   "cell_type": "markdown",
   "metadata": {},
   "source": [
    "### 영수증"
   ]
  },
  {
   "cell_type": "code",
   "execution_count": null,
   "metadata": {},
   "outputs": [],
   "source": [
    "x=int(input())\n",
    "n=int(input())\n",
    "c=0\n",
    "for i in range(n):\n",
    "    a,b=map(int,input().split())\n",
    "    c+=(a*b)\n",
    "if x==c:print('Yes')\n",
    "else:print('No')"
   ]
  },
  {
   "attachments": {},
   "cell_type": "markdown",
   "metadata": {},
   "source": [
    "### 빠른 A+B\n",
    "본격적으로 for문 문제를 풀기 전에 주의해야 할 점이 있다.   \n",
    "입출력 방식이 느리면 여러 줄을 입력받거나 출력할 때 시간초과가 날 수 있다는 점이다.  \n",
    "Python을 사용하고 있다면, input 대신 sys.stdin.readline을 사용할 수 있다.  \n",
    "단, 이때는 맨 끝의 개행문자까지 같이 입력받기 때문에 문자열을 저장하고 싶을 경우 .rstrip()을 추가로 해 주는 것이 좋다.  \n",
    "또한 입력과 출력 스트림은 별개이므로, 테스트케이스를 전부 입력받아서 저장한 뒤 전부 출력할 필요는 없다.  \n",
    "테스트케이스를 하나 받은 뒤 하나 출력해도 된다.  "
   ]
  },
  {
   "cell_type": "code",
   "execution_count": null,
   "metadata": {},
   "outputs": [],
   "source": [
    "# sys.stdin.readline.rstrip()\n",
    "import sys\n",
    "t=int(sys.stdin.readline().rstrip())\n",
    "for _ in range(t):\n",
    "    a,b=map(int,sys.stdin.readline().rstrip().split())\n",
    "    print(a+b)"
   ]
  },
  {
   "attachments": {},
   "cell_type": "markdown",
   "metadata": {},
   "source": [
    "### 별찍기"
   ]
  },
  {
   "cell_type": "code",
   "execution_count": null,
   "metadata": {},
   "outputs": [],
   "source": [
    "n=int(input())\n",
    "for i in range(1,n+1):\n",
    "    print('*'*i)"
   ]
  },
  {
   "cell_type": "code",
   "execution_count": null,
   "metadata": {},
   "outputs": [],
   "source": [
    "n=int(input())\n",
    "v=(n-1)\n",
    "for i in range(1,n+1):\n",
    "    print(' '*v, end='')\n",
    "    print('*'*i)\n",
    "    v-=1\n"
   ]
  },
  {
   "attachments": {},
   "cell_type": "markdown",
   "metadata": {},
   "source": [
    "### A + B -4"
   ]
  },
  {
   "cell_type": "code",
   "execution_count": null,
   "metadata": {},
   "outputs": [],
   "source": [
    "while True:\n",
    "    try:\n",
    "        a,b=map(int,input().split())\n",
    "        print(a+b)\n",
    "    except:break"
   ]
  },
  {
   "attachments": {},
   "cell_type": "markdown",
   "metadata": {},
   "source": [
    "### 더하기 싸이클\n",
    "주어진 수가 10보다 작다면 앞에 0을 붙여 두 자리 수로 만들고, 각 자리의 숫자를 더한다.  \n",
    "그 다음, 주어진 수의 가장 오른쪽 자리 수와 앞에서 구한 합의 가장 오른쪽 자리 수를 이어 붙이면 새로운 수를 만들 수 있다.  \n",
    "- 처음에 수는 26이다. 2+6 = 8이다. \n",
    "- 새로운 수는 68이다. 6+8 = 14이다. \n",
    "- 새로운 수는 84이다. 8+4 = 12이다. \n",
    "- 새로운 수는 42이다. 4+2 = 6이다. \n",
    "- 새로운 수는 26이다."
   ]
  },
  {
   "cell_type": "code",
   "execution_count": null,
   "metadata": {},
   "outputs": [],
   "source": [
    "# 문자열 인덱스 번호 활용 (my code)\n",
    "n=input()\n",
    "c=0\n",
    "a=n\n",
    "if len(n)==1:n='0'+n\n",
    "while True:\n",
    "    if len(a)==1:\n",
    "        a='0'+a\n",
    "    p=str(int(a[0])+int(a[1]))\n",
    "    c+=1\n",
    "    a=a[-1]+p[-1]\n",
    "    if a==n:break\n",
    "print(c)"
   ]
  },
  {
   "cell_type": "code",
   "execution_count": null,
   "metadata": {},
   "outputs": [],
   "source": [
    "# 나누기 연산자 활용 other code\n",
    "n=int(input())\n",
    "a=n//10  # 몫 연산자로 10의 자리 추출\n",
    "b=n%10  # 나머지 연산자로 1의 자리 추출\n",
    "i=0\n",
    "while True:\n",
    "    c=b*10+(a+b)%10  # 입력받은 것의 1의 자리에 10을 곱해서 10의 자리로, 두 개를 더한 값을 몫 연산자로 1의 자리\n",
    "    a=c//10  # 여기서 새롭게 10의 자리 추출\n",
    "    b=c%10  # 여깃 ㅓ새롭게 1의 자리 추출\n",
    "    i+=1   #사이클 대입 연산자\n",
    "    if c==n:break\n",
    "print(i)"
   ]
  },
  {
   "attachments": {},
   "cell_type": "markdown",
   "metadata": {},
   "source": [
    "## 1차원 배열"
   ]
  },
  {
   "attachments": {},
   "cell_type": "markdown",
   "metadata": {},
   "source": [
    "### 개수 세기"
   ]
  },
  {
   "cell_type": "code",
   "execution_count": null,
   "metadata": {},
   "outputs": [],
   "source": [
    "n=int(input())\n",
    "a=list(map(int,input().split()))\n",
    "print(a.count(int(input())))"
   ]
  },
  {
   "attachments": {},
   "cell_type": "markdown",
   "metadata": {},
   "source": [
    "### X보다 작은 수"
   ]
  },
  {
   "cell_type": "code",
   "execution_count": null,
   "metadata": {},
   "outputs": [],
   "source": [
    "n,x=map(int,input().split())\n",
    "a=list(map(int,input().split()))\n",
    "for i in a:\n",
    "    if i<x:print(i, end=' ')"
   ]
  },
  {
   "attachments": {},
   "cell_type": "markdown",
   "metadata": {},
   "source": [
    "### 최소,최대"
   ]
  },
  {
   "cell_type": "code",
   "execution_count": null,
   "metadata": {},
   "outputs": [],
   "source": [
    "n=int(input())\n",
    "a=list(map(int,input().split()))\n",
    "print(min(a),max(a))"
   ]
  },
  {
   "attachments": {},
   "cell_type": "markdown",
   "metadata": {},
   "source": [
    "### 최댓값"
   ]
  },
  {
   "cell_type": "code",
   "execution_count": null,
   "metadata": {},
   "outputs": [],
   "source": [
    "a=[]\n",
    "for _ in range(9):\n",
    "    n=int(input())\n",
    "    a.append(n)\n",
    "b=max(a)\n",
    "print(b,a.index(b)+1)"
   ]
  },
  {
   "attachments": {},
   "cell_type": "markdown",
   "metadata": {},
   "source": [
    "### 과제 안 내신 분..?"
   ]
  },
  {
   "cell_type": "code",
   "execution_count": 69,
   "metadata": {},
   "outputs": [
    {
     "name": "stdout",
     "output_type": "stream",
     "text": [
      "2\n",
      "8\n"
     ]
    }
   ],
   "source": [
    "ch=[0]*30\n",
    "k=[]\n",
    "a=[]\n",
    "for _ in range(28):\n",
    "    a.append(int(input()))  \n",
    "for i in a:\n",
    "    ch[i-1]=1\n",
    "for i,v in enumerate(ch):\n",
    "    if v==0:\n",
    "        k.append(i+1)\n",
    "        k.sort()\n",
    "print(k[0])\n",
    "print(k[1])"
   ]
  },
  {
   "cell_type": "code",
   "execution_count": 80,
   "metadata": {},
   "outputs": [
    {
     "name": "stdout",
     "output_type": "stream",
     "text": [
      "1\n"
     ]
    }
   ],
   "source": [
    "s=set()\n",
    "for i in range(10):\n",
    "    s.add(int(input())%42)\n",
    "print(len(s))"
   ]
  },
  {
   "attachments": {},
   "cell_type": "markdown",
   "metadata": {},
   "source": [
    "### 평균"
   ]
  },
  {
   "cell_type": "code",
   "execution_count": 87,
   "metadata": {},
   "outputs": [
    {
     "name": "stdout",
     "output_type": "stream",
     "text": [
      "65.0\n"
     ]
    }
   ],
   "source": [
    "n=int(input())\n",
    "s=list(map(int,input().split()))\n",
    "m=max(s)\n",
    "l=[]\n",
    "for i in s:\n",
    "    l.append(i/m*100)\n",
    "print(sum(l)/n)\n"
   ]
  },
  {
   "attachments": {},
   "cell_type": "markdown",
   "metadata": {},
   "source": [
    "### 평균은 넘겠지\n",
    "학생수 (학생들의 점수) >>> 각 케이스마다 한 줄씩 평균을 넘는 학생들의 비율을 반올림하여 소수점 셋째 자리까지 출력한다.)"
   ]
  },
  {
   "cell_type": "code",
   "execution_count": 184,
   "metadata": {},
   "outputs": [
    {
     "name": "stdout",
     "output_type": "stream",
     "text": [
      "1.000%\n"
     ]
    }
   ],
   "source": [
    "# 틀린 코드 : 인원과 지워야할 점수가 같은 경우가 반례로 존재 \n",
    "c=int(input())\n",
    "for _ in range(c):\n",
    "    a=list(map(int,input().split()))\n",
    "    m=sum(a[1:])/a[0]\n",
    "    for i in a[1:]:\n",
    "        if i<=m:\n",
    "            a.remove(i)\n",
    "    print(f'{round((len(a)-1)/a[0]*100,3):.3f}%')"
   ]
  },
  {
   "cell_type": "code",
   "execution_count": 206,
   "metadata": {},
   "outputs": [
    {
     "name": "stdout",
     "output_type": "stream",
     "text": [
      "50.000%\n"
     ]
    }
   ],
   "source": [
    "c=int(input())\n",
    "for _ in range(c):\n",
    "    cnt=0\n",
    "    a=list(map(int,input().split()))\n",
    "    n=a[0]\n",
    "    s=a[1:]\n",
    "    m=sum(s)/n\n",
    "    for i in s:\n",
    "        if i>m:\n",
    "            cnt+=1\n",
    "    print(f'{round(cnt/n*100,3):.3f}%')"
   ]
  },
  {
   "attachments": {},
   "cell_type": "markdown",
   "metadata": {},
   "source": [
    "## 함수\n"
   ]
  },
  {
   "attachments": {},
   "cell_type": "markdown",
   "metadata": {},
   "source": [
    "### 정수 n개의 합\n",
    "a: 합을 구해야 하는 정수 n개가 저장되어 있는 리스트 (0 ≤ a[i] ≤ 1,000,000, 1 ≤ n ≤ 3,000,000)  \n",
    "리턴값: a에 포함되어 있는 정수 n개의 합 (정수)"
   ]
  },
  {
   "cell_type": "code",
   "execution_count": 185,
   "metadata": {},
   "outputs": [],
   "source": [
    "def slove(a):\n",
    "    return sum(a)\n"
   ]
  },
  {
   "attachments": {},
   "cell_type": "markdown",
   "metadata": {},
   "source": [
    "### 셀프 넘버"
   ]
  },
  {
   "cell_type": "code",
   "execution_count": 178,
   "metadata": {},
   "outputs": [],
   "source": [
    "def d(n):\n",
    "    a=[n]\n",
    "    for i in range(len(str(n))):\n",
    "        a.append(n%10)\n",
    "        n//=10\n",
    "    return sum(a)\n",
    "\n",
    "# for i in range(1,10001):d(i)\n"
   ]
  },
  {
   "attachments": {},
   "cell_type": "markdown",
   "metadata": {},
   "source": [
    "## 문자열"
   ]
  },
  {
   "cell_type": "markdown",
   "metadata": {},
   "source": [
    "### 아스키 코드"
   ]
  },
  {
   "cell_type": "code",
   "execution_count": 3,
   "metadata": {},
   "outputs": [
    {
     "name": "stdout",
     "output_type": "stream",
     "text": [
      "57\n"
     ]
    }
   ],
   "source": [
    "print(ord(input()))"
   ]
  },
  {
   "attachments": {},
   "cell_type": "markdown",
   "metadata": {},
   "source": [
    "### 숫자의 합"
   ]
  },
  {
   "cell_type": "code",
   "execution_count": 10,
   "metadata": {},
   "outputs": [
    {
     "name": "stdout",
     "output_type": "stream",
     "text": [
      "15\n"
     ]
    }
   ],
   "source": [
    "c=input()\n",
    "n=input()\n",
    "r=0\n",
    "for i in n:r+=int(i)\n",
    "print(r) "
   ]
  },
  {
   "attachments": {},
   "cell_type": "markdown",
   "metadata": {},
   "source": [
    "### 단어 공부"
   ]
  },
  {
   "cell_type": "code",
   "execution_count": 34,
   "metadata": {},
   "outputs": [
    {
     "name": "stdout",
     "output_type": "stream",
     "text": [
      "Z\n"
     ]
    }
   ],
   "source": [
    "s=input().upper()\n",
    "c=[0]*26\n",
    "r=''\n",
    "for i in s:c[ord(i)-65]+=1\n",
    "for j,k in enumerate(c):\n",
    "    if max(c)<k:r=chr(j+65)\n",
    "    elif max(c)==k:r+=chr(j+65)\n",
    "if len(r)==1:print(r)\n",
    "else:print('?')"
   ]
  },
  {
   "cell_type": "code",
   "execution_count": null,
   "metadata": {},
   "outputs": [],
   "source": [
    "# 다른 사람 코드 \n",
    "str = input().upper()\n",
    "max_num = 0\n",
    "for i in range(26):\n",
    "    cnt = str.count(chr(i + 65))\n",
    "    if max_num < cnt:\n",
    "        max_num = cnt\n",
    "        max_char = chr(i + 65)\n",
    "    elif max_num == cnt:\n",
    "        max_char = \"?\"\n",
    "print(max_char)"
   ]
  },
  {
   "attachments": {},
   "cell_type": "markdown",
   "metadata": {},
   "source": [
    "### 단어의 개수"
   ]
  },
  {
   "cell_type": "code",
   "execution_count": 4,
   "metadata": {},
   "outputs": [
    {
     "name": "stdout",
     "output_type": "stream",
     "text": [
      "6\n"
     ]
    }
   ],
   "source": [
    "s=input().split()\n",
    "print(len(s))"
   ]
  },
  {
   "attachments": {},
   "cell_type": "markdown",
   "metadata": {},
   "source": [
    "### 상수"
   ]
  },
  {
   "cell_type": "code",
   "execution_count": 10,
   "metadata": {},
   "outputs": [
    {
     "name": "stdout",
     "output_type": "stream",
     "text": [
      "938\n"
     ]
    }
   ],
   "source": [
    "a,b=input().split()\n",
    "if int(a[::-1])>int(b[::-1]):print(a[::-1])\n",
    "else:print(b[::-1])"
   ]
  },
  {
   "attachments": {},
   "cell_type": "markdown",
   "metadata": {},
   "source": [
    "### 다이얼"
   ]
  },
  {
   "cell_type": "code",
   "execution_count": 18,
   "metadata": {},
   "outputs": [
    {
     "name": "stdout",
     "output_type": "stream",
     "text": [
      "36\n"
     ]
    }
   ],
   "source": [
    "s=input().upper()\n",
    "r=0\n",
    "for i in s:\n",
    "    if ord(i)>64 and ord(i)<68:r+=3\n",
    "    elif ord(i)<71:r+=4\n",
    "    elif ord(i)<74:r+=5\n",
    "    elif ord(i)<77:r+=6\n",
    "    elif ord(i)<80:r+=7\n",
    "    elif ord(i)<84:r+=8\n",
    "    elif ord(i)<87:r+=9\n",
    "    else:r+=10\n",
    "print(r)"
   ]
  },
  {
   "attachments": {},
   "cell_type": "markdown",
   "metadata": {},
   "source": [
    "#### 크로아티아 알파벳"
   ]
  },
  {
   "cell_type": "code",
   "execution_count": 38,
   "metadata": {},
   "outputs": [
    {
     "name": "stdout",
     "output_type": "stream",
     "text": [
      "3\n"
     ]
    }
   ],
   "source": [
    "s=input()\n",
    "if 'c=' in s:s=s.replace('c=','1')\n",
    "if 'c-' in s:s=s.replace('c-','1')\n",
    "if 'dz=' in s:s=s.replace('dz=','1')\n",
    "if 'd-' in s:s=s.replace('d-','1')\n",
    "if 'lj' in s:s=s.replace('lj','1')\n",
    "if 'nj' in s:s=s.replace('nj','1')\n",
    "if 's=' in s:s=s.replace('s=','1')\n",
    "if 'z=' in s:s=s.replace('z=','1')\n",
    "print(len(s))"
   ]
  },
  {
   "cell_type": "code",
   "execution_count": null,
   "metadata": {},
   "outputs": [],
   "source": [
    "# 다른사람 코드\n",
    "word = input()\n",
    "lst = ['c=','c-','dz=','d-','lj','nj','s=','z=']\n",
    "for i in lst:\n",
    "    word = word.replace(i,'*')\n",
    "print(len(word))"
   ]
  },
  {
   "attachments": {},
   "cell_type": "markdown",
   "metadata": {},
   "source": [
    "#### 그룹 단어 체커"
   ]
  },
  {
   "cell_type": "code",
   "execution_count": 70,
   "metadata": {},
   "outputs": [
    {
     "name": "stdout",
     "output_type": "stream",
     "text": [
      "1\n"
     ]
    }
   ],
   "source": [
    "n=int(input())\n",
    "c=0\n",
    "for _ in range(n):\n",
    "    s=input()\n",
    "    for i in range(len(s)-1):\n",
    "        if s[i]==s[i+1]:pass\n",
    "        elif s[i] in s[i+1:]:\n",
    "            break\n",
    "    else:c+=1\n",
    "print(c)"
   ]
  },
  {
   "attachments": {},
   "cell_type": "markdown",
   "metadata": {},
   "source": [
    "## 기본 수학 1"
   ]
  },
  {
   "attachments": {},
   "cell_type": "markdown",
   "metadata": {},
   "source": [
    "#### 손익 분기점\n",
    "- 고정비용A, 한대당 B의 가변비용, 노트북가격C"
   ]
  },
  {
   "cell_type": "code",
   "execution_count": 5,
   "metadata": {},
   "outputs": [
    {
     "name": "stdout",
     "output_type": "stream",
     "text": [
      "2100000001\n"
     ]
    }
   ],
   "source": [
    "a,b,c=map(int,input().split())\n",
    "if b>=c:print(-1)\n",
    "else:print((a//(c-b))+1)"
   ]
  },
  {
   "attachments": {},
   "cell_type": "markdown",
   "metadata": {},
   "source": [
    "#### 벌집\n",
    "- 내가 찾은 규칙 : 하한은 2+6의 배수, 상한은 7+12의 배수로 증가한다."
   ]
  },
  {
   "cell_type": "code",
   "execution_count": 16,
   "metadata": {},
   "outputs": [
    {
     "name": "stdout",
     "output_type": "stream",
     "text": [
      "3\n"
     ]
    }
   ],
   "source": [
    "n=int(input())\n",
    "b=1\n",
    "c=1\n",
    "while n>b:\n",
    "    b+=6*c  # 6의 배수로 증가\n",
    "    c+=1\n",
    "print(c)"
   ]
  },
  {
   "attachments": {},
   "cell_type": "markdown",
   "metadata": {},
   "source": [
    "#### 분수 찾기\n",
    "- 내가 찾은 규칙 : 분모 분자가 커지고 작아지는게 지그재그다.\n",
    "- 우선 x가 포함된 수열이 몇번째 대각선인지 알아아 한다.  \n",
    "짝수번째 줄인지 홀수번째 줄인지에 따라서 달라진다 (지그재그라서)"
   ]
  },
  {
   "cell_type": "code",
   "execution_count": 11,
   "metadata": {},
   "outputs": [
    {
     "name": "stdout",
     "output_type": "stream",
     "text": [
      "2/2\n"
     ]
    }
   ],
   "source": [
    "# 다른사람 코드\n",
    "x=int(input())\n",
    "line=1\n",
    "while x>line:\n",
    "    x-=line\n",
    "    line+=1\n",
    "if line%2==0:\n",
    "    a=x\n",
    "    b=line-x+1\n",
    "else:\n",
    "    a=line-x+1\n",
    "    b=x\n",
    "print(f'{a}/{b}')"
   ]
  },
  {
   "cell_type": "code",
   "execution_count": 17,
   "metadata": {},
   "outputs": [
    {
     "name": "stdout",
     "output_type": "stream",
     "text": [
      "3/1\n"
     ]
    }
   ],
   "source": [
    "x=int(input())\n",
    "line=1\n",
    "# 한개씩 더하면서 몇번째 줄인지 찾는 반복문\n",
    "while x>line:\n",
    "    x-=line  # x는 그 줄에서 몇번째 위치에 존재하는지 인덱스를 나타낸다.\n",
    "    line+=1  # line은 몇번째 줄인지 나타내는 동시에 그 줄의 최대값\n",
    "# 짝수면 분자는 하나씩 늘어나고 분모는 하나씩 줄어든다\n",
    "if line%2==0:print(f'{x}/{line-x+1}')\n",
    "# 홀수면 분자는 하나씩 줄어들고 분모는 하나씩 늘어난다. \n",
    "else:print(f'{line-x+1}/{x}')"
   ]
  },
  {
   "attachments": {},
   "cell_type": "markdown",
   "metadata": {},
   "source": [
    "### 달팽이는 올라가고 싶다\n",
    "- 낮에 +a 만큼, 밤에 -b 만큼, 총 v 만큼 가야한다.\n",
    "- 하루에 a-b 만큼 가는데  \n",
    "- 정상에 올라가면 미끄러지지 않는다는 조건 -> 애초에 올라가야할 총 높이 v에서 a만큼 빼고 시작한다. 당연히 날짜는 마지막에 +1해줘야한다.\n",
    "  그럼 v-a만큼의 높이를 하루에 a-b 만큼 올라간다.\n",
    "Q. 부등식으로 식을 세운 경우 그 이상 전체가 아니라 넘는 최소 값만 알고 싶을 때 반복문 없이 어떻게 식을 세워야하는지 모르겠음 ㅠ"
   ]
  },
  {
   "cell_type": "code",
   "execution_count": null,
   "metadata": {},
   "outputs": [],
   "source": [
    "# 반복문으로하면 시간초과\n",
    "a,b,v=map(int,input().split())\n",
    "s=d=0\n",
    "while s<v:\n",
    "    if s>0:s-=b\n",
    "    d+=1\n",
    "    s+=a\n",
    "print(d)"
   ]
  },
  {
   "cell_type": "code",
   "execution_count": 14,
   "metadata": {},
   "outputs": [
    {
     "name": "stdout",
     "output_type": "stream",
     "text": [
      "1\n"
     ]
    }
   ],
   "source": [
    "# 이 공식은 5 1 6 인 경우 반례로 기록된다.\n",
    "a,b,v=map(int,input().split())\n",
    "print((v-a)//(a-b)+1)\n",
    "\n",
    "# 6-5 = 1만큼 올라가야하고\n",
    "# 1//5 -> 0이니까 올림 처리르 해야한다."
   ]
  },
  {
   "cell_type": "code",
   "execution_count": 15,
   "metadata": {},
   "outputs": [
    {
     "name": "stdout",
     "output_type": "stream",
     "text": [
      "2\n"
     ]
    }
   ],
   "source": [
    "# 올림 함수 사용하기\n",
    "import math\n",
    "a,b,v=map(int,input().split())\n",
    "print(math.ceil((v-a)/(a-b))+1)\n"
   ]
  },
  {
   "attachments": {},
   "cell_type": "markdown",
   "metadata": {},
   "source": [
    "### ACM 호텔\n",
    "w:너비, h:높이, 방번호의 y는 층 x는 호실\n",
    "- 분수 찾기랑 비슷한 문제"
   ]
  },
  {
   "cell_type": "code",
   "execution_count": 35,
   "metadata": {},
   "outputs": [
    {
     "name": "stdout",
     "output_type": "stream",
     "text": [
      "1010\n"
     ]
    }
   ],
   "source": [
    "import math\n",
    "t=int(input())\n",
    "for _ in range(t):\n",
    "    h,w,n=map(int,input().split())\n",
    "    y=n%h\n",
    "    if y==0:y=h\n",
    "    x=str(math.ceil(n/h))\n",
    "    if len(x)==1:x='0'+x\n",
    "    print(f'{y}{x}')"
   ]
  },
  {
   "attachments": {},
   "cell_type": "markdown",
   "metadata": {},
   "source": [
    "### 부녀회장이 될테야"
   ]
  },
  {
   "cell_type": "code",
   "execution_count": null,
   "metadata": {},
   "outputs": [],
   "source": [
    "# 자세히보면 옆방향 아래방향을 더하면 그 자리 수가 된다.\n",
    "''' \n",
    "1 5 15 35 70 126\n",
    "1 4 10 20 35  56\n",
    "1 3  6 10 15  21 \n",
    "1 2  3  4  5   6 \n",
    "'''"
   ]
  },
  {
   "cell_type": "code",
   "execution_count": 21,
   "metadata": {},
   "outputs": [
    {
     "name": "stdout",
     "output_type": "stream",
     "text": [
      "[1, 2, 3, 4]\n",
      "[1, 3, 6, 10]\n",
      "[1, 4, 10, 20]\n"
     ]
    }
   ],
   "source": [
    "# 다른 사람 코드\n",
    "t=int(input())\n",
    "for _ in range(t):\n",
    "    k=int(input())\n",
    "    n=int(input())\n",
    "    p=[i for i in range(1,n+1)]  # 0층에 사는 사람들\n",
    "    for _ in range(k):  # k층 만큼 반복\n",
    "        l=[]\n",
    "        for i in range(n):  # n호 만큼 반복\n",
    "            l.append(sum(p[:i+1]))  # 아래층의 1~n호까지의 합\n",
    "        print(p)\n",
    "        p=l\n",
    "    print(p[-1])  # 마지막 n번째 호수만 출력"
   ]
  },
  {
   "attachments": {},
   "cell_type": "markdown",
   "metadata": {},
   "source": [
    "### 설탕배달\n",
    "3과 5의 조합으로 최소 개수로 목표 수량 채우기\n",
    "- 5와 3의 약수로만 소인수분해가 되는지 체크\n",
    "- 5를 최대한 많이써서"
   ]
  },
  {
   "cell_type": "code",
   "execution_count": null,
   "metadata": {},
   "outputs": [],
   "source": [
    "# 다른 사람 코드\n",
    "n=int(input())\n",
    "c=0\n",
    "while n>=0:\n",
    "    # 5키로짜리로 나눠떨어질 때까지\n",
    "    if n%5==0:\n",
    "        c+=int(n//5)\n",
    "        print(c)\n",
    "        break\n",
    "    # 3키로 짜리 카운트 \n",
    "    n-=3\n",
    "    c+=1\n",
    "# 근데 3키로랑 5키로로 안되고 0미만이 되면 나눠 떨어지지 않는 것이라서 -1\n",
    "else:print(-1)\n",
    "             \n",
    "\n"
   ]
  },
  {
   "attachments": {},
   "cell_type": "markdown",
   "metadata": {},
   "source": [
    "## 기본 수학2"
   ]
  },
  {
   "attachments": {},
   "cell_type": "markdown",
   "metadata": {},
   "source": [
    "#### 소수 찾기"
   ]
  },
  {
   "cell_type": "code",
   "execution_count": 63,
   "metadata": {},
   "outputs": [
    {
     "name": "stdout",
     "output_type": "stream",
     "text": [
      "8\n"
     ]
    }
   ],
   "source": [
    "n=int(input())\n",
    "a=list(map(int,input().split()))  # 그냥 이렇게 넣으면 리스트가 된다\n",
    "c=0\n",
    "for i in a:\n",
    "    if i==1:continue\n",
    "    elif i==2 or i==3:c+=1\n",
    "    else:\n",
    "        for j in range(2,i):\n",
    "            if i%j==0:\n",
    "                break\n",
    "        else:c+=1\n",
    "print(c)"
   ]
  },
  {
   "attachments": {},
   "cell_type": "markdown",
   "metadata": {},
   "source": [
    "#### 소수"
   ]
  },
  {
   "cell_type": "code",
   "execution_count": 11,
   "metadata": {},
   "outputs": [
    {
     "name": "stdout",
     "output_type": "stream",
     "text": [
      "72 13\n"
     ]
    }
   ],
   "source": [
    "m=int(input())\n",
    "n=int(input())\n",
    "l=[]\n",
    "for i in range(m,n+1):\n",
    "    if i==1:continue\n",
    "    elif i==2 or i==3:l.append(i)\n",
    "    else:\n",
    "        for j in range(2,i):\n",
    "            if i%j==0:break\n",
    "        else:l.append(i)\n",
    "if len(l)==0:print(-1)\n",
    "else:print(sum(l),min(l))"
   ]
  },
  {
   "attachments": {},
   "cell_type": "markdown",
   "metadata": {},
   "source": [
    "#### 소수 구하기"
   ]
  },
  {
   "cell_type": "code",
   "execution_count": 12,
   "metadata": {},
   "outputs": [
    {
     "name": "stdout",
     "output_type": "stream",
     "text": [
      "3\n",
      "5\n",
      "7\n",
      "11\n",
      "13\n"
     ]
    }
   ],
   "source": [
    "# 시간 초과\n",
    "m,n=map(int,input().split())\n",
    "for i in range(m,n+1):\n",
    "    if i==1:continue\n",
    "    elif i==2 or i==3:print(i)\n",
    "    else:\n",
    "        for j in range(2,i):\n",
    "            if i%j==0:break\n",
    "        else:print(i)"
   ]
  },
  {
   "cell_type": "code",
   "execution_count": 41,
   "metadata": {},
   "outputs": [
    {
     "name": "stdout",
     "output_type": "stream",
     "text": [
      "3\n",
      "5\n",
      "7\n",
      "11\n",
      "13\n"
     ]
    }
   ],
   "source": [
    "# 에라토스테네스의 체\n",
    "m,n=map(int,input().split())\n",
    "\n",
    "ch=[int(0)]*(n+1)  #체크리스트의 인덱스 넘버로 체크함 -> +1을 해줘야 n까지 체크 가능\n",
    "ch[:m]=[1]*m\n",
    "\n",
    "for i in range(2,n+1):\n",
    "    if ch[i]==0:print(i)\n",
    "    for j in range(i,n+1,i):\n",
    "        ch[j]=1"
   ]
  },
  {
   "attachments": {},
   "cell_type": "markdown",
   "metadata": {},
   "source": [
    "#### 베르트랑 공준\n",
    "- 임이의 자연수 n에 대하여 n보다 크고 2n보다 작거나 같은 소수는 적어도 하나 존재한다\n",
    "- 그 소수의 개수를 구하는 프로그램을 작성하시오."
   ]
  },
  {
   "cell_type": "code",
   "execution_count": 12,
   "metadata": {},
   "outputs": [
    {
     "name": "stdout",
     "output_type": "stream",
     "text": [
      "4\n"
     ]
    }
   ],
   "source": [
    "# 시간초과\n",
    "while True:\n",
    "    n=int(input())\n",
    "    if n==0:break\n",
    "    l=[]\n",
    "    n,m=n,n*2\n",
    "    ch=[0]*(m+1)\n",
    "    for i in range(2,m+1):\n",
    "        if ch[i]==0 and i>n:l.append(i)\n",
    "        for j in range(i,m+1,i):\n",
    "            ch[j]=1\n",
    "    print(len(l))\n",
    "    \n",
    "# 한번만 소수 목록을 구한뒤 이후로는 빠르게 소수 체크를 하는 방법을 사용해야 시간 초과 면할 수 있음\n",
    "# 범위 내 소수 리스트를 먼저 만들고 반복문 돌릴까?"
   ]
  },
  {
   "cell_type": "code",
   "execution_count": 22,
   "metadata": {},
   "outputs": [
    {
     "name": "stdout",
     "output_type": "stream",
     "text": [
      "135\n",
      "1033\n",
      "8392\n"
     ]
    }
   ],
   "source": [
    "ch=[0]*246913\n",
    "l=[]\n",
    "for i in range(2,246913):\n",
    "    if ch[i]==0:l.append(i)\n",
    "    for j in range(i,246913,i):\n",
    "        ch[j]=1\n",
    "\n",
    "while True:\n",
    "    n=int(input())\n",
    "    if n==0:break\n",
    "    else:\n",
    "        c=0\n",
    "        for i in l:\n",
    "            if n<i<=n*2:\n",
    "                c+=1\n",
    "    print(c)"
   ]
  },
  {
   "attachments": {},
   "cell_type": "markdown",
   "metadata": {},
   "source": [
    "#### 골드바흐의 추측\n",
    "- 2보다 큰 모든 짝수는 도 소수의 합으로 나타낼 수 있다\n",
    "- 2보다 큰 짝수 n이 주어졌을 때, n의 골드바흐 파티션을 출력하는 프로그램을 작성하시오.  \n",
    "만약 가능한 n의 골드바흐 파티션이 여러 가지인 경우에는 두 소수의 차이가 가장 작은 것을 출력하시오."
   ]
  },
  {
   "cell_type": "code",
   "execution_count": 45,
   "metadata": {},
   "outputs": [
    {
     "name": "stdout",
     "output_type": "stream",
     "text": [
      "3 5\n",
      "5 5\n",
      "5 11\n"
     ]
    }
   ],
   "source": [
    "# 시간 초과\n",
    "import math\n",
    "ch=[0]*(10000)\n",
    "sosuList=[]\n",
    "\n",
    "for i in range(2,10000):\n",
    "    if ch[i]==0:sosuList.append(i)\n",
    "    for j in range(i,10000,i):\n",
    "        ch[j]=1\n",
    "        \n",
    "t=int(input())\n",
    "for _ in range(t):\n",
    "    n=int(input())\n",
    "    min=float('inf')\n",
    "    huboList=[]\n",
    "    index=''\n",
    "    \n",
    "    for k in sosuList:\n",
    "        for m in sosuList:\n",
    "            if k+m==n:huboList.append([k,m])\n",
    "            \n",
    "    for i,v in enumerate(huboList):\n",
    "        if min>abs(v[0]-v[1]):\n",
    "            min=abs(v[0]-v[1])\n",
    "            index=i\n",
    "    print(*huboList[index])"
   ]
  },
  {
   "attachments": {},
   "cell_type": "markdown",
   "metadata": {},
   "source": [
    "- 가장 차이가 적은 두 소스의 합을 구할 때 반복문이 너무 많이 사용되어서 시간 초과\n",
    "\n",
    "    - n을 반으로 쪼개고 한 개는 +1씩 한개는 -1씩 해보면서 두 수가 모두 소수인지 확인해서 차이가 가장 작은 소수를 출력  \n",
    "      차이가 가장 작은 것은 절반에서 시작해 하나씩 멀어지는 것  \n",
    "      게다가 짝수니까 절반으로 나눈 각각의 합은 항상 n과 같음  \n",
    "      앞이 더 작은 수니까 대입연산자 앞이 1씩 줄고 뒤가 1씩 커지게 설정"
   ]
  },
  {
   "cell_type": "code",
   "execution_count": 49,
   "metadata": {},
   "outputs": [
    {
     "name": "stdout",
     "output_type": "stream",
     "text": [
      "3 5\n",
      "5 5\n",
      "5 11\n"
     ]
    }
   ],
   "source": [
    "ch=[0]*(10000)\n",
    "l=[]\n",
    "\n",
    "for i in range(2,10000):\n",
    "    if ch[i]==0:l.append(i)\n",
    "    for j in range(i,10000,i):\n",
    "        ch[j]=1\n",
    "        \n",
    "t=int(input())\n",
    "for _ in range(t):\n",
    "    n=int(input())\n",
    "    a=n//2\n",
    "    b=n//2\n",
    "    while a>0:\n",
    "        if a in l and b in l:\n",
    "            print(f'{a} {b}')\n",
    "            break\n",
    "        else:\n",
    "            a-=1\n",
    "            b+=1"
   ]
  },
  {
   "attachments": {},
   "cell_type": "markdown",
   "metadata": {},
   "source": [
    "## 2차원 배열"
   ]
  },
  {
   "attachments": {},
   "cell_type": "markdown",
   "metadata": {},
   "source": [
    "#### 행렬 덧셈"
   ]
  },
  {
   "cell_type": "code",
   "execution_count": 3,
   "metadata": {},
   "outputs": [
    {
     "name": "stdout",
     "output_type": "stream",
     "text": [
      "4 4 4 \n",
      "6 6 6 \n",
      "5 6 100 \n"
     ]
    }
   ],
   "source": [
    "n,m=map(int,input().split())\n",
    "a=[]\n",
    "b=[]\n",
    "for _ in  range(n):\n",
    "    r=list(map(int,input().split()))\n",
    "    a.append(r)\n",
    "for _ in range(n):\n",
    "    r=list(map(int,input().split()))\n",
    "    b.append(r)\n",
    "\n",
    "for i in range(n):\n",
    "    for j in range(m):\n",
    "        print(a[i][j]+b[i][j], end=' ')\n",
    "    print()"
   ]
  },
  {
   "attachments": {},
   "cell_type": "markdown",
   "metadata": {},
   "source": [
    "#### 최댓값"
   ]
  },
  {
   "cell_type": "code",
   "execution_count": 9,
   "metadata": {},
   "outputs": [],
   "source": [
    "max=float('-inf')\n",
    "p=[]\n",
    "for k in range(1,10):\n",
    "    r=list(map(int,input().split()))\n",
    "    for i,v in enumerate(r):\n",
    "        if v>max:\n",
    "            max=v\n",
    "            p=[k,(i+1)]\n",
    "print(max)\n",
    "print(*p)"
   ]
  },
  {
   "attachments": {},
   "cell_type": "markdown",
   "metadata": {},
   "source": [
    "#### 색종이\n",
    "- 붙이는건 10x10\n",
    "- 첫 번째 자연수는 색종이의 왼쪽 변과 도화지의 왼쪽 변 사이의 거리 -> x축\n",
    "- 두 번째 자연수는 색종이의 아래쪽 변과 도화지의 아래쪽 변 사이의 거리 ->  y축"
   ]
  },
  {
   "cell_type": "code",
   "execution_count": 11,
   "metadata": {},
   "outputs": [
    {
     "name": "stdout",
     "output_type": "stream",
     "text": [
      "260\n"
     ]
    }
   ],
   "source": [
    "p=[]\n",
    "c=0\n",
    "for _ in range(100):\n",
    "    l=[0]*100\n",
    "    p.append(l)\n",
    "t=int(input())\n",
    "for _ in range(t):\n",
    "    x,y=map(int,input().split())\n",
    "    for i in range(10):\n",
    "        for j in  range(10):\n",
    "            p[x+i][y+j]=1\n",
    "for r in p:\n",
    "    for j in r:\n",
    "        if j==1:c+=1\n",
    "print(c)"
   ]
  },
  {
   "attachments": {},
   "cell_type": "markdown",
   "metadata": {},
   "source": [
    "## 정렬"
   ]
  },
  {
   "attachments": {},
   "cell_type": "markdown",
   "metadata": {},
   "source": [
    "#### 수 정렬하기 "
   ]
  },
  {
   "cell_type": "code",
   "execution_count": 5,
   "metadata": {},
   "outputs": [
    {
     "name": "stdout",
     "output_type": "stream",
     "text": [
      "1\n",
      "2\n",
      "3\n",
      "4\n",
      "5\n"
     ]
    }
   ],
   "source": [
    "t=int(input())\n",
    "l=[]\n",
    "for _ in range(t):\n",
    "    a=int(input())\n",
    "    l.append(a)\n",
    "l.sort()\n",
    "for i in l:\n",
    "    print(i)"
   ]
  },
  {
   "attachments": {},
   "cell_type": "markdown",
   "metadata": {},
   "source": [
    "#### 대표값2\n",
    "- 평균값과 중앙값 구하는 프로그램을 작성하시오."
   ]
  },
  {
   "cell_type": "code",
   "execution_count": 3,
   "metadata": {},
   "outputs": [
    {
     "name": "stdout",
     "output_type": "stream",
     "text": [
      "34\n",
      "30\n"
     ]
    }
   ],
   "source": [
    "l=[]\n",
    "for _ in range(5):\n",
    "    n=int(input())\n",
    "    l.append(n)\n",
    "    l.sort()\n",
    "    a=int(sum(l)/len(l))\n",
    "    b=l[int(len(l)/2)]\n",
    "print(a)\n",
    "print(b)"
   ]
  },
  {
   "attachments": {},
   "cell_type": "markdown",
   "metadata": {},
   "source": [
    "#### 커트라인"
   ]
  },
  {
   "cell_type": "code",
   "execution_count": 5,
   "metadata": {},
   "outputs": [
    {
     "name": "stdout",
     "output_type": "stream",
     "text": [
      "98\n",
      "98\n"
     ]
    }
   ],
   "source": [
    "n,k=map(int,input().split())\n",
    "l=list(map(int,input().split()))\n",
    "l.sort()\n",
    "l=l[::-1]\n",
    "l=l[:k]\n",
    "print(l[-1])"
   ]
  },
  {
   "attachments": {},
   "cell_type": "markdown",
   "metadata": {},
   "source": [
    "#### 수 정렬하기2"
   ]
  },
  {
   "cell_type": "code",
   "execution_count": 1,
   "metadata": {},
   "outputs": [
    {
     "name": "stdout",
     "output_type": "stream",
     "text": [
      "1\n",
      "2\n",
      "3\n",
      "4\n",
      "5\n"
     ]
    }
   ],
   "source": [
    "import sys\n",
    "l=[]\n",
    "n=int(sys.stdin.readline().strip())\n",
    "for _ in range(n):\n",
    "    l.append(int(sys.stdin.readline().strip()))\n",
    "l.sort()\n",
    "for i in l:\n",
    "    print(i)"
   ]
  },
  {
   "attachments": {},
   "cell_type": "markdown",
   "metadata": {},
   "source": [
    "#### 수 정렬하기3\n",
    "- 모든 입력을 배열에 저장하면 메모리 초과"
   ]
  },
  {
   "cell_type": "code",
   "execution_count": 4,
   "metadata": {},
   "outputs": [
    {
     "name": "stdout",
     "output_type": "stream",
     "text": [
      "1\n",
      "1\n",
      "2\n",
      "2\n",
      "3\n",
      "3\n",
      "4\n",
      "5\n",
      "5\n",
      "7\n"
     ]
    }
   ],
   "source": [
    "import sys\n",
    "n=int(sys.stdin.readline()) \n",
    "numList=[0]*10001  # 메모리를 효율적으로 관리하기 위해 입력값이 최대치+1개 만큼 리스트를 만든다. (리스트가 0번 인덱스부터 시작하니까+1개)\n",
    "for _ in range(n):  # for문 속에서 append를 사용하게 되면 메모리 재할당이 이루어져서 메모리를 효율적으로 사용하지 못하기 때문이다.\n",
    "    numList[int(sys.stdin.readline())]+=1  # list의 각 요소마다 0을 할당해놓고 입력값을 받을 때마다 그 입력값과 같은 인덱스에 +1씩 해준다.\n",
    "for i in range(10001):\n",
    "    if numList[i]!=0:\n",
    "        for j in range(numList[i]):  # 해당 인덱스를 출력하는데 카운트 된 만큼 반복해서 출력한다.\n",
    "            print(i)"
   ]
  },
  {
   "attachments": {},
   "cell_type": "markdown",
   "metadata": {},
   "source": [
    "#### 통계학\n",
    "산술평균, 중앙값, 최빈값, 범위"
   ]
  },
  {
   "cell_type": "code",
   "execution_count": null,
   "metadata": {},
   "outputs": [],
   "source": [
    "import sys\n",
    "from collections import Counter\n",
    "n=int(sys.stdin.readline())\n",
    "l=[]\n",
    "for _ in range(n):\n",
    "    l.append(int(sys.stdin.readline()))\n",
    "l.sort()\n",
    "print(round(sum(l)/n))\n",
    "print(l[n//2])\n",
    "mode=Counter(l).most_common()\n",
    "if len(mode) > 1 and mode[0][1]==mode[1][1]:print(mode[1][0])\n",
    "else:print(mode[0][0])\n",
    "print(max(l)-min(l))"
   ]
  },
  {
   "cell_type": "code",
   "execution_count": 9,
   "metadata": {},
   "outputs": [
    {
     "name": "stdout",
     "output_type": "stream",
     "text": [
      "2\n",
      "8\n",
      "1\n",
      "10\n"
     ]
    }
   ],
   "source": [
    "# 틀린 코드\n",
    "def mode1(l):\n",
    "    dict={}\n",
    "    for i in l:\n",
    "        if dict.get(i) is None:dict[i]=1\n",
    "        else: dict[i]+=1\n",
    "    most=max(dict.values())\n",
    "    mostList=[]\n",
    "    for k,v in dict.items():\n",
    "        if v==most:\n",
    "            mostList.append(k)\n",
    "    mostList.sort()\n",
    "    if len(mostList)>1:\n",
    "        mostList=mostList[1]\n",
    "    return mostList\n",
    "\n",
    "l=[]\n",
    "n=int(input())\n",
    "for _ in range(n):\n",
    "    l.append(int(input()))\n",
    "\n",
    "print(int(sum(l)/n))\n",
    "print(l[int(n//2)])\n",
    "print(mode1(l))\n",
    "print(max(l)-min(l))\n"
   ]
  },
  {
   "attachments": {},
   "cell_type": "markdown",
   "metadata": {},
   "source": [
    "#### 소트인사이드"
   ]
  },
  {
   "cell_type": "code",
   "execution_count": 5,
   "metadata": {},
   "outputs": [
    {
     "name": "stdout",
     "output_type": "stream",
     "text": [
      "54321"
     ]
    }
   ],
   "source": [
    "l=[]\n",
    "n=input()\n",
    "for i in n:\n",
    "    l.append(i)\n",
    "l.sort(reverse=True)\n",
    "for j in l:\n",
    "    print(j, end='')"
   ]
  },
  {
   "attachments": {},
   "cell_type": "markdown",
   "metadata": {},
   "source": [
    "#### 좌표 정렬하기\n",
    "1순위 x좌표 오름차순, 2순위 y좌표 오름차순 "
   ]
  },
  {
   "cell_type": "code",
   "execution_count": 1,
   "metadata": {},
   "outputs": [
    {
     "ename": "ValueError",
     "evalue": "invalid literal for int() with base 10: ''",
     "output_type": "error",
     "traceback": [
      "\u001b[0;31m---------------------------------------------------------------------------\u001b[0m",
      "\u001b[0;31mValueError\u001b[0m                                Traceback (most recent call last)",
      "Cell \u001b[0;32mIn[1], line 3\u001b[0m\n\u001b[1;32m      1\u001b[0m l\u001b[39m=\u001b[39m[]\n\u001b[1;32m      2\u001b[0m \u001b[39mimport\u001b[39;00m \u001b[39msys\u001b[39;00m\n\u001b[0;32m----> 3\u001b[0m n\u001b[39m=\u001b[39m\u001b[39mint\u001b[39;49m(sys\u001b[39m.\u001b[39;49mstdin\u001b[39m.\u001b[39;49mreadline()\u001b[39m.\u001b[39;49mstrip())\n\u001b[1;32m      4\u001b[0m \u001b[39mfor\u001b[39;00m _ \u001b[39min\u001b[39;00m \u001b[39mrange\u001b[39m(n):\n\u001b[1;32m      5\u001b[0m     x,y\u001b[39m=\u001b[39m\u001b[39mmap\u001b[39m(\u001b[39mint\u001b[39m,sys\u001b[39m.\u001b[39mstdin\u001b[39m.\u001b[39mreadline()\u001b[39m.\u001b[39mstrip())\n",
      "\u001b[0;31mValueError\u001b[0m: invalid literal for int() with base 10: ''"
     ]
    }
   ],
   "source": [
    "# 이건 틀린코드\n",
    "l=[]\n",
    "import sys\n",
    "n=int(sys.stdin.readline())\n",
    "for _ in range(n):\n",
    "    [x,y]=map(int,sys.stdin.readline().strip())\n",
    "    l.append([x,y])\n",
    "l.sort()\n",
    "for a,b in l:\n",
    "    print(a,b)"
   ]
  },
  {
   "cell_type": "code",
   "execution_count": 7,
   "metadata": {},
   "outputs": [
    {
     "ename": "ValueError",
     "evalue": "invalid literal for int() with base 10: ''",
     "output_type": "error",
     "traceback": [
      "\u001b[0;31m---------------------------------------------------------------------------\u001b[0m",
      "\u001b[0;31mValueError\u001b[0m                                Traceback (most recent call last)",
      "Cell \u001b[0;32mIn[7], line 3\u001b[0m\n\u001b[1;32m      1\u001b[0m l\u001b[39m=\u001b[39m[]\n\u001b[1;32m      2\u001b[0m \u001b[39mimport\u001b[39;00m \u001b[39msys\u001b[39;00m\n\u001b[0;32m----> 3\u001b[0m n\u001b[39m=\u001b[39m\u001b[39mint\u001b[39;49m(\u001b[39minput\u001b[39;49m())\n\u001b[1;32m      4\u001b[0m \u001b[39mfor\u001b[39;00m _ \u001b[39min\u001b[39;00m \u001b[39mrange\u001b[39m(n):\n\u001b[1;32m      5\u001b[0m     x,y\u001b[39m=\u001b[39m\u001b[39mmap\u001b[39m(\u001b[39mint\u001b[39m,\u001b[39minput\u001b[39m()\u001b[39m.\u001b[39msplit())\n",
      "\u001b[0;31mValueError\u001b[0m: invalid literal for int() with base 10: ''"
     ]
    }
   ],
   "source": [
    "# 이건 맞은 코드\n",
    "l=[]\n",
    "import sys\n",
    "n=int(input())\n",
    "for _ in range(n):\n",
    "    [x,y]=map(int,input().split())\n",
    "    l.append([x,y])\n",
    "l.sort()\n",
    "for a,b in l:\n",
    "    print(a,b)"
   ]
  },
  {
   "attachments": {},
   "cell_type": "markdown",
   "metadata": {},
   "source": [
    "#### 좌표정렬하기 2"
   ]
  },
  {
   "cell_type": "code",
   "execution_count": null,
   "metadata": {},
   "outputs": [],
   "source": [
    "import sys\n",
    "input=sys.stdin.readline\n",
    "n=int(input())\n",
    "l=[]\n",
    "for _ in range(n):\n",
    "    x,y=map(int,input().split())\n",
    "    l.append([y,x])\n",
    "l.sort()\n",
    "for y,x in l:\n",
    "    print(x,y)"
   ]
  },
  {
   "cell_type": "code",
   "execution_count": null,
   "metadata": {},
   "outputs": [],
   "source": [
    "# Q ?\n",
    "input = lambda: sys.stdin.readline().rstrip()"
   ]
  },
  {
   "cell_type": "code",
   "execution_count": 28,
   "metadata": {},
   "outputs": [
    {
     "name": "stdout",
     "output_type": "stream",
     "text": [
      "i\n",
      "im\n",
      "it\n",
      "no\n",
      "but\n",
      "more\n",
      "wait\n",
      "wont\n",
      "yours\n",
      "cannot\n",
      "hesitate\n"
     ]
    }
   ],
   "source": [
    "import sys\n",
    "# sys.stdin=open(\"input.txt\", \"r\")\n",
    "n=int(sys.stdin.readline().strip())\n",
    "l=set()\n",
    "for _ in range(n):\n",
    "    a=sys.stdin.readline().strip()\n",
    "    l.add(a)\n",
    "a=[]\n",
    "for i in l:\n",
    "    a.append([len(i),i])\n",
    "a.sort()\n",
    "for j in range(len(a)):\n",
    "    print(a[j][1])"
   ]
  },
  {
   "attachments": {},
   "cell_type": "markdown",
   "metadata": {},
   "source": [
    "#### 나이순 정렬"
   ]
  },
  {
   "cell_type": "code",
   "execution_count": 7,
   "metadata": {},
   "outputs": [
    {
     "name": "stdout",
     "output_type": "stream",
     "text": [
      "20 Sunyoung\n",
      "21 Dohyun\n",
      "21 Junkyu\n"
     ]
    }
   ],
   "source": [
    "import sys\n",
    "sys.stdin=open('input.txt','r')\n",
    "l=[]\n",
    "n=int(sys.stdin.readline().strip())\n",
    "for _ in range(n):\n",
    "    a=[sys.stdin.readline().strip()]\n",
    "    l.append(a)\n",
    "l.sort()\n",
    "for i in l:\n",
    "    print(*i)"
   ]
  },
  {
   "cell_type": "code",
   "execution_count": 16,
   "metadata": {},
   "outputs": [
    {
     "name": "stdout",
     "output_type": "stream",
     "text": [
      "20 Sunyoung\n",
      "21 Junkyu\n",
      "21 Dohyun\n"
     ]
    }
   ],
   "source": [
    "import sys\n",
    "# sys.stdin=open('input.txt','r')\n",
    "l=[]\n",
    "c=0\n",
    "n=int(sys.stdin.readline().strip())\n",
    "for _ in range(n):\n",
    "    a,b=sys.stdin.readline().split()\n",
    "    a=int(a)\n",
    "    l.append([a,c,b])\n",
    "    c+=1\n",
    "l.sort()\n",
    "for i in range(len(l)):\n",
    "    print(l[i][0],l[i][2])"
   ]
  },
  {
   "attachments": {},
   "cell_type": "markdown",
   "metadata": {},
   "source": [
    "#### 좌표 압축\n",
    "- 수직선 위에 N개의 좌표 X1, X2, ..., XN이 있다. 이 좌표에 좌표 압축을 적용하려고 한다.  \n",
    "Xi를 좌표 압축한 결과 X'i의 값은 Xi > Xj를 만족하는 서로 다른 좌표의 개수와 같아야 한다.  \n",
    "X1, X2, ..., XN에 좌표 압축을 적용한 결과 X'1, X'2, ..., X'N를 출력해보자.  \n",
    "\n",
    "- 좌표가 주어지니 n차원의 좌표인데, 문제에서는 X만 변수로 보는 것을 보니 1차원 좌표계임이 분명하다고 볼 수 있습니다.  \n",
    "좌표는 나열된 순서에 상관없이 위치 그 자체를 나타내겠죠?  \n",
    "예를 들어, 중복을 허용하는 집합인(말이 좀 안되긴 하지만) 좌표 집합 A={3, -1, 5, 2, 2} 와 좌표 집합 B={2, -1, 5, 2, 3} 은 같다고 볼 수 있습니다.  \n",
    "서로 다른이라는 정의를 좌표의 관점에서 보면, 좌표가 서로 다른 것은 좌표의 위치가 다르다고 할 수 있습니다.  \n",
    "나열된 순서는 좌표의 위치가 아닙니다. 첫 번째의 1000과 두 번째의 1000은 나열된 '같은' 좌표입니다. (수학적 용어로 동치)  \n",
    "뭐 1000이라는 좌표가 세 개 있다고 세 개의 좌표가 서로 다른 좌표라고 하시면 저는 할 말이 없습니다.  \n",
    "수학에서의 동치관계는, 반사적이면서 대칭적이면서 추이적인 이항관계를 동치관계라고 한다고 합니다.  "
   ]
  },
  {
   "cell_type": "code",
   "execution_count": 48,
   "metadata": {},
   "outputs": [
    {
     "name": "stdout",
     "output_type": "stream",
     "text": [
      "dict_keys([0, 1, 2, 3, 4])\n",
      "dict_keys([0, 1, 2, 3, 4])\n",
      "dict_keys([0, 1, 2, 3, 4])\n",
      "dict_keys([0, 1, 2, 3, 4])\n",
      "dict_keys([0, 1, 2, 3, 4])\n",
      "dict_keys([0, 1, 2, 3, 4])\n",
      "dict_keys([0, 1, 2, 3, 4])\n"
     ]
    }
   ],
   "source": [
    "# import sys\n",
    "# sys.stdin=open(\"input.txt\",\"r\")\n",
    "# n=int(sys.stdin.readline().strip())\n",
    "# l=list(map(int,sys.stdin.readline().split()))\n",
    "# sl=sorted(l)\n",
    "# dict={}\n",
    "# index=0\n",
    "# for i in sl:\n",
    "#     dict[index]=i\n",
    "#     index+=1\n",
    "# for j in l:\n",
    "#     for k in range(len(dict)):\n",
    "#         if j==dict[k]:"
   ]
  },
  {
   "cell_type": "code",
   "execution_count": 65,
   "metadata": {},
   "outputs": [
    {
     "name": "stdout",
     "output_type": "stream",
     "text": [
      "1 0 1 0 1 0 "
     ]
    }
   ],
   "source": [
    "## 시간초과\n",
    "import sys\n",
    "sys.stdin=open(\"input.txt\",\"r\")\n",
    "n=int(sys.stdin.readline().strip())\n",
    "l=list(map(int,sys.stdin.readline().split()))\n",
    "al=set(l)\n",
    "sl=sorted(al)\n",
    "for i in l:\n",
    "    for j in range(len(sl)):\n",
    "        if i==sl[j]:\n",
    "            print(j, end=' ')\n",
    "            break"
   ]
  },
  {
   "cell_type": "code",
   "execution_count": 70,
   "metadata": {},
   "outputs": [
    {
     "name": "stdout",
     "output_type": "stream",
     "text": [
      "1 0 1 0 1 0 "
     ]
    }
   ],
   "source": [
    "import sys\n",
    "sys.stdin=open(\"input.txt\",\"r\")\n",
    "n=int(sys.stdin.readline().strip())\n",
    "l=list(map(int,sys.stdin.readline().split()))\n",
    "\n",
    "\n",
    "sl=sorted(set(l))\n",
    "# for i in range(len(sl)):\n",
    "#     dic={sl[i]}\n",
    "\n",
    "dic={sl[i] : i for i in range(len(sl))}\n",
    "\n",
    "\n",
    "for i in l:\n",
    "    print(dic[i], end = ' ')"
   ]
  },
  {
   "cell_type": "markdown",
   "metadata": {},
   "source": [
    "## 재귀"
   ]
  },
  {
   "cell_type": "markdown",
   "metadata": {},
   "source": [
    "#### 팩토리얼"
   ]
  },
  {
   "cell_type": "code",
   "execution_count": 3,
   "metadata": {},
   "outputs": [
    {
     "name": "stdout",
     "output_type": "stream",
     "text": [
      "3628800\n"
     ]
    }
   ],
   "source": [
    "import sys\n",
    "sys.stdin=open(\"input.txt\",\"r\")\n",
    "def f(n):\n",
    "    if n>1:return n*f(n-1)\n",
    "    else:return 1\n",
    "n=int(sys.stdin.readline().strip())\n",
    "print(f(n))\n"
   ]
  },
  {
   "attachments": {},
   "cell_type": "markdown",
   "metadata": {},
   "source": [
    "#### 피보나치 수  5"
   ]
  },
  {
   "cell_type": "code",
   "execution_count": 25,
   "metadata": {},
   "outputs": [
    {
     "data": {
      "text/plain": [
       "55"
      ]
     },
     "execution_count": 25,
     "metadata": {},
     "output_type": "execute_result"
    }
   ],
   "source": [
    "def fibo(n):\n",
    "    if n<2:return n\n",
    "    else: return fibo(n-1)+fibo(n-2)\n",
    "print(fibo(int(input())))\n"
   ]
  },
  {
   "attachments": {},
   "cell_type": "markdown",
   "metadata": {},
   "source": [
    "#### 재귀의 귀재"
   ]
  },
  {
   "cell_type": "code",
   "execution_count": 15,
   "metadata": {},
   "outputs": [
    {
     "name": "stdout",
     "output_type": "stream",
     "text": [
      "1 2\n",
      "1 3\n",
      "1 3\n",
      "0 2\n",
      "0 1\n"
     ]
    }
   ],
   "source": [
    "import sys\n",
    "cnt=1\n",
    "sys.stdin=open(\"input.txt\",\"r\")\n",
    "def recursion(s, l, r):\n",
    "    global cnt\n",
    "    if l >= r: return 1\n",
    "    elif s[l] != s[r]: return 0\n",
    "    else: \n",
    "        cnt+=1\n",
    "        return recursion(s, l+1, r-1)\n",
    "def isPalindrome(s):\n",
    "    return recursion(s, 0, len(s)-1)\n",
    "t=int(sys.stdin.readline().strip())\n",
    "for _ in range(t):\n",
    "    cnt\n",
    "    c=sys.stdin.readline().strip()\n",
    "    print(isPalindrome(c),cnt)\n",
    "    cnt=1"
   ]
  },
  {
   "attachments": {},
   "cell_type": "markdown",
   "metadata": {},
   "source": [
    "- 사용자 정의함수에서 전역변수 쓰려면 global 선언해줘야하고,\n",
    "- 반복문에서 쓸때는 global 선언 하면 안된다. "
   ]
  },
  {
   "cell_type": "code",
   "execution_count": 16,
   "metadata": {},
   "outputs": [
    {
     "name": "stdout",
     "output_type": "stream",
     "text": [
      "1 2\n",
      "1 3\n",
      "1 3\n",
      "0 2\n",
      "0 1\n"
     ]
    }
   ],
   "source": [
    "import sys\n",
    "cnt=1\n",
    "sys.stdin=open(\"input.txt\",\"r\")\n",
    "def recursion(s, l, r):\n",
    "    global cnt\n",
    "    if l >= r: return 1\n",
    "    elif s[l] != s[r]: return 0\n",
    "    else: \n",
    "        cnt+=1\n",
    "        return recursion(s, l+1, r-1)\n",
    "def isPalindrome(s):\n",
    "    return recursion(s, 0, len(s)-1)\n",
    "t=int(sys.stdin.readline().strip())\n",
    "for _ in range(t):\n",
    "    cnt\n",
    "    c=sys.stdin.readline().strip()\n",
    "    print(isPalindrome(c),cnt)\n",
    "    cnt=1"
   ]
  },
  {
   "cell_type": "code",
   "execution_count": 1,
   "metadata": {},
   "outputs": [
    {
     "name": "stdout",
     "output_type": "stream",
     "text": [
      "ABBA: 1\n",
      "ABC: 0\n"
     ]
    }
   ],
   "source": [
    "def recursion(s, l, r):\n",
    "    if l >= r: return 1\n",
    "    elif s[l] != s[r]: return 0\n",
    "    else: return recursion(s, l+1, r-1)\n",
    "\n",
    "def isPalindrome(s):\n",
    "    return recursion(s, 0, len(s)-1)\n",
    "\n",
    "print('ABBA:', isPalindrome('ABBA'))\n",
    "print('ABC:', isPalindrome('ABC'))"
   ]
  },
  {
   "attachments": {},
   "cell_type": "markdown",
   "metadata": {},
   "source": [
    "#### 병합정렬\n",
    "- 분할정복 + 재귀알고리즘\n",
    "- 주어진 배열을 원소가 하나 밖에 남지 않을 때까지 계속 둘로 쪼갠 후 다시 크기순으로 재배열 하면서 원래 크기의 배열로 합친다."
   ]
  },
  {
   "cell_type": "code",
   "execution_count": 2,
   "metadata": {},
   "outputs": [
    {
     "name": "stdout",
     "output_type": "stream",
     "text": [
      "3\n"
     ]
    }
   ],
   "source": [
    "import sys\n",
    "def mergeSort(l):\n",
    "    if len(l)==1:return l\n",
    "    mid=(len(l)+1)//2  # 배열의 길이가 홀수인 경우 앞에더 많이줄지 뒤에 더 많이줄지 정해야하는데 예재는 앞에 더 많이 준다.\n",
    "    left=mergeSort(l[:mid])\n",
    "    right=mergeSort(l[mid:])\n",
    "    l2=[]\n",
    "    i=0\n",
    "    j=0\n",
    "    while i<len(left) and j<len(right):\n",
    "        if left[i]<right[j]:\n",
    "            l2.append(left[i])\n",
    "            res.append(left[i])\n",
    "            i+=1\n",
    "        else:\n",
    "            l2.append(right[j])\n",
    "            res.append(right[j])\n",
    "            j+=1\n",
    "    while i<len(left):\n",
    "        l2.append(left[i])\n",
    "        res.append(left[i])\n",
    "        i+=1\n",
    "    while  j<len(right):\n",
    "        l2.append(right[j])\n",
    "        res.append(right[j])\n",
    "        j+=1        \n",
    "    return l2\n",
    "    \n",
    "n,k=map(int,sys.stdin.readline().strip().split())\n",
    "l=list(map(int,sys.stdin.readline().strip().split()))\n",
    "\n",
    "res=[]\n",
    "mergeSort(l)\n",
    "\n",
    "if len(res)>=k:\n",
    "    print(res[k-1])\n",
    "else:\n",
    "    print(-1)"
   ]
  },
  {
   "attachments": {},
   "cell_type": "markdown",
   "metadata": {},
   "source": [
    "#### 별 찍기 -10\n",
    "- 분할정복문제 : 큰문제를 작은 문제로 쪼개어 해결\n",
    "- 문를 풀기위한 규칙부터 찾아야 한다.\n",
    "https://hongcoding.tistory.com/85"
   ]
  },
  {
   "cell_type": "code",
   "execution_count": 1,
   "metadata": {},
   "outputs": [
    {
     "name": "stdout",
     "output_type": "stream",
     "text": [
      "***************************\n",
      "* ** ** ** ** ** ** ** ** *\n",
      "***************************\n",
      "***   ******   ******   ***\n",
      "* *   * ** *   * ** *   * *\n",
      "***   ******   ******   ***\n",
      "***************************\n",
      "* ** ** ** ** ** ** ** ** *\n",
      "***************************\n",
      "*********         *********\n",
      "* ** ** *         * ** ** *\n",
      "*********         *********\n",
      "***   ***         ***   ***\n",
      "* *   * *         * *   * *\n",
      "***   ***         ***   ***\n",
      "*********         *********\n",
      "* ** ** *         * ** ** *\n",
      "*********         *********\n",
      "***************************\n",
      "* ** ** ** ** ** ** ** ** *\n",
      "***************************\n",
      "***   ******   ******   ***\n",
      "* *   * ** *   * ** *   * *\n",
      "***   ******   ******   ***\n",
      "***************************\n",
      "* ** ** ** ** ** ** ** ** *\n",
      "***************************\n"
     ]
    }
   ],
   "source": [
    "import sys\n",
    "sys.stdin=open(\"input.txt\",\"r\")\n",
    "n=int(sys.stdin.readline().strip())\n",
    "\n",
    "def func(a):\n",
    "    res=[]\n",
    "    if a==3:\n",
    "        return ['***','* *','***']\n",
    "    l=func(a//3)\n",
    "    for i in l:\n",
    "        res.append(i*3)\n",
    "    for j in l:\n",
    "        res.append(j+' '*(a//3)+j)\n",
    "    for k in l:\n",
    "        res.append(k*3)\n",
    "    return res\n",
    "\n",
    "print('\\n'.join(func(n)))"
   ]
  },
  {
   "cell_type": "code",
   "execution_count": null,
   "metadata": {},
   "outputs": [],
   "source": [
    "n = int(input())\n",
    "\n",
    "# 기본모양\n",
    "star = [\"***\", \"* *\", \"***\"]\n",
    "cnt = 0\n",
    "\n",
    "# 함수 정의\n",
    "def getStars(star):\n",
    "    mat = []\n",
    "    for i in range(3 * len(star)):\n",
    "        if i // len(star) == 1:\n",
    "            mat.append(star[i % len(star)] + \" \" * len(star) + star[i % len(star)])\n",
    "        else:\n",
    "            mat.append(star[i % len(star)] * 3)\n",
    "    return mat\n",
    "\n",
    "# 몇번 반복하지를 정해준다\n",
    "while n > 3:\n",
    "    n /= 3\n",
    "    cnt += 1\n",
    "\n",
    "\n",
    "for i in range(cnt):\n",
    "    star = getStars(star)\n",
    "\n",
    "for i in star:\n",
    "    print(i)"
   ]
  },
  {
   "attachments": {},
   "cell_type": "markdown",
   "metadata": {},
   "source": [
    "## 재귀 - 하노이 탑 이동"
   ]
  },
  {
   "cell_type": "code",
   "execution_count": 2,
   "metadata": {},
   "outputs": [],
   "source": [
    "import sys\n",
    "sys.stdin=open(\"input.txt\",\"r\")\n",
    "\n",
    "n=sys.stdin.readline().strip()\n",
    "\n",
    "a,b,c=[1,2,3,4,5],[],[]\n",
    "\n",
    "\n"
   ]
  },
  {
   "attachments": {},
   "cell_type": "markdown",
   "metadata": {},
   "source": [
    "## 브루트 포스"
   ]
  },
  {
   "attachments": {},
   "cell_type": "markdown",
   "metadata": {},
   "source": [
    "#### 블랙잭"
   ]
  },
  {
   "cell_type": "code",
   "execution_count": 8,
   "metadata": {},
   "outputs": [
    {
     "name": "stdout",
     "output_type": "stream",
     "text": [
      "21\n"
     ]
    }
   ],
   "source": [
    "import sys\n",
    "sys.stdin=open(\"input.txt\",\"r\")\n",
    "n,m=map(int,sys.stdin.readline().strip().split())\n",
    "l=list(map(int,sys.stdin.readline().strip().split()))\n",
    "best=0\n",
    "for i in range(n):\n",
    "    for j in range(i+1,n):\n",
    "        for k in range(j+1,n):\n",
    "            if l[i]+l[j]+l[k]>m:\n",
    "                continue\n",
    "            else: best=max(best,l[i]+l[j]+l[k])\n",
    "print(best)\n",
    "\n"
   ]
  },
  {
   "cell_type": "markdown",
   "metadata": {},
   "source": [
    "#### 분해합"
   ]
  },
  {
   "cell_type": "code",
   "execution_count": 4,
   "metadata": {},
   "outputs": [
    {
     "name": "stdout",
     "output_type": "stream",
     "text": [
      "198\n"
     ]
    }
   ],
   "source": [
    "import sys\n",
    "sys.stdin=open(\"input.txt\",\"r\")\n",
    "n=int(sys.stdin.readline().strip())\n",
    "\n",
    "for i in range(1,n+1):\n",
    "    # i의 각 자리 수를 더하고\n",
    "    num=sum(map(int,str(i)))\n",
    "    # 자리수 합과 자기 자신을 더한다\n",
    "    nsum=i+num\n",
    "    if nsum==n:\n",
    "        print(i)\n",
    "        break\n",
    "    if i==n:print(0)"
   ]
  },
  {
   "attachments": {},
   "cell_type": "markdown",
   "metadata": {},
   "source": [
    "#### 덩치"
   ]
  },
  {
   "cell_type": "code",
   "execution_count": 10,
   "metadata": {},
   "outputs": [
    {
     "name": "stdout",
     "output_type": "stream",
     "text": [
      "2 2 1 2 5 "
     ]
    }
   ],
   "source": [
    "import sys\n",
    "sys.stdin=open(\"input.txt\",\"r\")\n",
    "n=int(sys.stdin.readline().strip())\n",
    "l=[]\n",
    "for _ in range(n):\n",
    "    w,h=map(int,sys.stdin.readline().strip().split())\n",
    "    l.append((w,h))\n",
    "for i in l:\n",
    "    r=1\n",
    "    for j in l:\n",
    "        if i[0]<j[0] and i[1]<j[1]:r+=1\n",
    "    print(r, end=\" \")"
   ]
  },
  {
   "attachments": {},
   "cell_type": "markdown",
   "metadata": {},
   "source": [
    "#### 체스판 다시 칠하기\n",
    "- 체스판을 색칠하는 경우는 두 가지뿐이다. 하나는 맨 왼쪽 위 칸이 흰색인 경우, 하나는 검은색인 경우이다."
   ]
  },
  {
   "cell_type": "code",
   "execution_count": 5,
   "metadata": {},
   "outputs": [
    {
     "name": "stdout",
     "output_type": "stream",
     "text": [
      "1\n"
     ]
    }
   ],
   "source": [
    "import sys\n",
    "sys.stdin=open(\"input.txt\",\"r\")\n",
    "n,m=map(int,sys.stdin.readline().split())\n",
    "board=[]\n",
    "res=[]\n",
    "for _ in range(n):\n",
    "    board.append(sys.stdin.readline().strip())\n",
    "# 체스판 사이즈가 8x8이기 때문에 -7해서 공간을 확보해두는 것\n",
    "for i in range(n-7):\n",
    "    for j in range(m-7):\n",
    "        W=0\n",
    "        B=0\n",
    "# 8x8 체스판 생성\n",
    "        for h in range(i,i+8):\n",
    "            for w in range(j,j+8):\n",
    "                # 짝수일 때\n",
    "                if (h+w)%2==0:\n",
    "                    if board[h][w]!='W':W+=1\n",
    "                    if board[h][w]!='B':B+=1\n",
    "                # 홀수 일 때\n",
    "                else:\n",
    "                    if board[h][w]!='B':W+=1\n",
    "                    if board[h][w]!='W':B+=1\n",
    "        res.append(W)\n",
    "        res.append(B)\n",
    "print(min(res))\n",
    "                    "
   ]
  },
  {
   "attachments": {},
   "cell_type": "markdown",
   "metadata": {},
   "source": [
    "### 브루트포스 - 영화감독 숌"
   ]
  },
  {
   "cell_type": "code",
   "execution_count": null,
   "metadata": {},
   "outputs": [],
   "source": []
  },
  {
   "attachments": {},
   "cell_type": "markdown",
   "metadata": {},
   "source": [
    "## 집합과 맵"
   ]
  },
  {
   "attachments": {},
   "cell_type": "markdown",
   "metadata": {},
   "source": [
    "#### 숫자카드"
   ]
  },
  {
   "cell_type": "code",
   "execution_count": null,
   "metadata": {},
   "outputs": [],
   "source": []
  },
  {
   "cell_type": "code",
   "execution_count": null,
   "metadata": {},
   "outputs": [],
   "source": []
  }
 ],
 "metadata": {
  "kernelspec": {
   "display_name": "base",
   "language": "python",
   "name": "python3"
  },
  "language_info": {
   "codemirror_mode": {
    "name": "ipython",
    "version": 3
   },
   "file_extension": ".py",
   "mimetype": "text/x-python",
   "name": "python",
   "nbconvert_exporter": "python",
   "pygments_lexer": "ipython3",
   "version": "3.10.8"
  },
  "orig_nbformat": 4,
  "vscode": {
   "interpreter": {
    "hash": "c6e4e9f98eb68ad3b7c296f83d20e6de614cb42e90992a65aa266555a3137d0d"
   }
  }
 },
 "nbformat": 4,
 "nbformat_minor": 2
}
