{
 "cells": [
  {
   "attachments": {},
   "cell_type": "markdown",
   "metadata": {},
   "source": [
    "# 이분 검색"
   ]
  },
  {
   "cell_type": "markdown",
   "metadata": {},
   "source": [
    "- (중요!)먼저 정렬을 해놔야한다!\n",
    "- 맨 왼쪽 인덱스 가르키는 변수(lt)와 맨 오른쪽을 인덱스 가르키는 변수(rt) \n",
    "- lt ~ rt 검색하고자하는 데이터의 범위 \n",
    "- mid라는 중간 변수를 지정 (mid=lt+rt // 2)\n",
    "1. mid가 찾고자하는 숫자인지 확인\n",
    "2. 아니면 큰지 작은지 비교한 뒤 그 방향으로 찾으러 감\n",
    "3. 검색할때마다 답이 아닌 절반을 날리면서 찾는다. (그래서 logN번만에 찾을 수 있다)"
   ]
  },
  {
   "cell_type": "code",
   "execution_count": 29,
   "metadata": {},
   "outputs": [
    {
     "name": "stdout",
     "output_type": "stream",
     "text": [
      "3\n"
     ]
    }
   ],
   "source": [
    "n,m=map(int,input().split())\n",
    "l=list(map(int,input().split()))\n",
    "l.sort()\n",
    "\n",
    "lt=0\n",
    "rt=n-1\n",
    " \n",
    "while lt<=rt:\n",
    "    mid=(lt+rt)//2\n",
    "    if l[mid]==m:\n",
    "        print(mid+1)\n",
    "        break\n",
    "    elif l[mid]>m:\n",
    "        rt=mid-1\n",
    "    else: lt=mid+1"
   ]
  },
  {
   "attachments": {},
   "cell_type": "markdown",
   "metadata": {},
   "source": [
    "# 결정알고리즘"
   ]
  },
  {
   "attachments": {},
   "cell_type": "markdown",
   "metadata": {},
   "source": [
    "- 답이 특정 범위 안에 있다라는 것을 바로 알 수 있다. (몇부터 몇 사이에 답이 있는지 알 수 있다.)\n",
    "- 범위 내에 서 이분 알고리즘을 써서 그게 답인지 아닌지 확인하는 함수를 만들어서 확인을 한다.\n",
    "- 남은 답 중에서 더 좋은 답이 있는지 확인하는 방식으로 진행한다."
   ]
  },
  {
   "attachments": {},
   "cell_type": "markdown",
   "metadata": {},
   "source": [
    "## 랜선 자르기(결정알고리즘)\n",
    "- 1. 답은 1부터 제일 긴 랜선길이 중에 있다."
   ]
  },
  {
   "cell_type": "code",
   "execution_count": 20,
   "metadata": {},
   "outputs": [
    {
     "name": "stdout",
     "output_type": "stream",
     "text": [
      "200\n"
     ]
    }
   ],
   "source": [
    "l=[]\n",
    "k,n=map(int,input().split())\n",
    "for _ in range(k):\n",
    "    l.append(int(input()))\n",
    "\n",
    "lt=1\n",
    "rt=max(l)\n",
    "\n",
    "while lt<=rt:\n",
    "    r=0\n",
    "    mid=((lt+rt)//2)\n",
    "    for i in l:\n",
    "        r+=i//mid\n",
    "    if r==n:break\n",
    "    elif r<n:rt=mid-1\n",
    "    else: lt=mid+1\n",
    "print(mid)"
   ]
  },
  {
   "cell_type": "code",
   "execution_count": null,
   "metadata": {},
   "outputs": [],
   "source": [
    "# 선생님 코드\n",
    "def Count(len):\n",
    "    cnt=0\n",
    "    for x in Line:\n",
    "        cnd+=(x//len)\n",
    "    return cnt\n",
    "\n",
    "k,n=map(int,input().split())\n",
    "Line=[]\n",
    "res=0\n",
    "largest=0\n",
    "\n",
    "for i in range(k):\n",
    "    tmp=int(input())\n",
    "    Line.append(tmp)\n",
    "    largest=max(largest,tmp)\n",
    "    lt=1\n",
    "    rt=larges\n",
    "\n",
    "while lt=<rt:\n",
    "    mid=(lt+rt)//2\n",
    "    if Count(mid)>=n:\n",
    "        res=mid\n",
    "        lt=mid+1\n",
    "    else:\n",
    "        rt=mid-1\n",
    "\n",
    "print(res)"
   ]
  },
  {
   "attachments": {},
   "cell_type": "markdown",
   "metadata": {},
   "source": [
    "## 뮤직비디오(결정알고리즘)\n",
    "- n: 부른 노래 수 / m: dvd수\n",
    "- 구하고자하는 것 DVD의 최소 용량 크기\n",
    "- 답은 1부터 모든 곡의 용량합 사이에 있다."
   ]
  },
  {
   "cell_type": "code",
   "execution_count": 9,
   "metadata": {},
   "outputs": [
    {
     "name": "stdout",
     "output_type": "stream",
     "text": [
      "9\n"
     ]
    }
   ],
   "source": [
    "# 선생님 코드\n",
    "def func(capacity):\n",
    "    cnt=1\n",
    "    sum=0\n",
    "    for i in l:\n",
    "        if sum+i>capacity:\n",
    "            cnt+=1 # 용량 초과하니가 dvd새로 필요하다\n",
    "            sum=i # 첫번째곡 < 새로운 dvd에 이 노래르 무조건 넣고 있지만 노래 중 가장 길이가 긴 노래를 담을 수 있어야한다.\n",
    "        else: sum+=i\n",
    "    return cnt\n",
    "\n",
    "n,m=map(int,input().split())\n",
    "l=list(map(int,input().split()))\n",
    "maxx=max(l) # 여기서 노래 중 용량이 가장 큰 곡을 구한다.\n",
    "lt=1\n",
    "rt=sum(l)\n",
    "res=0\n",
    "\n",
    "while lt<=rt:\n",
    "    mid=(lt+rt)//2\n",
    "    if mid>=maxx and func(mid)<=m: # 노래 중에서 용량이 가장 큰 곡은 dvd용량보다 크거나 같아야 한다는 조건을 삽입\n",
    "        res=mid\n",
    "        rt=mid-1\n",
    "    else:lt=mid+1\n",
    "\n",
    "print(res)"
   ]
  },
  {
   "attachments": {},
   "cell_type": "markdown",
   "metadata": {},
   "source": [
    "## 마구간 정하기(결정알고리즘)\n",
    "n개의 수직선 위 점 위에 c마리의 말을 배치하는데 가장 가까운 말의 위치가 최대가 되도록 배치하고  \n",
    "가장 가까운 말들 사이의 거리를 출력하는 프로그램\n",
    "- 답은 수직선의 시작과 끝 사이 거리 범위 안에 존재"
   ]
  },
  {
   "cell_type": "code",
   "execution_count": 18,
   "metadata": {},
   "outputs": [
    {
     "name": "stdout",
     "output_type": "stream",
     "text": [
      "3\n"
     ]
    }
   ],
   "source": [
    "def func(len):\n",
    "    cnt=1 # 첫번째 말\n",
    "    endpoint=l[0] # 마지막에 말을 배치한 지점\n",
    "    for i in range(1,n):\n",
    "        if l[i]-endpoint>=len: # 현재배치하려는 말과 마지막에 배치하려는 말의 거리\n",
    "            cnt+=1\n",
    "            endpoint=l[i]\n",
    "    return cnt\n",
    "\n",
    "l=[]\n",
    "n,c=map(int,input().split())\n",
    "for _ in range(n):\n",
    "    l.append(int(input()))\n",
    "l.sort()\n",
    "lt=1\n",
    "rt=max(l)-1\n",
    "res=0\n",
    "\n",
    "while lt<=rt:\n",
    "    mid=(lt+rt)//2\n",
    "    if func(mid)>=c:\n",
    "        res=mid\n",
    "        lt=mid+1\n",
    "    else:rt=mid-1\n",
    "print(res)\n"
   ]
  },
  {
   "attachments": {},
   "cell_type": "markdown",
   "metadata": {},
   "source": [
    "# 그리디"
   ]
  },
  {
   "attachments": {},
   "cell_type": "markdown",
   "metadata": {},
   "source": [
    "- 문제를 풀어나가는 과정 단계에 있어서 지금 단계에서 가장 좋은 것을 선택하면 된다.\n",
    "- 정렬한 다음에 차례차례 선택하면 된다."
   ]
  },
  {
   "attachments": {},
   "cell_type": "markdown",
   "metadata": {},
   "source": [
    "## 회의실 배정(그리디)\n",
    "- 이 문제의 경우 회의가 끝나는 시간을 기준으로 정렬을 해야한다!"
   ]
  },
  {
   "cell_type": "code",
   "execution_count": 4,
   "metadata": {},
   "outputs": [
    {
     "name": "stdout",
     "output_type": "stream",
     "text": [
      "3\n"
     ]
    }
   ],
   "source": [
    "l=[]\n",
    "n=int(input())\n",
    "for _ in range(n):\n",
    "    s,e=map(int,input().split())\n",
    "    l.append((s,e))\n",
    "# 정렬 (괄호안에 정렬 기준 잡아준다)\n",
    "l.sort(key=lambda x:(x[1],x[0]))\n",
    "endTime=0\n",
    "cnt=0\n",
    "\n",
    "for s, e in l:\n",
    "    if s>=endTime:\n",
    "        cnt+=1\n",
    "        endTime=e\n",
    "\n",
    "print(cnt)"
   ]
  },
  {
   "cell_type": "markdown",
   "metadata": {},
   "source": [
    "## 씨름 선수(그리디)"
   ]
  },
  {
   "cell_type": "code",
   "execution_count": 8,
   "metadata": {},
   "outputs": [
    {
     "name": "stdout",
     "output_type": "stream",
     "text": [
      "3\n"
     ]
    }
   ],
   "source": [
    "# 이중 for문은 비효유적 \n",
    "l=[]\n",
    "t=int(input())\n",
    "for _ in range(t):\n",
    "    h,w=map(int,input().split())\n",
    "    l.append((h,w))\n",
    "cnt=t\n",
    "for h,w in l:\n",
    "    for k,m in l:\n",
    "        if h<k and w<m: cnt-=1\n",
    "print(cnt)"
   ]
  },
  {
   "cell_type": "code",
   "execution_count": 13,
   "metadata": {},
   "outputs": [
    {
     "name": "stdout",
     "output_type": "stream",
     "text": [
      "3\n"
     ]
    }
   ],
   "source": [
    "# 선생님 코드 (키순으로 정렬 후 맨 윗 사람은 카운트1, 그 밑으로는 위사람들 중에서 몸무게로 다 이기는지만 체크)\n",
    "# for문 하나로 하는 법은 위에 사람 중 몸무게 최대값 세이브하면서 가면 된다.\n",
    "\n",
    "l=[]\n",
    "t=int(input())\n",
    "for _ in range(t):\n",
    "    h,w=map(int,input().split())\n",
    "    l.append((h,w))\n",
    "    \n",
    "l.sort(reverse=True)\n",
    "cnt=0\n",
    "max=0\n",
    "\n",
    "for h,w in l:\n",
    "    if w>max:\n",
    "        cnt+=1\n",
    "        max=w\n",
    "\n",
    "print(cnt)"
   ]
  },
  {
   "attachments": {},
   "cell_type": "markdown",
   "metadata": {},
   "source": [
    "## 창고 정리(그리디)\n",
    "- 첫 번째 줄에 창고 가로 길이인 자연수 L이 주어짐\n",
    "- 두 번째 줄에 L개의 자연수가 공백을 사이에 두고 입력됨\n",
    "- 세 번째 줄에 높이 조정 횟수인 M이 주어짐\n",
    "\n",
    "출력 : M회 높이 조정 마친 후 가장 높은 곳과 가장 낮은 곳의 차이 출력"
   ]
  },
  {
   "cell_type": "code",
   "execution_count": 27,
   "metadata": {},
   "outputs": [
    {
     "name": "stdout",
     "output_type": "stream",
     "text": [
      "20\n"
     ]
    }
   ],
   "source": [
    "import sys\n",
    "sys.stdin=open(\"input.txt\",\"r\")\n",
    "list1=[]\n",
    "L = int(sys.stdin.readline().strip())\n",
    "arr = list(map(int, sys.stdin.readline().strip().split()))\n",
    "M = int(sys.stdin.readline().strip())\n",
    "\n",
    "\n",
    "for i in range(M):\n",
    "    arr.sort(reverse=1)\n",
    "    arr[0]-=1\n",
    "    arr[-1]+=1    \n",
    "\n",
    "arr.sort(reverse=1)\n",
    "\n",
    "print(arr[0]-arr[-1])"
   ]
  },
  {
   "cell_type": "code",
   "execution_count": null,
   "metadata": {},
   "outputs": [],
   "source": []
  },
  {
   "cell_type": "code",
   "execution_count": 7,
   "metadata": {},
   "outputs": [
    {
     "data": {
      "text/plain": [
       "['50']"
      ]
     },
     "execution_count": 7,
     "metadata": {},
     "output_type": "execute_result"
    }
   ],
   "source": [
    "M"
   ]
  },
  {
   "cell_type": "markdown",
   "metadata": {},
   "source": [
    "## 침몰하는 타이타닉(그리디)"
   ]
  },
  {
   "cell_type": "code",
   "execution_count": null,
   "metadata": {},
   "outputs": [],
   "source": []
  },
  {
   "cell_type": "markdown",
   "metadata": {},
   "source": [
    "## 증가 수열 만들기(그리디)"
   ]
  },
  {
   "cell_type": "code",
   "execution_count": null,
   "metadata": {},
   "outputs": [],
   "source": []
  },
  {
   "cell_type": "markdown",
   "metadata": {},
   "source": [
    "## 역수열(그리디)"
   ]
  },
  {
   "cell_type": "code",
   "execution_count": null,
   "metadata": {},
   "outputs": [],
   "source": []
  }
 ],
 "metadata": {
  "kernelspec": {
   "display_name": "Python 3",
   "language": "python",
   "name": "python3"
  },
  "language_info": {
   "codemirror_mode": {
    "name": "ipython",
    "version": 3
   },
   "file_extension": ".py",
   "mimetype": "text/x-python",
   "name": "python",
   "nbconvert_exporter": "python",
   "pygments_lexer": "ipython3",
   "version": "3.10.8"
  },
  "orig_nbformat": 4,
  "vscode": {
   "interpreter": {
    "hash": "31f2aee4e71d21fbe5cf8b01ff0e069b9275f58929596ceb00d14d90e3e16cd6"
   }
  }
 },
 "nbformat": 4,
 "nbformat_minor": 2
}
