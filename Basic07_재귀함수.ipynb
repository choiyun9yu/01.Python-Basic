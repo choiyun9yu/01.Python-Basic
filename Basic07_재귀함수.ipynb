{
 "cells": [
  {
   "cell_type": "markdown",
   "id": "c7644342",
   "metadata": {},
   "source": [
    "# 재귀함수"
   ]
  },
  {
   "cell_type": "code",
   "execution_count": null,
   "id": "680a877c",
   "metadata": {},
   "outputs": [],
   "source": [
    "어느 날 산에 올라갔더니 산신령이 있었다.\n",
    "그 산신령에게 물어봤다.\n",
    "코드를 잘 치려면 어떻게 해야하나요?\n",
    "그러자 산신령이 말했다.\n",
    "이 얘기를 잘 들어보렴\n",
    "\"어느 날 산에 올라갔더니 산신령이 있었다...\""
   ]
  },
  {
   "cell_type": "code",
   "execution_count": null,
   "id": "39295bf2",
   "metadata": {},
   "outputs": [],
   "source": [
    "수열??\n",
    "등차수열\n",
    "1 2 3 4 ?? 5\n",
    "2 4 6 8 ?? 10\n",
    "등비수열\n",
    "2 4 8 16 32 ?? 64\n",
    "피보나치 수열\n",
    "1 1 2 3 5 8 (앞선 두 항의 합을 다음 항으로)"
   ]
  },
  {
   "cell_type": "code",
   "execution_count": 3,
   "id": "a0d5d164",
   "metadata": {},
   "outputs": [],
   "source": [
    "def fibo(hang):\n",
    "    if hang <= 2:\n",
    "        return 1\n",
    "    else:\n",
    "        return fibo(hang-2) + fibo(hang-1)\n",
    "    \n",
    "# 재귀 함수 : 함수 내부에 나를 호출할 수 있는 파트가 있는 함수"
   ]
  },
  {
   "cell_type": "code",
   "execution_count": 4,
   "id": "c8b3cfdb",
   "metadata": {},
   "outputs": [
    {
     "data": {
      "text/plain": [
       "6765"
      ]
     },
     "execution_count": 4,
     "metadata": {},
     "output_type": "execute_result"
    }
   ],
   "source": [
    "fibo(20)"
   ]
  },
  {
   "cell_type": "code",
   "execution_count": 12,
   "id": "b931a173",
   "metadata": {},
   "outputs": [
    {
     "name": "stdout",
     "output_type": "stream",
     "text": [
      "2832163999440680038848564176280658420389828886528\n",
      "자릿수 : 49\n"
     ]
    }
   ],
   "source": [
    "#상민 수열\n",
    "\n",
    "# 7 8 ???\n",
    "# 앞선 두 항을 곱한 값\n",
    "\n",
    "def sang(a):\n",
    "    if a ==1:\n",
    "        return 7\n",
    "    if a ==2:\n",
    "        return 8\n",
    "    else:\n",
    "        return sang(a-2)*sang(a-1)\n",
    "    \n",
    "print(sang(10))    \n",
    "print('자릿수 :',len(str(sang(10))))"
   ]
  },
  {
   "cell_type": "code",
   "execution_count": null,
   "id": "630e5392",
   "metadata": {},
   "outputs": [],
   "source": []
  },
  {
   "cell_type": "code",
   "execution_count": 6,
   "id": "d88a82d8",
   "metadata": {},
   "outputs": [
    {
     "data": {
      "text/plain": [
       "[0, 1, 2, 3, 4, 5, 6, 7, 8, 9]"
      ]
     },
     "execution_count": 6,
     "metadata": {},
     "output_type": "execute_result"
    }
   ],
   "source": [
    "# 1줄 for문\n",
    "\n",
    "[i for i in range(10)]"
   ]
  },
  {
   "cell_type": "code",
   "execution_count": null,
   "id": "8910e9f6",
   "metadata": {},
   "outputs": [],
   "source": []
  },
  {
   "cell_type": "code",
   "execution_count": null,
   "id": "94a5ed87",
   "metadata": {},
   "outputs": [],
   "source": []
  },
  {
   "cell_type": "code",
   "execution_count": null,
   "id": "846f6edf",
   "metadata": {},
   "outputs": [],
   "source": []
  }
 ],
 "metadata": {
  "kernelspec": {
   "display_name": "Python 3 (ipykernel)",
   "language": "python",
   "name": "python3"
  },
  "language_info": {
   "codemirror_mode": {
    "name": "ipython",
    "version": 3
   },
   "file_extension": ".py",
   "mimetype": "text/x-python",
   "name": "python",
   "nbconvert_exporter": "python",
   "pygments_lexer": "ipython3",
   "version": "3.7.13"
  },
  "toc": {
   "base_numbering": 1,
   "nav_menu": {},
   "number_sections": true,
   "sideBar": true,
   "skip_h1_title": false,
   "title_cell": "Table of Contents",
   "title_sidebar": "Contents",
   "toc_cell": false,
   "toc_position": {},
   "toc_section_display": true,
   "toc_window_display": false
  }
 },
 "nbformat": 4,
 "nbformat_minor": 5
}
