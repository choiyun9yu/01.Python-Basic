{
 "cells": [
  {
   "cell_type": "markdown",
   "id": "fc7b4db3",
   "metadata": {},
   "source": [
    "## 초콜릿 쪼개기\n",
    "정화는 N*M 크기의 초콜릿으 하나 가지고 있다. 초콜릿의 크기가 너무커서  \n",
    "초콜릿을 N*M개의 조각으로 쪼개려고한다. 초콜릿을 쪼갤 때에는 초콜릿 조각을 하나 들고,   \n",
    "적당한 위치에서 초콜릿을 쪼갠다. 이와 같이 초콜릿을 쪼개면 초콜릿은 두개의 조각으로 나뉜다.  \n",
    "이제 다시 이중에서 초콜릿 조각을 하나 들고 쪼개는 과정을 반복한다.  \n",
    "초콜릿의 크기가 주어졌을 때 이를 1*1크기의 초콜릿으로 쪼개기 위한 최소 쪼개기 횟수를 구하는  \n",
    "프로그램을 작성하시오.  "
   ]
  },
  {
   "cell_type": "code",
   "execution_count": null,
   "id": "a8dd752d",
   "metadata": {
    "scrolled": true
   },
   "outputs": [],
   "source": [
    "n,m=map(int, input().split())\n",
    "print((n*m)-1)"
   ]
  },
  {
   "cell_type": "markdown",
   "id": "55e67cfe",
   "metadata": {},
   "source": [
    "## 오븐 시계"
   ]
  },
  {
   "cell_type": "code",
   "execution_count": null,
   "id": "9d798b57",
   "metadata": {},
   "outputs": [],
   "source": [
    "a,b=map(int,input().split())\n",
    "c=int(input())\n",
    "d=a*60+b+c\n",
    "e,f=d//60,d%60\n",
    "if e>=24:\n",
    "    e-=24\n",
    "print(f'{e} {f}')"
   ]
  },
  {
   "cell_type": "markdown",
   "id": "779d77ce",
   "metadata": {},
   "source": [
    "## 인공지능 시계"
   ]
  },
  {
   "cell_type": "code",
   "execution_count": null,
   "id": "c56117c8",
   "metadata": {},
   "outputs": [],
   "source": [
    "# 1차\n",
    "a,b,c=map(int,input().split())\n",
    "d=int(input())\n",
    "c+=d%60\n",
    "a+=d//3600\n",
    "b+=(d//60)-(d//3600*60)\n",
    "if c>=60:\n",
    "    b+=(c//60)\n",
    "    c=c%60\n",
    "if b>=60:\n",
    "    a+=b//60\n",
    "    b=b%60\n",
    "if a>=24:\n",
    "    a=a%24\n",
    "print(a,b,c)"
   ]
  },
  {
   "cell_type": "code",
   "execution_count": null,
   "id": "8e431b03",
   "metadata": {},
   "outputs": [],
   "source": [
    "# 2차\n",
    "a,b,c=map(int,input().split())  # 시,분,초\n",
    "c+=(a*3600)+(b*60)+int(input())  # 초로 바꾸기\n",
    "a,b=divmod(c%86400,3600)  # 86400(하루초)로 나눈 나머지니까 날짜를 뺀 남은초를 1시간 단위로 나눔 -> 몫이 시간, 나머지가 분\n",
    "b,c=divmod(b,60)  # 이제 분을 1분 단위로 나누고 그 몫을 1분 나머지를 초로 지정\n",
    "print(a,b,c)"
   ]
  },
  {
   "cell_type": "markdown",
   "id": "f98812bc",
   "metadata": {},
   "source": [
    "## 저작권 (적어도 문제)\n",
    "멜로디의 평균값(i) = 저작권이 있는 멜로디의 수 / 앨범에 수록된 곡의 개수(a)  <- 올림   \n",
    "입력 : a,i   \n",
    "출력 : 적어도 저작권이 있는 멜로디의 수  \n",
    "\n",
    "    i는 올림한 값이니까 우선 -1을 하고 그 값에 a를 곱하고 그 값에 +1을 하면 0.1이 었을 때 올림 된 것이어서  \n",
    "    '적어도' 조건 충족"
   ]
  },
  {
   "cell_type": "code",
   "execution_count": null,
   "id": "dda5d03b",
   "metadata": {},
   "outputs": [],
   "source": [
    "a,i=map(int,input().split())\n",
    "print((i-1)*a+1)"
   ]
  },
  {
   "cell_type": "markdown",
   "id": "885dbf73",
   "metadata": {},
   "source": [
    "## 화성 수학\n",
    "@ : 3을 곱한다.  \n",
    "% : 5를 더한다.  \n",
    "\\# : 7을 뺀다.  "
   ]
  },
  {
   "cell_type": "code",
   "execution_count": null,
   "id": "71acce6f",
   "metadata": {},
   "outputs": [],
   "source": [
    "t=int(input())\n",
    "for _ in range(t):\n",
    "    a=input().split()  # 입력 갯수 모르니까 리스트로 받음\n",
    "    n=float(a[0])\n",
    "    c=a[1:]  # 1번 인덱스 부터 끝까지가 연산기호 \n",
    "    for i in c:\n",
    "        if i=='@':\n",
    "            n*=3\n",
    "        elif i=='%':\n",
    "            n+=5\n",
    "        else:\n",
    "            n-=7\n",
    "    print(format(n,\".2f\"))  # format으로 소수 둘째짜리까지만 출력"
   ]
  },
  {
   "cell_type": "markdown",
   "id": "c897b574",
   "metadata": {},
   "source": [
    "## 문자열 반복"
   ]
  },
  {
   "cell_type": "code",
   "execution_count": null,
   "id": "0389bcde",
   "metadata": {},
   "outputs": [],
   "source": [
    "t=int(input())\n",
    "for _ in range(t):\n",
    "    p=''\n",
    "    r,s=input().split()\n",
    "    for i in s:\n",
    "        p+=i*int(r)\n",
    "    print(p)"
   ]
  },
  {
   "cell_type": "markdown",
   "id": "2f480725",
   "metadata": {},
   "source": [
    "## 소음"
   ]
  },
  {
   "cell_type": "code",
   "execution_count": null,
   "id": "14dc2b7e",
   "metadata": {},
   "outputs": [],
   "source": [
    "a=int(input())\n",
    "c=input()\n",
    "b=int(input())\n",
    "if c=='+':\n",
    "    print(a+b)\n",
    "else:\n",
    "    print(a*b)"
   ]
  },
  {
   "cell_type": "markdown",
   "id": "30769e51",
   "metadata": {},
   "source": [
    "## 시험 성적"
   ]
  },
  {
   "cell_type": "code",
   "execution_count": null,
   "id": "1c8aaac1",
   "metadata": {},
   "outputs": [],
   "source": [
    "a=int(input())\n",
    "if a>89:\n",
    "    print('A')\n",
    "elif a>79:\n",
    "    print('B')\n",
    "elif a>69:\n",
    "    print('C')\n",
    "elif a>59:\n",
    "    print('D')\n",
    "else:\n",
    "    print('F')"
   ]
  },
  {
   "cell_type": "markdown",
   "id": "d236480e",
   "metadata": {},
   "source": [
    "## 세 수"
   ]
  },
  {
   "cell_type": "code",
   "execution_count": null,
   "id": "6e16a56c",
   "metadata": {},
   "outputs": [],
   "source": [
    "a,b,c=map(int,input().split())\n",
    "l=[a,b,c]\n",
    "l.remove(max(l))  # pop()은 인덱스를 알거나 맨뒤 또는 꺼내서 담으때 / remove()는 요소 값을 알때 지우는 것\n",
    "print(max(l))  # insert()는 삽입할 위치 지정 / append는 맨 뒤에 요소 삽입 "
   ]
  },
  {
   "cell_type": "code",
   "execution_count": null,
   "id": "14286f4a",
   "metadata": {},
   "outputs": [],
   "source": [
    "# 다른사람 코드\n",
    "print(sorted(list(map(int,input().split())))[1])  # 오름차순 정렬한 것의 1번 인덱스 출력(곧 2번째란 뜻)\n",
    "                                                  # map을 list로 한번 더 감싸서 list 자료형으로 변환했음"
   ]
  },
  {
   "cell_type": "markdown",
   "id": "f9e5324c",
   "metadata": {},
   "source": [
    "## 소인수분해\n",
    "1. 나누어떨어지는 소수로만 분해할 수 있다.\n",
    "2. 최종 값이 소수가 될 때까지 나눈다.\n",
    "3. 소인수 분해 한 결과를 쓸 때는 작은 소수부터 큰 순서로 나열한다."
   ]
  },
  {
   "cell_type": "code",
   "execution_count": 12,
   "id": "1ab1107d",
   "metadata": {},
   "outputs": [
    {
     "name": "stdout",
     "output_type": "stream",
     "text": [
      "97\n",
      "103\n"
     ]
    }
   ],
   "source": [
    "# 시간초과된 코드\n",
    "n=int(input())\n",
    "sosu=[]\n",
    "# 소수 찾기\n",
    "ch=[0]*(n+1)\n",
    "for i in range(2,n+1):\n",
    "    if ch[i]==0:\n",
    "       sosu.append(i)\n",
    "    for j in range(i,n+1,i):\n",
    "        ch[j]=1\n",
    "# 소인수분해\n",
    "while True:\n",
    "    for i in sosu:\n",
    "        if n%i==0:\n",
    "            print(i)\n",
    "            n/=i\n",
    "            break\n",
    "    else:\n",
    "        break\n",
    "    if (n in sosu) or n==0:\n",
    "        print(int(n))\n",
    "        break"
   ]
  },
  {
   "cell_type": "code",
   "execution_count": 20,
   "id": "7ea81b72",
   "metadata": {},
   "outputs": [
    {
     "name": "stdout",
     "output_type": "stream",
     "text": [
      "2\n",
      "2\n",
      "5\n"
     ]
    }
   ],
   "source": [
    "# 시간 오래걸려서 통과한 코드\n",
    "n=int(input())\n",
    "a=2\n",
    "while a<=n:\n",
    "    if n%a==0:\n",
    "        print(a)  # a로 딱 나누어 떨어지는 경우에만 출력\n",
    "        n/=a\n",
    "    else:\n",
    "        a+=1  # 숫자르 하나씩 올려가면서 검사"
   ]
  },
  {
   "cell_type": "code",
   "execution_count": 31,
   "id": "beb89669",
   "metadata": {},
   "outputs": [
    {
     "name": "stdout",
     "output_type": "stream",
     "text": [
      "2\n"
     ]
    }
   ],
   "source": [
    "#1등 코드\n",
    "n=int(input())\n",
    "while n%2==0:  # 2로 나누어질 때, 2출력하고 2로 나누어진 값 반영\n",
    "    n//=2\n",
    "    print(2)\n",
    "i=3\n",
    "while n>=i*i:  # n이 i제곱 이상일 때, (i제곱보다 n이 작으면 while문 끝내고 밑에 if에서 출력 )    \n",
    "    if n%i==0:  # 나누어 떨어지면 그거 출력하고 나누어진 값 반영\n",
    "        n//=i\n",
    "        print(i)\n",
    "    else:\n",
    "        i+=2  # 만약 안나누어 떨어지면 i를 2만큼 증가시킨다. (왜1이 아니지?) 소수가 3에서 2만큼 큰 숫자들이어서\n",
    "if n>2:  # 첫번째 while 문에서 걸려서 출력한 2는 중복으로 출력하면 안되니까\n",
    "    print(n)"
   ]
  },
  {
   "cell_type": "markdown",
   "id": "4588dce9",
   "metadata": {},
   "source": [
    "## 윤년"
   ]
  },
  {
   "cell_type": "code",
   "execution_count": 40,
   "id": "bcde95a5",
   "metadata": {},
   "outputs": [
    {
     "name": "stdout",
     "output_type": "stream",
     "text": [
      "0\n"
     ]
    }
   ],
   "source": [
    "a=int(input())\n",
    "if (a%4==0 and a%100!=0) or a%400==0:print(1)\n",
    "else:print(0)"
   ]
  },
  {
   "cell_type": "code",
   "execution_count": null,
   "id": "bab05bbd",
   "metadata": {},
   "outputs": [],
   "source": [
    "a=int(input())\n",
    "print(1) if (a%4==0 and a%100!=0) or a%400==0 else print(0)"
   ]
  },
  {
   "cell_type": "markdown",
   "id": "1280a951",
   "metadata": {},
   "source": [
    "## 평균 점수\n",
    "수강생 : 원섭, 세희, 상근, 숭, 강수"
   ]
  },
  {
   "cell_type": "code",
   "execution_count": 47,
   "id": "78f992e2",
   "metadata": {},
   "outputs": [
    {
     "name": "stdout",
     "output_type": "stream",
     "text": [
      "68\n"
     ]
    }
   ],
   "source": [
    "a=int(input())\n",
    "b=int(input())\n",
    "c=int(input())\n",
    "d=int(input())\n",
    "e=int(input())\n",
    "if a<40:a=40\n",
    "if b<40:b=40\n",
    "if c<40:c=40\n",
    "if d<40:d=40\n",
    "if e<40:e=40\n",
    "print(int((a+b+c+d+e)/5))"
   ]
  },
  {
   "cell_type": "markdown",
   "id": "77889897",
   "metadata": {},
   "source": [
    "## 최소 공배수(LCM)\n",
    ": a*b/최대공약수"
   ]
  },
  {
   "cell_type": "code",
   "execution_count": 67,
   "id": "9deca38a",
   "metadata": {},
   "outputs": [
    {
     "name": "stdout",
     "output_type": "stream",
     "text": [
      "45000\n",
      "30\n",
      "221\n"
     ]
    }
   ],
   "source": [
    "# 시간 초과1\n",
    "t=int(input())\n",
    "for i in range(t):\n",
    "    a,b=map(int,input().split())\n",
    "    r=[]\n",
    "    for j in range(1,b+1):\n",
    "        for k in range(1,a+1):   \n",
    "            if a*j==b*k:\n",
    "                r.append(a*j)\n",
    "    print(r[0])\n",
    "                "
   ]
  },
  {
   "cell_type": "code",
   "execution_count": 95,
   "id": "0398cebb",
   "metadata": {},
   "outputs": [
    {
     "name": "stdout",
     "output_type": "stream",
     "text": [
      "45000\n",
      "30\n",
      "221\n"
     ]
    }
   ],
   "source": [
    "# 시간 초과2\n",
    "t=int(input())\n",
    "for i in range(t):\n",
    "    a,b=map(int,input().split())\n",
    "    for i in range(max(a,b),a*b+1):\n",
    "        if i%a==0 and i%b==0:\n",
    "            print(i)\n",
    "            break"
   ]
  },
  {
   "cell_type": "code",
   "execution_count": 96,
   "id": "92243441",
   "metadata": {},
   "outputs": [
    {
     "name": "stdout",
     "output_type": "stream",
     "text": [
      "45000\n",
      "30\n",
      "221\n"
     ]
    }
   ],
   "source": [
    "def gcd(a, b):  # 최대 공약수\n",
    "    for i in range(min(a,b),0,-1): \n",
    "        if a%i==0 and b%i==0:\n",
    "            return i\n",
    "    return a\n",
    "def lcm(a, b):  # 최소 공배수\n",
    "    return a*b/gcd(a,b)\n",
    "t=int(input())\n",
    "for i in range(t):\n",
    "    a,b=map(int,input().split())\n",
    "    print(int(lcm(a,b)))"
   ]
  },
  {
   "cell_type": "markdown",
   "id": "2ca9a6d8",
   "metadata": {},
   "source": [
    "## 주사위 새개\n",
    "1. 같은 눈이 3개 나오면 10,000원+(같은 눈)*1,000원\n",
    "2. 같은 눈이 2개 나오면 1,000원+(같은 눈)*100원\n",
    "3. 모두 다른 눈이 나오면 (가장 큰 눈)*100원 "
   ]
  },
  {
   "cell_type": "code",
   "execution_count": 99,
   "id": "ab55d102",
   "metadata": {},
   "outputs": [
    {
     "name": "stdout",
     "output_type": "stream",
     "text": [
      "600\n"
     ]
    }
   ],
   "source": [
    "a,b,c=map(int,input().split())\n",
    "if a==b==c:print(10000+a*1000)\n",
    "elif a==b or a==c :print(1000+a*100)\n",
    "elif c==b:print(1000+c*100)\n",
    "else:print(max(a,b,c)*100)"
   ]
  },
  {
   "cell_type": "markdown",
   "id": "f8319bf7",
   "metadata": {},
   "source": [
    "## 크냐?"
   ]
  },
  {
   "cell_type": "code",
   "execution_count": 100,
   "id": "b02f8c10",
   "metadata": {},
   "outputs": [
    {
     "name": "stdout",
     "output_type": "stream",
     "text": [
      "No\n",
      "No\n",
      "YES\n"
     ]
    }
   ],
   "source": [
    "while True:\n",
    "    a,b=map(int, input().split())\n",
    "    if a>b:print('YES')\n",
    "    elif a==b==0:break\n",
    "    else:print('No')"
   ]
  },
  {
   "cell_type": "markdown",
   "id": "e28b5c73",
   "metadata": {},
   "source": [
    "## 과자\n",
    "k: 과자 한개 가격    \n",
    "n: 사려는 과자 갯수  \n",
    "m: 가진 돈\n",
    "과자 살 때 부족한 돈을 구하시오."
   ]
  },
  {
   "cell_type": "code",
   "execution_count": 105,
   "id": "1fd35e7a",
   "metadata": {},
   "outputs": [
    {
     "name": "stdout",
     "output_type": "stream",
     "text": [
      "0\n"
     ]
    }
   ],
   "source": [
    "k,n,m=map(int,input().split())\n",
    "r=k*n-m\n",
    "if r<=0:print(0)\n",
    "else:print(r)"
   ]
  },
  {
   "cell_type": "markdown",
   "id": "d0b01bea",
   "metadata": {},
   "source": [
    "## 주사위 게임\n",
    "3개의 주사위를 던져서 규칙에 따라 상금을 받는다.\n"
   ]
  },
  {
   "cell_type": "code",
   "execution_count": 112,
   "id": "bbb0a3d2",
   "metadata": {},
   "outputs": [
    {
     "name": "stdout",
     "output_type": "stream",
     "text": [
      "12000\n"
     ]
    }
   ],
   "source": [
    "t=int(input())\n",
    "r=[]\n",
    "for i in range(t):\n",
    "    a,b,c=map(int,input().split())\n",
    "    if a==b==c:r.append(10000+a*1000)\n",
    "    elif a==b or a==c:r.append(1000+a*100)\n",
    "    elif c==b:r.append(1000+c*100)\n",
    "    else:r.append(max(a,b,c)*100)\n",
    "print(max(r))"
   ]
  },
  {
   "cell_type": "markdown",
   "id": "23e0b10a",
   "metadata": {},
   "source": [
    "## 학점 계산\n",
    "A+: 4.3, A0: 4.0, A-: 3.7  \n",
    "B+: 3.3, B0: 3.0, B-: 2.7  \n",
    "C+: 2.3, C0: 2.0, C-: 1.7  \n",
    "D+: 1.3, D0: 1.0, D-: 0.7  \n",
    "F: 0.0"
   ]
  },
  {
   "cell_type": "code",
   "execution_count": 113,
   "id": "7501466f",
   "metadata": {},
   "outputs": [
    {
     "name": "stdout",
     "output_type": "stream",
     "text": [
      "4.0\n"
     ]
    }
   ],
   "source": [
    "a=input()\n",
    "if a=='A+':print(4.3)\n",
    "elif a=='A0':print(4.0)\n",
    "elif a=='A-':print(3.7)\n",
    "elif a=='B+':print(3.3)\n",
    "elif a=='B0':print(3.0)\n",
    "elif a=='B-':print(2.7)\n",
    "elif a=='C+':print(2.3)\n",
    "elif a=='C0':print(2.0)\n",
    "elif a=='C-':print(1.7)\n",
    "elif a=='D+':print(1.3)\n",
    "elif a=='D0':print(1.0)\n",
    "elif a=='D-':print(0.7)\n",
    "else:print(0.0)"
   ]
  },
  {
   "cell_type": "code",
   "execution_count": 114,
   "id": "d3d21cdc",
   "metadata": {},
   "outputs": [
    {
     "name": "stdout",
     "output_type": "stream",
     "text": [
      "4.0\n"
     ]
    }
   ],
   "source": [
    "s=input()\n",
    "t={\"A+\":4.3, \"A0\":4.0, \"A-\":3.7, \"B+\":3.3, 'B0':3.0, 'B-':2.7, 'C+':2.3, 'C0':2.0, 'C-':1.7, 'D+':1.3, 'D0':1.0, 'D-':0.7, 'F':0.0}\n",
    "print(t[s])"
   ]
  },
  {
   "cell_type": "markdown",
   "id": "08b330da",
   "metadata": {},
   "source": [
    " ## 알람시계"
   ]
  },
  {
   "cell_type": "code",
   "execution_count": 7,
   "id": "9f87776b",
   "metadata": {},
   "outputs": [
    {
     "name": "stdout",
     "output_type": "stream",
     "text": [
      "10 0\n"
     ]
    }
   ],
   "source": [
    "h,m=map(int,input().split())\n",
    "t=(h*60+m)-45\n",
    "h=t//60\n",
    "m=t%60\n",
    "if h<0:h=24+h\n",
    "print(h, m)"
   ]
  },
  {
   "attachments": {},
   "cell_type": "markdown",
   "id": "d2bf740a",
   "metadata": {},
   "source": [
    "## 그릇\n",
    "그릇 하나 바닥 : 10  (   \n",
    "그릇 두개 겹치면 : +5 증가  ((  \n",
    "그릇 반대방향 포개면 : +10 증가  ()   \n"
   ]
  },
  {
   "cell_type": "code",
   "execution_count": 29,
   "id": "3e9a3900",
   "metadata": {},
   "outputs": [
    {
     "name": "stdout",
     "output_type": "stream",
     "text": [
      "80\n"
     ]
    }
   ],
   "source": [
    "a=input()\n",
    "r=10\n",
    "i=1\n",
    "while i<len(a):\n",
    "    if a[i]==a[i-1]:r+=5\n",
    "    else:r+=10\n",
    "    i+=1\n",
    "print(r)"
   ]
  },
  {
   "attachments": {},
   "cell_type": "markdown",
   "id": "40b43def",
   "metadata": {},
   "source": [
    "## TGN\n",
    "r : 광고하지 않았을 때의 수익  \n",
    "e : 광고를 했을 때의 수익  \n",
    "c : 광고 비용"
   ]
  },
  {
   "cell_type": "code",
   "execution_count": 31,
   "id": "88175761",
   "metadata": {},
   "outputs": [
    {
     "name": "stdout",
     "output_type": "stream",
     "text": [
      "advertise\n",
      "does not matter\n",
      "do not advertise\n"
     ]
    }
   ],
   "source": [
    "n=int(input())\n",
    "for i in range(n):\n",
    "    r,e,c=map(int,input().split())\n",
    "    if r==e-c:print(\"does not matter\")\n",
    "    elif r>e-c:print(\"do not advertise\")\n",
    "    else:print(\"advertise\")"
   ]
  },
  {
   "attachments": {},
   "cell_type": "markdown",
   "id": "e8ad5150",
   "metadata": {},
   "source": [
    "## 개표"
   ]
  },
  {
   "cell_type": "code",
   "execution_count": 32,
   "id": "98f22d9e",
   "metadata": {},
   "outputs": [
    {
     "name": "stdout",
     "output_type": "stream",
     "text": [
      "B\n"
     ]
    }
   ],
   "source": [
    "v=int(input())\n",
    "s=input()\n",
    "a=b=0\n",
    "for i in s:\n",
    "    if i=='A':a+=1\n",
    "    else:b+=1\n",
    "if a>b:print('A')\n",
    "elif b>a:print('B')\n",
    "else:print('Tie')"
   ]
  },
  {
   "attachments": {},
   "cell_type": "markdown",
   "id": "652e7152",
   "metadata": {},
   "source": [
    "## 0=not cute / 1=cute"
   ]
  },
  {
   "cell_type": "code",
   "execution_count": 33,
   "id": "39b5d9b6",
   "metadata": {},
   "outputs": [
    {
     "name": "stdout",
     "output_type": "stream",
     "text": [
      "Junhee is not cute!\n"
     ]
    }
   ],
   "source": [
    "n=int(input())\n",
    "t=f=0\n",
    "for _ in range(n):\n",
    "    v=int(input())\n",
    "    if v==1:t+=1\n",
    "    else:f+=1\n",
    "if t>f:print('Junhee is cute!')\n",
    "elif f>t:print('Junhee is not cute!')"
   ]
  },
  {
   "attachments": {},
   "cell_type": "markdown",
   "id": "7815c6ab",
   "metadata": {},
   "source": [
    "## 팰린드롬인지 확인하기\n",
    "팰린드롬 : 앞으로 읽을 때와 거꾸로 읽을 때 똑같은 단어 "
   ]
  },
  {
   "cell_type": "code",
   "execution_count": 40,
   "id": "c6853aae",
   "metadata": {},
   "outputs": [
    {
     "name": "stdout",
     "output_type": "stream",
     "text": [
      "1\n"
     ]
    }
   ],
   "source": [
    "s=input()\n",
    "print(1) if s==s[::-1] else print(0)"
   ]
  },
  {
   "attachments": {},
   "cell_type": "markdown",
   "id": "7c4208cb",
   "metadata": {},
   "source": [
    "## 배수와 약수\n",
    "두 수가 주어졌을 때, 다음 3가지 중 어느 관계인지 구하는 프로그램을 작성하시오.\n",
    "- 첫 번째 숫자가 두 번째 숫자의 약수이다. > factor\n",
    "- 첫 번째 숫자가 두 번째 숫자의 배수이다. > multiple\n",
    "- 첫 번째 숫자가 두 번째 숫자의 약수와 배수 모두 아니다. > neither"
   ]
  },
  {
   "cell_type": "code",
   "execution_count": 41,
   "id": "926bb287",
   "metadata": {},
   "outputs": [
    {
     "name": "stdout",
     "output_type": "stream",
     "text": [
      "factor\n",
      "multiple\n",
      "neither\n"
     ]
    }
   ],
   "source": [
    "while True:  #입력 개수 종료조건이 00이니까 while 문으로 받음\n",
    "    a,b=map(int, input().split()) \n",
    "    if a==b==0:break\n",
    "    else:\n",
    "        if b%a==0:print('factor')\n",
    "        elif a%b==0:print('multiple')\n",
    "        else:print('neither')"
   ]
  },
  {
   "cell_type": "markdown",
   "id": "de5837ce",
   "metadata": {},
   "source": [
    "## 상근이의 친구들"
   ]
  },
  {
   "cell_type": "code",
   "execution_count": 46,
   "id": "4df5cb26",
   "metadata": {},
   "outputs": [
    {
     "name": "stdout",
     "output_type": "stream",
     "text": [
      "4\n",
      "5\n",
      "10\n",
      "2\n"
     ]
    }
   ],
   "source": [
    "while True:\n",
    "    m,w=map(int, input().split()) \n",
    "    if m==w==0:break\n",
    "    else:print(m+w)"
   ]
  },
  {
   "attachments": {},
   "cell_type": "markdown",
   "id": "1662591d",
   "metadata": {},
   "source": [
    "## 사분면"
   ]
  },
  {
   "cell_type": "code",
   "execution_count": 47,
   "id": "7a7a89c2",
   "metadata": {},
   "outputs": [
    {
     "name": "stdout",
     "output_type": "stream",
     "text": [
      "Q1: 2\n",
      "Q2: 0\n",
      "Q3: 0\n",
      "Q4: 1\n",
      "AXIS: 2\n"
     ]
    }
   ],
   "source": [
    "n=int(input())\n",
    "a=b=c=d=e=0\n",
    "for i in range(n):\n",
    "    x,y=map(int,input().split())\n",
    "    if x>0 and y>0:a+=1\n",
    "    elif x<0 and y>0:b+=1\n",
    "    elif x<0 and y<0:c+=1\n",
    "    elif x>0 and y<0:d+=1\n",
    "    else:e+=1\n",
    "print(f'Q1: {a}')\n",
    "print(f'Q2: {b}')\n",
    "print(f'Q3: {c}')\n",
    "print(f'Q4: {d}')\n",
    "print(f'AXIS: {e}')"
   ]
  },
  {
   "attachments": {},
   "cell_type": "markdown",
   "id": "4852b416",
   "metadata": {},
   "source": [
    "## OX퀴즈"
   ]
  },
  {
   "cell_type": "code",
   "execution_count": 50,
   "id": "74c08ad9",
   "metadata": {},
   "outputs": [
    {
     "name": "stdout",
     "output_type": "stream",
     "text": [
      "10\n",
      "9\n",
      "7\n",
      "55\n",
      "30\n"
     ]
    }
   ],
   "source": [
    "n=int(input())\n",
    "for _ in  range(n):\n",
    "    c=r=0\n",
    "    s=input()\n",
    "    for i in s:\n",
    "        if i=='O':\n",
    "            c+=1\n",
    "            r+=c\n",
    "        else:c=0\n",
    "    print(r)"
   ]
  },
  {
   "attachments": {},
   "cell_type": "markdown",
   "id": "98e88d35",
   "metadata": {},
   "source": [
    "## 약수들의 합"
   ]
  },
  {
   "cell_type": "code",
   "execution_count": 62,
   "id": "57905f61",
   "metadata": {},
   "outputs": [
    {
     "name": "stdout",
     "output_type": "stream",
     "text": [
      "6 = 1 + 2 + 3\n",
      "12 is NOT perfect.\n",
      "28 = 1 + 2 + 4 + 7 + 14\n"
     ]
    }
   ],
   "source": [
    "while True:\n",
    "    l=[]\n",
    "    n=int(input())\n",
    "    if n==-1:break\n",
    "    for i in range(1,n//2+1):\n",
    "        if n%i==0:l.append(i)\n",
    "    if sum(l)!=n:\n",
    "        print(f'{n} is NOT perfect.')\n",
    "    else:\n",
    "        print(f'{n} = {l[0]}', end='')\n",
    "        for i in range(1,len(l)):\n",
    "            print(f' + {l[i]}', end='')\n",
    "        print('')\n"
   ]
  },
  {
   "attachments": {},
   "cell_type": "markdown",
   "id": "1e4c0d96",
   "metadata": {},
   "source": [
    "## 전자레인지\n",
    "A: 300초  \n",
    "B: 60초  \n",
    "C: 10초\n",
    "버튼 누른 수 합이 최소가 되도록  \n",
    "t= 초단위"
   ]
  },
  {
   "cell_type": "code",
   "execution_count": 69,
   "id": "d83d623a",
   "metadata": {},
   "outputs": [
    {
     "name": "stdout",
     "output_type": "stream",
     "text": [
      "0 1 4\n"
     ]
    }
   ],
   "source": [
    "t=int(input())\n",
    "a=b=c=s=0\n",
    "while True:\n",
    "    if t==0:break\n",
    "    elif t>=300:\n",
    "        t-=300\n",
    "        a+=1\n",
    "    elif t>=60:\n",
    "        t-=60\n",
    "        b+=1\n",
    "    elif t>=10:\n",
    "        t-=10\n",
    "        c+=1\n",
    "    else:\n",
    "        print(-1)\n",
    "        s=1\n",
    "        break\n",
    "if s==0:print(a,b,c)\n"
   ]
  },
  {
   "attachments": {},
   "cell_type": "markdown",
   "id": "63bc33ab",
   "metadata": {},
   "source": [
    "## 주사위 게임\n"
   ]
  },
  {
   "cell_type": "code",
   "execution_count": 70,
   "id": "28bccab2",
   "metadata": {},
   "outputs": [
    {
     "name": "stdout",
     "output_type": "stream",
     "text": [
      "94\n",
      "91\n"
     ]
    }
   ],
   "source": [
    "r=int(input())\n",
    "c=s=100\n",
    "for _ in range(r):\n",
    "    a,b=map(int,input().split())\n",
    "    if a>b:s-=a\n",
    "    elif b>a:c-=b\n",
    "print(c)\n",
    "print(s)"
   ]
  },
  {
   "attachments": {},
   "cell_type": "markdown",
   "id": "7931dd4b",
   "metadata": {},
   "source": [
    "## Baseball"
   ]
  },
  {
   "cell_type": "code",
   "execution_count": 71,
   "id": "a8a27c19",
   "metadata": {},
   "outputs": [
    {
     "name": "stdout",
     "output_type": "stream",
     "text": [
      "Yonsei\n"
     ]
    }
   ],
   "source": [
    "t=int(input())\n",
    "for _ in range(t):\n",
    "    y=k=0\n",
    "    for _ in range(9):\n",
    "        a,b=map(int,input().split())\n",
    "        y+=a\n",
    "        k+=b\n",
    "    if y>k:print('Yonsei')\n",
    "    elif k>y:print('Korea')\n",
    "    else:print('Draw')"
   ]
  },
  {
   "attachments": {},
   "cell_type": "markdown",
   "id": "a360f09d",
   "metadata": {},
   "source": [
    "## 양조장 of the year\n",
    "학교별로 한 해동안 술 소비량이 주어질 때, 가장 술 소비가 많은 학교 이름을 출력하시오."
   ]
  },
  {
   "cell_type": "code",
   "execution_count": 78,
   "id": "bc9a9e7e",
   "metadata": {},
   "outputs": [
    {
     "name": "stdout",
     "output_type": "stream",
     "text": [
      "k\n",
      "k\n"
     ]
    }
   ],
   "source": [
    "t=int(input())\n",
    "dic={}\n",
    "maxim=float('-inf')\n",
    "for _ in range(t):\n",
    "    n=int(input())\n",
    "    for _ in range(n):\n",
    "        s,l=input().split()\n",
    "        l=int(l)\n",
    "        dic[f'{s}']=l\n",
    "        if l>maxim:maxim=l\n",
    "    for k,v in dic.items():\n",
    "        if v==maxim:\n",
    "            print(k)"
   ]
  },
  {
   "attachments": {},
   "cell_type": "markdown",
   "id": "33c7f187",
   "metadata": {},
   "source": [
    "## 큰 수 A+B"
   ]
  },
  {
   "cell_type": "code",
   "execution_count": 79,
   "id": "881d65b2",
   "metadata": {},
   "outputs": [
    {
     "name": "stdout",
     "output_type": "stream",
     "text": [
      "18446744073709551615\n"
     ]
    }
   ],
   "source": [
    "a,b=map(int,input().split())\n",
    "print(a+b)"
   ]
  },
  {
   "attachments": {},
   "cell_type": "markdown",
   "id": "cc6875c0",
   "metadata": {},
   "source": [
    "## 네번째 점\n",
    "세 점이 주어졌을 때, 축에 평행한 직사각형을 만들기 위해서 필요한 네 번째 점을찾는 프로그램을 작성하시오  \n",
    "(축에 평행한?)  \n",
    "x,y가 2개씩 짝이 지어져야한 다는 것을 응용?"
   ]
  },
  {
   "cell_type": "code",
   "execution_count": 94,
   "id": "54024fae",
   "metadata": {},
   "outputs": [
    {
     "name": "stdout",
     "output_type": "stream",
     "text": [
      "7 7\n"
     ]
    }
   ],
   "source": [
    "\n",
    "a,b=map(int,input().split())\n",
    "c,d=map(int,input().split())\n",
    "e,f=map(int,input().split())\n",
    "if a==c:g=e\n",
    "elif a==e:g=c\n",
    "else:g=a\n",
    "if b==d:h=f\n",
    "elif b==f:h=d\n",
    "else:h=b\n",
    "print(g,h)"
   ]
  },
  {
   "attachments": {},
   "cell_type": "markdown",
   "id": "c7ac1666",
   "metadata": {},
   "source": [
    "## 수들의 합\n",
    "서로 다른 N개의 자연수의 합이 S라고 한다. S를 알 때, 자연수 N의 최댓값은 얼마일까?\n",
    "1. 최대가 되려면 작은 것 부터 올라가야 할 것 같은데?"
   ]
  },
  {
   "cell_type": "code",
   "execution_count": 102,
   "id": "3b81676b",
   "metadata": {},
   "outputs": [
    {
     "name": "stdout",
     "output_type": "stream",
     "text": [
      "2\n"
     ]
    }
   ],
   "source": [
    "# 틀린 코드 \n",
    "s=int(input())\n",
    "i=c=1\n",
    "while i<s//2:\n",
    "    s-=i\n",
    "    i+=1\n",
    "    c+=1\n",
    "print(c)\n",
    "\n",
    "# 반례\n",
    "# 입력:3 출력:1 정답:2"
   ]
  },
  {
   "cell_type": "code",
   "execution_count": null,
   "id": "d3c450ab",
   "metadata": {},
   "outputs": [],
   "source": [
    "s=int(input())\n",
    "i=c=1\n",
    "while i<round(s/2):\n",
    "    s-=i\n",
    "    i+=1\n",
    "    c+=1\n",
    "print(c)\n"
   ]
  }
 ],
 "metadata": {
  "kernelspec": {
   "display_name": "Python 3.10.5 64-bit",
   "language": "python",
   "name": "python3"
  },
  "language_info": {
   "codemirror_mode": {
    "name": "ipython",
    "version": 3
   },
   "file_extension": ".py",
   "mimetype": "text/x-python",
   "name": "python",
   "nbconvert_exporter": "python",
   "pygments_lexer": "ipython3",
   "version": "3.9.13 (v3.9.13:6de2ca5339, May 17 2022, 11:37:23) \n[Clang 13.0.0 (clang-1300.0.29.30)]"
  },
  "vscode": {
   "interpreter": {
    "hash": "aee8b7b246df8f9039afb4144a1f6fd8d2ca17a180786b69acc140d282b71a49"
   }
  }
 },
 "nbformat": 4,
 "nbformat_minor": 5
}
