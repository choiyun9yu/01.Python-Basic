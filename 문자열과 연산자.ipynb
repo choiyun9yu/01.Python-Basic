{
 "cells": [
  {
   "cell_type": "markdown",
   "id": "4f92c881",
   "metadata": {},
   "source": [
    "#### 포매팅 첫번째 방법"
   ]
  },
  {
   "cell_type": "code",
   "execution_count": 51,
   "id": "ddc4502b",
   "metadata": {
    "scrolled": true
   },
   "outputs": [
    {
     "data": {
      "text/plain": [
       "'오늘은 7월 8일 입니다.'"
      ]
     },
     "execution_count": 51,
     "metadata": {},
     "output_type": "execute_result"
    }
   ],
   "source": [
    "day=8\n",
    "s = \"오늘은 7월 %d일 입니다.\"%day\n",
    "s"
   ]
  },
  {
   "cell_type": "code",
   "execution_count": 52,
   "id": "362067af",
   "metadata": {
    "scrolled": true
   },
   "outputs": [
    {
     "data": {
      "text/plain": [
       "'오늘은 6월 22일 입니다.'"
      ]
     },
     "execution_count": 52,
     "metadata": {},
     "output_type": "execute_result"
    }
   ],
   "source": [
    "month=6\n",
    "day=22\n",
    "s = \"오늘은 %d월 %d일 입니다.\"%(month,day)\n",
    "s"
   ]
  },
  {
   "cell_type": "markdown",
   "id": "f7407c90",
   "metadata": {},
   "source": [
    "#### 포매팅 두번째 방법 (함수 사용)"
   ]
  },
  {
   "cell_type": "code",
   "execution_count": 53,
   "id": "5c57eb01",
   "metadata": {},
   "outputs": [
    {
     "data": {
      "text/plain": [
       "'오늘은 6월 22일 입니다.'"
      ]
     },
     "execution_count": 53,
     "metadata": {},
     "output_type": "execute_result"
    }
   ],
   "source": [
    "month=6\n",
    "day=22\n",
    "s = \"오늘은 {}월 {}일 입니다.\".format(month, day)\n",
    "s"
   ]
  },
  {
   "cell_type": "markdown",
   "id": "400811af",
   "metadata": {},
   "source": [
    "#### 포매팅 세번째 방법(f-string 포매팅)"
   ]
  },
  {
   "cell_type": "code",
   "execution_count": 54,
   "id": "df4f5703",
   "metadata": {},
   "outputs": [
    {
     "data": {
      "text/plain": [
       "'오늘은 6월 22일 입니다.'"
      ]
     },
     "execution_count": 54,
     "metadata": {},
     "output_type": "execute_result"
    }
   ],
   "source": [
    "month=6\n",
    "day=22\n",
    "s = f\"오늘은 {month}월 {day}일 입니다.\"\n",
    "s"
   ]
  },
  {
   "cell_type": "markdown",
   "id": "1ca8502b",
   "metadata": {},
   "source": [
    "#### 예제"
   ]
  },
  {
   "cell_type": "code",
   "execution_count": 55,
   "id": "86276931",
   "metadata": {},
   "outputs": [
    {
     "name": "stdout",
     "output_type": "stream",
     "text": [
      "100과 200의 합은 300입니다.\n"
     ]
    }
   ],
   "source": [
    "x=100\n",
    "y=200\n",
    "sum2=x+y\n",
    "print(f\"{x}과 {y}의 합은 {sum2}입니다.\")"
   ]
  },
  {
   "cell_type": "code",
   "execution_count": 56,
   "id": "59fbed31",
   "metadata": {},
   "outputs": [
    {
     "name": "stdout",
     "output_type": "stream",
     "text": [
      "100과 200의 합은 300입니다.\n"
     ]
    }
   ],
   "source": [
    "print(\"{}과 {}의 합은 {}입니다.\".format(x, y, sum2))"
   ]
  },
  {
   "cell_type": "code",
   "execution_count": 57,
   "id": "3638de6e",
   "metadata": {},
   "outputs": [
    {
     "name": "stdout",
     "output_type": "stream",
     "text": [
      "100과 200의 합은 300입니다.\n"
     ]
    }
   ],
   "source": [
    "print(\"%d과 %d의 합은 %d입니다.\"%(x, y, (x+y)))"
   ]
  },
  {
   "cell_type": "markdown",
   "id": "9cf80e40",
   "metadata": {},
   "source": [
    "#### 자주사용하는 문자열 함수"
   ]
  },
  {
   "cell_type": "code",
   "execution_count": 58,
   "id": "f99e0587",
   "metadata": {},
   "outputs": [
    {
     "data": {
      "text/plain": [
       "3"
      ]
     },
     "execution_count": 58,
     "metadata": {},
     "output_type": "execute_result"
    }
   ],
   "source": [
    "s = '오늘 점심 메뉴는 탕수육입니다. 저는 탕수육을 매우 좋아해서 탕수육만 먹을겁니다.'\n",
    "s.count('탕수육')"
   ]
  },
  {
   "cell_type": "code",
   "execution_count": 59,
   "id": "b6e5b700",
   "metadata": {},
   "outputs": [
    {
     "data": {
      "text/plain": [
       "'오늘 점심 메뉴는 탕수육입니다.'"
      ]
     },
     "execution_count": 59,
     "metadata": {},
     "output_type": "execute_result"
    }
   ],
   "source": [
    "s='  오늘 점심 메뉴는 탕수육입니다.'\n",
    "s.strip()"
   ]
  },
  {
   "cell_type": "code",
   "execution_count": 60,
   "id": "5aa51a24",
   "metadata": {},
   "outputs": [
    {
     "data": {
      "text/plain": [
       "'오늘 점심 메뉴는 깐풍기입니다. 저는 깐풍기을 매우 좋아해서 깐풍기만 먹을겁니다.'"
      ]
     },
     "execution_count": 60,
     "metadata": {},
     "output_type": "execute_result"
    }
   ],
   "source": [
    "s = '오늘 점심 메뉴는 탕수육입니다. 저는 탕수육을 매우 좋아해서 탕수육만 먹을겁니다.'\n",
    "s.replace('탕수육','깐풍기')"
   ]
  },
  {
   "cell_type": "code",
   "execution_count": 61,
   "id": "fdf0497b",
   "metadata": {},
   "outputs": [
    {
     "data": {
      "text/plain": [
       "['오늘', '점심', '메뉴는', '탕수육입니다.', '저는', '탕수육을', '매우', '좋아해서', '탕수육만', '먹을겁니다']"
      ]
     },
     "execution_count": 61,
     "metadata": {},
     "output_type": "execute_result"
    }
   ],
   "source": [
    "s = '오늘 점심 메뉴는 탕수육입니다. 저는 탕수육을 매우 좋아해서 탕수육만 먹을겁니다'\n",
    "s.split(' ')"
   ]
  },
  {
   "cell_type": "markdown",
   "id": "eccb95dc",
   "metadata": {},
   "source": [
    "# 연산자\n",
    "- 산술연산자"
   ]
  },
  {
   "cell_type": "code",
   "execution_count": 62,
   "id": "2f5b1a5e",
   "metadata": {},
   "outputs": [
    {
     "name": "stdout",
     "output_type": "stream",
     "text": [
      "1.4285714285714286\n",
      "3\n",
      "1\n"
     ]
    }
   ],
   "source": [
    "n1 = 10\n",
    "n2 = 7\n",
    "\n",
    "print(n1/n2)\n",
    "print(n1%n2)\n",
    "print(n1//n2)"
   ]
  },
  {
   "cell_type": "code",
   "execution_count": 63,
   "id": "5818a6be",
   "metadata": {},
   "outputs": [
    {
     "name": "stdout",
     "output_type": "stream",
     "text": [
      "안녕하세요\n",
      "안녕 하세요\n"
     ]
    }
   ],
   "source": [
    "s1='안녕'\n",
    "s2='하세요'\n",
    "print(s1+s2)\n",
    "print(s1,s2)"
   ]
  },
  {
   "cell_type": "code",
   "execution_count": 66,
   "id": "15d99a61",
   "metadata": {},
   "outputs": [
    {
     "name": "stdout",
     "output_type": "stream",
     "text": [
      "17\n"
     ]
    }
   ],
   "source": [
    "num1 = 10\n",
    "str2 = \"7\"\n",
    "print(num1+int(str2))"
   ]
  },
  {
   "cell_type": "code",
   "execution_count": 67,
   "id": "b22eccaa",
   "metadata": {},
   "outputs": [
    {
     "name": "stdout",
     "output_type": "stream",
     "text": [
      "더하기 결과 : 26\n",
      "빼기 결과 : 20\n",
      "곱하기 결과 : 69\n",
      "나누기 결과 : 7.666666666666667\n"
     ]
    }
   ],
   "source": [
    "num1=23\n",
    "num2=3\n",
    "print(\"더하기 결과 :\",num1+num2)\n",
    "print(\"빼기 결과 :\", num1-num2)\n",
    "print(\"곱하기 결과 :\", num1*num2)\n",
    "print(\"나누기 결과 :\", num1/num2)"
   ]
  },
  {
   "cell_type": "markdown",
   "id": "5b32079f",
   "metadata": {},
   "source": [
    "- 지수 연산자"
   ]
  },
  {
   "cell_type": "code",
   "execution_count": 68,
   "id": "24e77073",
   "metadata": {},
   "outputs": [
    {
     "name": "stdout",
     "output_type": "stream",
     "text": [
      "정수를 입력하세요 >>123\n"
     ]
    }
   ],
   "source": [
    "num=input(\"정수를 입력하세요 >>\")"
   ]
  },
  {
   "cell_type": "code",
   "execution_count": 71,
   "id": "9ee5d616",
   "metadata": {},
   "outputs": [
    {
     "name": "stdout",
     "output_type": "stream",
     "text": [
      "정수를 입력하세요 >> 3\n",
      "정수를 입력하세요 >> 7\n",
      "더하기 결과 : 10\n",
      "빼기 결과 : -4\n",
      "곱하기 결과 : 21\n",
      "나누기 결과 : 0.42857142857142855\n"
     ]
    }
   ],
   "source": [
    "n1 = int(input('정수를 입력하세요 >> '))\n",
    "n2 = int(input('정수를 입력하세요 >> '))\n",
    "print('더하기 결과 :', n1+n2)\n",
    "print('빼기 결과 :', n1-n2)\n",
    "print('곱하기 결과 :', n1*n2)\n",
    "print('나누기 결과 :', n1/n2)"
   ]
  },
  {
   "cell_type": "code",
   "execution_count": 80,
   "id": "f7cd915d",
   "metadata": {},
   "outputs": [
    {
     "name": "stdout",
     "output_type": "stream",
     "text": [
      "python 점수 입력 >> 100\n",
      "머신러닝 점수 입력 >> 80\n",
      "딥러닝 점수 입력 >  60\n",
      "합계 : 240\n",
      "평균 : 80.0\n"
     ]
    }
   ],
   "source": [
    "p1= int(input('python 점수 입력 >> '))\n",
    "m1= int(input('머신러닝 점수 입력 >> '))\n",
    "d1= int(input('딥러닝 점수 입력 >  '))\n",
    "\n",
    "total = p1+m1+d1\n",
    "\n",
    "print('합계 : {}'.format(total))\n",
    "print('평균 : {}'.format(total/3))"
   ]
  },
  {
   "cell_type": "code",
   "execution_count": 86,
   "id": "1936c1b4",
   "metadata": {},
   "outputs": [
    {
     "name": "stdout",
     "output_type": "stream",
     "text": [
      "시간 입력 >> 7533\n",
      "2시간 5분 33초\n"
     ]
    }
   ],
   "source": [
    "time= int(input(\"시간 입력 >> \"))\n",
    "hour = time // 3600\n",
    "minute = time%3600 // 60\n",
    "secound = time % 60\n",
    "print(\"{}시간 {}분 {}초\".format(hour, minute, secound))"
   ]
  },
  {
   "cell_type": "code",
   "execution_count": 87,
   "id": "eb462774",
   "metadata": {},
   "outputs": [
    {
     "name": "stdout",
     "output_type": "stream",
     "text": [
      "시간 입력 >> 1123\n",
      "0시간 18분 43초\n"
     ]
    }
   ],
   "source": [
    "time= int(input(\"시간 입력 >> \"))\n",
    "hour = time // 3600\n",
    "minute = time%3600 // 60\n",
    "secound = time % 60\n",
    "print(\"{}시간 {}분 {}초\".format(hour, minute, secound))"
   ]
  },
  {
   "cell_type": "code",
   "execution_count": 89,
   "id": "3dde34ec",
   "metadata": {},
   "outputs": [
    {
     "name": "stdout",
     "output_type": "stream",
     "text": [
      "시간 입력 >> 3723\n",
      "1시간 2분 3초\n"
     ]
    }
   ],
   "source": [
    "time= int(input(\"시간 입력 >> \"))\n",
    "hour = time // 3600\n",
    "minute = time%3600 // 60\n",
    "secound = time % 60\n",
    "print(\"{}시간 {}분 {}초\".format(hour, minute, secound))"
   ]
  },
  {
   "cell_type": "code",
   "execution_count": 90,
   "id": "6583b22c",
   "metadata": {},
   "outputs": [
    {
     "name": "stdout",
     "output_type": "stream",
     "text": [
      "xxxxxxxxxx\n"
     ]
    }
   ],
   "source": [
    "s=\"x\"\n",
    "print(s*10)"
   ]
  },
  {
   "cell_type": "code",
   "execution_count": 91,
   "id": "c510149d",
   "metadata": {},
   "outputs": [
    {
     "name": "stdout",
     "output_type": "stream",
     "text": [
      "안녕하세요안녕하세요\n"
     ]
    }
   ],
   "source": [
    "s='안녕하세요'\n",
    "print(s*2)"
   ]
  },
  {
   "cell_type": "markdown",
   "id": "11284354",
   "metadata": {},
   "source": []
  },
  {
   "cell_type": "code",
   "execution_count": 97,
   "id": "9fbae086",
   "metadata": {},
   "outputs": [
    {
     "name": "stdout",
     "output_type": "stream",
     "text": [
      "********** 연산하기 **********\n",
      "정수입력 >> 10\n",
      "정수입력 >> 20\n",
      "+연산자 입력 >> +\n",
      "10 + 20 = 30\n"
     ]
    }
   ],
   "source": [
    "print('*'*10,'연산하기','*'*10)\n",
    "n1=int(input('정수입력 >> '))\n",
    "n2=int(input('정수입력 >> '))\n",
    "cal = input('+연산자 입력 >> ')\n",
    "print('{} {} {} = {}'.format(n1,cal,n2,(n1+n2)))"
   ]
  },
  {
   "cell_type": "markdown",
   "id": "e97ce57c",
   "metadata": {},
   "source": [
    "- 지수연산자"
   ]
  },
  {
   "cell_type": "code",
   "execution_count": 125,
   "id": "78930916",
   "metadata": {},
   "outputs": [
    {
     "name": "stdout",
     "output_type": "stream",
     "text": [
      "정수 입력 >> 3\n",
      "지수 입력 >> 3\n",
      "3의 3제곱은 27입니다.\n"
     ]
    }
   ],
   "source": [
    "num = int(input(\"정수 입력 >> \"))\n",
    "power = int(input(\"지수 입력 >> \"))\n",
    "print(f\"{num}의 {power}제곱은 {num**power}입니다.\")"
   ]
  },
  {
   "cell_type": "markdown",
   "id": "d91b7288",
   "metadata": {},
   "source": [
    "- 비교 연산자"
   ]
  },
  {
   "cell_type": "code",
   "execution_count": 102,
   "id": "fe9e93a5",
   "metadata": {},
   "outputs": [
    {
     "name": "stdout",
     "output_type": "stream",
     "text": [
      "False\n",
      "True\n",
      "False\n",
      "True\n"
     ]
    }
   ],
   "source": [
    "a,b=3,7\n",
    "\n",
    "print(a>b)\n",
    "print(a<=b)\n",
    "print(a==b)\n",
    "print(a!=b)"
   ]
  },
  {
   "cell_type": "code",
   "execution_count": 103,
   "id": "fa725ac3",
   "metadata": {},
   "outputs": [
    {
     "name": "stdout",
     "output_type": "stream",
     "text": [
      "a:6, b:10\n",
      "False\n",
      "True\n",
      "False\n",
      "True\n"
     ]
    }
   ],
   "source": [
    "import random as rd\n",
    "a = rd.randint(1,10)\n",
    "b = rd.randint(1,10)\n",
    "print(\"a:{}, b:{}\".format(a,b))\n",
    "\n",
    "print(a>b)\n",
    "print(a<=b)\n",
    "print(a==b)\n",
    "print(a!=b)"
   ]
  },
  {
   "cell_type": "markdown",
   "id": "04ac96d5",
   "metadata": {},
   "source": [
    "- 논리 연산자"
   ]
  },
  {
   "cell_type": "code",
   "execution_count": 107,
   "id": "ffe4e6f0",
   "metadata": {},
   "outputs": [
    {
     "data": {
      "text/plain": [
       "True"
      ]
     },
     "execution_count": 107,
     "metadata": {},
     "output_type": "execute_result"
    }
   ],
   "source": [
    "a, b = 3, 7\n",
    "not a<b\n"
   ]
  },
  {
   "cell_type": "code",
   "execution_count": 111,
   "id": "205a57f4",
   "metadata": {},
   "outputs": [
    {
     "data": {
      "text/plain": [
       "True"
      ]
     },
     "execution_count": 111,
     "metadata": {},
     "output_type": "execute_result"
    }
   ],
   "source": [
    "not a==b"
   ]
  },
  {
   "cell_type": "code",
   "execution_count": 108,
   "id": "496e92af",
   "metadata": {},
   "outputs": [
    {
     "data": {
      "text/plain": [
       "False"
      ]
     },
     "execution_count": 108,
     "metadata": {},
     "output_type": "execute_result"
    }
   ],
   "source": [
    "3 > 5 and 10 == 20"
   ]
  },
  {
   "cell_type": "code",
   "execution_count": 109,
   "id": "0523a101",
   "metadata": {},
   "outputs": [
    {
     "data": {
      "text/plain": [
       "False"
      ]
     },
     "execution_count": 109,
     "metadata": {},
     "output_type": "execute_result"
    }
   ],
   "source": [
    "3 > 5 and 10 < 20"
   ]
  },
  {
   "cell_type": "code",
   "execution_count": 110,
   "id": "cbcc8051",
   "metadata": {},
   "outputs": [
    {
     "data": {
      "text/plain": [
       "True"
      ]
     },
     "execution_count": 110,
     "metadata": {},
     "output_type": "execute_result"
    }
   ],
   "source": [
    "3 < 5 and 10 < 20"
   ]
  },
  {
   "cell_type": "code",
   "execution_count": 112,
   "id": "d282feb3",
   "metadata": {},
   "outputs": [
    {
     "data": {
      "text/plain": [
       "False"
      ]
     },
     "execution_count": 112,
     "metadata": {},
     "output_type": "execute_result"
    }
   ],
   "source": [
    "3 > 5 or 10 == 20"
   ]
  },
  {
   "cell_type": "code",
   "execution_count": 113,
   "id": "3538f916",
   "metadata": {},
   "outputs": [
    {
     "data": {
      "text/plain": [
       "True"
      ]
     },
     "execution_count": 113,
     "metadata": {},
     "output_type": "execute_result"
    }
   ],
   "source": [
    "3 > 5 or 10 < 20"
   ]
  },
  {
   "cell_type": "code",
   "execution_count": 114,
   "id": "a801c295",
   "metadata": {},
   "outputs": [
    {
     "data": {
      "text/plain": [
       "True"
      ]
     },
     "execution_count": 114,
     "metadata": {},
     "output_type": "execute_result"
    }
   ],
   "source": [
    "3 < 5 or 10 < 20"
   ]
  },
  {
   "cell_type": "markdown",
   "id": "61c724fd",
   "metadata": {},
   "source": [
    "- 삼항 연산자"
   ]
  },
  {
   "cell_type": "code",
   "execution_count": 120,
   "id": "51c3eab1",
   "metadata": {},
   "outputs": [
    {
     "data": {
      "text/plain": [
       "'합격'"
      ]
     },
     "execution_count": 120,
     "metadata": {},
     "output_type": "execute_result"
    }
   ],
   "source": [
    "score = 80\n",
    "\"합격\" if score >= 60 else \"불합격\""
   ]
  },
  {
   "cell_type": "code",
   "execution_count": 121,
   "id": "eef9ec65",
   "metadata": {},
   "outputs": [
    {
     "data": {
      "text/plain": [
       "'불합격'"
      ]
     },
     "execution_count": 121,
     "metadata": {},
     "output_type": "execute_result"
    }
   ],
   "source": [
    "score = 50\n",
    "\"합격\" if score >= 60 else \"불합격\""
   ]
  },
  {
   "cell_type": "code",
   "execution_count": 140,
   "id": "a8304cb8",
   "metadata": {},
   "outputs": [
    {
     "name": "stdout",
     "output_type": "stream",
     "text": [
      "정수입력 >> 3\n",
      "정수입력 >> 5\n",
      "b: 5\n"
     ]
    }
   ],
   "source": [
    "a = int(input(\"정수입력 >> \"))\n",
    "b = int(input(\"정수입력 >> \"))\n",
    "print(\"a:\",a) if a>b else print(\"b:\",b)"
   ]
  },
  {
   "cell_type": "code",
   "execution_count": 135,
   "id": "fac4c4e2",
   "metadata": {},
   "outputs": [
    {
     "name": "stdout",
     "output_type": "stream",
     "text": [
      "첫 번째 정수 입력 >> 33\n",
      "두 번째 정수 입력 >> 5\n",
      "두수의 차 : 28\n"
     ]
    }
   ],
   "source": [
    "a = int(input(\"첫 번째 정수 입력 >> \"))\n",
    "b = int(input(\"두 번째 정수 입력 >> \"))\n",
    "\n",
    "c=a if a>b else b #큰수\n",
    "d=a if a<b else b #작은수\n",
    "\n",
    "print(\"두수의 차 :\", (c-d))"
   ]
  },
  {
   "cell_type": "code",
   "execution_count": 152,
   "id": "5dcfd9ef",
   "metadata": {},
   "outputs": [
    {
     "name": "stdout",
     "output_type": "stream",
     "text": [
      "정수 입력 >> 4\n",
      "4는(은) 짝수입니다.\n"
     ]
    }
   ],
   "source": [
    "a=int(input(\"정수 입력 >> \"))\n",
    "\n",
    "print(str(a)+'는(은) 짝수입니다.') if (a%2)==0 else print(str(a)+'는(은) 홀수입니다.')"
   ]
  },
  {
   "cell_type": "code",
   "execution_count": null,
   "id": "0591e90d",
   "metadata": {},
   "outputs": [],
   "source": []
  },
  {
   "cell_type": "code",
   "execution_count": null,
   "id": "f6d6fa2c",
   "metadata": {},
   "outputs": [],
   "source": []
  },
  {
   "cell_type": "code",
   "execution_count": null,
   "id": "4f3eb585",
   "metadata": {},
   "outputs": [],
   "source": []
  },
  {
   "cell_type": "code",
   "execution_count": null,
   "id": "0345801c",
   "metadata": {},
   "outputs": [],
   "source": []
  },
  {
   "cell_type": "code",
   "execution_count": null,
   "id": "05a97fe8",
   "metadata": {},
   "outputs": [],
   "source": []
  }
 ],
 "metadata": {
  "kernelspec": {
   "display_name": "Python 3 (ipykernel)",
   "language": "python",
   "name": "python3"
  },
  "language_info": {
   "codemirror_mode": {
    "name": "ipython",
    "version": 3
   },
   "file_extension": ".py",
   "mimetype": "text/x-python",
   "name": "python",
   "nbconvert_exporter": "python",
   "pygments_lexer": "ipython3",
   "version": "3.9.12"
  }
 },
 "nbformat": 4,
 "nbformat_minor": 5
}
