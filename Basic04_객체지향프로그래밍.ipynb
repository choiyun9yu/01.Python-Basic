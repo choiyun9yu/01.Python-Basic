{
 "cells": [
  {
   "attachments": {},
   "cell_type": "markdown",
   "id": "3d25c998",
   "metadata": {},
   "source": [
    "## OOP (Object Oriented Programming)"
   ]
  },
  {
   "attachments": {},
   "cell_type": "markdown",
   "id": "f7c20a74",
   "metadata": {},
   "source": [
    "- 객체 지향 프로그래밍\n",
    "- 객체를 만들기 위한 설계도 : Class\n",
    "- 설계도로부터 만들어지는 개념 : Object\n",
    "- 클래스로부터 구현된 오브제 : Instance (만들어진 각각의 인스턴스는 독립적으로 동작한다)\n",
    "\n",
    "### 객체 지향 프로그램의 특징\n",
    "\n",
    "#### 추상화(Abstraction)\n",
    "- 객체의 공통적인 특징을 추출하는 작업\n",
    "- 단, 너무 세부적인 정보는 배제\n",
    "\n",
    "#### 상속(Inheritance)\n",
    "- 부모클래스의 멤버(변수, 함수)를 물려 받아\n",
    "- 자식클래스를 정의\n",
    "\n",
    "#### 캡슐화(Encapsulation)\n",
    "- 개발자가 원하는 변수, 함수만 접근할 수 있도록\n",
    "- 정보를 제한\n",
    "\n",
    "#### 다형성(Polymophism)\n",
    "- 다향한 평태를 나타낼 수 있는 능력"
   ]
  },
  {
   "cell_type": "markdown",
   "id": "8f0353e0",
   "metadata": {},
   "source": [
    "추상화 : 밑에서 위로 올라가는 작업  \n",
    "구체화 : 위에서 아래로 내려오는 작업"
   ]
  },
  {
   "cell_type": "code",
   "execution_count": 6,
   "id": "843b4f73",
   "metadata": {},
   "outputs": [],
   "source": [
    "# 클래스 생성\n",
    "class 집:\n",
    "    # class 내부요소 : 멤버(member)\n",
    "    # 멤버 변수(필드. 속성, 특성)\n",
    "    화장실 = 2\n",
    "    방 = 4\n",
    "    층 = 2\n",
    "    다락방 = True\n",
    "    \n",
    "    #멤버 함수(함소, 기능, 메소드, 행위, 동작)\n",
    "    def 정보(self):\n",
    "        print(f'화장실 : {self.화장실}개')  #self는 클래스를 가리킨다.\n",
    "        print(f'방 : {self.방}개')\n",
    "        print(f'층 : {self.층}층')\n",
    "        print(f'다락방 : {self.다락방}')\n",
    "        \n",
    "#퍄이썬은 인터프린터언어(한줄 한줄 번역) / 자파는 컴파일러(한번에 몽땅 변역)"
   ]
  },
  {
   "cell_type": "code",
   "execution_count": 4,
   "id": "80bab27f",
   "metadata": {},
   "outputs": [
    {
     "name": "stdout",
     "output_type": "stream",
     "text": [
      "화장실 : 2개\n",
      "방 : 4개\n",
      "층 : 2층\n",
      "다락방 : True\n",
      "--------------\n",
      "화장실 : 2개\n",
      "방 : 4개\n",
      "층 : 2층\n",
      "다락방 : True\n"
     ]
    }
   ],
   "source": [
    "# 객체 생성\n",
    "윤규집 = 집()\n",
    "윤규집.정보()\n",
    "print('-'*14)\n",
    "부모님집 = 집()\n",
    "부모님집.정보()"
   ]
  },
  {
   "cell_type": "code",
   "execution_count": 18,
   "id": "64c5bad0",
   "metadata": {},
   "outputs": [
    {
     "name": "stdout",
     "output_type": "stream",
     "text": [
      "화장실 : 1개\n",
      "방 : 5개\n",
      "층 : 2층\n",
      "다락방 : True\n"
     ]
    }
   ],
   "source": [
    "윤규집.방 = 5\n",
    "윤규집.화장실 =1\n",
    "윤규집.정보()"
   ]
  },
  {
   "cell_type": "code",
   "execution_count": 1,
   "id": "e1f5a700",
   "metadata": {},
   "outputs": [],
   "source": [
    "class 고양이:\n",
    "    #접근제한자(Access Modifier): 외부에서 접근해서 바꾸지 못하게 함 \n",
    "    #멤버변수 앞에 언더바 두개\n",
    "    #멤버변수 언더바 한개 하면 외부에서는 접근 안되고 자식클래스에선 접근 가능\n",
    "    _이름, 좋아하는사료, __무늬, 털색깔 = None, None, None, None\n",
    "    \n",
    "    #울음소리, 먹이를 먹다\n",
    "    def 울다(self):\n",
    "        print('야옹!')\n",
    "    def 먹다(self):\n",
    "        print('냠냠')\n",
    "    def 정보(self):\n",
    "        print(f'이름 : {self._이름}\\n좋아하는사료 : {self.좋아하는사료}\\n무늬 : {self.__무늬}\\n털색깔 : {self.털색깔}\\n')\n",
    "        \n",
    "#생성자(constructor) : 양쪽을 언더바 두개로 감싸기\n",
    "#객체가 생성(메모리상에 만들어진다)될 때 자동으로 호출\n",
    "    def __init__(self, 이름, 좋아하는사료, 무늬, 털색깔):\n",
    "        self._이름 = 이름\n",
    "        self.좋아하는사료 = 좋아하는사료\n",
    "        self.__무늬 = 무늬\n",
    "        self.털색깔 = 털색깔"
   ]
  },
  {
   "cell_type": "code",
   "execution_count": 8,
   "id": "60e73742",
   "metadata": {},
   "outputs": [
    {
     "name": "stdout",
     "output_type": "stream",
     "text": [
      "이름 : 구루미\n",
      "좋아하는사료 : 애기사료\n",
      "무늬 : 없음\n",
      "털색깔 : 회색\n",
      "\n",
      "냠냠\n",
      "야옹!\n"
     ]
    }
   ],
   "source": [
    "구루미 = 고양이('구루미','애기사료', '없음', '회색')\n",
    "구루미.이름 = '후추'  # 후추로 바꿔도 안바뀜 접근제한자__로 접근 제한해서 (프라이빗 상태 / 언더바 없는걸 퍼블릭 상태)\n",
    "구루미.무늬 = '흰색'  # 이걸 캡슐화라고 함 (개발자가 원하는 것만 공개하는 거)\n",
    "                  # 부모에서 프라이빗 걸면 자식에서도 접근 안됨\n",
    "구루미.정보()\n",
    "구루미.먹다()\n",
    "구루미.울다()"
   ]
  },
  {
   "cell_type": "code",
   "execution_count": 54,
   "id": "5f8955ac",
   "metadata": {},
   "outputs": [],
   "source": [
    "class 샴고양이(고양이):   #고양이class를 상속받았다는 표시 \n",
    "    털색깔 = '투톤'\n",
    "    \n",
    "    def __init__(self, _이름, 좋아하는사료, 무늬):\n",
    "        self._이름 = 이름\n",
    "        self.좋아하는사료 = 좋아하는사료\n",
    "        self.무늬 = 무늬"
   ]
  },
  {
   "cell_type": "code",
   "execution_count": 55,
   "id": "eacaab94",
   "metadata": {},
   "outputs": [
    {
     "name": "stdout",
     "output_type": "stream",
     "text": [
      "이름 : 맑음\n",
      "좋아하는사료 : 츄르\n",
      "무늬 : None\n",
      "털색깔 : 투톤\n",
      "\n"
     ]
    }
   ],
   "source": [
    "맑음 = 샴고양이('맑음', '츄르', '없음')\n",
    "맑음.정보()"
   ]
  },
  {
   "cell_type": "code",
   "execution_count": 66,
   "id": "87d522f2",
   "metadata": {},
   "outputs": [],
   "source": [
    "class 계산기:\n",
    "    \n",
    "    def add(self, num1, num2):\n",
    "        return num1 + num2\n",
    "    def add(self, num1, num2):\n",
    "        return int(num1) + int(num2)"
   ]
  },
  {
   "cell_type": "code",
   "execution_count": 67,
   "id": "f9aa3d1c",
   "metadata": {},
   "outputs": [
    {
     "name": "stdout",
     "output_type": "stream",
     "text": [
      "8\n",
      "8\n"
     ]
    }
   ],
   "source": [
    "계산기1 = 계산기()\n",
    "print(계산기1.add(3,5))\n",
    "print(계산기1.add(3,'5'))"
   ]
  },
  {
   "attachments": {},
   "cell_type": "markdown",
   "id": "878bdbeb",
   "metadata": {},
   "source": [
    "## 오버라이딩(덮어쓰기)"
   ]
  },
  {
   "attachments": {},
   "cell_type": "markdown",
   "id": "10030110",
   "metadata": {},
   "source": [
    "상위 크래스가 가지고 있는 메서드를 하위 클래스에서 재정의해서 사용하는 기술"
   ]
  },
  {
   "cell_type": "code",
   "execution_count": null,
   "id": "072f82d8",
   "metadata": {},
   "outputs": [],
   "source": []
  },
  {
   "attachments": {},
   "cell_type": "markdown",
   "id": "206ff8ad",
   "metadata": {},
   "source": [
    "## 오버로딩"
   ]
  },
  {
   "attachments": {},
   "cell_type": "markdown",
   "id": "9bf1b4df",
   "metadata": {},
   "source": [
    "같은 이름의 메서드 여러개를 가지면서 매개변수의 유형과 개수가 다르도록 하는 기술 (파이썬에선 안되는듯?)"
   ]
  },
  {
   "cell_type": "code",
   "execution_count": null,
   "id": "fe3975bf",
   "metadata": {},
   "outputs": [],
   "source": []
  }
 ],
 "metadata": {
  "kernelspec": {
   "display_name": "Python 3.10.5 64-bit",
   "language": "python",
   "name": "python3"
  },
  "language_info": {
   "codemirror_mode": {
    "name": "ipython",
    "version": 3
   },
   "file_extension": ".py",
   "mimetype": "text/x-python",
   "name": "python",
   "nbconvert_exporter": "python",
   "pygments_lexer": "ipython3",
   "version": "3.10.5 (v3.10.5:f377153967, Jun  6 2022, 12:36:10) [Clang 13.0.0 (clang-1300.0.29.30)]"
  },
  "toc": {
   "base_numbering": 1,
   "nav_menu": {},
   "number_sections": true,
   "sideBar": true,
   "skip_h1_title": false,
   "title_cell": "Table of Contents",
   "title_sidebar": "Contents",
   "toc_cell": false,
   "toc_position": {},
   "toc_section_display": true,
   "toc_window_display": false
  },
  "vscode": {
   "interpreter": {
    "hash": "aee8b7b246df8f9039afb4144a1f6fd8d2ca17a180786b69acc140d282b71a49"
   }
  }
 },
 "nbformat": 4,
 "nbformat_minor": 5
}
