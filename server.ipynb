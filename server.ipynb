{
 "cells": [
  {
   "cell_type": "markdown",
   "metadata": {},
   "source": [
    "# Flask\n",
    "## web framework \n",
    "- web page를 개발하는 과정에서 겪는 어려움을 줄이는 것이 목적\n",
    "- DB연동, 템플릿 형태의 표준, 세션관리, 코드 재사용 등의 기능을 포함\n",
    "\n",
    "## 종류\n",
    "- Java 기반 : JSP, Servelt, Spring\n",
    "- PHP 기반 : Laravel, Codeignitor\n",
    "- Ruby 기반 : Ruby on rails\n",
    "- Node.js : Express.js\n",
    "- python : Django, FastAPI, Flask\n",
    "    - Flask: 적은 노력으로 많은 작업 가능, 사용자 요청이 들어올 때마다 web page 찍어내는 공장\n",
    "    \n",
    "## 요청방식\n",
    "- get방식: 내가 URL 주소의 key:Value 형식을 요청하면 그에 대한 데이터를 리턴\n",
    "    - (장점) 주소만 가지고 있으면 같은 페이지 볼 수 있음\n",
    "    - (단점) 보안에 취약 // #get방식으로 보내면 주소/?키1=밸류1&키2=밸류2 \n",
    "    - 물음표로 시작하는 방식 : 쿼리스트림 방식\n",
    "- post방식: 바디태그 안에 key:value가 담겨져서 이동  \n",
    "    - (장점) 보안에 강함\n",
    "    - (단점) 같은 웹페이지 주소를 볼 수 없음"
   ]
  },
  {
   "cell_type": "code",
   "execution_count": null,
   "metadata": {},
   "outputs": [],
   "source": [
    "#!pip install flask"
   ]
  },
  {
   "cell_type": "code",
   "execution_count": null,
   "metadata": {},
   "outputs": [],
   "source": [
    "from tkinter import ON\n",
    "from flask import Flask\n",
    "from flask import render_template #내가 만든 HTML문서를 불러오는 기능  (! 컨트롤 스페이스 엔터)\n",
    "#render_template: 현재 실행되고 있는 파이썬 파일과 같은 경로에 있는 templates 폴더 내 html문서를 불러온다.\n",
    "\n",
    "app = Flask(__name__)  \n",
    "\n",
    "#@app.route('/cal', methods=['GET','POST']) #요청객체 사용하기 위해서 methods옵션 하나 넣어줘야햠\n",
    "@app.route('/') #route경로 찾아주는 함수   #템플릿과 파이썬 파일이 같은 폴더 안에 있어야 함\n",
    "def index():\n",
    "    return 'hello'\n",
    "\n",
    "if __name__ == '__main__':\n",
    "    app.run()  #파라미터로 포트 변경 가능 \n",
    "                    #기본적으로 플라스크는 5000번 포트에서 리스닝을 한다.\n",
    "                    \n",
    "#웹페이지를 수정하길 원한다면 중단하도 다시 실행시켜야함\n",
    "#코드를 수정하면 자동으로 플라스크가 꺼졌다가 켜지게하려면 run(에 debug=True 넣기) app.run(port=5001, debug=Ture)\n",
    "#그러나 서비스할 때는 디버깅 모드로 오픈하면 안됨\n",
    "\n",
    "# Q. debug 모드 안됨"
   ]
  },
  {
   "cell_type": "code",
   "execution_count": null,
   "metadata": {},
   "outputs": [],
   "source": [
    "from flask import Flask\n",
    "import random\n",
    "\n",
    "app = Flask(__name__)\n",
    "\n",
    "@app.route('/')\n",
    "def index():\n",
    "    return str(random.random())  #함수의 리턴값이 웹페이지에 응답된다.\n",
    "                                 #웹페이지에 응답되는 건 문자열만 가능\n",
    "                                 #사용자 요청이 들어왔을 때 파이썬을 이용해서 어떠한 코드를 동적으로 생성하고 그것을 응답해주는 것 -> 플라스크 \n",
    "                                 # -> 동적으로 html을 만들 수 있다는 것의 의미\n",
    "                                 #데이터는 문자열 형태로 넘어다닌다!\n",
    "app.run(port=5002) "
   ]
  },
  {
   "cell_type": "code",
   "execution_count": null,
   "metadata": {},
   "outputs": [],
   "source": [
    "from flask import Flask\n",
    "import random\n",
    "\n",
    "app = Flask(__name__)\n",
    "\n",
    "@app.route('/')\n",
    "def index():\n",
    "    return 'random : <strong>'+str(random.random())+'</strong>'  #html 코드도 반영 가능\n",
    "\n",
    "app.run(port=5002) \n"
   ]
  },
  {
   "cell_type": "markdown",
   "metadata": {},
   "source": [
    "# 라우팅\n",
    "- 웹 프레임워크를 배울 때 처음으로 찾아봐야할 것은 해당 웹 프레임 워크는 라우팅을 어떻게하는가? 이다\n",
    "- 주소로 각 요청이 들어오면 그 요청을 담당하는 담당자가 있어야하고 그 담당자는 각각의 함수이다.\n",
    "- 어떤 주소를 어떤 함수가 응답할 것인가? 어떤 요청을 어떤 함수가 응답할 것인가를 연결시켜주는 작업이 라우팅이다.\n",
    "- 그런 작업을 기술하는 것을 라우터라고 한다. (라우팅을 할 줄 알면 플라스크 반은 한 것이다.)\n",
    "- 공식 매뉴얼 : https://flask.palletsprojects.com/en/2.2.x/ -> Quickstart -> Routing\n",
    "- route('/') : path를 입력하지 않고 접속하면 이 밑에 있는 함수가 응대하라고 지정한 것\n",
    "- route('/hello/') : /hello 로 사용자가 접속하면 이 밑에 있는 함수가 응대하라고 지정한 것 "
   ]
  },
  {
   "cell_type": "code",
   "execution_count": null,
   "metadata": {},
   "outputs": [],
   "source": [
    "from flask import Flask\n",
    "import random\n",
    "\n",
    "app = Flask(__name__)\n",
    "\n",
    "@app.route('/')\n",
    "def index():\n",
    "    return 'Welcome'\n",
    "\n",
    "@app.route('/creat/')\n",
    "def creat():\n",
    "    return 'Creat'\n",
    "\n",
    "@app.route('/read/1/')  #read에서 ID가 1인 것, 1이라는 숫자는 우리가 읽고싶은 글의 ID \n",
    "def read():             #근데 /read/2/는 지금 상황에서는 어떤 라우터와도 매칭되지 않기 때문에 NOT Found 띄움\n",
    "    return 'Read 1'     #이런 가변적으로 바뀌는 변수를 라우트가 받아내기 위해서는 어떻게해야할까? -> Varable Rules\n",
    "                        \n",
    "\n",
    "app.run(port=5003) "
   ]
  },
  {
   "cell_type": "code",
   "execution_count": null,
   "metadata": {},
   "outputs": [],
   "source": [
    "from flask import Flask\n",
    "import random\n",
    "\n",
    "app = Flask(__name__)\n",
    "\n",
    "@app.route('/')\n",
    "def index():\n",
    "    return 'Welcome'\n",
    "\n",
    "@app.route('/creat/')\n",
    "def creat():\n",
    "    return 'Creat'\n",
    "\n",
    "@app.route('/read/<id>/')  #Varable Rules -> 그냥 이렇게만 하면 Internal Server Error 가 뜸\n",
    "def read(id):              #id를 지정하는 매커니즘을 함수가 실행되면서 파라미터로 전달한다.\n",
    "    print(id)\n",
    "    return 'Read 1'        #<username>하고 이름을 주면 그 값이 <username>의 파라미터로 들어온다\n",
    "\n",
    "app.run() "
   ]
  },
  {
   "cell_type": "code",
   "execution_count": null,
   "metadata": {},
   "outputs": [],
   "source": [
    "from flask import Flask\n",
    "import random\n",
    "\n",
    "app = Flask(__name__)\n",
    "\n",
    "#<li><a href='주소'>제목</li>\n",
    "\n",
    "@app.route('/')\n",
    "def index():\n",
    "    return '''<!doctype html>\n",
    "    <html>\n",
    "        <body>\n",
    "            <h1><a href-\"/\">WEB</a></h1>\n",
    "            <ol>\n",
    "                <li><a href=\"/read/1/\">html</a></li>\n",
    "                <li><a href=\"/read/2/\">css</a></li>\n",
    "                <li><a href=\"/read/3/\">javascript</a></li>\n",
    "            </ol>\n",
    "            <h2>Welcome</h2>\n",
    "            Hello, Web\n",
    "        </body>\n",
    "    </html>  \n",
    "    '''\n",
    "\n",
    "\n",
    "@app.route('/creat/')\n",
    "def creat():\n",
    "    return 'Creat'\n",
    "\n",
    "@app.route('/read/<id>/')  #Varable Rules -> 그냥 이렇게만 하면 Internal Server Error 가 뜸\n",
    "def read(id):              #id를 지정하는 매커니즘을 함수가 실행되면서 파라미터로 전달한다.\n",
    "    print(id)\n",
    "    return 'Read'+id       #<username>하고 이름을 주면 그 값이 <username>의 파라미터로 들어온다\n",
    "\n",
    "app.run() "
   ]
  },
  {
   "cell_type": "markdown",
   "metadata": {},
   "source": [
    "# 홈페이지 구현\n",
    "- 딕셔너리와 F-string 활용 "
   ]
  },
  {
   "cell_type": "code",
   "execution_count": null,
   "metadata": {},
   "outputs": [],
   "source": [
    "from flask import Flask\n",
    "import random\n",
    "\n",
    "app = Flask(__name__)\n",
    "\n",
    "#순서가 있는 li는 리스트에 저장하는게 편하다.\n",
    "#그리고 각각의 li 항목을 보면 제목, 고유한 id, 클릭했을 때 본문에 나타날 내용은 딕셔너리에 저장하는게 편하다\n",
    "\n",
    "topics = [\n",
    "    {'id':1, 'title':'html', 'body':'html is...'},\n",
    "    {'id':2, 'title':'css', 'body':'css is...'},\n",
    "    {'id':3, 'title':'javascript', 'body':'javascript is...'}\n",
    "]\n",
    "#이 방식은 리스트, 딕셔너리 즉 메모리에 올라가 있는 데이터타입을 쓰고 있다.\n",
    "#지금은 상관 없는데 나중에 쓰기 기능을 사용하게 되면 topics 값이 날라간다.\n",
    "#그래서 일반적인 프레임워크에서 데이터는 데이터베이스에 저장한다. \n",
    "#데이터베이스와 연동할 때 위에 있는 topics를 데이터베이스에 있는 코드를 읽어오는 것으로 바꿔주면 된다.\n",
    "\n",
    "@app.route('/')\n",
    "def index():\n",
    "    liTags =''\n",
    "    for topic in topics:\n",
    "            liTags = liTags + f'<li><a href=\"/read/{topic[\"id\"]}/\">{topic[\"title\"]}</a></li>'  #이럴 땐 작은 따옴표와 큰 따옴표 구분해야함\n",
    "    return f'''<!doctype html>\n",
    "    <html>\n",
    "        <body>\n",
    "            <h1><a href-\"/\">WEB</a></h1>\n",
    "            <ol>\n",
    "                {liTags} \n",
    "            </ol>\n",
    "            <h2>Welcome</h2>\n",
    "            Hello, Web\n",
    "        </body>\n",
    "    </html>\n",
    "    '''\n",
    "\n",
    "\n",
    "@app.route('/creat/')\n",
    "def creat():\n",
    "    return 'Creat'\n",
    "\n",
    "@app.route('/read/<id>/') \n",
    "\n",
    "def read(id):             \n",
    "    print(id)\n",
    "    for body in topic:\n",
    "    return topic[\"body\"]      \n",
    "\n",
    "app.run() "
   ]
  },
  {
   "cell_type": "markdown",
   "metadata": {},
   "source": [
    "# 읽기"
   ]
  },
  {
   "cell_type": "code",
   "execution_count": 2,
   "metadata": {
    "collapsed": true
   },
   "outputs": [
    {
     "name": "stdout",
     "output_type": "stream",
     "text": [
      " * Serving Flask app \"__main__\" (lazy loading)\n",
      " * Environment: production\n",
      "\u001b[31m   WARNING: This is a development server. Do not use it in a production deployment.\u001b[0m\n",
      "\u001b[2m   Use a production WSGI server instead.\u001b[0m\n",
      " * Debug mode: off\n"
     ]
    },
    {
     "name": "stderr",
     "output_type": "stream",
     "text": [
      " * Running on http://127.0.0.1:5000/ (Press CTRL+C to quit)\n",
      "127.0.0.1 - - [10/Aug/2022 15:41:21] \"GET /read/1/ HTTP/1.1\" 200 -\n"
     ]
    },
    {
     "name": "stdout",
     "output_type": "stream",
     "text": [
      "html html is...\n"
     ]
    },
    {
     "name": "stderr",
     "output_type": "stream",
     "text": [
      "127.0.0.1 - - [10/Aug/2022 15:41:22] \"GET /read/1/ HTTP/1.1\" 200 -\n"
     ]
    },
    {
     "name": "stdout",
     "output_type": "stream",
     "text": [
      "html html is...\n"
     ]
    },
    {
     "name": "stderr",
     "output_type": "stream",
     "text": [
      "127.0.0.1 - - [10/Aug/2022 15:41:23] \"GET /read/2/ HTTP/1.1\" 200 -\n"
     ]
    },
    {
     "name": "stdout",
     "output_type": "stream",
     "text": [
      "css css is...\n"
     ]
    },
    {
     "name": "stderr",
     "output_type": "stream",
     "text": [
      "127.0.0.1 - - [10/Aug/2022 15:41:23] \"GET /read/3/ HTTP/1.1\" 200 -\n"
     ]
    },
    {
     "name": "stdout",
     "output_type": "stream",
     "text": [
      "javascript javascript is...\n"
     ]
    },
    {
     "name": "stderr",
     "output_type": "stream",
     "text": [
      "127.0.0.1 - - [10/Aug/2022 15:41:26] \"GET /read/1/ HTTP/1.1\" 200 -\n"
     ]
    },
    {
     "name": "stdout",
     "output_type": "stream",
     "text": [
      "html html is...\n"
     ]
    },
    {
     "name": "stderr",
     "output_type": "stream",
     "text": [
      "127.0.0.1 - - [10/Aug/2022 15:41:27] \"GET /read/2/ HTTP/1.1\" 200 -\n"
     ]
    },
    {
     "name": "stdout",
     "output_type": "stream",
     "text": [
      "css css is...\n"
     ]
    },
    {
     "name": "stderr",
     "output_type": "stream",
     "text": [
      "127.0.0.1 - - [10/Aug/2022 15:41:27] \"GET /read/3/ HTTP/1.1\" 200 -\n"
     ]
    },
    {
     "name": "stdout",
     "output_type": "stream",
     "text": [
      "javascript javascript is...\n"
     ]
    },
    {
     "name": "stderr",
     "output_type": "stream",
     "text": [
      "127.0.0.1 - - [10/Aug/2022 15:41:27] \"GET /read/1/ HTTP/1.1\" 200 -\n"
     ]
    },
    {
     "name": "stdout",
     "output_type": "stream",
     "text": [
      "html html is...\n"
     ]
    },
    {
     "name": "stderr",
     "output_type": "stream",
     "text": [
      "127.0.0.1 - - [10/Aug/2022 15:41:28] \"GET /read/2/ HTTP/1.1\" 200 -\n"
     ]
    },
    {
     "name": "stdout",
     "output_type": "stream",
     "text": [
      "css css is...\n"
     ]
    },
    {
     "name": "stderr",
     "output_type": "stream",
     "text": [
      "127.0.0.1 - - [10/Aug/2022 15:41:28] \"GET /read/3/ HTTP/1.1\" 200 -\n"
     ]
    },
    {
     "name": "stdout",
     "output_type": "stream",
     "text": [
      "javascript javascript is...\n"
     ]
    },
    {
     "name": "stderr",
     "output_type": "stream",
     "text": [
      "127.0.0.1 - - [10/Aug/2022 15:41:29] \"GET /read/1/ HTTP/1.1\" 200 -\n"
     ]
    },
    {
     "name": "stdout",
     "output_type": "stream",
     "text": [
      "html html is...\n"
     ]
    },
    {
     "name": "stderr",
     "output_type": "stream",
     "text": [
      "127.0.0.1 - - [10/Aug/2022 15:41:29] \"GET /read/2/ HTTP/1.1\" 200 -\n"
     ]
    },
    {
     "name": "stdout",
     "output_type": "stream",
     "text": [
      "css css is...\n"
     ]
    },
    {
     "name": "stderr",
     "output_type": "stream",
     "text": [
      "127.0.0.1 - - [10/Aug/2022 15:41:29] \"GET /read/3/ HTTP/1.1\" 200 -\n"
     ]
    },
    {
     "name": "stdout",
     "output_type": "stream",
     "text": [
      "javascript javascript is...\n"
     ]
    },
    {
     "name": "stderr",
     "output_type": "stream",
     "text": [
      "127.0.0.1 - - [10/Aug/2022 15:41:30] \"GET /read/1/ HTTP/1.1\" 200 -\n"
     ]
    },
    {
     "name": "stdout",
     "output_type": "stream",
     "text": [
      "html html is...\n"
     ]
    },
    {
     "name": "stderr",
     "output_type": "stream",
     "text": [
      "127.0.0.1 - - [10/Aug/2022 15:41:30] \"GET /read/2/ HTTP/1.1\" 200 -\n"
     ]
    },
    {
     "name": "stdout",
     "output_type": "stream",
     "text": [
      "css css is...\n"
     ]
    },
    {
     "name": "stderr",
     "output_type": "stream",
     "text": [
      "127.0.0.1 - - [10/Aug/2022 15:41:30] \"GET /read/3/ HTTP/1.1\" 200 -\n"
     ]
    },
    {
     "name": "stdout",
     "output_type": "stream",
     "text": [
      "javascript javascript is...\n"
     ]
    },
    {
     "name": "stderr",
     "output_type": "stream",
     "text": [
      "127.0.0.1 - - [10/Aug/2022 15:41:30] \"GET /read/1/ HTTP/1.1\" 200 -\n"
     ]
    },
    {
     "name": "stdout",
     "output_type": "stream",
     "text": [
      "html html is...\n"
     ]
    },
    {
     "name": "stderr",
     "output_type": "stream",
     "text": [
      "127.0.0.1 - - [10/Aug/2022 15:41:31] \"GET /read/2/ HTTP/1.1\" 200 -\n"
     ]
    },
    {
     "name": "stdout",
     "output_type": "stream",
     "text": [
      "css css is...\n"
     ]
    },
    {
     "name": "stderr",
     "output_type": "stream",
     "text": [
      "127.0.0.1 - - [10/Aug/2022 15:41:31] \"GET /read/3/ HTTP/1.1\" 200 -\n"
     ]
    },
    {
     "name": "stdout",
     "output_type": "stream",
     "text": [
      "javascript javascript is...\n"
     ]
    },
    {
     "name": "stderr",
     "output_type": "stream",
     "text": [
      "127.0.0.1 - - [10/Aug/2022 15:41:31] \"GET /read/1/ HTTP/1.1\" 200 -\n"
     ]
    },
    {
     "name": "stdout",
     "output_type": "stream",
     "text": [
      "html html is...\n"
     ]
    },
    {
     "name": "stderr",
     "output_type": "stream",
     "text": [
      "127.0.0.1 - - [10/Aug/2022 15:41:32] \"GET /read/2/ HTTP/1.1\" 200 -\n"
     ]
    },
    {
     "name": "stdout",
     "output_type": "stream",
     "text": [
      "css css is...\n"
     ]
    },
    {
     "name": "stderr",
     "output_type": "stream",
     "text": [
      "127.0.0.1 - - [10/Aug/2022 15:41:32] \"GET /read/3/ HTTP/1.1\" 200 -\n"
     ]
    },
    {
     "name": "stdout",
     "output_type": "stream",
     "text": [
      "javascript javascript is...\n"
     ]
    },
    {
     "name": "stderr",
     "output_type": "stream",
     "text": [
      "127.0.0.1 - - [10/Aug/2022 15:41:33] \"GET /read/1/ HTTP/1.1\" 200 -\n"
     ]
    },
    {
     "name": "stdout",
     "output_type": "stream",
     "text": [
      "html html is...\n"
     ]
    },
    {
     "name": "stderr",
     "output_type": "stream",
     "text": [
      "127.0.0.1 - - [10/Aug/2022 15:41:34] \"GET /read/1/ HTTP/1.1\" 200 -\n"
     ]
    },
    {
     "name": "stdout",
     "output_type": "stream",
     "text": [
      "html html is...\n"
     ]
    },
    {
     "name": "stderr",
     "output_type": "stream",
     "text": [
      "127.0.0.1 - - [10/Aug/2022 15:41:34] \"GET /read/2/ HTTP/1.1\" 200 -\n"
     ]
    },
    {
     "name": "stdout",
     "output_type": "stream",
     "text": [
      "css css is...\n"
     ]
    },
    {
     "name": "stderr",
     "output_type": "stream",
     "text": [
      "127.0.0.1 - - [10/Aug/2022 15:41:34] \"GET /read/3/ HTTP/1.1\" 200 -\n"
     ]
    },
    {
     "name": "stdout",
     "output_type": "stream",
     "text": [
      "javascript javascript is...\n"
     ]
    },
    {
     "name": "stderr",
     "output_type": "stream",
     "text": [
      "127.0.0.1 - - [10/Aug/2022 15:41:37] \"GET / HTTP/1.1\" 200 -\n"
     ]
    }
   ],
   "source": [
    "from flask import Flask\n",
    "import random\n",
    "\n",
    "app = Flask(__name__)\n",
    "\n",
    "topics = [\n",
    "    {'id':1, 'title':'html', 'body':'html is...'},\n",
    "    {'id':2, 'title':'css', 'body':'css is...'},\n",
    "    {'id':3, 'title':'javascript', 'body':'javascript is...'}\n",
    "]\n",
    "\n",
    "@app.route('/')\n",
    "def index():\n",
    "    liTags =''\n",
    "    for topic in topics:\n",
    "            liTags = liTags + f'<li><a href=\"/read/{topic[\"id\"]}/\">{topic[\"title\"]}</a></li>'  \n",
    "    return f'''<!doctype html>\n",
    "    <html>\n",
    "        <body>\n",
    "            <h1><a href-\"/\">WEB</a></h1>\n",
    "            <ol>\n",
    "                {liTags} \n",
    "            </ol>\n",
    "            <h2>Welcome</h2>\n",
    "            Hello, Web\n",
    "        </body>\n",
    "    </html>\n",
    "    '''\n",
    "\n",
    "\n",
    "@app.route('/creat/')\n",
    "def creat():\n",
    "    return 'Creat'\n",
    "\n",
    "@app.route('/read/<int:id>/') \n",
    "\n",
    "def read(id):             \n",
    "    liTags =''\n",
    "    for topic in topics:\n",
    "            liTags = liTags + f'<li><a href=\"/read/{topic[\"id\"]}/\">{topic[\"title\"]}</a></li>'  \n",
    "    title = ''\n",
    "    body= ''\n",
    "    for topic in topics:\n",
    "        if id == topic['id']:\n",
    "            title = topic['title']\n",
    "            body = topic['body']\n",
    "            break\n",
    "    print(title, body)\n",
    "    return f'''<!doctype html>\n",
    "    <html>\n",
    "        <body>\n",
    "            <h1><a href-\"/\">WEB</a></h1>\n",
    "            <ol>\n",
    "                {liTags} \n",
    "            </ol>\n",
    "            <h2>{title}</h2>\n",
    "            {body}\n",
    "        </body>\n",
    "    </html>\n",
    "    '''\n",
    "app.run() "
   ]
  },
  {
   "cell_type": "code",
   "execution_count": null,
   "metadata": {},
   "outputs": [],
   "source": [
    "from flask import Flask\n",
    "import random\n",
    "\n",
    "app = Flask(__name__)\n",
    "\n",
    "topics = [\n",
    "    {'id':1, 'title':'html', 'body':'html is...'},\n",
    "    {'id':2, 'title':'css', 'body':'css is...'},\n",
    "    {'id':3, 'title':'javascript', 'body':'javascript is...'}\n",
    "]\n",
    "\n",
    "def template(contents, content): # return 아래 중복되는 부분 줄여주기\n",
    "        return f'''<!doctype html>\n",
    "    <html>\n",
    "        <body>\n",
    "            <h1><a href-\"/\">WEB</a></h1>\n",
    "            <ol>\n",
    "                {contents} \n",
    "            </ol>\n",
    "            {content}\n",
    "        </body>\n",
    "    </html>\n",
    "    '''\n",
    "\n",
    "@app.route('/')\n",
    "def index():\n",
    "    liTags =''\n",
    "    for topic in topics:\n",
    "            liTags = liTags + f'<li><a href=\"/read/{topic[\"id\"]}/\">{topic[\"title\"]}</a></li>'  \n",
    "    return f'''<!doctype html>\n",
    "    <html>\n",
    "        <body>\n",
    "            <h1><a href-\"/\">WEB</a></h1>\n",
    "            <ol>\n",
    "                {liTags} \n",
    "            </ol>\n",
    "            <h2>Welcome</h2>\n",
    "            Hello, Web\n",
    "        </body>\n",
    "    </html>\n",
    "    '''\n",
    "\n",
    "\n",
    "@app.route('/creat/')\n",
    "def creat():\n",
    "    return 'Creat'\n",
    "\n",
    "@app.route('/read/<int:id>/') \n",
    "\n",
    "def read(id):             \n",
    "    liTags =''\n",
    "    for topic in topics:\n",
    "            liTags = liTags + f'<li><a href=\"/read/{topic[\"id\"]}/\">{topic[\"title\"]}</a></li>'  \n",
    "    title = ''\n",
    "    body= ''\n",
    "    for topic in topics:\n",
    "        if id == topic['id']:\n",
    "            title = topic['title']\n",
    "            body = topic['body']\n",
    "            break\n",
    "    print(title, body)\n",
    "    return f'''<!doctype html>\n",
    "    <html>\n",
    "        <body>\n",
    "            <h1><a href-\"/\">WEB</a></h1>\n",
    "            <ol>\n",
    "                {liTags} \n",
    "            </ol>\n",
    "            <h2>{title}</h2>\n",
    "            {body}\n",
    "        </body>\n",
    "    </html>\n",
    "    '''\n",
    "app.run() "
   ]
  },
  {
   "cell_type": "code",
   "execution_count": null,
   "metadata": {},
   "outputs": [],
   "source": []
  },
  {
   "cell_type": "code",
   "execution_count": null,
   "metadata": {},
   "outputs": [],
   "source": []
  },
  {
   "cell_type": "code",
   "execution_count": null,
   "metadata": {},
   "outputs": [],
   "source": []
  },
  {
   "cell_type": "markdown",
   "metadata": {},
   "source": [
    "# 쓰기"
   ]
  },
  {
   "cell_type": "code",
   "execution_count": null,
   "metadata": {},
   "outputs": [],
   "source": []
  },
  {
   "cell_type": "code",
   "execution_count": null,
   "metadata": {},
   "outputs": [],
   "source": []
  },
  {
   "cell_type": "code",
   "execution_count": null,
   "metadata": {},
   "outputs": [],
   "source": []
  },
  {
   "cell_type": "code",
   "execution_count": null,
   "metadata": {},
   "outputs": [],
   "source": []
  },
  {
   "cell_type": "code",
   "execution_count": null,
   "metadata": {},
   "outputs": [],
   "source": []
  },
  {
   "cell_type": "code",
   "execution_count": null,
   "metadata": {},
   "outputs": [],
   "source": []
  },
  {
   "cell_type": "markdown",
   "metadata": {},
   "source": [
    "# 수정"
   ]
  },
  {
   "cell_type": "code",
   "execution_count": null,
   "metadata": {},
   "outputs": [],
   "source": []
  },
  {
   "cell_type": "code",
   "execution_count": null,
   "metadata": {},
   "outputs": [],
   "source": []
  },
  {
   "cell_type": "code",
   "execution_count": null,
   "metadata": {},
   "outputs": [],
   "source": []
  },
  {
   "cell_type": "code",
   "execution_count": null,
   "metadata": {},
   "outputs": [],
   "source": []
  },
  {
   "cell_type": "code",
   "execution_count": null,
   "metadata": {},
   "outputs": [],
   "source": []
  },
  {
   "cell_type": "code",
   "execution_count": null,
   "metadata": {},
   "outputs": [],
   "source": []
  },
  {
   "cell_type": "markdown",
   "metadata": {},
   "source": [
    "# 삭제"
   ]
  },
  {
   "cell_type": "code",
   "execution_count": null,
   "metadata": {},
   "outputs": [],
   "source": []
  },
  {
   "cell_type": "code",
   "execution_count": null,
   "metadata": {},
   "outputs": [],
   "source": []
  },
  {
   "cell_type": "code",
   "execution_count": null,
   "metadata": {},
   "outputs": [],
   "source": []
  },
  {
   "cell_type": "code",
   "execution_count": null,
   "metadata": {},
   "outputs": [],
   "source": []
  },
  {
   "cell_type": "code",
   "execution_count": null,
   "metadata": {},
   "outputs": [],
   "source": []
  },
  {
   "cell_type": "code",
   "execution_count": null,
   "metadata": {},
   "outputs": [],
   "source": []
  }
 ],
 "metadata": {
  "kernelspec": {
   "display_name": "Python 3 (ipykernel)",
   "language": "python",
   "name": "python3"
  },
  "language_info": {
   "codemirror_mode": {
    "name": "ipython",
    "version": 3
   },
   "file_extension": ".py",
   "mimetype": "text/x-python",
   "name": "python",
   "nbconvert_exporter": "python",
   "pygments_lexer": "ipython3",
   "version": "3.9.12"
  },
  "toc": {
   "base_numbering": 1,
   "nav_menu": {},
   "number_sections": true,
   "sideBar": true,
   "skip_h1_title": false,
   "title_cell": "Table of Contents",
   "title_sidebar": "Contents",
   "toc_cell": false,
   "toc_position": {
    "height": "calc(100% - 180px)",
    "left": "10px",
    "top": "150px",
    "width": "181.009px"
   },
   "toc_section_display": true,
   "toc_window_display": true
  },
  "vscode": {
   "interpreter": {
    "hash": "3dedc7685735bb014bff29989eebc9a8b8f0ba3f7269dd9d313c73ad8e4a351c"
   }
  }
 },
 "nbformat": 4,
 "nbformat_minor": 2
}
