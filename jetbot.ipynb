{
 "cells": [
  {
   "cell_type": "markdown",
   "id": "7c09e606",
   "metadata": {},
   "source": [
    "# 접속 (ip) 0.0.0.0:8888 <- 주소창에"
   ]
  },
  {
   "cell_type": "markdown",
   "id": "24ffb98c",
   "metadata": {},
   "source": [
    "# led_blink"
   ]
  },
  {
   "cell_type": "code",
   "execution_count": null,
   "id": "bc2138ac",
   "metadata": {},
   "outputs": [],
   "source": [
    "import RPi.GPIO as gp\n",
    "import time\n",
    "\n",
    "led_blue_pin = 23  #BOARD pin 12, BCM pin 23\n",
    "led_green_pin = 24 #BOARD pin , BCM pin 24\n",
    "\n",
    "gp.setmode(gp.BCM)\n",
    "gp.setup(led_green_pin, gp.OUT, initial=gp.HIGH)\n",
    "gp.setup(led_blue_pin, gp.OUT, initial=gp.HIGH) \n",
    "\n",
    "blink = gp.HIGH\n",
    "\n",
    "#LEDBLUEPIN은 OUT액츄레이터다. / initail이 디폴트 \n",
    "#외부 전원이 들어올 때는 디폴트 상태가 pullup상태다. 지금은 한쪽에 high가 걸려 있어서 low를 줘야 led가 켜진다.\n",
    "\n",
    "try:\n",
    "    while True:\n",
    "        gp.output(led_blue_pin, gp.LOW)\n",
    "        gp.output(led_green_pin, gp.LOW)\n",
    "        time.sleep(1)\n",
    "        \n",
    "        gp.output(led_blue_pin, gp.HIGH)\n",
    "        gp.output(led_green_pin, gp.HIGH)\n",
    "        time.sleep(1)\n",
    "        \n",
    "finally:   #try실행 되든 안되는 여길 거쳐서 지나감\n",
    "    gp.cleanup()"
   ]
  },
  {
   "cell_type": "code",
   "execution_count": null,
   "id": "32f48f68",
   "metadata": {},
   "outputs": [],
   "source": [
    "# bit 다 bit 연산자\n",
    "\n",
    "num1 = 10\n",
    "print(bin(num1))  \n",
    "#0b가 붙으면 이 뒤는 2진수라는 것\n",
    "\n",
    "num2 = 8\n",
    "print(bin(num2))"
   ]
  },
  {
   "cell_type": "code",
   "execution_count": null,
   "id": "38a4a128",
   "metadata": {},
   "outputs": [],
   "source": [
    "import RPi.GPIO as gp\n",
    "import time\n",
    "\n",
    "led_blue_pin = 23  #BOARD pin 12, BCM pin 23\n",
    "led_green_pin = 24 #BOARD pin , BCM pin 24\n",
    "\n",
    "gp.setmode(gp.BCM)\n",
    "gp.setup(led_green_pin, gp.OUT, initial=gp.HIGH)\n",
    "gp.setup(led_blue_pin, gp.OUT, initial=gp.HIGH) \n",
    "\n",
    "blink = gp.HIGH\n",
    "\n",
    "try:\n",
    "    while True:\n",
    "        blink = blink ^ gp.HIGH\n",
    "        gp.output(led_blue_pin, blink)\n",
    "        gp.output(led_green_pin, blink)\n",
    "        \n",
    "        time.sleep(1)\n",
    "finally:   #try실행 되든 안되는 여길 거쳐서 지나감\n",
    "    gp.cleanup()"
   ]
  },
  {
   "cell_type": "markdown",
   "id": "014d747a",
   "metadata": {},
   "source": [
    "# led_btn"
   ]
  },
  {
   "cell_type": "code",
   "execution_count": null,
   "id": "1d600fe0",
   "metadata": {},
   "outputs": [],
   "source": [
    "import RPi.GPIO as gp\n",
    "import time\n",
    "led_blue_pin = 23\n",
    "led_green_pin = 24\n",
    "btn1 = 8\n",
    "btn2 = 7\n",
    "\n",
    "gp.setmode(gp.BCM)\n",
    "gp.setup(led_blue_pin, gp.OUT, initial=gp.HIGH)\n",
    "gp.setup(led_green_pin, gp.OUT, initial=gp.HIGH)\n",
    "gp.setup(btn1, gp.IN)\n",
    "gp.setup(btn2, gp.IN)\n",
    "         \n",
    "try:\n",
    "    while True:\n",
    "        btnState = gp.input(btn1)\n",
    "        btnState2 = gp.input(btn2)\n",
    "        print(btnState, btnState2)\n",
    "        time.sleep(0.01)\n",
    "        gp.output(led_blue_pin, btnState)\n",
    "        gp.output(led_green_pin, btnState2)\n",
    "\n",
    "\n",
    "finally:\n",
    "    gp.cleanup()\n"
   ]
  },
  {
   "cell_type": "markdown",
   "id": "ebf4f835",
   "metadata": {},
   "source": [
    "# Piezo"
   ]
  },
  {
   "cell_type": "code",
   "execution_count": 1,
   "id": "a2e89663",
   "metadata": {},
   "outputs": [
    {
     "ename": "ModuleNotFoundError",
     "evalue": "No module named 'RPi'",
     "output_type": "error",
     "traceback": [
      "\u001b[1;31m---------------------------------------------------------------------------\u001b[0m",
      "\u001b[1;31mModuleNotFoundError\u001b[0m                       Traceback (most recent call last)",
      "Input \u001b[1;32mIn [1]\u001b[0m, in \u001b[0;36m<cell line: 1>\u001b[1;34m()\u001b[0m\n\u001b[1;32m----> 1\u001b[0m \u001b[38;5;28;01mimport\u001b[39;00m \u001b[38;5;21;01mRPi\u001b[39;00m\u001b[38;5;21;01m.\u001b[39;00m\u001b[38;5;21;01mGPIO\u001b[39;00m \u001b[38;5;28;01mas\u001b[39;00m \u001b[38;5;21;01mgp\u001b[39;00m\n\u001b[0;32m      2\u001b[0m \u001b[38;5;28;01mimport\u001b[39;00m \u001b[38;5;21;01mtime\u001b[39;00m\n\u001b[0;32m      4\u001b[0m buzzer \u001b[38;5;241m=\u001b[39m \u001b[38;5;241m6\u001b[39m\n",
      "\u001b[1;31mModuleNotFoundError\u001b[0m: No module named 'RPi'"
     ]
    }
   ],
   "source": [
    "import RPi.GPIO as gp\n",
    "import time\n",
    "\n",
    "buzzer = 6\n",
    "\n",
    "gp.setmode(gp.BCM)\n",
    "gp.setup(buzzer, gp.OUT, initial=gp.HIGH)\n",
    "blink = gp.HIGH\n",
    "\n",
    "try:\n",
    "    while True:\n",
    "        blink ^= gp.HIGH\n",
    "        gp.output(buzzer, blink)\n",
    "        time.sleep(1)\n",
    "        \n",
    "finally:  \n",
    "    gp.cleanup()"
   ]
  },
  {
   "cell_type": "markdown",
   "id": "40dc05be",
   "metadata": {},
   "source": [
    "# 모터 드라이버 제어"
   ]
  },
  {
   "cell_type": "code",
   "execution_count": null,
   "id": "39669fa5",
   "metadata": {},
   "outputs": [],
   "source": [
    "from jetbot import Robot\n",
    "import time\n",
    "robot = Robot()"
   ]
  },
  {
   "cell_type": "code",
   "execution_count": null,
   "id": "ab88be66",
   "metadata": {},
   "outputs": [],
   "source": [
    "def forward():\n",
    "    robot.right_motor.value = 0.65\n",
    "    robot.left_motor.value = 0.6\n",
    "    \n",
    "def left():\n",
    "    robot.right_motor.value = 0.75\n",
    "    robot.left_motor.value = 0.0\n",
    "    \n",
    "def right():\n",
    "    robot.right_motor.value = 0.0\n",
    "    robot.left_motor.value = 0.75   \n",
    "    \n",
    "def stop():\n",
    "    robot.right_motor.value = 0.0\n",
    "    robot.left_motor.value = 0.0 "
   ]
  },
  {
   "cell_type": "code",
   "execution_count": null,
   "id": "1f33a1aa",
   "metadata": {},
   "outputs": [],
   "source": [
    "for i in range(4):\n",
    "    forward()\n",
    "    time.sleep(1)\n",
    "    right()\n",
    "    time.sleep(1.25)\n",
    "stop()"
   ]
  },
  {
   "cell_type": "code",
   "execution_count": null,
   "id": "a02c4127",
   "metadata": {},
   "outputs": [],
   "source": [
    "robot.up(3)\n",
    "time.sleep(2)\n",
    "robot.vertical_motors_stop()\n",
    "\n",
    "robot.down(3)\n",
    "time.sleep(2)\n",
    "robot.vertical_motors_stop()"
   ]
  },
  {
   "cell_type": "markdown",
   "id": "50026854",
   "metadata": {},
   "source": [
    "### Slide Bar"
   ]
  },
  {
   "cell_type": "code",
   "execution_count": null,
   "id": "7e5506ca",
   "metadata": {},
   "outputs": [],
   "source": [
    "import ipywidgets.widgets as widgets\n",
    "from IPython.display import display\n",
    "\n",
    "# create two sliders with range [-1.0, 1.0]\n",
    "left_slider = widgets.FloatSlider(description='left', min=-1.0, max=1.0, step=0.05, orientation='vertical')\n",
    "right_slider = widgets.FloatSlider(description='right', min=-1.0, max=1.0, step=0.05, orientation='vertical')\n",
    "\n",
    "# create a horizontal box container to place the sliders next to eachother\n",
    "slider_container = widgets.HBox([left_slider, right_slider])\n",
    "\n",
    "# display the container in this cell's output\n",
    "display(slider_container)"
   ]
  },
  {
   "cell_type": "code",
   "execution_count": null,
   "id": "5c1a3977",
   "metadata": {},
   "outputs": [],
   "source": [
    "import traitlets\n",
    "left_link = traitlets.link((left_slider, 'value'), (robot.left_motor, 'value'))\n",
    "right_link = traitlets.link((right_slider, 'value'), (robot.right_motor, 'value'))"
   ]
  },
  {
   "cell_type": "code",
   "execution_count": null,
   "id": "2ff39619",
   "metadata": {},
   "outputs": [],
   "source": [
    "# 다른 조절 weidget 과 연결하기 위해 기존 widget 해제\n",
    "left_link.unlink()\n",
    "right_link.unlink()"
   ]
  },
  {
   "cell_type": "code",
   "execution_count": null,
   "id": "89c2cbbc",
   "metadata": {},
   "outputs": [],
   "source": [
    "# Create button\n",
    "button_layout = widgets.Layout(width='100px', height='80px', align_self='center')\n",
    "stop_button = widgets.Button(description='stop', button_style='danger', layout=button_layout)\n",
    "forward_button = widgets.Button(description='forward', layout=button_layout)\n",
    "backward_button = widgets.Button(description='backward', layout=button_layout)\n",
    "left_button = widgets.Button(description='left', layout=button_layout)\n",
    "right_button = widgets.Button(description='right', layout=button_layout)\n",
    "# Display button\n",
    "middle_box = widgets.HBox([left_button, stop_button, right_button], layout=widgets.Layout(align_self='center'))\n",
    "controls_box = widgets.VBox([forward_button, middle_box, backward_button])\n",
    "display(controls_box)"
   ]
  },
  {
   "cell_type": "code",
   "execution_count": null,
   "id": "b6ffb70a",
   "metadata": {},
   "outputs": [],
   "source": [
    "# link buttons to actions\n",
    "stop_button.on_click(stop)\n",
    "forward_button.on_click(forward)\n",
    "backward_button.on_click(backward)\n",
    "left_button.on_click(left)\n",
    "right_button.on_click(right)"
   ]
  },
  {
   "cell_type": "markdown",
   "id": "5f586f18",
   "metadata": {},
   "source": [
    "# 조이스틱"
   ]
  },
  {
   "cell_type": "code",
   "execution_count": null,
   "id": "4d7f6a3d",
   "metadata": {},
   "outputs": [],
   "source": [
    "controller = widgets.Controller(index=0)\n",
    "display(controller)"
   ]
  },
  {
   "cell_type": "code",
   "execution_count": null,
   "id": "b21f66ec",
   "metadata": {},
   "outputs": [],
   "source": [
    "def jetbot_motion():\n",
    "    while 1:\n",
    "        #Robot car left and right DC motor\n",
    "        if controller.axes[1].value <= 0.1:\n",
    "            if (controller.axes[0].value <= 0.1 and controller.axes[0].value >= -0.1\n",
    "                and controller.axes[1].value <= 0.1 and controller.axes[1].value >= -0.1):\n",
    "                robot.stop()\n",
    "            else:\n",
    "                robot.set_motors(-controller.axes[1].value + controller.axes[0].value, -controller.axes[1].value - controller.axes[0].value)\n",
    "            time.sleep(0.01)\n",
    "        else:\n",
    "            robot.set_motors(-controller.axes[1].value - controller.axes[0].value, -controller.axes[1].value + controller.axes[0].value)\n",
    "            time.sleep(0.01)\n",
    "          #Handle control code---2(Xbox360 Handle)\n",
    "#         if controller.axes[1].value <= 0:\n",
    "#             robot.set_motors(-controller.axes[1].value + controller.axes[0].value, -controller.axes[1].value - controller.axes[0].value)\n",
    "#             time.sleep(0.01)\n",
    "#         else:\n",
    "#             robot.set_motors(-controller.axes[1].value - controller.axes[0].value, -controller.axes[1].value + controller.axes[0].value)\n",
    "#             time.sleep(0.01)"
   ]
  },
  {
   "cell_type": "code",
   "execution_count": null,
   "id": "44549779",
   "metadata": {},
   "outputs": [],
   "source": [
    "x_slider = widgets.FloatSlider(min=-1.0, max=1.0, step=0.001, description='x')\n",
    "y_slider = widgets.FloatSlider(min=-1.0, max=1.0, step=0.001, description='y')"
   ]
  },
  {
   "cell_type": "code",
   "execution_count": null,
   "id": "f6e5a038",
   "metadata": {},
   "outputs": [],
   "source": [
    "import threading\n",
    "thread1 = threading.Thread(target=jetbot_motion)\n",
    "thread1.setDaemon(True)\n",
    "thread1.start()"
   ]
  },
  {
   "cell_type": "markdown",
   "id": "e3d9dd3f",
   "metadata": {},
   "source": [
    "# 서보모터"
   ]
  },
  {
   "cell_type": "code",
   "execution_count": null,
   "id": "720f41b3",
   "metadata": {},
   "outputs": [],
   "source": [
    "#모듈로 .py\n",
    "'''\n",
    "@Copyright (C): 2010-2019, Shenzhen Yahboom Tech\n",
    "@Author: Malloy.Yuan\n",
    "@Date: 2019-07-17 10:10:02\n",
    "@LastEditors: Malloy.Yuan\n",
    "@LastEditTime: 2019-09-17 17:54:19\n",
    "'''\n",
    "#-*- coding:UTF-8 -*-\n",
    "import RPi.GPIO as GPIO\n",
    "import time\n",
    "import string\n",
    "import serial\n",
    "#Set the GPIO port to BCM encoding mode.\n",
    "GPIO.setmode(GPIO.BCM)\n",
    "class ServoSerial:\n",
    "    def __init__(self):\n",
    "        self.ser = serial.Serial(\"/dev/ttyTHS1\", 115200, timeout = 0.001)\n",
    "        print (\"serial Open!\")\n",
    "    def __del__(self):\n",
    "        self.ser.close()\n",
    "        print (\"serial Close!\")\n",
    "    def Servo_serial_control(self, index, angle):\n",
    "        pack1 = 0xff\n",
    "        pack2 = 0xff\n",
    "        id = index\n",
    "        len = 0x07\n",
    "        cmd = 0x03\n",
    "        addr = 0x2A\n",
    "        #Keep the servo pulse of the servo within a safe range\n",
    "        if index == 1:\n",
    "            if angle<600:\n",
    "                angle=600\n",
    "            elif angle>3600:\n",
    "                angle = 3600\n",
    "        elif index == 2:\n",
    "            if angle<1500:\n",
    "                angle=1500\n",
    "            elif angle>4000:\n",
    "                angle=4000\n",
    "                \n",
    "        pos_H = (angle >> 8) & 0x00ff  #앞단의 8자리를 255와 and연산해서 자기가 나오는데 체크하는 기능만\n",
    "        pos_L = angle & 0x00ff  #\n",
    "        \n",
    "        time_H = 0x00   # time = 500ms Decomposed into two\n",
    "        time_L = 0x0A\n",
    "        checknum = (~(id + len + cmd + addr + pos_H + pos_L + time_H + time_L)) & 0xff\n",
    "        print(checknum)\n",
    "        data = [pack1, pack2, id, len, cmd, addr, pos_H, pos_L, time_H, time_L, checknum] #던질 데이터\n",
    "        print(bytes(data)) #바이트로 던짐\n",
    "        self.ser.write(bytes(data))\n",
    "    def Servo_serial_double_control(self, index_1, angle_1, index_2, angle_2):\n",
    "        pack1 = 0xff\n",
    "        pack2 = 0xff\n",
    "        id = 0xFE\n",
    "        id_1 = index_1\n",
    "        id_2 = index_2\n",
    "        len = 0x0E\n",
    "        cmd = 0x83\n",
    "        addr1 = 0x2A\n",
    "        addr2 = 0x04\n",
    "        #Keep the servo pulse of the servo within a safe range\n",
    "        if angle_1<600:\n",
    "            angle_1=600\n",
    "        elif angle_1>3600:\n",
    "            angle_1 = 3600\n",
    "        if angle_2<1500:\n",
    "            angle_2=1500\n",
    "        elif angle_2>4000:\n",
    "            angle_2=4000\n",
    "        pos1_H = (angle_1 >> 8) & 0x00ff\n",
    "        pos1_L = angle_1 & 0x00ff\n",
    "        pos2_H = (angle_2 >> 8) & 0x00ff\n",
    "        pos2_L = angle_2 & 0x00ff\n",
    "        time1_H = 0x00   # time = 10ms Decomposed into two\n",
    "        time1_L = 0x0A\n",
    "        time2_H = 0x00   # time = 10ms Decomposed into two\n",
    "        time2_L = 0x0A\n",
    "        checknum = (~(id + len + cmd + addr1 + addr2 + id_1 + pos1_H + pos1_L + time1_H + time1_L + id_2 + pos2_H + pos2_L + time2_H + time2_L)) & 0xff\n",
    "        print(checknum)\n",
    "        data = [pack1, pack2, id, len, cmd, addr1, addr2, id_1, pos1_H, pos1_L, time1_H, time1_L, id_2, pos2_H, pos2_L, time2_H, time2_L, checknum]\n",
    "        print(bytes(data))\n",
    "        self.ser.write(bytes(data))"
   ]
  },
  {
   "cell_type": "code",
   "execution_count": null,
   "id": "352ddbf0",
   "metadata": {},
   "outputs": [],
   "source": [
    "from servoserial import ServoSerial\n",
    "import time\n",
    "servo_device = ServoSerial()"
   ]
  },
  {
   "cell_type": "markdown",
   "id": "a1e2fdff",
   "metadata": {},
   "source": [
    "# linux의 권한  \n",
    "C(create)  \n",
    "R(read)  \n",
    "W(wright)\n",
    "\n",
    "- 권한 확인하는 방법 : ls -l 확인하고자 하는 파일, 명령어  \n",
    "  앞3자리 + 중간3자리 + 뒷3자리 + 한자리 \n",
    "  - 앞 3자리: user\n",
    "  - 중간 3자리 : group\n",
    "  - 뒷 3자리 : other  \n",
    "\n",
    "  ex) crw--w----  \n",
    "      나는 crw가능, 나와 같은 그룹은 w가능, 나머진 아무것도 못해\n",
    "      \n",
    "- 권한 부여 명령어 : chmod  \n",
    "  부여하고자하는 권한을 2진수로 변환시켜   \n",
    "  ex) crw/c-w/cr-/-  \n",
    "      111/101/110/-  \n",
    "      7/5/6  \n",
    "      756  \n",
    "  -> sudo chmod 777 /dev/ttyTHS1"
   ]
  },
  {
   "cell_type": "code",
   "execution_count": null,
   "id": "0d83158d",
   "metadata": {},
   "outputs": [],
   "source": [
    "from servoserial import ServoSerial\n",
    "import time\n",
    "servo_device = ServoSerial()"
   ]
  },
  {
   "cell_type": "code",
   "execution_count": null,
   "id": "742571b9",
   "metadata": {},
   "outputs": [],
   "source": [
    "#좌우"
   ]
  },
  {
   "cell_type": "code",
   "execution_count": null,
   "id": "5521e7e2",
   "metadata": {},
   "outputs": [],
   "source": [
    "servo_device.Servo_serial_control(1,600)"
   ]
  },
  {
   "cell_type": "code",
   "execution_count": null,
   "id": "c9f4f075",
   "metadata": {},
   "outputs": [],
   "source": [
    "servo_device.Servo_serial_control(1,2050) #중앙"
   ]
  },
  {
   "cell_type": "code",
   "execution_count": null,
   "id": "236d7cb0",
   "metadata": {},
   "outputs": [],
   "source": [
    "servo_device.Servo_serial_control(1,3600)"
   ]
  },
  {
   "cell_type": "code",
   "execution_count": null,
   "id": "0bd4e037",
   "metadata": {},
   "outputs": [],
   "source": [
    "#상하"
   ]
  },
  {
   "cell_type": "code",
   "execution_count": null,
   "id": "9446614c",
   "metadata": {},
   "outputs": [],
   "source": [
    "servo_device.Servo_serial_control(2,4000) #맨 위"
   ]
  },
  {
   "cell_type": "code",
   "execution_count": null,
   "id": "bafd7079",
   "metadata": {},
   "outputs": [],
   "source": [
    "servo_device.Servo_serial_control(2,2100) #정면"
   ]
  },
  {
   "cell_type": "code",
   "execution_count": null,
   "id": "aafc9fb1",
   "metadata": {},
   "outputs": [],
   "source": [
    "servo_device.Servo_serial_control(2,1500) #맨 밑"
   ]
  },
  {
   "cell_type": "code",
   "execution_count": null,
   "id": "0967ff8b",
   "metadata": {},
   "outputs": [],
   "source": [
    "servo_device.Servo_serial_double_control(1,600, 2,1500)\n",
    "time.sleep(0.5)\n",
    "for i in range(101):\n",
    "    servo_device.Servo_serial_double_control(1,30*i+600, 2,25*i+1500)\n",
    "    time.sleep(0.02)"
   ]
  },
  {
   "cell_type": "code",
   "execution_count": null,
   "id": "7d0e1539",
   "metadata": {},
   "outputs": [],
   "source": [
    "#카메라코드"
   ]
  },
  {
   "cell_type": "code",
   "execution_count": null,
   "id": "7ed87f7e",
   "metadata": {},
   "outputs": [],
   "source": [
    "# UI 라이브러리로 함수를 전달하면 인수를 변경하면서 함수를 실행\n",
    "import ipywidgets.widgets as widgets\n",
    "# 실시간으로 컴포넌트의 내용을 업데이트하기 위해 개체들을 바인딩\n",
    "import traitlets\n",
    "# CSI 카메라 연동\n",
    "from jetbot import Camera\n",
    "# 카메라에서 가져온 데이터는 bgr8이고 컴포넌트가 표시하는 이미지 형식은 JPEG 형식이므로\n",
    "# jetbot에서 bgr8_to_jpeg 메서드를 사용하여 BGR8 타입의 이미지를 JPEG로 변환\n",
    "from jetbot import bgr8_to_jpeg\n",
    "# 카메라 인터페이스를 열고 초기화하기 위해 jetbot에서 카메라 개체 가져오기\n",
    "camera = Camera.instance(width=224, height=224)\n",
    "# 디스플레이 컨테이너 초기화\n",
    "# ipywidgets 라이브러리에서 구성 요소 패키지를 가져오고 표시를 위해 표시 구성 요소 속성을 초기화\n",
    "image_widget = widgets.Image(format='jpeg', width=224, height=224)\n",
    "display(image_widget)\n",
    "# 카메라 화면을 실시간으로 컴포넌트 디스플레이로 업데이트\n",
    "# 데이터의 실시간 새로 고침을 위해 두 개의 데이터 개체(camera, image)를 바인딩하기 위해 traitlets을 사용\n",
    "camera_link = traitlets.dlink((camera, 'value'), (image_widget, 'value'), transform=bgr8_to_jpeg)"
   ]
  },
  {
   "cell_type": "code",
   "execution_count": null,
   "id": "454939e1",
   "metadata": {},
   "outputs": [],
   "source": []
  },
  {
   "cell_type": "code",
   "execution_count": null,
   "id": "471e73f5",
   "metadata": {},
   "outputs": [],
   "source": [
    "I^2C inter integrated circuit\n",
    " : I2C(Inter Intergrated Circuit) 통신이란 두 개의 전선으로 여러 디바이스들을 연결할 수 있는 저속 통신 인터페이스입니다\n",
    "\n",
    "Arduino - RaspberryPi - 적외선 센서\n",
    "\n",
    "pull up상태 (-로 떨어지면 데이터를 전송시킨다)\n",
    " (+)SDA - (data들이 전송되는 선)\n",
    " (+)SCL - (data 언제전송되는지 Clock 관련)\n",
    "I2C address를 읽는 라이브러리도 있다.\n",
    "\n",
    "address는 보통 7bit로 구성 + 1bit(1:read / 0:wirte) = 총 8bit로 구성\n",
    "\n",
    "I2c 통신에는 각각의 모듈에 address가 존재 마스터가 존재하면 마스터는 각각의 슬레이브의 주소를 다 가지고 있어야 함.(중요한 건 주소)\n",
    "(주소가 정해져 있는 것도 있고 주소가 정해져있지 않고 랜덤하게 할당되는 것도 있다.)"
   ]
  },
  {
   "cell_type": "markdown",
   "id": "a963e621",
   "metadata": {},
   "source": [
    "# I2C 통신을 하기 위한 라이브러리 추가"
   ]
  },
  {
   "cell_type": "code",
   "execution_count": 4,
   "id": "be6184d0",
   "metadata": {
    "collapsed": true
   },
   "outputs": [
    {
     "ename": "ModuleNotFoundError",
     "evalue": "No module named 'Adafruit_GPIO'",
     "output_type": "error",
     "traceback": [
      "\u001b[1;31m---------------------------------------------------------------------------\u001b[0m",
      "\u001b[1;31mModuleNotFoundError\u001b[0m                       Traceback (most recent call last)",
      "Input \u001b[1;32mIn [4]\u001b[0m, in \u001b[0;36m<cell line: 1>\u001b[1;34m()\u001b[0m\n\u001b[1;32m----> 1\u001b[0m \u001b[38;5;28;01mimport\u001b[39;00m \u001b[38;5;21;01mAdafruit_GPIO\u001b[39;00m\u001b[38;5;21;01m.\u001b[39;00m\u001b[38;5;21;01mI2C\u001b[39;00m \u001b[38;5;28;01mas\u001b[39;00m \u001b[38;5;21;01mI2C\u001b[39;00m\n\u001b[0;32m      2\u001b[0m RGB \u001b[38;5;241m=\u001b[39m I2C\u001b[38;5;241m.\u001b[39mget_i2c_device(\u001b[38;5;241m0x1b\u001b[39m , \u001b[38;5;241m1\u001b[39m) \u001b[38;5;66;03m# (Address, busnum)\u001b[39;00m\n\u001b[0;32m      4\u001b[0m \u001b[38;5;66;03m# Address\u001b[39;00m\n\u001b[0;32m      5\u001b[0m \u001b[38;5;66;03m# 0x00 : 우리가 제어할 RGB strip position\u001b[39;00m\n\u001b[0;32m      6\u001b[0m \u001b[38;5;66;03m# 0x01 : 빨간색(Red) \u001b[39;00m\n\u001b[0;32m      7\u001b[0m \u001b[38;5;66;03m# 0x02 : 초록색(Green)  \u001b[39;00m\n\u001b[0;32m      8\u001b[0m \u001b[38;5;66;03m# 0x03 : 파란색(Blue)\u001b[39;00m\n",
      "\u001b[1;31mModuleNotFoundError\u001b[0m: No module named 'Adafruit_GPIO'"
     ]
    }
   ],
   "source": [
    "import Adafruit_GPIO.I2C as I2C\n",
    "RGB = I2C.get_i2c_device(0x1b , 1) # (Address, busnum)\n",
    "\n",
    "# Address\n",
    "# 0x00 : 우리가 제어할 RGB strip position\n",
    "# 0x01 : 빨간색(Red) \n",
    "# 0x02 : 초록색(Green)  \n",
    "# 0x03 : 파란색(Blue)\n",
    "\n",
    "RGB.write8(0x00, 0xFF) #(Address, value) 포지션을 FF 주면 모든 것을 다 가리킴 포지션을 0x00하면 첫번째를 가리킴 \n",
    "RGB.write8(0x01, 0xFF)\n",
    "RGB.write8(0x02, 0xFF)\n",
    "RGB.write8(0x03, 0x00)"
   ]
  },
  {
   "cell_type": "code",
   "execution_count": 3,
   "id": "da5b1fff",
   "metadata": {},
   "outputs": [],
   "source": [
    "def set_RGB(position, red, green, blue):\n",
    "    RGB.write8(0x00, position) #(Address, value)\n",
    "    RGB.write8(0x01, red)\n",
    "    RGB.write8(0x02, green)\n",
    "    RGB.write8(0x03, blue) "
   ]
  },
  {
   "cell_type": "code",
   "execution_count": null,
   "id": "b81069a7",
   "metadata": {},
   "outputs": [],
   "source": [
    "set_RGB(0xFF, 0x00, 0xff, 0x00)"
   ]
  },
  {
   "cell_type": "code",
   "execution_count": 1,
   "id": "1430015c",
   "metadata": {},
   "outputs": [],
   "source": [
    "def right_wheel(red, green, blue):\n",
    "    set_RGB(0x00, red, green, blue)\n",
    "    set_RGB(0x01, red, green, blue)\n",
    "    set_RGB(0x02, red, green, blue)\n",
    "    set_RGB(0x03, red, green, blue)\n",
    "    set_RGB(0x04, red, green, blue)\n",
    "    \n",
    "def left_wheel(red, green, blue):\n",
    "    set_RGB(0x00, red, green, blue)\n",
    "    set_RGB(0x05, red, green, blue)\n",
    "    set_RGB(0x06, red, green, blue)\n",
    "    set_RGB(0x07, red, green, blue)\n",
    "    set_RGB(0x08, red, green, blue)\n",
    "    \n",
    "def even_wheel(red, green, blue):\n",
    "    set_RGB(0x00, red, green, blue)\n",
    "    set_RGB(0x01, red, green, blue)\n",
    "    set_RGB(0x03, red, green, blue)\n",
    "    set_RGB(0x05, red, green, blue)\n",
    "    set_RGB(0x07, red, green, blue)\n",
    "\n",
    "def odd_wheel(red, green, blue):\n",
    "    set_RGB(0x00, red, green, blue)\n",
    "    set_RGB(0x02, red, green, blue)\n",
    "    set_RGB(0x04, red, green, blue)\n",
    "    set_RGB(0x06, red, green, blue)\n",
    "    set_RGB(0x08, red, green, blue)"
   ]
  },
  {
   "cell_type": "code",
   "execution_count": 2,
   "id": "871f0373",
   "metadata": {
    "collapsed": true
   },
   "outputs": [
    {
     "ename": "NameError",
     "evalue": "name 'set_RGB' is not defined",
     "output_type": "error",
     "traceback": [
      "\u001b[1;31m---------------------------------------------------------------------------\u001b[0m",
      "\u001b[1;31mNameError\u001b[0m                                 Traceback (most recent call last)",
      "Input \u001b[1;32mIn [2]\u001b[0m, in \u001b[0;36m<cell line: 5>\u001b[1;34m()\u001b[0m\n\u001b[0;32m      3\u001b[0m \u001b[38;5;66;03m#크리스마스\u001b[39;00m\n\u001b[0;32m      4\u001b[0m \u001b[38;5;28;01mwhile\u001b[39;00m \u001b[38;5;28;01mTrue\u001b[39;00m:\n\u001b[1;32m----> 5\u001b[0m     \u001b[43meven_wheel\u001b[49m\u001b[43m(\u001b[49m\u001b[38;5;241;43m0xFF\u001b[39;49m\u001b[43m,\u001b[49m\u001b[43m \u001b[49m\u001b[38;5;241;43m0x00\u001b[39;49m\u001b[43m,\u001b[49m\u001b[43m \u001b[49m\u001b[38;5;241;43m0x00\u001b[39;49m\u001b[43m)\u001b[49m\n\u001b[0;32m      6\u001b[0m     odd_wheel(\u001b[38;5;241m0x00\u001b[39m, \u001b[38;5;241m0xFF\u001b[39m, \u001b[38;5;241m0x00\u001b[39m)\n\u001b[0;32m      7\u001b[0m     time\u001b[38;5;241m.\u001b[39msleep(\u001b[38;5;241m1\u001b[39m)\n",
      "Input \u001b[1;32mIn [1]\u001b[0m, in \u001b[0;36meven_wheel\u001b[1;34m(red, green, blue)\u001b[0m\n\u001b[0;32m     15\u001b[0m \u001b[38;5;28;01mdef\u001b[39;00m \u001b[38;5;21meven_wheel\u001b[39m(red, green, blue):\n\u001b[1;32m---> 16\u001b[0m     \u001b[43mset_RGB\u001b[49m(\u001b[38;5;241m0x00\u001b[39m, red, green, blue)\n\u001b[0;32m     17\u001b[0m     set_RGB(\u001b[38;5;241m0x01\u001b[39m, red, green, blue)\n\u001b[0;32m     18\u001b[0m     set_RGB(\u001b[38;5;241m0x03\u001b[39m, red, green, blue)\n",
      "\u001b[1;31mNameError\u001b[0m: name 'set_RGB' is not defined"
     ]
    }
   ],
   "source": [
    "import time\n",
    "\n",
    "#크리스마스\n",
    "while True:\n",
    "    even_wheel(0xFF, 0x00, 0x00)\n",
    "    odd_wheel(0x00, 0xFF, 0x00)\n",
    "    time.sleep(1)\n",
    "    odd_wheel(0xFF, 0x00, 0x00)\n",
    "    even_wheel(0x00, 0xFF, 0x00)\n",
    "    time.sleep(1)\n"
   ]
  },
  {
   "cell_type": "code",
   "execution_count": null,
   "id": "501e1ec3",
   "metadata": {},
   "outputs": [],
   "source": [
    "print(bin(0x1b)) #bin(이진수변환)"
   ]
  },
  {
   "cell_type": "code",
   "execution_count": null,
   "id": "8c10696c",
   "metadata": {},
   "outputs": [],
   "source": [
    "# python에서 2진수, 8진수, 16진수 표현\n",
    "- 2진수 : 0b (binary)\n",
    "- 8진수 : 0o (octal)\n",
    "- 16진수 : 0x (hexa)"
   ]
  },
  {
   "cell_type": "code",
   "execution_count": null,
   "id": "03deac03",
   "metadata": {},
   "outputs": [],
   "source": [
    "print(0b10101)\n",
    "print(0o25)\n",
    "print(0x15)"
   ]
  },
  {
   "cell_type": "code",
   "execution_count": null,
   "id": "81c04c1e",
   "metadata": {},
   "outputs": [],
   "source": [
    "# 기계(컴퓨터)와 소통할 수 있게 해주는 언어\n",
    "- 프로그래밍 언어\n",
    "    - Low Level Language(저급언어) : 기계어, 어셈블리어\n",
    "    - High Level Language(고급언어) : C, Python"
   ]
  },
  {
   "cell_type": "code",
   "execution_count": null,
   "id": "f9963bb9",
   "metadata": {},
   "outputs": [],
   "source": [
    "print(0b10111011)\n",
    "print(0xbb)\n",
    "print(0o273)\n",
    "\n",
    "# 16진수 11:A 12:B 13:C 14:D 15:E 16:F"
   ]
  },
  {
   "cell_type": "code",
   "execution_count": null,
   "id": "96014433",
   "metadata": {},
   "outputs": [],
   "source": [
    "# 8비트는 256까지 표현 가능 2의 8제곱\n",
    "\n",
    "result = a + B\n",
    "\n",
    "10111011 10110011 10001010 11000110 0xbb (16진수를 쓰면 코드가 짧아짐)\n",
    "10111011 10110011 10001010 11000110 \n",
    "10111011 10110011 10001010 11000110\n",
    "10111011 10110011 10001010 11000110"
   ]
  },
  {
   "cell_type": "code",
   "execution_count": null,
   "id": "1814f58a",
   "metadata": {},
   "outputs": [],
   "source": [
    "색상 : RGB  \n",
    "    \n",
    "어떤 색상을 나타내기 위해 우리가 사용 하는  \n",
    "빨간색 0~255 / 0~FF  \n",
    "초록색 0~255 / 0~FF  \n",
    "파란색 0~255 / 0~FF  \n",
    "  \n",
    "rgb 색상코드로  \n",
    "빨간색: FF0000  \n",
    "초록색: 00FF00  \n",
    "파란색: 0000FF  \n",
    "      \n",
    "노란색: FFFF00 "
   ]
  },
  {
   "cell_type": "code",
   "execution_count": null,
   "id": "b3f91271",
   "metadata": {},
   "outputs": [],
   "source": [
    "print(0xff)"
   ]
  },
  {
   "cell_type": "markdown",
   "id": "fa438f9c",
   "metadata": {},
   "source": [
    "# RGB_strip"
   ]
  },
  {
   "cell_type": "code",
   "execution_count": null,
   "id": "04d67263",
   "metadata": {},
   "outputs": [],
   "source": [
    "%%\n",
    "\n",
    "import Adafruit_GPIO.I2C as I2C\n",
    "\n",
    "class Programing_RGB():\n",
    "    def __init__(self):  #초기화하는 생성자 함수 / self는 매개변수가 아니라 클래스 안쪽에 있는 함수라고 알려주는 것 \n",
    "        self._device = I2C.get_i2c_device(0x1b , 1) # (Address, busnum)  \n",
    "        \n",
    "        #변수 앞에 언더바 두개가 붙으면 외부에서 접근 불가(private) \n",
    "        #변수 앞에 언더바 한개는 상속 클래스에서만 접근 가능 (protected)\n",
    "        #그냥 변수는 어디에서나 접근 가능 (pubolic)\n",
    "        \n",
    "    def set_All_RGB(self, red, green, blue):\n",
    "        try:\n",
    "            self._device.write8(0x00, 0xFF) #self를 달아서 위에서 정의한 거라고 표시해주는 것 (첫2번째 어드래스는 포지션)\n",
    "            self._device.write8(0x01, red)\n",
    "            self._device.write8(0x02, green)\n",
    "            self._device.write8(0x03, blue)\n",
    "        except:\n",
    "            print('I2C error')\n",
    "            \n",
    "    def set_All_Off(self):\n",
    "        try:\n",
    "            self.set_All_RGB(0x00,0x00,0x00)\n",
    "        except:\n",
    "            print('Off error')\n",
    "            \n",
    "    def set_An_RGB(self, position, red, green, blue):\n",
    "        try:\n",
    "            if position <= 0x09:\n",
    "                self._device.write8(0x00, position)\n",
    "                self._device.write8(0x01, red)\n",
    "                self._device.write8(0x02, green)\n",
    "                self._device.write8(0x03, blue)\n",
    "        except:\n",
    "            print('An RGB error')\n",
    "    \n",
    "    def set_water_fall(self):\n",
    "        try:\n",
    "            self._device.write8(0x04, 0x00)\n",
    "        except:\n",
    "            print('폭포 실패')\n",
    "\n",
    "    def set_breathe(self):\n",
    "        try:\n",
    "            self._device.write8(0x04, 0x01)\n",
    "        except:\n",
    "            print('호흡 실패')\n",
    "\n",
    "    def set_Chamaeleon(self):\n",
    "        try:\n",
    "            self._device.write8(0x04, 0x02)\n",
    "        except:\n",
    "            print('변신 실패')            \n",
    "    "
   ]
  },
  {
   "cell_type": "code",
   "execution_count": null,
   "id": "c4688727",
   "metadata": {},
   "outputs": [],
   "source": [
    "import Adafruit_GPIO.I2C as I2C\n",
    "RGB = I2C.get_i2c_device(0x1b , 1) # (Address, busnum)\n",
    "RGB.write8(0x05, 0x04) \n",
    "\n",
    "# address\n",
    "# address 0x00은 position\n",
    "# address 0x01은 red\n",
    "# address 0x02는 green\n",
    "# address 0x03은 blue\n",
    "# address 0x04은 특수기능\n",
    "# address 0x05은 color\n",
    "# address 0x06은 speed\n",
    "\n",
    "# 0x04 address는 특수기능 담당이다\n",
    "# value 0x00은 폭포 \n",
    "# value 0x01은 호흡\n",
    "# value 0x02는 카멜레온\n",
    "# value 0x03은 블링크\n",
    "# value 0x04은 기본\n",
    "\n",
    "\n",
    "\n",
    "# I2C 통신\n",
    "# 0x00 0x01 0x02 0x03  <-address 4개 (특수기능 빼고 최소 4개는 가야함)\n",
    "#                      <-value도 4개"
   ]
  },
  {
   "cell_type": "code",
   "execution_count": null,
   "id": "7653670e",
   "metadata": {},
   "outputs": [],
   "source": []
  },
  {
   "cell_type": "markdown",
   "id": "06c2db48",
   "metadata": {},
   "source": [
    "# shift 연산자\n",
    "- 2진수 16자리 "
   ]
  },
  {
   "cell_type": "code",
   "execution_count": null,
   "id": "75946c64",
   "metadata": {},
   "outputs": [],
   "source": [
    "# 우리가 servo모터를 통해서 전송할 수 있는 data는 각 8bit단위로 전송 가능\n",
    "# 8bit는 0~255 사이 숫자만 전송 가능\n",
    "# 도대체 3000이라는 값은 어떻게 보낼 것인가?\n",
    "# print(bin(3000)) >> 0b101110111000\n",
    "# 16bit 0~65535 (앞에 8자리와 뒤에 8자리로 쪼개서 보내고 받는 쪽에서 합쳐서 읽음) 이때 사용하는게 shift 연산자\n",
    "# 00010111 / 01111000 >> 3000\n"
   ]
  },
  {
   "cell_type": "code",
   "execution_count": null,
   "id": "7db7b9f6",
   "metadata": {},
   "outputs": [],
   "source": [
    "print(bin(3000))"
   ]
  },
  {
   "cell_type": "code",
   "execution_count": null,
   "id": "7c54ad72",
   "metadata": {},
   "outputs": [],
   "source": [
    "# 3000을 2진수로 나타내보자\n",
    "# 쉬프트 연산자\n",
    "print((3000 >> 8)&255 # 오른쪽으로 8칸 옮김, 빈자리는 0으로 채워짐   // 255는 11111111(2)  //  255와 and 연산하면 자기 자신이 나오는데 체크하는 기능을 가지고 있음 // 255는 0xff로 16진수로 씀\n",
    "print(bin(11))\n",
    "\n",
    "print(37 << 1) #왼쪽 쉬프트 연산 1칸하면 2배 2칸하면 4배\n",
    "print(37 >> 1) #오른쪽 쉬프트 연산 1칸하면 1/2배 (소수는 버림)\n"
   ]
  },
  {
   "cell_type": "markdown",
   "id": "371d1444",
   "metadata": {},
   "source": [
    "# remote_camera"
   ]
  },
  {
   "cell_type": "code",
   "execution_count": null,
   "id": "74f65007",
   "metadata": {},
   "outputs": [],
   "source": [
    "# 원격으로 젯슨의 카메라를 키면 젯슨에서만 보이지 원격에서는 카메라가 보이지 않는다.\n",
    "# 그래서 위젯으로 연결해서 영상을 받아와서 봐야한다."
   ]
  },
  {
   "cell_type": "code",
   "execution_count": null,
   "id": "950d887d",
   "metadata": {},
   "outputs": [],
   "source": [
    "# jetbot의 카메라 관련 lib\n",
    "from jetbot import Camera"
   ]
  },
  {
   "cell_type": "code",
   "execution_count": null,
   "id": "4b418d08",
   "metadata": {},
   "outputs": [],
   "source": [
    "# camera connection\n",
    "camera = Camera.instance(width=224, height=224)  #instance 함수 사용하면 그냥 클래스 생성할 때와 달리 너비와 높이 2개 생성할 수 있다."
   ]
  },
  {
   "cell_type": "code",
   "execution_count": null,
   "id": "b0f23bbc",
   "metadata": {},
   "outputs": [],
   "source": [
    "# if you want to use the camera otherplace, run this cord  \n",
    "camera.stop()"
   ]
  },
  {
   "cell_type": "code",
   "execution_count": null,
   "id": "178dac29",
   "metadata": {},
   "outputs": [],
   "source": [
    "# this lib is to connect jetbot with widget remotely\n",
    "import ipywidgets.widgets as widgets\n",
    "\n",
    "image = widgets.Image(format='jpeg', width=448, height=448)  #카메라 커넥션의 사이즈와 위젯의 사이즈는 달라도 된다. 카메라 커넥션의 사이즈는 촬영하는 사이즈고 위젯은 출력하는 사이즈이다."
   ]
  },
  {
   "cell_type": "code",
   "execution_count": null,
   "id": "80013909",
   "metadata": {},
   "outputs": [],
   "source": [
    "display(image)  #지금 아무것도 안뜨는 이유는 image와 카메라가 연결된지 않아서"
   ]
  },
  {
   "cell_type": "code",
   "execution_count": null,
   "id": "d369e51f",
   "metadata": {},
   "outputs": [],
   "source": [
    "# link\n",
    "# traittlets : 실시간으로 2개의 component를 연결 각 객체들을 바인딩\n",
    "# 우리가 연결할 것은 dislay(image)와 실제 카메라가 찍고 있는 이미지\n",
    "import traitlets \n",
    "from jetbot import bgr8_to_jpeg\n",
    "\n",
    "# 데이터 링크여서 dlink / datalink 함수를 통해 카메라와 이미지 공간 연결\n",
    "# 아쉽게도 이미지 공간의 data format : JEPG\n",
    "# 카메라가 전송하는 image format : bgr8\n",
    "# bgr9 -> JPEG로 변환 시켜줘야함  (위 라이브러리 참고)\n",
    "camera_llink = traitlets.dlink((camera, 'value'), (image, 'value'), transform=bgr8_to_jpeg)  # 나중에 닫을 때를 위해 변수에 담아두기\n",
    "camera_link"
   ]
  },
  {
   "cell_type": "code",
   "execution_count": null,
   "id": "1a253938",
   "metadata": {},
   "outputs": [],
   "source": [
    "camera_link.unlink()\n",
    "camera.stop()"
   ]
  },
  {
   "cell_type": "markdown",
   "id": "20061d13",
   "metadata": {},
   "source": [
    "# color_tracking"
   ]
  },
  {
   "cell_type": "code",
   "execution_count": null,
   "id": "d9449559",
   "metadata": {},
   "outputs": [],
   "source": [
    "# 색상 추적\n",
    "# 만약 빨간색(RGB FF0000) 추적\n",
    "# 1) 빨간색 발견!!\n",
    "# 2) 빨간색을 내 카메라 정중앙으로\n",
    "\n",
    "# PID제어!\n",
    "# 비례, 적분, 미분  <- 어떤 단계에 도달하기 위해서 3단계 거침"
   ]
  },
  {
   "cell_type": "markdown",
   "id": "8b7735db",
   "metadata": {},
   "source": [
    "### PID 위한 모듈"
   ]
  },
  {
   "cell_type": "code",
   "execution_count": 1,
   "id": "27ed38d2",
   "metadata": {},
   "outputs": [],
   "source": [
    "'''\n",
    "@Copyright (C): 2010-2019, Shenzhen Yahboom Tech\n",
    "@Author: Malloy.Yuan\n",
    "@Date: 2019-07-30 20:34:09\n",
    "@LastEditors: Malloy.Yuan\n",
    "@LastEditTime: 2019-08-08 16:10:46\n",
    "'''\n",
    "#  PID control first-order inertial system test program\n",
    "#*****************************************************************#\n",
    "#                      Incremental PID system                     #\n",
    "#*****************************************************************#\n",
    "class IncrementalPID:\n",
    "    def __init__(self, P, I, D):\n",
    "        self.Kp = P\n",
    "        self.Ki = I\n",
    "        self.Kd = D\n",
    "        self.PIDOutput = 0.0             #PID controller output\n",
    "        self.SystemOutput = 0.0          #System output value\n",
    "        self.LastSystemOutput = 0.0      #Last system output value\n",
    "        self.Error = 0.0                 #The deviation of the output value from the input value\n",
    "        self.LastError = 0.0\n",
    "        self.LastLastError = 0.0\n",
    "    #Set the PID controller parameters\n",
    "    def SetStepSignal(self,StepSignal):\n",
    "        self.Error = StepSignal - self.SystemOutput\n",
    "        IncrementValue = self.Kp * (self.Error - self.LastError) +\\\n",
    "        self.Ki * self.Error +\\\n",
    "        self.Kd * (self.Error - 2 * self.LastError + self.LastLastError)\n",
    "        self.PIDOutput += IncrementValue\n",
    "        self.LastLastError = self.LastError\n",
    "        self.LastError = self.Error\n",
    "    #Set the first-order inertial link system, where InertiaTime is the inertia time constant\n",
    "    def SetInertiaTime(self,InertiaTime,SampleTime):\n",
    "        self.SystemOutput = (InertiaTime * self.LastSystemOutput + \\\n",
    "            SampleTime * self.PIDOutput) / (SampleTime + InertiaTime)\n",
    "        self.LastSystemOutput = self.SystemOutput\n",
    "# *****************************************************************#\n",
    "#                      Positional PID system                       #\n",
    "# *****************************************************************#\n",
    "class PositionalPID:\n",
    "    def __init__(self, P, I, D):\n",
    "        self.Kp = P\n",
    "        self.Ki = I\n",
    "        self.Kd = D\n",
    "        self.SystemOutput = 0.0\n",
    "        self.ResultValueBack = 0.0\n",
    "        self.PidOutput = 0.0\n",
    "        self.PIDErrADD = 0.0\n",
    "        self.ErrBack = 0.0\n",
    "    #Set the PID controller parameters\n",
    "    def SetStepSignal(self,StepSignal):\n",
    "        Err = StepSignal - self.SystemOutput\n",
    "        KpWork = self.Kp * Err\n",
    "        KiWork = self.Ki * self.PIDErrADD\n",
    "        KdWork = self.Kd * (Err - self.ErrBack)\n",
    "        self.PidOutput = KpWork + KiWork + KdWork\n",
    "        self.PIDErrADD += Err\n",
    "        self.ErrBack = Err\n",
    "    #Set the first-order inertial link system, where InertiaTime is the inertia time constant\n",
    "    def SetInertiaTime(self, InertiaTime,SampleTime):\n",
    "        self.SystemOutput = (InertiaTime * self.ResultValueBack + \\\n",
    "           SampleTime * self.PidOutput) / (SampleTime + InertiaTime)\n",
    "        self.ResultValueBack = self.SystemOutput"
   ]
  },
  {
   "cell_type": "code",
   "execution_count": null,
   "id": "f1b9b225",
   "metadata": {},
   "outputs": [],
   "source": [
    "from jetbot import Camera\n",
    "camera = Camera.instance(width=360, height=360)"
   ]
  },
  {
   "cell_type": "code",
   "execution_count": null,
   "id": "8cadb85c",
   "metadata": {},
   "outputs": [],
   "source": [
    "import PID # PID제어\n",
    "from servoserial import ServoSerial  # 색추적 시 카메라 제어\n",
    "\n",
    "servo_device = ServoSerial()  # 카메라 인스턴스 생성"
   ]
  },
  {
   "cell_type": "code",
   "execution_count": null,
   "id": "598976a6",
   "metadata": {},
   "outputs": [],
   "source": [
    "# 추적하고자 하는 값의 X좌표, y좌표, 각도r\n",
    "global color_x, color_y, color_radius\n",
    "color_x = color_y = color_radius = 0 \n",
    "\n",
    "global target_valuex, target_valuey\n",
    "target_valuex = 2050\n",
    "target_valuey = 2100"
   ]
  },
  {
   "cell_type": "code",
   "execution_count": null,
   "id": "e557eeee",
   "metadata": {},
   "outputs": [],
   "source": [
    "# PID 제어 값\n",
    "xservo_pid = PID.PositionalPID(1.9, 0.3, 0.35)  #비례적분미분의 어떤 가중치들을 결정해주는 것\n",
    "yservo_pid = PID.PositionalPID(1.5, 0.2, 0.3)  #이게 노멀한 거고 잘안되면 조금씩 수정하면 됨"
   ]
  },
  {
   "cell_type": "code",
   "execution_count": null,
   "id": "35f7d91b",
   "metadata": {},
   "outputs": [],
   "source": [
    "# 인지하는 색상의 영역\n",
    "# 최소, 최대 범위 설정\n",
    "\n",
    "import numpy as np\n",
    "global color_lower, color_upper\n",
    "color_lower = np.array([-10,0, 100])  #색상 채도 명도\n",
    "color_upper = np.array([10, 255, 255])  #색상 채도 명도"
   ]
  },
  {
   "cell_type": "code",
   "execution_count": null,
   "id": "85020797",
   "metadata": {},
   "outputs": [],
   "source": [
    "import cv2\n",
    "import ipywidgets.widgets as widgets\n",
    "color_image = widgets.Image(format='jpeg' ,width=244, height=244)\n",
    "\n",
    "display(color_image)\n",
    "servo_device.Servo_serial_double_control(1, target_valuex, 2, target_valuey)"
   ]
  },
  {
   "cell_type": "code",
   "execution_count": null,
   "id": "4a1a21b1",
   "metadata": {},
   "outputs": [],
   "source": [
    "# 추적할 색상 선택 \n",
    "color_lower = np.array([-10, 43, 46])  #색상 채도 명도\n",
    "color_upper = np.array([10, 255, 255])  #색상 채도 명도"
   ]
  },
  {
   "cell_type": "code",
   "execution_count": null,
   "id": "ec566e20",
   "metadata": {},
   "outputs": [],
   "source": [
    "from jetbot import bgr8_to_jpeg\n",
    "while 1:\n",
    "    frame = camera.value # 젯봇에 있는 카메라에서 값으 받는다. \n",
    "    frame = cv2.resize(frame, (300, 300))\n",
    "    frame_=cv2.GaussianBlur(frame,(5,5),0)\n",
    "    hsv=cv2.cvtColor(frame,cv2.COLOR_BGR2HSV)\n",
    "    mask=cv2.inRange(hsv,color_lower,color_upper)\n",
    "    mask=cv2.erode(mask,None,iterations=2)\n",
    "    mask=cv2.dilate(mask,None,iterations=2)\n",
    "    mask=cv2.GaussianBlur(mask,(3,3),0)\n",
    "    cnts=cv2.findContours(mask.copy(),cv2.RETR_EXTERNAL,cv2.CHAIN_APPROX_SIMPLE)[-2]\n",
    "    if len(cnts)>0:\n",
    "        cnt = max (cnts,key=cv2.contourArea)\n",
    "        (color_x,color_y),color_radius=cv2.minEnclosingCircle(cnt)\n",
    "        if color_radius > 10:\n",
    "            # Mark the detected color\n",
    "            cv2.circle(frame,(int(color_x),int(color_y)),int(color_radius),(255,0,255),2)\n",
    "            #Proportion-Integration-Differentiation\n",
    "            xservo_pid.SystemOutput = color_x\n",
    "            xservo_pid.SetStepSignal(150)\n",
    "            xservo_pid.SetInertiaTime(0.01, 0.006)\n",
    "            target_valuex = int(2048+xservo_pid.SystemOutput)\n",
    "            # Input Y axis direction parameter PID control input\n",
    "            yservo_pid.SystemOutput = color_y\n",
    "            yservo_pid.SetStepSignal(150)\n",
    "            yservo_pid.SetInertiaTime(0.01, 0.006)\n",
    "            target_valuey = int(2048+yservo_pid.SystemOutput)\n",
    "             # Rotate the gimbal to the PID adjustment position\n",
    "            servo_device.Servo_serial_double_control( 1, target_valuex, 2, target_valuey)\n",
    "     # Real-time return of image data for display\n",
    "    color_image.value = bgr8_to_jpeg(frame)"
   ]
  },
  {
   "cell_type": "code",
   "execution_count": null,
   "id": "78e0fbd1",
   "metadata": {},
   "outputs": [],
   "source": []
  },
  {
   "cell_type": "code",
   "execution_count": null,
   "id": "6bcb596a",
   "metadata": {},
   "outputs": [],
   "source": []
  }
 ],
 "metadata": {
  "kernelspec": {
   "display_name": "Python 3 (ipykernel)",
   "language": "python",
   "name": "python3"
  },
  "language_info": {
   "codemirror_mode": {
    "name": "ipython",
    "version": 3
   },
   "file_extension": ".py",
   "mimetype": "text/x-python",
   "name": "python",
   "nbconvert_exporter": "python",
   "pygments_lexer": "ipython3",
   "version": "3.9.12"
  },
  "toc": {
   "base_numbering": 1,
   "nav_menu": {},
   "number_sections": true,
   "sideBar": true,
   "skip_h1_title": false,
   "title_cell": "Table of Contents",
   "title_sidebar": "Contents",
   "toc_cell": false,
   "toc_position": {},
   "toc_section_display": true,
   "toc_window_display": false
  }
 },
 "nbformat": 4,
 "nbformat_minor": 5
}
