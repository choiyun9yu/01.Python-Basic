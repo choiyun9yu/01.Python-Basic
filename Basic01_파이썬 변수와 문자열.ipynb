{
 "cells": [
  {
   "cell_type": "code",
   "execution_count": null,
   "id": "7fc74c68",
   "metadata": {},
   "outputs": [],
   "source": [
    "num=3\n",
    "print(num)"
   ]
  },
  {
   "cell_type": "code",
   "execution_count": null,
   "id": "255e08fa",
   "metadata": {},
   "outputs": [],
   "source": [
    "num1 = 13\n",
    "num1"
   ]
  },
  {
   "cell_type": "code",
   "execution_count": null,
   "id": "6fe8655c",
   "metadata": {},
   "outputs": [],
   "source": [
    "num2 = 25\n",
    "num2"
   ]
  },
  {
   "cell_type": "code",
   "execution_count": null,
   "id": "94a4c8f3",
   "metadata": {},
   "outputs": [],
   "source": [
    "num2 = 77\n",
    "num2"
   ]
  },
  {
   "cell_type": "code",
   "execution_count": null,
   "id": "7ce53c85",
   "metadata": {},
   "outputs": [],
   "source": [
    "num2"
   ]
  },
  {
   "cell_type": "code",
   "execution_count": null,
   "id": "ac5e3c8c",
   "metadata": {},
   "outputs": [],
   "source": [
    "type(num2)"
   ]
  },
  {
   "cell_type": "code",
   "execution_count": null,
   "id": "7d13f7ad",
   "metadata": {},
   "outputs": [],
   "source": [
    "num3 = 3.1425\n",
    "num3"
   ]
  },
  {
   "cell_type": "code",
   "execution_count": null,
   "id": "2c047924",
   "metadata": {},
   "outputs": [],
   "source": [
    "num4 = 1.25\n",
    "num4"
   ]
  },
  {
   "cell_type": "code",
   "execution_count": null,
   "id": "fc95c5bf",
   "metadata": {},
   "outputs": [],
   "source": [
    "num4 = 3.12\n",
    "num4"
   ]
  },
  {
   "cell_type": "code",
   "execution_count": null,
   "id": "04f51f7b",
   "metadata": {},
   "outputs": [],
   "source": [
    "type(num4)"
   ]
  },
  {
   "cell_type": "code",
   "execution_count": null,
   "id": "2843a4fa",
   "metadata": {
    "scrolled": true
   },
   "outputs": [],
   "source": [
    "str1 = \"Funny python\"\n",
    "str1"
   ]
  },
  {
   "cell_type": "code",
   "execution_count": null,
   "id": "f35fdccc",
   "metadata": {},
   "outputs": [],
   "source": [
    "str2= 'easy python'\n",
    "str2"
   ]
  },
  {
   "cell_type": "code",
   "execution_count": null,
   "id": "c5f8706a",
   "metadata": {},
   "outputs": [],
   "source": [
    "type(str2)"
   ]
  },
  {
   "cell_type": "code",
   "execution_count": null,
   "id": "b5d76c64",
   "metadata": {},
   "outputs": [],
   "source": [
    "number = 10\n",
    "Number = 20\n",
    "print(\"number :\", number)\n",
    "print(\"Number :\", Number)"
   ]
  },
  {
   "cell_type": "code",
   "execution_count": null,
   "id": "2792ddd4",
   "metadata": {},
   "outputs": [],
   "source": [
    "num1_num2 = 10\n",
    "num1_num2"
   ]
  },
  {
   "cell_type": "code",
   "execution_count": null,
   "id": "8cdab243",
   "metadata": {
    "scrolled": true
   },
   "outputs": [],
   "source": [
    "1a = 10"
   ]
  },
  {
   "cell_type": "code",
   "execution_count": null,
   "id": "e88f8f90",
   "metadata": {},
   "outputs": [],
   "source": [
    "if"
   ]
  },
  {
   "cell_type": "code",
   "execution_count": null,
   "id": "e5b9e467",
   "metadata": {},
   "outputs": [],
   "source": [
    "print"
   ]
  },
  {
   "cell_type": "code",
   "execution_count": null,
   "id": "af14b383",
   "metadata": {},
   "outputs": [],
   "source": [
    "import keyword\n",
    "keyword.kwlist"
   ]
  },
  {
   "cell_type": "code",
   "execution_count": null,
   "id": "5b50ab8e",
   "metadata": {},
   "outputs": [],
   "source": [
    "a = 10\n",
    "b = 15\n",
    "print(a)\n",
    "print(b)"
   ]
  },
  {
   "cell_type": "code",
   "execution_count": null,
   "id": "69bea2ec",
   "metadata": {},
   "outputs": [],
   "source": [
    "a, b = 10, 15\n",
    "print(a)\n",
    "print(b)"
   ]
  },
  {
   "cell_type": "code",
   "execution_count": null,
   "id": "9846fa8a",
   "metadata": {},
   "outputs": [],
   "source": [
    "str1 = str2 = \"python\"\n",
    "print(str1)\n",
    "print(str2)"
   ]
  },
  {
   "cell_type": "code",
   "execution_count": 7,
   "id": "7ecb690e",
   "metadata": {
    "scrolled": true
   },
   "outputs": [
    {
     "data": {
      "text/plain": [
       "300"
      ]
     },
     "execution_count": 7,
     "metadata": {},
     "output_type": "execute_result"
    }
   ],
   "source": [
    "x = 149\n",
    "y = 151\n",
    "sum([x,y])"
   ]
  },
  {
   "cell_type": "code",
   "execution_count": 8,
   "id": "7850ce28",
   "metadata": {},
   "outputs": [
    {
     "ename": "SyntaxError",
     "evalue": "invalid syntax (2102462344.py, line 1)",
     "output_type": "error",
     "traceback": [
      "\u001b[1;36m  Input \u001b[1;32mIn [8]\u001b[1;36m\u001b[0m\n\u001b[1;33m    s = 'she's gone'\u001b[0m\n\u001b[1;37m             ^\u001b[0m\n\u001b[1;31mSyntaxError\u001b[0m\u001b[1;31m:\u001b[0m invalid syntax\n"
     ]
    }
   ],
   "source": [
    "s = 'she's gone'"
   ]
  },
  {
   "cell_type": "code",
   "execution_count": 44,
   "id": "94c1cb89",
   "metadata": {
    "scrolled": false
   },
   "outputs": [
    {
     "name": "stdout",
     "output_type": "stream",
     "text": [
      "she's gone\n"
     ]
    }
   ],
   "source": [
    "s1 = \"she\\'s gone\"\n",
    "s2 = \"she's gone\"\n",
    "s1\n",
    "print(s2)"
   ]
  },
  {
   "cell_type": "code",
   "execution_count": 43,
   "id": "42d7f405",
   "metadata": {},
   "outputs": [
    {
     "name": "stdout",
     "output_type": "stream",
     "text": [
      "he said that \"she is gone\"\n",
      "he said that \"she is gone\"\n"
     ]
    }
   ],
   "source": [
    "s1 = 'he said that \"she is gone\"'\n",
    "s2 = \"he said that \\\"she is gone\\\"\"\n",
    "print(s1)\n",
    "print(s2)"
   ]
  },
  {
   "cell_type": "code",
   "execution_count": 45,
   "id": "3a269052",
   "metadata": {},
   "outputs": [
    {
     "name": "stdout",
     "output_type": "stream",
     "text": [
      "여러줄로 구성된 \n",
      "문자열을 하나로 대입할 때\n"
     ]
    }
   ],
   "source": [
    "s = \"여러줄로 구성된 \\n문자열을 하나로 대입할 때\"\n",
    "print(s)"
   ]
  },
  {
   "cell_type": "code",
   "execution_count": 54,
   "id": "1a5ec3b1",
   "metadata": {
    "scrolled": true
   },
   "outputs": [
    {
     "name": "stdout",
     "output_type": "stream",
     "text": [
      "M\n",
      "i\n",
      "YG\n",
      "G\n",
      "Y\n",
      "My\n",
      "name\n",
      "is\n",
      "My name\n",
      "My name\n"
     ]
    }
   ],
   "source": [
    "s = \"My name is YG\"\n",
    "print(s[0])\n",
    "print(s[8])\n",
    "print(s[-2:])\n",
    "print(s[-1])\n",
    "print(s[-2])\n",
    "print(s[0:2])\n",
    "print(s[3:7])\n",
    "print(s[8:10])\n",
    "print(s[0:7])\n",
    "print(s[:7])\n",
    "print(s[8:13])\n",
    "print(s[8:])\n",
    "print(s[-5:])"
   ]
  },
  {
   "cell_type": "code",
   "execution_count": 57,
   "id": "a31b99b3",
   "metadata": {
    "scrolled": true
   },
   "outputs": [
    {
     "name": "stdout",
     "output_type": "stream",
     "text": [
      "is YG\n",
      "is YG\n",
      "is YG\n"
     ]
    }
   ],
   "source": [
    "s = \"My name is YG\"\n",
    "print(s[8:13])\n",
    "print(s[8:])\n",
    "print(s[-5:])"
   ]
  },
  {
   "cell_type": "code",
   "execution_count": 62,
   "id": "481c21cf",
   "metadata": {
    "scrolled": true
   },
   "outputs": [
    {
     "name": "stdout",
     "output_type": "stream",
     "text": [
      "My name is YG\n",
      "My name is YG\n",
      "My name is YG\n",
      "My name is YG\n",
      "My name is YG\n",
      "My name is YG\n"
     ]
    }
   ],
   "source": [
    "s = \"My name is YG\"\n",
    "print(s[0:13])\n",
    "print(s[-13:])\n",
    "print(s[:13])\n",
    "print(s[0:])\n",
    "print(s[:])\n",
    "print(s)"
   ]
  },
  {
   "cell_type": "code",
   "execution_count": 67,
   "id": "86b94d7a",
   "metadata": {
    "scrolled": true
   },
   "outputs": [
    {
     "name": "stdout",
     "output_type": "stream",
     "text": [
      "날짜 : 2020년 3월 3일\n",
      "날씨 : 맑음\n"
     ]
    }
   ],
   "source": [
    "s = \"2020년 3월 3일의 날씨는 맑음입니다.\"\n",
    "print(\"날짜 : \"+s[0:11])\n",
    "print(\"날씨 : \"+s[-6:-4])"
   ]
  },
  {
   "cell_type": "code",
   "execution_count": 69,
   "id": "294f8d9c",
   "metadata": {
    "scrolled": true
   },
   "outputs": [
    {
     "name": "stdout",
     "output_type": "stream",
     "text": [
      "날짜 : 2020년 3월 3일\n",
      "날씨 : 맑음\n"
     ]
    }
   ],
   "source": [
    "s = \"2020년 3월 3일의 날씨는 맑음입니다.\"\n",
    "print(\"날짜 :\",s[0:11])\n",
    "print(\"날씨 :\",s[-6:-4])\n"
   ]
  },
  {
   "cell_type": "code",
   "execution_count": null,
   "id": "0799da4a",
   "metadata": {},
   "outputs": [],
   "source": []
  },
  {
   "cell_type": "code",
   "execution_count": null,
   "id": "c87faece",
   "metadata": {},
   "outputs": [],
   "source": []
  },
  {
   "cell_type": "code",
   "execution_count": null,
   "id": "87878df9",
   "metadata": {},
   "outputs": [],
   "source": []
  },
  {
   "cell_type": "code",
   "execution_count": null,
   "id": "13f4994b",
   "metadata": {},
   "outputs": [],
   "source": []
  },
  {
   "cell_type": "code",
   "execution_count": null,
   "id": "caed7b63",
   "metadata": {},
   "outputs": [],
   "source": []
  },
  {
   "cell_type": "code",
   "execution_count": null,
   "id": "bd341e65",
   "metadata": {},
   "outputs": [],
   "source": []
  },
  {
   "cell_type": "code",
   "execution_count": null,
   "id": "c8e90106",
   "metadata": {},
   "outputs": [],
   "source": []
  },
  {
   "cell_type": "code",
   "execution_count": null,
   "id": "0f199061",
   "metadata": {},
   "outputs": [],
   "source": []
  },
  {
   "cell_type": "code",
   "execution_count": null,
   "id": "447e55eb",
   "metadata": {},
   "outputs": [],
   "source": []
  },
  {
   "cell_type": "code",
   "execution_count": null,
   "id": "75bfc031",
   "metadata": {},
   "outputs": [],
   "source": []
  },
  {
   "cell_type": "code",
   "execution_count": null,
   "id": "89ca5aa0",
   "metadata": {},
   "outputs": [],
   "source": []
  }
 ],
 "metadata": {
  "kernelspec": {
   "display_name": "Python 3 (ipykernel)",
   "language": "python",
   "name": "python3"
  },
  "language_info": {
   "codemirror_mode": {
    "name": "ipython",
    "version": 3
   },
   "file_extension": ".py",
   "mimetype": "text/x-python",
   "name": "python",
   "nbconvert_exporter": "python",
   "pygments_lexer": "ipython3",
   "version": "3.9.12"
  }
 },
 "nbformat": 4,
 "nbformat_minor": 5
}
