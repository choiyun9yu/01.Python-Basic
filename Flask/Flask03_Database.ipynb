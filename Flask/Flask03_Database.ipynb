{
 "cells": [
  {
   "attachments": {},
   "cell_type": "markdown",
   "id": "253f993d",
   "metadata": {},
   "source": [
    "## 라이브러리 설치 및 모듈 삽입"
   ]
  },
  {
   "cell_type": "code",
   "execution_count": 1,
   "id": "21d44a4e",
   "metadata": {},
   "outputs": [
    {
     "name": "stdout",
     "output_type": "stream",
     "text": [
      "Collecting package metadata (current_repodata.json): done\n",
      "Solving environment: done\n",
      "\n",
      "# All requested packages already installed.\n",
      "\n"
     ]
    }
   ],
   "source": [
    "!conda install pymysql -y"
   ]
  },
  {
   "cell_type": "code",
   "execution_count": 2,
   "id": "22d74081",
   "metadata": {
    "collapsed": true
   },
   "outputs": [],
   "source": [
    "from flask import Flask, request\n",
    "import pymysql as ps"
   ]
  },
  {
   "attachments": {},
   "cell_type": "markdown",
   "id": "e0d926d5",
   "metadata": {},
   "source": [
    "## 모듈 사용"
   ]
  },
  {
   "cell_type": "code",
   "execution_count": null,
   "id": "f983b8c6",
   "metadata": {},
   "outputs": [],
   "source": [
    "# .py 파일을 만들어서 모듈을 직접 만들어도 됨"
   ]
  },
  {
   "cell_type": "code",
   "execution_count": 1,
   "id": "5d6b4522",
   "metadata": {},
   "outputs": [
    {
     "name": "stderr",
     "output_type": "stream",
     "text": [
      "UsageError: Line magic function `%%writefile` not found.\n"
     ]
    }
   ],
   "source": [
    "# 주피터 노트북에서 치면 py파일 만들어서 모듈화시켜주는 코드\n",
    "%%writefile ./파일명.py \n",
    "\n",
    "import os\n",
    "import pandas as pd\n",
    "from datetime import datetime, timedelta\n",
    "import time\n",
    "from sqlalchemy import create_engine\n",
    "from flask import Flask, request, redirect, jsonify, send_from_directory\n",
    "from flask_cors import CORS, cross_origin\n",
    "import pymysql as ps\n",
    "\n",
    "def con():\n",
    "    conn = ps.connect(host='localhost', user='root', passwd='12345', db='aqu4men')\n",
    "    return conn\n",
    "\n",
    "def insert_db(table, calumns, values):\n",
    "    conn = con()\n",
    "    curs = conn.cursor()\n",
    "    sql = f\"insert into {table} {calumns} values {values};\"\n",
    "    curs.execute(sql)\n",
    "    conn.commit()\n",
    "    curs.close()\n",
    "    conn.close()\n",
    "    return sql\n",
    "\n",
    "def select_db(calumn,table, where):\n",
    "    conn = con()\n",
    "    curs = conn.cursor()\n",
    "    sql = f\"selet {calumn} from {table} where {where} \"\n",
    "    curs.execute(sql)\n",
    "    result = curs.fetchall()\n",
    "    print(result)\n",
    "    curs.close()\n",
    "    conn.close()\n",
    "    return sql"
   ]
  },
  {
   "cell_type": "code",
   "execution_count": null,
   "id": "e47f73f8",
   "metadata": {},
   "outputs": [],
   "source": [
    "# 모듈 삽입\n",
    "import db_module as db"
   ]
  },
  {
   "attachments": {},
   "cell_type": "markdown",
   "id": "b5c2fa1b",
   "metadata": {},
   "source": [
    "## DB와 FLASK 연결"
   ]
  },
  {
   "cell_type": "code",
   "execution_count": 3,
   "id": "127c8cf7",
   "metadata": {},
   "outputs": [],
   "source": [
    "conn = ps.connect(host='192.168.219.108', user='root', passwd='123123', db='mysql') \n",
    "#DB연결 (호스트, 사용자명, 비밀번호, 데이터베이스) MariaDB host내 DB와 직접 연결\n",
    "#user: user name / passwd: 설정한 패스워드 / host: DB가 존재하는 host / db: 연결할 데이터베이스 이름 / charset: 인코딩 설정"
   ]
  },
  {
   "attachments": {},
   "cell_type": "markdown",
   "id": "d145c00a",
   "metadata": {},
   "source": [
    "## 커서 생성"
   ]
  },
  {
   "attachments": {},
   "cell_type": "markdown",
   "id": "d3f5832c",
   "metadata": {},
   "source": [
    "- 연결한 DB와 상호작용하기 위해 cursor 객체를 생성\n",
    "- 커서를 꼭 닫아야 다른 경로에서 Database 조작 가능"
   ]
  },
  {
   "cell_type": "code",
   "execution_count": 4,
   "id": "8b43cec3",
   "metadata": {},
   "outputs": [],
   "source": [
    "curs = conn.cursor()  #일반 cursor는 튜플형태로 값 반환)\n",
    "#cursor = juso_db.cursor(pymysql.cursors.DictCursor) <- 데이터프레임 형태로 결과를 쉽게 변환할 수 있도록 딕셔너리 형태로 결과를 반환해주는 DictCursor"
   ]
  },
  {
   "attachments": {},
   "cell_type": "markdown",
   "id": "90679c9e",
   "metadata": {},
   "source": [
    "## 데이터 조작"
   ]
  },
  {
   "cell_type": "markdown",
   "id": "e39f42cf",
   "metadata": {},
   "source": [
    "- PyMySQL의 모든 데이터 조작은 execute()와 fetch() 계열을 사용\n",
    "- fetchall() : 모든 데이터를 한 번에 가져올 때 사용\n",
    "- fetchone() : 한 번 호출에 하나의 행만 가져올 때 사용\n",
    "- fetchmany(n) : n개만큼의 데이터를 가져올 때 사용"
   ]
  },
  {
   "attachments": {},
   "cell_type": "markdown",
   "id": "974190c2",
   "metadata": {},
   "source": [
    "### 데이터 조회\n",
    "     sql = \"SELECT * FROM `busan-jibun`;\"\n",
    "     cursor.execute(sql)\n",
    "     result = cursor.fetchall()\n",
    "- SELECT 명령을 위해 SQL 문을 따로 변수에 넣어주고 cursor.execute(sql) 을 사용해 SQL를 실행합니다. 실행한 결과를 fetchall()을 이용해 받아옵니다."
   ]
  },
  {
   "attachments": {},
   "cell_type": "markdown",
   "id": "3427b21b",
   "metadata": {},
   "source": [
    "### 데이터 삽입\n",
    "    sql = '''INSERT INTO `busan-jibun` (관리번호, 일련번호, 시도명, 시군구명) \n",
    "           VALUES ('1234567891234567891234567', '1', '서울특별시', '강남구');'''\n",
    "    cursor.execute(sql)\n",
    "    juso_db.commit()\n",
    "    \n",
    "- execute()를 이용해 INSERT 쿼리를 실행한 후, commit()을 날려줍니다.\n",
    "- 커밋을 날리지 않으면 execute()를 아무리 해도 결과가 DB에 반영되지 않습니다\n",
    "- 참고로, fetchone() 함수를 사용한 후 pandas를 사용해 결과를 데이터프레임으로 변경하기 위해서는\n",
    "    result = pd.DataFrame(result, index=[0]) 로 인덱스를 명시해주어야 에러가 나지 않고 올바르게 리턴됩니다."
   ]
  },
  {
   "attachments": {},
   "cell_type": "markdown",
   "id": "7de5c127",
   "metadata": {},
   "source": [
    "### 데이터 변경\n",
    "    sql = '''UPDATE `busan-jibun`\n",
    "      SET 시도명 = '부산광역시', 시군구명 = '해운대구'\n",
    "      WHERE 시도명 != '부산광역시';'''\n",
    "    cursor.execute(sql)\n",
    "    juso_db.commit()\n",
    "\n",
    "- "
   ]
  },
  {
   "attachments": {},
   "cell_type": "markdown",
   "id": "0fe407dd",
   "metadata": {},
   "source": [
    "### 데이터 삭제\n",
    "    sql = '''DELETE FROM `busan-jibun`\n",
    "      WHERE `법정동코드` IS NULL;'''\n",
    "    cursor.execute(sql)\n",
    "    juso_db.commit()\n",
    "- "
   ]
  },
  {
   "attachments": {},
   "cell_type": "markdown",
   "id": "e4d60cbc",
   "metadata": {},
   "source": [
    "## execute()/executemany()에 Placeholder 사용하기"
   ]
  },
  {
   "attachments": {},
   "cell_type": "markdown",
   "id": "6dfc4f9e",
   "metadata": {},
   "source": [
    "1. Placeholder란? \n",
    "- 동적 SQL문을 구성할 때 중요하게 사용할 수 있는 기능\n",
    "- 동적 값이 들어갈 위치에 %s를 이용해 SQL문을 만들어 놓고,\n",
    "- execute() 계열 메서드 첫번째 파라미터에는 SQL을, 두번째 파라미터에는 실제 데이터를 리스트나 튜플 형태로 넣어주면 된다.\n",
    "\n",
    "        excute(SQL, a-data)\n",
    "        executemany(SQL, multiple-data)\n",
    "- 하나의 데이터에만 적용시키려면 execute()\n",
    "- 여러개의 데이터를 한 번에 대량으로 적용시키려면 executemany()\n",
    "\n",
    "2. Placeholder 특징\n",
    "- 두번째 파라미터에 들어간 데이터 순서대로 SQL이 적용되고,\n",
    "- 특히 문자의 경우 따옴표 등의 특수문자들이 자동으로 이스케이프 되어 처리됨\n",
    "- 문자열, 숫자 등에 관계 없이 대치할 값은 모두 %s로 쓰인다. (일반 문자열에서 사용하는 %s, %d와는 다름)\n",
    "- %s는 칼럼 값을 대치할 때만 사용할 수 있음"
   ]
  },
  {
   "cell_type": "code",
   "execution_count": 5,
   "id": "975faece",
   "metadata": {},
   "outputs": [],
   "source": [
    "def inser_db(data):\n",
    "    sql = f\"insert into test(sensing) values ('{data}')\"\n",
    "    curs.execute(sql)\n",
    "    conn.commit()\n",
    "    \n",
    "def select_db():\n",
    "    sql = \"select * from user\"\n",
    "    curs.execute(sql)\n",
    "    result = curs.fetchall()\n",
    "    print(result)\n",
    "    return result"
   ]
  },
  {
   "cell_type": "code",
   "execution_count": 6,
   "id": "8aeb0adb",
   "metadata": {},
   "outputs": [
    {
     "ename": "ProgrammingError",
     "evalue": "(1146, \"Table 'mysql.test' doesn't exist\")",
     "output_type": "error",
     "traceback": [
      "\u001b[0;31m---------------------------------------------------------------------------\u001b[0m",
      "\u001b[0;31mProgrammingError\u001b[0m                          Traceback (most recent call last)",
      "\u001b[1;32m/Users/choiyungyu/Library/Mobile Documents/com~apple~CloudDocs/AI-school/01. Python Basic/Flask/Flask03_Database.ipynb 셀 22\u001b[0m in \u001b[0;36m<cell line: 1>\u001b[0;34m()\u001b[0m\n\u001b[0;32m----> <a href='vscode-notebook-cell:/Users/choiyungyu/Library/Mobile%20Documents/com~apple~CloudDocs/AI-school/01.%20Python%20Basic/Flask/Flask03_Database.ipynb#X31sZmlsZQ%3D%3D?line=0'>1</a>\u001b[0m select_db()\n",
      "\u001b[1;32m/Users/choiyungyu/Library/Mobile Documents/com~apple~CloudDocs/AI-school/01. Python Basic/Flask/Flask03_Database.ipynb 셀 22\u001b[0m in \u001b[0;36mselect_db\u001b[0;34m()\u001b[0m\n\u001b[1;32m      <a href='vscode-notebook-cell:/Users/choiyungyu/Library/Mobile%20Documents/com~apple~CloudDocs/AI-school/01.%20Python%20Basic/Flask/Flask03_Database.ipynb#X31sZmlsZQ%3D%3D?line=5'>6</a>\u001b[0m \u001b[39mdef\u001b[39;00m \u001b[39mselect_db\u001b[39m():\n\u001b[1;32m      <a href='vscode-notebook-cell:/Users/choiyungyu/Library/Mobile%20Documents/com~apple~CloudDocs/AI-school/01.%20Python%20Basic/Flask/Flask03_Database.ipynb#X31sZmlsZQ%3D%3D?line=6'>7</a>\u001b[0m     sql \u001b[39m=\u001b[39m \u001b[39m\"\u001b[39m\u001b[39mselect * from test\u001b[39m\u001b[39m\"\u001b[39m\n\u001b[0;32m----> <a href='vscode-notebook-cell:/Users/choiyungyu/Library/Mobile%20Documents/com~apple~CloudDocs/AI-school/01.%20Python%20Basic/Flask/Flask03_Database.ipynb#X31sZmlsZQ%3D%3D?line=7'>8</a>\u001b[0m     curs\u001b[39m.\u001b[39;49mexecute(sql)\n\u001b[1;32m      <a href='vscode-notebook-cell:/Users/choiyungyu/Library/Mobile%20Documents/com~apple~CloudDocs/AI-school/01.%20Python%20Basic/Flask/Flask03_Database.ipynb#X31sZmlsZQ%3D%3D?line=8'>9</a>\u001b[0m     result \u001b[39m=\u001b[39m curs\u001b[39m.\u001b[39mfetchall()\n\u001b[1;32m     <a href='vscode-notebook-cell:/Users/choiyungyu/Library/Mobile%20Documents/com~apple~CloudDocs/AI-school/01.%20Python%20Basic/Flask/Flask03_Database.ipynb#X31sZmlsZQ%3D%3D?line=9'>10</a>\u001b[0m     \u001b[39mprint\u001b[39m(result)\n",
      "File \u001b[0;32m/Library/Frameworks/Python.framework/Versions/3.10/lib/python3.10/site-packages/pymysql/cursors.py:148\u001b[0m, in \u001b[0;36mCursor.execute\u001b[0;34m(self, query, args)\u001b[0m\n\u001b[1;32m    144\u001b[0m     \u001b[39mpass\u001b[39;00m\n\u001b[1;32m    146\u001b[0m query \u001b[39m=\u001b[39m \u001b[39mself\u001b[39m\u001b[39m.\u001b[39mmogrify(query, args)\n\u001b[0;32m--> 148\u001b[0m result \u001b[39m=\u001b[39m \u001b[39mself\u001b[39;49m\u001b[39m.\u001b[39;49m_query(query)\n\u001b[1;32m    149\u001b[0m \u001b[39mself\u001b[39m\u001b[39m.\u001b[39m_executed \u001b[39m=\u001b[39m query\n\u001b[1;32m    150\u001b[0m \u001b[39mreturn\u001b[39;00m result\n",
      "File \u001b[0;32m/Library/Frameworks/Python.framework/Versions/3.10/lib/python3.10/site-packages/pymysql/cursors.py:310\u001b[0m, in \u001b[0;36mCursor._query\u001b[0;34m(self, q)\u001b[0m\n\u001b[1;32m    308\u001b[0m \u001b[39mself\u001b[39m\u001b[39m.\u001b[39m_last_executed \u001b[39m=\u001b[39m q\n\u001b[1;32m    309\u001b[0m \u001b[39mself\u001b[39m\u001b[39m.\u001b[39m_clear_result()\n\u001b[0;32m--> 310\u001b[0m conn\u001b[39m.\u001b[39;49mquery(q)\n\u001b[1;32m    311\u001b[0m \u001b[39mself\u001b[39m\u001b[39m.\u001b[39m_do_get_result()\n\u001b[1;32m    312\u001b[0m \u001b[39mreturn\u001b[39;00m \u001b[39mself\u001b[39m\u001b[39m.\u001b[39mrowcount\n",
      "File \u001b[0;32m/Library/Frameworks/Python.framework/Versions/3.10/lib/python3.10/site-packages/pymysql/connections.py:548\u001b[0m, in \u001b[0;36mConnection.query\u001b[0;34m(self, sql, unbuffered)\u001b[0m\n\u001b[1;32m    546\u001b[0m     sql \u001b[39m=\u001b[39m sql\u001b[39m.\u001b[39mencode(\u001b[39mself\u001b[39m\u001b[39m.\u001b[39mencoding, \u001b[39m\"\u001b[39m\u001b[39msurrogateescape\u001b[39m\u001b[39m\"\u001b[39m)\n\u001b[1;32m    547\u001b[0m \u001b[39mself\u001b[39m\u001b[39m.\u001b[39m_execute_command(COMMAND\u001b[39m.\u001b[39mCOM_QUERY, sql)\n\u001b[0;32m--> 548\u001b[0m \u001b[39mself\u001b[39m\u001b[39m.\u001b[39m_affected_rows \u001b[39m=\u001b[39m \u001b[39mself\u001b[39;49m\u001b[39m.\u001b[39;49m_read_query_result(unbuffered\u001b[39m=\u001b[39;49munbuffered)\n\u001b[1;32m    549\u001b[0m \u001b[39mreturn\u001b[39;00m \u001b[39mself\u001b[39m\u001b[39m.\u001b[39m_affected_rows\n",
      "File \u001b[0;32m/Library/Frameworks/Python.framework/Versions/3.10/lib/python3.10/site-packages/pymysql/connections.py:775\u001b[0m, in \u001b[0;36mConnection._read_query_result\u001b[0;34m(self, unbuffered)\u001b[0m\n\u001b[1;32m    773\u001b[0m \u001b[39melse\u001b[39;00m:\n\u001b[1;32m    774\u001b[0m     result \u001b[39m=\u001b[39m MySQLResult(\u001b[39mself\u001b[39m)\n\u001b[0;32m--> 775\u001b[0m     result\u001b[39m.\u001b[39;49mread()\n\u001b[1;32m    776\u001b[0m \u001b[39mself\u001b[39m\u001b[39m.\u001b[39m_result \u001b[39m=\u001b[39m result\n\u001b[1;32m    777\u001b[0m \u001b[39mif\u001b[39;00m result\u001b[39m.\u001b[39mserver_status \u001b[39mis\u001b[39;00m \u001b[39mnot\u001b[39;00m \u001b[39mNone\u001b[39;00m:\n",
      "File \u001b[0;32m/Library/Frameworks/Python.framework/Versions/3.10/lib/python3.10/site-packages/pymysql/connections.py:1156\u001b[0m, in \u001b[0;36mMySQLResult.read\u001b[0;34m(self)\u001b[0m\n\u001b[1;32m   1154\u001b[0m \u001b[39mdef\u001b[39;00m \u001b[39mread\u001b[39m(\u001b[39mself\u001b[39m):\n\u001b[1;32m   1155\u001b[0m     \u001b[39mtry\u001b[39;00m:\n\u001b[0;32m-> 1156\u001b[0m         first_packet \u001b[39m=\u001b[39m \u001b[39mself\u001b[39;49m\u001b[39m.\u001b[39;49mconnection\u001b[39m.\u001b[39;49m_read_packet()\n\u001b[1;32m   1158\u001b[0m         \u001b[39mif\u001b[39;00m first_packet\u001b[39m.\u001b[39mis_ok_packet():\n\u001b[1;32m   1159\u001b[0m             \u001b[39mself\u001b[39m\u001b[39m.\u001b[39m_read_ok_packet(first_packet)\n",
      "File \u001b[0;32m/Library/Frameworks/Python.framework/Versions/3.10/lib/python3.10/site-packages/pymysql/connections.py:725\u001b[0m, in \u001b[0;36mConnection._read_packet\u001b[0;34m(self, packet_type)\u001b[0m\n\u001b[1;32m    723\u001b[0m     \u001b[39mif\u001b[39;00m \u001b[39mself\u001b[39m\u001b[39m.\u001b[39m_result \u001b[39mis\u001b[39;00m \u001b[39mnot\u001b[39;00m \u001b[39mNone\u001b[39;00m \u001b[39mand\u001b[39;00m \u001b[39mself\u001b[39m\u001b[39m.\u001b[39m_result\u001b[39m.\u001b[39munbuffered_active \u001b[39mis\u001b[39;00m \u001b[39mTrue\u001b[39;00m:\n\u001b[1;32m    724\u001b[0m         \u001b[39mself\u001b[39m\u001b[39m.\u001b[39m_result\u001b[39m.\u001b[39munbuffered_active \u001b[39m=\u001b[39m \u001b[39mFalse\u001b[39;00m\n\u001b[0;32m--> 725\u001b[0m     packet\u001b[39m.\u001b[39;49mraise_for_error()\n\u001b[1;32m    726\u001b[0m \u001b[39mreturn\u001b[39;00m packet\n",
      "File \u001b[0;32m/Library/Frameworks/Python.framework/Versions/3.10/lib/python3.10/site-packages/pymysql/protocol.py:221\u001b[0m, in \u001b[0;36mMysqlPacket.raise_for_error\u001b[0;34m(self)\u001b[0m\n\u001b[1;32m    219\u001b[0m \u001b[39mif\u001b[39;00m DEBUG:\n\u001b[1;32m    220\u001b[0m     \u001b[39mprint\u001b[39m(\u001b[39m\"\u001b[39m\u001b[39merrno =\u001b[39m\u001b[39m\"\u001b[39m, errno)\n\u001b[0;32m--> 221\u001b[0m err\u001b[39m.\u001b[39;49mraise_mysql_exception(\u001b[39mself\u001b[39;49m\u001b[39m.\u001b[39;49m_data)\n",
      "File \u001b[0;32m/Library/Frameworks/Python.framework/Versions/3.10/lib/python3.10/site-packages/pymysql/err.py:143\u001b[0m, in \u001b[0;36mraise_mysql_exception\u001b[0;34m(data)\u001b[0m\n\u001b[1;32m    141\u001b[0m \u001b[39mif\u001b[39;00m errorclass \u001b[39mis\u001b[39;00m \u001b[39mNone\u001b[39;00m:\n\u001b[1;32m    142\u001b[0m     errorclass \u001b[39m=\u001b[39m InternalError \u001b[39mif\u001b[39;00m errno \u001b[39m<\u001b[39m \u001b[39m1000\u001b[39m \u001b[39melse\u001b[39;00m OperationalError\n\u001b[0;32m--> 143\u001b[0m \u001b[39mraise\u001b[39;00m errorclass(errno, errval)\n",
      "\u001b[0;31mProgrammingError\u001b[0m: (1146, \"Table 'mysql.test' doesn't exist\")"
     ]
    }
   ],
   "source": [
    "select_db()"
   ]
  },
  {
   "cell_type": "code",
   "execution_count": 16,
   "id": "a6b7ca7a",
   "metadata": {},
   "outputs": [
    {
     "name": "stdout",
     "output_type": "stream",
     "text": [
      " * Serving Flask app \"__main__\" (lazy loading)\n",
      " * Environment: production\n",
      "\u001b[31m   WARNING: This is a development server. Do not use it in a production deployment.\u001b[0m\n",
      "\u001b[2m   Use a production WSGI server instead.\u001b[0m\n",
      " * Debug mode: off\n"
     ]
    },
    {
     "name": "stderr",
     "output_type": "stream",
     "text": [
      " * Running on http://192.168.30.47:5025/ (Press CTRL+C to quit)\n",
      "192.168.30.47 - - [16/Aug/2022 16:55:12] \"GET / HTTP/1.1\" 200 -\n"
     ]
    }
   ],
   "source": [
    "app = Flask(__name__)\n",
    "\n",
    "@app.route('/')\n",
    "def root():\n",
    "    return 'mainpage'\n",
    "\n",
    "@app.route('/insert', methods=['GET'])\n",
    "def insert():\n",
    "    if request.method == 'GET':\n",
    "        data = request.args['data']\n",
    "        \n",
    "        print(data)\n",
    "        insert_db(data)\n",
    "    return '데이터 삽입 성공'\n",
    "\n",
    "@app.route('/select')\n",
    "def select():\n",
    "    result = select_db()\n",
    "    print(result)\n",
    "    return '데이터 출력 성공'\n",
    "\n",
    "if __name__ == '__main__':\n",
    "    app.run(host='192.168.30.47', port=5025)"
   ]
  }
 ],
 "metadata": {
  "kernelspec": {
   "display_name": "Python 3.10.5 64-bit",
   "language": "python",
   "name": "python3"
  },
  "language_info": {
   "codemirror_mode": {
    "name": "ipython",
    "version": 3
   },
   "file_extension": ".py",
   "mimetype": "text/x-python",
   "name": "python",
   "nbconvert_exporter": "python",
   "pygments_lexer": "ipython3",
   "version": "3.10.5"
  },
  "toc": {
   "base_numbering": 1,
   "nav_menu": {},
   "number_sections": true,
   "sideBar": true,
   "skip_h1_title": false,
   "title_cell": "Table of Contents",
   "title_sidebar": "Contents",
   "toc_cell": false,
   "toc_position": {},
   "toc_section_display": true,
   "toc_window_display": true
  },
  "vscode": {
   "interpreter": {
    "hash": "aee8b7b246df8f9039afb4144a1f6fd8d2ca17a180786b69acc140d282b71a49"
   }
  }
 },
 "nbformat": 4,
 "nbformat_minor": 5
}
