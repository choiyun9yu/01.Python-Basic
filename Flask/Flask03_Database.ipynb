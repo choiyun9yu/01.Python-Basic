{
 "cells": [
  {
   "attachments": {},
   "cell_type": "markdown",
   "id": "253f993d",
   "metadata": {},
   "source": [
    "## 라이브러리 설치 및 모듈 삽입"
   ]
  },
  {
   "cell_type": "code",
   "execution_count": 4,
   "id": "21d44a4e",
   "metadata": {},
   "outputs": [
    {
     "name": "stdout",
     "output_type": "stream",
     "text": [
      "Collecting package metadata (current_repodata.json): done\n",
      "Solving environment: \\ \n",
      "The environment is inconsistent, please check the package plan carefully\n",
      "The following packages are causing the inconsistency:\n",
      "\n",
      "  - defaults/noarch::smart_open==5.1.0=pyhd3eb1b0_0\n",
      "  - defaults/noarch::google-cloud-core==1.7.1=pyhd3eb1b0_0\n",
      "  - defaults/osx-64::anaconda==2022.05=py39_0\n",
      "  - defaults/osx-64::googleapis-common-protos==1.53.0=py39hecd8cb5_0\n",
      "  - defaults/osx-64::gensim==4.1.2=py39he9d5cce_0\n",
      "  - defaults/noarch::google-api-core==1.25.1=pyhd3eb1b0_0\n",
      "  - defaults/noarch::google-cloud-storage==1.31.0=py_0\n",
      "done\n",
      "\n",
      "## Package Plan ##\n",
      "\n",
      "  environment location: /Users/choiyungyu/opt/anaconda3\n",
      "\n",
      "  added / updated specs:\n",
      "    - pymysql\n",
      "\n",
      "\n",
      "The following packages will be downloaded:\n",
      "\n",
      "    package                    |            build\n",
      "    ---------------------------|-----------------\n",
      "    _anaconda_depends-2022.05  |           py39_0           7 KB\n",
      "    anaconda-custom            |           py39_1           4 KB\n",
      "    ca-certificates-2022.10.11 |       hecd8cb5_0         125 KB\n",
      "    certifi-2022.12.7          |   py39hecd8cb5_0         151 KB\n",
      "    conda-22.11.1              |   py39hecd8cb5_4         941 KB\n",
      "    libprotobuf-3.20.1         |       h8346a28_0         1.8 MB\n",
      "    openssl-1.1.1s             |       hca72f7f_0         2.8 MB\n",
      "    protobuf-3.20.1            |   py39he9d5cce_0         279 KB\n",
      "    pymysql-1.0.2              |   py39hecd8cb5_1          78 KB\n",
      "    ruamel.yaml-0.17.21        |   py39hca72f7f_0         179 KB\n",
      "    ruamel.yaml.clib-0.2.6     |   py39hca72f7f_1         126 KB\n",
      "    ------------------------------------------------------------\n",
      "                                           Total:         6.5 MB\n",
      "\n",
      "The following NEW packages will be INSTALLED:\n",
      "\n",
      "  _anaconda_depends  pkgs/main/osx-64::_anaconda_depends-2022.05-py39_0\n",
      "  protobuf           pkgs/main/osx-64::protobuf-3.20.1-py39he9d5cce_0\n",
      "  pymysql            pkgs/main/osx-64::pymysql-1.0.2-py39hecd8cb5_1\n",
      "  ruamel.yaml        pkgs/main/osx-64::ruamel.yaml-0.17.21-py39hca72f7f_0\n",
      "  ruamel.yaml.clib   pkgs/main/osx-64::ruamel.yaml.clib-0.2.6-py39hca72f7f_1\n",
      "\n",
      "The following packages will be UPDATED:\n",
      "\n",
      "  ca-certificates                      2022.3.29-hecd8cb5_1 --> 2022.10.11-hecd8cb5_0\n",
      "  certifi                          2021.10.8-py39hecd8cb5_2 --> 2022.12.7-py39hecd8cb5_0\n",
      "  conda                               4.13.0-py39hecd8cb5_0 --> 22.11.1-py39hecd8cb5_4\n",
      "  libprotobuf                             3.19.1-h8346a28_0 --> 3.20.1-h8346a28_0\n",
      "  openssl                                 1.1.1n-hca72f7f_0 --> 1.1.1s-hca72f7f_0\n",
      "\n",
      "The following packages will be DOWNGRADED:\n",
      "\n",
      "  anaconda                                   2022.05-py39_0 --> custom-py39_1\n",
      "\n",
      "\n",
      "\n",
      "Downloading and Extracting Packages\n",
      "protobuf-3.20.1      | 279 KB    | ##################################### | 100% \n",
      "_anaconda_depends-20 | 7 KB      | ##################################### | 100% \n",
      "ca-certificates-2022 | 125 KB    | ##################################### | 100% \n",
      "ruamel.yaml.clib-0.2 | 126 KB    | ##################################### | 100% \n",
      "openssl-1.1.1s       | 2.8 MB    | ##################################### | 100% \n",
      "pymysql-1.0.2        | 78 KB     | ##################################### | 100% \n",
      "libprotobuf-3.20.1   | 1.8 MB    | ##################################### | 100% \n",
      "certifi-2022.12.7    | 151 KB    | ##################################### | 100% \n",
      "conda-22.11.1        | 941 KB    | ##################################### | 100% \n",
      "anaconda-custom      | 4 KB      | ##################################### | 100% \n",
      "ruamel.yaml-0.17.21  | 179 KB    | ##################################### | 100% \n",
      "Preparing transaction: done\n",
      "Verifying transaction: done\n",
      "Executing transaction: done\n"
     ]
    }
   ],
   "source": [
    "!conda install pymysql -y"
   ]
  },
  {
   "cell_type": "code",
   "execution_count": 5,
   "id": "22d74081",
   "metadata": {
    "collapsed": true
   },
   "outputs": [],
   "source": [
    "from flask import Flask, request\n",
    "import pymysql as ps"
   ]
  },
  {
   "attachments": {},
   "cell_type": "markdown",
   "id": "e0d926d5",
   "metadata": {},
   "source": [
    "## 모듈 사용"
   ]
  },
  {
   "cell_type": "code",
   "execution_count": null,
   "id": "f983b8c6",
   "metadata": {},
   "outputs": [],
   "source": [
    "# .py 파일을 만들어서 모듈을 직접 만들어도 됨"
   ]
  },
  {
   "cell_type": "code",
   "execution_count": 1,
   "id": "5d6b4522",
   "metadata": {},
   "outputs": [
    {
     "name": "stderr",
     "output_type": "stream",
     "text": [
      "UsageError: Line magic function `%%writefile` not found.\n"
     ]
    }
   ],
   "source": [
    "# 주피터 노트북에서 치면 py파일 만들어서 모듈화시켜주는 코드\n",
    "%%writefile ./파일명.py \n",
    "\n",
    "import os\n",
    "import pandas as pd\n",
    "from datetime import datetime, timedelta\n",
    "import time\n",
    "from sqlalchemy import create_engine\n",
    "from flask import Flask, request, redirect, jsonify, send_from_directory\n",
    "from flask_cors import CORS, cross_origin\n",
    "import pymysql as ps\n",
    "\n",
    "def con():\n",
    "    conn = ps.connect(host='localhost', user='root', passwd='12345', db='aqu4men')\n",
    "    return conn\n",
    "\n",
    "def insert_db(table, calumns, values):\n",
    "    conn = con()\n",
    "    curs = conn.cursor()\n",
    "    sql = f\"insert into {table} {calumns} values {values};\"\n",
    "    curs.execute(sql)\n",
    "    conn.commit()\n",
    "    curs.close()\n",
    "    conn.close()\n",
    "    return sql\n",
    "\n",
    "def select_db(calumn,table, where):\n",
    "    conn = con()\n",
    "    curs = conn.cursor()\n",
    "    sql = f\"selet {calumn} from {table} where {where} \"\n",
    "    curs.execute(sql)\n",
    "    result = curs.fetchall()\n",
    "    print(result)\n",
    "    curs.close()\n",
    "    conn.close()\n",
    "    return sql"
   ]
  },
  {
   "cell_type": "code",
   "execution_count": null,
   "id": "e47f73f8",
   "metadata": {},
   "outputs": [],
   "source": [
    "# 모듈 삽입\n",
    "import db_module as db"
   ]
  },
  {
   "attachments": {},
   "cell_type": "markdown",
   "id": "b5c2fa1b",
   "metadata": {},
   "source": [
    "## DB와 FLASK 연결"
   ]
  },
  {
   "cell_type": "code",
   "execution_count": 5,
   "id": "127c8cf7",
   "metadata": {},
   "outputs": [],
   "source": [
    "conn = ps.connect(host='localhost', user='root', passwd='12345', db='aqu4men') \n",
    "#DB연결 (호스트, 사용자명, 비밀번호, 데이터베이스) MariaDB host내 DB와 직접 연결\n",
    "#user: user name / passwd: 설정한 패스워드 / host: DB가 존재하는 host / db: 연결할 데이터베이스 이름 / charset: 인코딩 설정"
   ]
  },
  {
   "attachments": {},
   "cell_type": "markdown",
   "id": "d145c00a",
   "metadata": {},
   "source": [
    "## 커서 생성"
   ]
  },
  {
   "attachments": {},
   "cell_type": "markdown",
   "id": "d3f5832c",
   "metadata": {},
   "source": [
    "- 연결한 DB와 상호작용하기 위해 cursor 객체를 생성\n",
    "- 커서를 꼭 닫아야 다른 경로에서 Database 조작 가능"
   ]
  },
  {
   "cell_type": "code",
   "execution_count": null,
   "id": "8b43cec3",
   "metadata": {},
   "outputs": [],
   "source": [
    "curs = conn.cursor()  #일반 cursor는 튜플형태로 값 반환)\n",
    "#cursor = juso_db.cursor(pymysql.cursors.DictCursor) <- 데이터프레임 형태로 결과를 쉽게 변환할 수 있도록 딕셔너리 형태로 결과를 반환해주는 DictCursor"
   ]
  },
  {
   "attachments": {},
   "cell_type": "markdown",
   "id": "90679c9e",
   "metadata": {},
   "source": [
    "## 데이터 조작"
   ]
  },
  {
   "cell_type": "markdown",
   "id": "e39f42cf",
   "metadata": {},
   "source": [
    "- PyMySQL의 모든 데이터 조작은 execute()와 fetch() 계열을 사용\n",
    "- fetchall() : 모든 데이터를 한 번에 가져올 때 사용\n",
    "- fetchone() : 한 번 호출에 하나의 행만 가져올 때 사용\n",
    "- fetchmany(n) : n개만큼의 데이터를 가져올 때 사용"
   ]
  },
  {
   "attachments": {},
   "cell_type": "markdown",
   "id": "974190c2",
   "metadata": {},
   "source": [
    "### 데이터 조회\n",
    "     sql = \"SELECT * FROM `busan-jibun`;\"\n",
    "     cursor.execute(sql)\n",
    "     result = cursor.fetchall()\n",
    "- SELECT 명령을 위해 SQL 문을 따로 변수에 넣어주고 cursor.execute(sql) 을 사용해 SQL를 실행합니다. 실행한 결과를 fetchall()을 이용해 받아옵니다."
   ]
  },
  {
   "attachments": {},
   "cell_type": "markdown",
   "id": "3427b21b",
   "metadata": {},
   "source": [
    "### 데이터 삽입\n",
    "    sql = '''INSERT INTO `busan-jibun` (관리번호, 일련번호, 시도명, 시군구명) \n",
    "           VALUES ('1234567891234567891234567', '1', '서울특별시', '강남구');'''\n",
    "    cursor.execute(sql)\n",
    "    juso_db.commit()\n",
    "    \n",
    "- execute()를 이용해 INSERT 쿼리를 실행한 후, commit()을 날려줍니다.\n",
    "- 커밋을 날리지 않으면 execute()를 아무리 해도 결과가 DB에 반영되지 않습니다\n",
    "- 참고로, fetchone() 함수를 사용한 후 pandas를 사용해 결과를 데이터프레임으로 변경하기 위해서는\n",
    "    result = pd.DataFrame(result, index=[0]) 로 인덱스를 명시해주어야 에러가 나지 않고 올바르게 리턴됩니다."
   ]
  },
  {
   "attachments": {},
   "cell_type": "markdown",
   "id": "7de5c127",
   "metadata": {},
   "source": [
    "### 데이터 변경\n",
    "    sql = '''UPDATE `busan-jibun`\n",
    "      SET 시도명 = '부산광역시', 시군구명 = '해운대구'\n",
    "      WHERE 시도명 != '부산광역시';'''\n",
    "    cursor.execute(sql)\n",
    "    juso_db.commit()\n",
    "\n",
    "- "
   ]
  },
  {
   "attachments": {},
   "cell_type": "markdown",
   "id": "0fe407dd",
   "metadata": {},
   "source": [
    "### 데이터 삭제\n",
    "    sql = '''DELETE FROM `busan-jibun`\n",
    "      WHERE `법정동코드` IS NULL;'''\n",
    "    cursor.execute(sql)\n",
    "    juso_db.commit()\n",
    "- "
   ]
  },
  {
   "attachments": {},
   "cell_type": "markdown",
   "id": "e4d60cbc",
   "metadata": {},
   "source": [
    "## execute()/executemany()에 Placeholder 사용하기"
   ]
  },
  {
   "attachments": {},
   "cell_type": "markdown",
   "id": "6dfc4f9e",
   "metadata": {},
   "source": [
    "1. Placeholder란? \n",
    "- 동적 SQL문을 구성할 때 중요하게 사용할 수 있는 기능\n",
    "- 동적 값이 들어갈 위치에 %s를 이용해 SQL문을 만들어 놓고,\n",
    "- execute() 계열 메서드 첫번째 파라미터에는 SQL을, 두번째 파라미터에는 실제 데이터를 리스트나 튜플 형태로 넣어주면 된다.\n",
    "\n",
    "        excute(SQL, a-data)\n",
    "        executemany(SQL, multiple-data)\n",
    "- 하나의 데이터에만 적용시키려면 execute()\n",
    "- 여러개의 데이터를 한 번에 대량으로 적용시키려면 executemany()\n",
    "\n",
    "2. Placeholder 특징\n",
    "- 두번째 파라미터에 들어간 데이터 순서대로 SQL이 적용되고,\n",
    "- 특히 문자의 경우 따옴표 등의 특수문자들이 자동으로 이스케이프 되어 처리됨\n",
    "- 문자열, 숫자 등에 관계 없이 대치할 값은 모두 %s로 쓰인다. (일반 문자열에서 사용하는 %s, %d와는 다름)\n",
    "- %s는 칼럼 값을 대치할 때만 사용할 수 있음"
   ]
  },
  {
   "cell_type": "code",
   "execution_count": null,
   "id": "975faece",
   "metadata": {},
   "outputs": [],
   "source": [
    "def inser_db(data):\n",
    "    sql = f\"insert into test(sensing) values ('{data}')\"\n",
    "    curs.execute(sql)\n",
    "    conn.commit()\n",
    "    \n",
    "def select_db():\n",
    "    sql = \"select * from test\"\n",
    "    curs.execute(sql)\n",
    "    result = curs.fetchall()\n",
    "    print(result)\n",
    "    return result"
   ]
  },
  {
   "cell_type": "code",
   "execution_count": 16,
   "id": "a6b7ca7a",
   "metadata": {},
   "outputs": [
    {
     "name": "stdout",
     "output_type": "stream",
     "text": [
      " * Serving Flask app \"__main__\" (lazy loading)\n",
      " * Environment: production\n",
      "\u001b[31m   WARNING: This is a development server. Do not use it in a production deployment.\u001b[0m\n",
      "\u001b[2m   Use a production WSGI server instead.\u001b[0m\n",
      " * Debug mode: off\n"
     ]
    },
    {
     "name": "stderr",
     "output_type": "stream",
     "text": [
      " * Running on http://192.168.30.47:5025/ (Press CTRL+C to quit)\n",
      "192.168.30.47 - - [16/Aug/2022 16:55:12] \"GET / HTTP/1.1\" 200 -\n"
     ]
    }
   ],
   "source": [
    "app = Flask(__name__)\n",
    "\n",
    "@app.route('/')\n",
    "def root():\n",
    "    return 'mainpage'\n",
    "\n",
    "@app.route('/insert', methods=['GET'])\n",
    "def insert():\n",
    "    if request.method == 'GET':\n",
    "        data = request.args['data']\n",
    "        \n",
    "        print(data)\n",
    "        insert_db(data)\n",
    "    return '데이터 삽입 성공'\n",
    "\n",
    "@app.route('/select')\n",
    "def select():\n",
    "    result = select_db()\n",
    "    print(result)\n",
    "    return '데이터 출력 성공'\n",
    "\n",
    "if __name__ == '__main__':\n",
    "    app.run(host='192.168.30.47', port=5025)"
   ]
  }
 ],
 "metadata": {
  "kernelspec": {
   "display_name": "Python 3.10.5 64-bit",
   "language": "python",
   "name": "python3"
  },
  "language_info": {
   "codemirror_mode": {
    "name": "ipython",
    "version": 3
   },
   "file_extension": ".py",
   "mimetype": "text/x-python",
   "name": "python",
   "nbconvert_exporter": "python",
   "pygments_lexer": "ipython3",
   "version": "3.10.5"
  },
  "toc": {
   "base_numbering": 1,
   "nav_menu": {},
   "number_sections": true,
   "sideBar": true,
   "skip_h1_title": false,
   "title_cell": "Table of Contents",
   "title_sidebar": "Contents",
   "toc_cell": false,
   "toc_position": {},
   "toc_section_display": true,
   "toc_window_display": true
  },
  "vscode": {
   "interpreter": {
    "hash": "aee8b7b246df8f9039afb4144a1f6fd8d2ca17a180786b69acc140d282b71a49"
   }
  }
 },
 "nbformat": 4,
 "nbformat_minor": 5
}
