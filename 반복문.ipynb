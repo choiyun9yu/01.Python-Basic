{
 "cells": [
  {
   "cell_type": "code",
   "execution_count": null,
   "id": "b2134dfc",
   "metadata": {},
   "outputs": [],
   "source": [
    "num = 1\n",
    "while num <= 3:\n",
    "    print(num)\n",
    "    num+=1"
   ]
  },
  {
   "cell_type": "code",
   "execution_count": null,
   "id": "4de36cfb",
   "metadata": {},
   "outputs": [],
   "source": [
    "num = 0\n",
    "while num < 10:\n",
    "    print(\"파이썬 최고!!\")\n",
    "    num += 1\n",
    "    break"
   ]
  },
  {
   "cell_type": "code",
   "execution_count": null,
   "id": "05abad5d",
   "metadata": {},
   "outputs": [],
   "source": [
    "while True:\n",
    "    print(\"무한루프\")\n",
    "    break"
   ]
  },
  {
   "cell_type": "code",
   "execution_count": null,
   "id": "40adf3bf",
   "metadata": {},
   "outputs": [],
   "source": [
    "num = 1\n",
    "while True:\n",
    "    print(num)\n",
    "    num += 1\n",
    "    if num > 3:\n",
    "        break"
   ]
  },
  {
   "cell_type": "code",
   "execution_count": null,
   "id": "26681314",
   "metadata": {},
   "outputs": [],
   "source": [
    "num =1\n",
    "while num <= 10:\n",
    "    print(f\"{num}번째 반복중..\")\n",
    "    if num >= 4:\n",
    "        print(\"여기서 부터는 num이 증가하지 않습니다..\")\n",
    "        continue\n",
    "    num +=1\n",
    "        "
   ]
  },
  {
   "cell_type": "code",
   "execution_count": null,
   "id": "c366200b",
   "metadata": {},
   "outputs": [],
   "source": [
    "while True:\n",
    "    a = input(\"이름 입력 >> \")\n",
    "    if a == '최성우':\n",
    "        print(\"최성우 멋지다!\")\n",
    "        break\n",
    "    print(f\"{a} 최고!\")\n",
    "\n"
   ]
  },
  {
   "cell_type": "code",
   "execution_count": null,
   "id": "5d418ea1",
   "metadata": {},
   "outputs": [],
   "source": [
    "while True:\n",
    "    a = int(input(\"첫 번째 정수 입력 >> \")) \n",
    "    b = int(input(\"두 번째 정수 입력 >> \"))\n",
    "    if a == 0 and b == 0:\n",
    "        print(\"프로그램이 종료되었습니다.\")\n",
    "        break\n",
    "    print(f\"두 정수의 합 : {a+b}\")\n"
   ]
  },
  {
   "cell_type": "code",
   "execution_count": null,
   "id": "58c09785",
   "metadata": {},
   "outputs": [],
   "source": [
    "num = 0\n",
    "w1 = int(input(\"현재 몸무게 : \"))\n",
    "w2 = int(input(\"목표 몸무게 : \"))\n",
    "\n",
    "while w1 >= w2:\n",
    "    num += 1\n",
    "    w3 = int(input(f\"{num}주차 감량 몸무게 : \"))\n",
    "    w1 -= w3\n",
    "print(f\"{w1}kg 달성!! 축하합니다!\")\n"
   ]
  },
  {
   "cell_type": "code",
   "execution_count": null,
   "id": "95130c19",
   "metadata": {},
   "outputs": [],
   "source": [
    "import random\n",
    "num = random.randint(1, 50)\n",
    "\n",
    "while True:\n",
    "    a = int(input(\"숫자를 입력하세요 : \"))\n",
    "    if num > a:\n",
    "        print(f\"{a}보다 큰 수 입니다.\")\n",
    "    elif num < a: \n",
    "        print(f\"{a}보다 작은 수 입니다.\")\n",
    "    else:\n",
    "        print(\"정답을 맞추셨습니다.\")\n",
    "        break\n",
    "        \n"
   ]
  },
  {
   "cell_type": "code",
   "execution_count": null,
   "id": "564bea52",
   "metadata": {},
   "outputs": [],
   "source": [
    "list_food = ['햄버거', '치킨', '피자']\n",
    "for food in list_food:\n",
    "    print(food)"
   ]
  },
  {
   "cell_type": "code",
   "execution_count": null,
   "id": "14ebcf7a",
   "metadata": {},
   "outputs": [],
   "source": [
    "hi = \"안녕하세요\"\n",
    "for s in hi:\n",
    "    print(s)"
   ]
  },
  {
   "cell_type": "code",
   "execution_count": null,
   "id": "580087cc",
   "metadata": {},
   "outputs": [],
   "source": [
    "tuple_food = (\"햄버거\", \"치킨\", \"피자\")\n",
    "for food in tuple_food:\n",
    "    print(food)"
   ]
  },
  {
   "cell_type": "code",
   "execution_count": null,
   "id": "62ab0795",
   "metadata": {},
   "outputs": [],
   "source": [
    "score_list = [90, 45, 70, 60, 55]\n",
    "num = 0\n",
    "for i in score_list:\n",
    "    num += 1\n",
    "    if i >= 60:\n",
    "        print(f\"{num}번 학생은 합격입니다.\")\n",
    "    else:\n",
    "        print(f\"{num}번 학생은 불합격입니다.\")"
   ]
  },
  {
   "cell_type": "code",
   "execution_count": null,
   "id": "d9b23cd9",
   "metadata": {},
   "outputs": [],
   "source": [
    "python_score = [57, 86, 63, 92, 35, 79]\n",
    "num = 0\n",
    "\n",
    "for i in python_score:\n",
    "    num += 1\n",
    "    if i >= 80:\n",
    "        print(f\"{num}번은 {i}점 이며, A등급 입니다.\")\n",
    "    elif i >= 60:\n",
    "        print(f\"{num}번은 {i}점 이며, B등급 입니다.\")\n",
    "    else:\n",
    "        print(f\"{num}번은 {i}점 이며, C등급 입니다.\")"
   ]
  },
  {
   "cell_type": "code",
   "execution_count": null,
   "id": "7786574d",
   "metadata": {},
   "outputs": [],
   "source": [
    "for i in range(1,10):\n",
    "    print(i, end=\" \" )"
   ]
  },
  {
   "cell_type": "code",
   "execution_count": null,
   "id": "c420d8db",
   "metadata": {},
   "outputs": [],
   "source": [
    "for i in range(97, 76, -1):\n",
    "    print(i, end=\" \")"
   ]
  },
  {
   "cell_type": "code",
   "execution_count": null,
   "id": "46c7ae90",
   "metadata": {},
   "outputs": [],
   "source": [
    "for i in range(23, 40, 1):\n",
    "    print(i, end=\" \")"
   ]
  },
  {
   "cell_type": "code",
   "execution_count": null,
   "id": "7b89a4bc",
   "metadata": {},
   "outputs": [],
   "source": [
    "for i in range(2,101,2):\n",
    "        print(i, end=\" \")"
   ]
  },
  {
   "cell_type": "code",
   "execution_count": null,
   "id": "e8b9783c",
   "metadata": {},
   "outputs": [],
   "source": [
    "for i in range(3,101,3):\n",
    "        print(i, end=\" \")"
   ]
  },
  {
   "cell_type": "code",
   "execution_count": null,
   "id": "add40c51",
   "metadata": {},
   "outputs": [],
   "source": [
    "list1 = [[1,2],[3,4],[5,6]]\n",
    "for i,j in list1:\n",
    "    print(i,j)"
   ]
  },
  {
   "cell_type": "code",
   "execution_count": null,
   "id": "6c90e769",
   "metadata": {},
   "outputs": [],
   "source": [
    "list2 = [4,5,2,1,99,15,2,7,27]\n",
    "\n",
    "for i in list2:    \n",
    "    a = list2[0]\n",
    "    b = list2[1]\n",
    "    if a > b:\n",
    "        del list2[1]\n",
    "    else:\n",
    "        del list2[0]\n",
    "\n",
    "    \n",
    "print(list2)"
   ]
  },
  {
   "cell_type": "code",
   "execution_count": null,
   "id": "60b6d448",
   "metadata": {
    "scrolled": true
   },
   "outputs": [],
   "source": [
    "list2 = [4,5,2,1,99,15,2,7,27]\n",
    "\n",
    "for i in list2:\n",
    "    print(\"i :\", i)\n",
    "    print(list2)\n",
    "    if list2[0] > list2[1]:\n",
    "        del list2[1]\n",
    "    else:\n",
    "        del list2[0]\n",
    "    print(list2)\n"
   ]
  },
  {
   "cell_type": "code",
   "execution_count": null,
   "id": "0748d842",
   "metadata": {},
   "outputs": [],
   "source": [
    "list2 = [4,5,2,1,99,15,2,7,27]\n",
    "\n",
    "for i in range(len(list2)-1):\n",
    "    if list2[0] > list2[1]:\n",
    "        del list2[1]\n",
    "    else:\n",
    "        del list2[0]\n",
    "    print(list2)\n",
    "print(list2)"
   ]
  },
  {
   "cell_type": "code",
   "execution_count": null,
   "id": "442e5d29",
   "metadata": {},
   "outputs": [],
   "source": [
    "list2 = [4,5,2,1,99,15,2,7,27]\n",
    "max_num = list2[0]\n",
    "\n",
    "for i in list2: \n",
    "    if i> max_num :\n",
    "      max_num = i\n",
    "\n",
    "print(max_num)\n"
   ]
  },
  {
   "cell_type": "code",
   "execution_count": null,
   "id": "f56e8608",
   "metadata": {},
   "outputs": [],
   "source": [
    "list2 = [4,5,2,1,99,15,2,7,27]\n",
    "min_num = list2[0]\n",
    "\n",
    "for i in list2: \n",
    "    if i< min_num :\n",
    "      min_num = i\n",
    "\n",
    "print(min_num)"
   ]
  },
  {
   "cell_type": "code",
   "execution_count": null,
   "id": "92b4dc79",
   "metadata": {},
   "outputs": [],
   "source": [
    "a=0\n",
    "for i in range(3, 101, 3):\n",
    "    a = a + i\n",
    "print(a)"
   ]
  },
  {
   "cell_type": "code",
   "execution_count": null,
   "id": "f393c19a",
   "metadata": {},
   "outputs": [],
   "source": [
    "for i in range(1,10):\n",
    "    print(f\"2 * {i} = {2*i}\")"
   ]
  },
  {
   "cell_type": "code",
   "execution_count": null,
   "id": "1c875c92",
   "metadata": {},
   "outputs": [],
   "source": [
    "num = int(input(\"정수 입력 >> \"))\n",
    "list2 = []\n",
    "for i in range(1,num+1):\n",
    "    if num % i == 0:\n",
    "        list2.append(i)\n",
    "\n",
    "print(f\"{num}의 약수 : {list2}\")"
   ]
  },
  {
   "cell_type": "code",
   "execution_count": null,
   "id": "e920bfb1",
   "metadata": {},
   "outputs": [],
   "source": [
    "num = int(input(\"정수 입력 >> \"))\n",
    "list2 = []\n",
    "\n",
    "for i in range(1,num+1):\n",
    "    if num % i == 0:\n",
    "        list2.append(i)\n",
    "print(f\"{num}의 약수\", end=\" \")\n",
    "for i in list2: \n",
    "    print(i, end=\" \")"
   ]
  },
  {
   "cell_type": "code",
   "execution_count": null,
   "id": "2638722f",
   "metadata": {},
   "outputs": [],
   "source": [
    "num = int(input(\"정수 입력 >> \"))\n",
    "result = \"\"\n",
    "\n",
    "for i in range(1,num+1):\n",
    "    if num % i == 0:\n",
    "        result += str(\"i \")\n",
    "print(f\"{num}의 약수 :\", end=\" \")\n",
    "for i in list2: print(i, end=\" \")"
   ]
  },
  {
   "cell_type": "code",
   "execution_count": null,
   "id": "e1e84db3",
   "metadata": {},
   "outputs": [],
   "source": [
    "num = int(input(\"정수 입력 >> \"))\n",
    "list2 = []\n",
    "\n",
    "for i in range(1,num+1):\n",
    "    if num % i == 0:\n",
    "        list2.append(i)\n",
    "print(f\"{num}의 약수 :\", *list2)"
   ]
  },
  {
   "cell_type": "code",
   "execution_count": null,
   "id": "570a80e3",
   "metadata": {},
   "outputs": [],
   "source": [
    "num = int(input(\"정수 입력 >> \"))\n",
    "\n",
    "print(f\"{num}의 약수:\", end=\" \")\n",
    "\n",
    "for i in range(1, num+1):\n",
    "    if num % i == 0:\n",
    "        print(i, end=\" \")"
   ]
  },
  {
   "cell_type": "code",
   "execution_count": null,
   "id": "29799722",
   "metadata": {},
   "outputs": [],
   "source": [
    "for i in range(7):\n",
    "    print('*'*i)"
   ]
  },
  {
   "cell_type": "code",
   "execution_count": null,
   "id": "2be66cdf",
   "metadata": {},
   "outputs": [],
   "source": [
    "line1 = int(input(\"줄 수 입력 >> \"))\n",
    "\n",
    "for i in range(0,line1+1):\n",
    "    print(\"*\"*i)"
   ]
  },
  {
   "cell_type": "code",
   "execution_count": null,
   "id": "c2ad106a",
   "metadata": {},
   "outputs": [],
   "source": [
    "a = 2\n",
    "\n",
    "for i in range(1,12):\n",
    "    if i <= 6:\n",
    "        print('*'*i)\n",
    "    else: \n",
    "        print('*'*(i - a)) # i - A [7 - 2 = 5 / 8 - 4 = 4 / 9 - 6 = 3 / 10 - 8 = 2 / 11 - 10 =1]\n",
    "        a += 2 \n",
    "              "
   ]
  },
  {
   "cell_type": "code",
   "execution_count": null,
   "id": "0ef146ec",
   "metadata": {},
   "outputs": [],
   "source": [
    "num1 = int(input(\"첫 번째 정수 입력 >> \"))\n",
    "num2 = int(input(\"두 번째 정수 입력 >> \"))\n",
    "\n",
    "for i in range(num1, num2+1):\n",
    "    print(i, end=\" \")\n"
   ]
  },
  {
   "cell_type": "code",
   "execution_count": null,
   "id": "74cf6af0",
   "metadata": {},
   "outputs": [],
   "source": [
    "num1 = int(input(\"첫 번째 정수 입력 >> \"))\n",
    "num2 = int(input(\"두 번째 정수 입력 >> \"))\n",
    "num3 = int(input(\"세 번째 정수 입력 >> \"))\n",
    "list2= [ ] \n",
    "\n",
    "for i in range(num1, num2+1):  # for문 안돌아 가면 시작이 안됨?\n",
    "    if i % num3 == 0:\n",
    "        list2.append(i)\n",
    "        \n",
    "print(f\"3의 배수의 합 : {sum(list2)}\")\n"
   ]
  },
  {
   "cell_type": "code",
   "execution_count": null,
   "id": "df9c70e6",
   "metadata": {},
   "outputs": [],
   "source": [
    "num1 = int(input(\"첫 번째 정수 입력 >> \"))\n",
    "num2 = int(input(\"두 번째 정수 입력 >> \"))\n",
    "num3 = int(input(\"세 번째 정수 입력 >> \"))\n",
    "list2= [ ] \n",
    "\n",
    "for i in range(num1, num2+1, num3):  # for문 안돌아 가면 시작이 안됨?\n",
    "    if i % num3 == 0:\n",
    "        list2.append(i)\n",
    "        \n",
    "print(f\"{num3}의 배수의 합 : {sum(list2)}\")"
   ]
  },
  {
   "cell_type": "code",
   "execution_count": null,
   "id": "9ee7c4cf",
   "metadata": {},
   "outputs": [],
   "source": [
    "s = \".nohtyp deen uoY ,trohs oot si efiL\"\n",
    "a = \"\"\n",
    "b = 0\n",
    "\n",
    "\n",
    "for i in s:\n",
    "    a += s[(34-b)]\n",
    "    b += 1\n",
    "print(a)\n"
   ]
  },
  {
   "cell_type": "code",
   "execution_count": null,
   "id": "00ed6123",
   "metadata": {},
   "outputs": [],
   "source": [
    "len(s)"
   ]
  },
  {
   "cell_type": "code",
   "execution_count": null,
   "id": "ffc5f3fc",
   "metadata": {},
   "outputs": [],
   "source": [
    "list(s)\n",
    "b1=34\n",
    "\n",
    "for i in range(17):\n",
    "    s[i] = s[b1-i]\n",
    "    print(s)"
   ]
  },
  {
   "cell_type": "code",
   "execution_count": null,
   "id": "6c4d2142",
   "metadata": {},
   "outputs": [],
   "source": [
    "for i in range(len(s)-1, -1,-1):\n",
    "    print(s[i], end=\"\")"
   ]
  },
  {
   "cell_type": "code",
   "execution_count": null,
   "id": "4bd3f39d",
   "metadata": {},
   "outputs": [],
   "source": [
    "for i in range(-1, -len(s)-1,-1):\n",
    "    print(s[i], end=\"\")"
   ]
  },
  {
   "cell_type": "code",
   "execution_count": null,
   "id": "d8162e81",
   "metadata": {},
   "outputs": [],
   "source": [
    "a=2\n",
    "for i in range(2,10):\n",
    "    for i in range(1,10):\n",
    "        print(f\"{a}*{i}={a*i}\", end=\"\\t\" )\n",
    "    a += 1\n",
    "    print(\" \")"
   ]
  },
  {
   "cell_type": "markdown",
   "id": "368ad05f",
   "metadata": {},
   "source": [
    "### 윤규 로직"
   ]
  },
  {
   "cell_type": "code",
   "execution_count": 1,
   "id": "0de16291",
   "metadata": {},
   "outputs": [
    {
     "name": "stdout",
     "output_type": "stream",
     "text": [
      "=============================================\n",
      "이름\tPython\tJava\tDB\t평균\t학점\t\n",
      "=============================================\n",
      "박매일\t89\t78\t99\t88\tB\n",
      "김미희\t67\t88\t77\t77\tC\n",
      "강예진\t100\t55\t96\t83\tB\n",
      "=============================================\n",
      "평균\t88\t77\t83\t"
     ]
    }
   ],
   "source": [
    "score_list = [[\"박매일\",89,78,99], [\"김미희\",67,88,77], [\"강예진\",100,55,96]]\n",
    "calums = ['이름', 'Python', 'Java', 'DB', '평균', '학점']\n",
    "mean = []\n",
    "\n",
    "print(\"=\"*45)\n",
    "for i in calums:   #칼럼 이름\n",
    "    print(i, end=\"\\t\")\n",
    "print(\"\")\n",
    "print(\"=\"*45)\n",
    "for i in range(len(score_list)):   #전체 반복 (세로로 쓰는 느낌임)\n",
    "    for j in range(4):   #과목+이름 반복문 / 이름1줄+과목3줄 = range(4)\n",
    "        print(score_list[i][j], end=\"\\t\")\n",
    "    for k in range(1):   #평균 반복문 / 평균1줄 = range(1)\n",
    "        avg = int((score_list[i][1]+score_list[i][2]+score_list[i][3])/3)   #과목수가 3개니까 나누기 3  \n",
    "        print(avg, end=\"\\t\")\n",
    "        mean.append(avg)\n",
    "    for l in range(1):   #학점 반복문 / 학점1줄 = range(1)\n",
    "        if avg >= 90:\n",
    "            grade = 'A'\n",
    "        elif avg >= 80:\n",
    "            grade = 'B'\n",
    "        elif avg >= 70:\n",
    "            grade = 'C'\n",
    "        elif avg >= 60:\n",
    "            grade = 'D'\n",
    "        else:\n",
    "            grade ='F'\n",
    "        print(grade)   \n",
    "                         #만약에 열 하나 늘어나면 for문 여기에 적어주면 됨 for문 하나당 세로 열 씀 \n",
    "print(\"=\"*45)\n",
    "print(calums[4], end=\"\\t\")\n",
    "for i in range(3):\n",
    "    print(mean[i], end=\"\\t\")  #과목별 평균"
   ]
  },
  {
   "cell_type": "code",
   "execution_count": 2,
   "id": "36336618",
   "metadata": {},
   "outputs": [],
   "source": [
    "score_list.append(['최성우', 99, 99, 99 ,99])"
   ]
  },
  {
   "cell_type": "code",
   "execution_count": 3,
   "id": "70a3bddd",
   "metadata": {},
   "outputs": [
    {
     "name": "stdout",
     "output_type": "stream",
     "text": [
      "=============================================\n",
      "이름\tPython\tJava\tDB\t평균\t학점\t\n",
      "=============================================\n",
      "박매일\t89\t78\t99\t88\tB\n",
      "김미희\t67\t88\t77\t77\tC\n",
      "강예진\t100\t55\t96\t83\tB\n",
      "최성우\t99\t99\t99\t99\tA\n",
      "=============================================\n",
      "평균\t88\t77\t83\t"
     ]
    }
   ],
   "source": [
    "mean = []\n",
    "\n",
    "print(\"=\"*45)\n",
    "for i in calums:   #칼럼 이름\n",
    "    print(i, end=\"\\t\")\n",
    "print(\"\")\n",
    "print(\"=\"*45)\n",
    "for i in range(len(score_list)): \n",
    "    for j in range(4):   #과목별 점수\n",
    "        print(score_list[i][j], end=\"\\t\")\n",
    "    for k in range(1):   #평균\n",
    "        a = int((score_list[i][j-2]+score_list[i][j-1]+score_list[i][j])/3)\n",
    "        print(a, end=\"\\t\")\n",
    "        mean.append(a)\n",
    "    for l in range(1):   #학점\n",
    "        if a >= 90:\n",
    "            print('A')\n",
    "        elif a >= 80:\n",
    "            print('B')\n",
    "        elif a >= 70:\n",
    "            print('C')\n",
    "        elif a >= 60:\n",
    "            print('D')\n",
    "        else:\n",
    "            print('F')\n",
    "print(\"=\"*45)\n",
    "print(calums[4], end=\"\\t\")\n",
    "for i in range(3):\n",
    "    print(mean[i], end=\"\\t\")"
   ]
  },
  {
   "cell_type": "markdown",
   "id": "1cf45d84",
   "metadata": {},
   "source": [
    "### 명기 로직"
   ]
  },
  {
   "cell_type": "code",
   "execution_count": 4,
   "id": "c8f133ec",
   "metadata": {},
   "outputs": [
    {
     "name": "stdout",
     "output_type": "stream",
     "text": [
      "=============================================\n",
      "이름\tPython\tJava\tDB\t평균\t학점\n",
      "=============================================\n",
      "박매일\t89\t78\t99\t88\tB\n",
      "김미희\t67\t88\t77\t77\tC\n",
      "강예진\t100\t55\t96\t83\tB\n",
      "=============================================\n",
      "평균\t85\t73\t90\n"
     ]
    }
   ],
   "source": [
    "score_list = [[\"박매일\",89,78,99],[\"김미희\",67,88,77],[\"강예진\",100,55,96]]\n",
    "print(\"=\"*45,end=\"\")\n",
    "print(\"\\n이름\\tPython\\tJava\\tDB\\t평균\\t학점\")\n",
    "print(\"=\"*45,end=\"\\n\")\n",
    "a, b ,c=0, 0, 0\n",
    "for i,j,k,l in score_list:\n",
    "    loan = int((j+k+l)/3)\n",
    "    if loan >= 90:\n",
    "        grade = \"A\"\n",
    "    elif loan >= 80:\n",
    "        grade = \"B\"\n",
    "    elif loan >= 70:\n",
    "        grade = \"C\"\n",
    "    elif loan >= 60:\n",
    "        grade = \"D\"\n",
    "    else:\n",
    "        grade = \"F\"\n",
    "    a += j\n",
    "    b += k\n",
    "    c += l\n",
    "    print(f\"{i}\\t{j}\\t{k}\\t{l}\\t{loan}\\t{grade}\")\n",
    "print(\"=\"*45,end=\"\\n\")\n",
    "q,w,e = int(a/len(score_list)),int(b/len(score_list)),int(c/len(score_list))\n",
    "print(f\"평균\\t{q}\\t{w}\\t{e}\")"
   ]
  },
  {
   "cell_type": "markdown",
   "id": "f78b260b",
   "metadata": {},
   "source": [
    "#### 구구단"
   ]
  },
  {
   "cell_type": "code",
   "execution_count": 5,
   "id": "5ee6e4b1",
   "metadata": {},
   "outputs": [
    {
     "name": "stdout",
     "output_type": "stream",
     "text": [
      "2*1=2\t3*1=3\t4*1=4\t5*1=5\t6*1=6\t7*1=7\t8*1=8\t9*1=9\t\n",
      "2*2=4\t3*2=6\t4*2=8\t5*2=10\t6*2=12\t7*2=14\t8*2=16\t9*2=18\t\n",
      "2*3=6\t3*3=9\t4*3=12\t5*3=15\t6*3=18\t7*3=21\t8*3=24\t9*3=27\t\n",
      "2*4=8\t3*4=12\t4*4=16\t5*4=20\t6*4=24\t7*4=28\t8*4=32\t9*4=36\t\n",
      "2*5=10\t3*5=15\t4*5=20\t5*5=25\t6*5=30\t7*5=35\t8*5=40\t9*5=45\t\n",
      "2*6=12\t3*6=18\t4*6=24\t5*6=30\t6*6=36\t7*6=42\t8*6=48\t9*6=54\t\n",
      "2*7=14\t3*7=21\t4*7=28\t5*7=35\t6*7=42\t7*7=49\t8*7=56\t9*7=63\t\n",
      "2*8=16\t3*8=24\t4*8=32\t5*8=40\t6*8=48\t7*8=56\t8*8=64\t9*8=72\t\n",
      "2*9=18\t3*9=27\t4*9=36\t5*9=45\t6*9=54\t7*9=63\t8*9=72\t9*9=81\t\n"
     ]
    }
   ],
   "source": [
    "for dan in range(1,10):\n",
    "    for i in range(2,10):\n",
    "        print(f\"{i}*{dan}={dan*i}\", end=\"\\t\")  #이스케이프 코드 한다면 큰 것 기준 일정한 간격으로 출력\n",
    "    print()"
   ]
  },
  {
   "cell_type": "markdown",
   "id": "7c3d6e32",
   "metadata": {},
   "source": [
    "#### 홀짝 판별기"
   ]
  },
  {
   "cell_type": "code",
   "execution_count": 6,
   "id": "5d713ca3",
   "metadata": {},
   "outputs": [
    {
     "name": "stdout",
     "output_type": "stream",
     "text": [
      "짝수 2개, 홀수 7개\n"
     ]
    }
   ],
   "source": [
    "list1=[1,30,7,9,17,3,5,23,44]\n",
    "a = 0\n",
    "b = 0\n",
    "\n",
    "for i in list1:\n",
    "    if i%2 == 0:\n",
    "        a += 1\n",
    "    else:\n",
    "        b += 1\n",
    "\n",
    "print(f\"짝수 {a}개, 홀수 {b}개\")"
   ]
  },
  {
   "cell_type": "code",
   "execution_count": 7,
   "id": "802ad2ae",
   "metadata": {},
   "outputs": [
    {
     "name": "stdout",
     "output_type": "stream",
     "text": [
      "짝수 3개, 홀수 8개\n"
     ]
    }
   ],
   "source": [
    "list1=[1,30,7,9,17,3,5,23,44, 32, 35]\n",
    "a = 0\n",
    "b = 0\n",
    "\n",
    "for i in list1:\n",
    "    if i%2 == 0:\n",
    "        a += 1\n",
    "    else:\n",
    "        b += 1\n",
    "\n",
    "print(f\"짝수 {a}개, 홀수 {b}개\")"
   ]
  },
  {
   "cell_type": "code",
   "execution_count": 8,
   "id": "7c0a6933",
   "metadata": {},
   "outputs": [
    {
     "ename": "KeyboardInterrupt",
     "evalue": "Interrupted by user",
     "output_type": "error",
     "traceback": [
      "\u001b[1;31m---------------------------------------------------------------------------\u001b[0m",
      "\u001b[1;31mKeyboardInterrupt\u001b[0m                         Traceback (most recent call last)",
      "Input \u001b[1;32mIn [8]\u001b[0m, in \u001b[0;36m<cell line: 1>\u001b[1;34m()\u001b[0m\n\u001b[1;32m----> 1\u001b[0m a \u001b[38;5;241m=\u001b[39m \u001b[38;5;28;43minput\u001b[39;49m\u001b[43m(\u001b[49m\u001b[38;5;124;43m\"\u001b[39;49m\u001b[38;5;124;43mOX입력 >> \u001b[39;49m\u001b[38;5;124;43m\"\u001b[39;49m\u001b[43m)\u001b[49m\n\u001b[0;32m      2\u001b[0m r, s \u001b[38;5;241m=\u001b[39m \u001b[38;5;241m0\u001b[39m, \u001b[38;5;241m0\u001b[39m\n\u001b[0;32m      4\u001b[0m \u001b[38;5;28;01mfor\u001b[39;00m i \u001b[38;5;129;01min\u001b[39;00m a:\n",
      "File \u001b[1;32m~\\Anaconda3\\lib\\site-packages\\ipykernel\\kernelbase.py:1075\u001b[0m, in \u001b[0;36mKernel.raw_input\u001b[1;34m(self, prompt)\u001b[0m\n\u001b[0;32m   1071\u001b[0m \u001b[38;5;28;01mif\u001b[39;00m \u001b[38;5;129;01mnot\u001b[39;00m \u001b[38;5;28mself\u001b[39m\u001b[38;5;241m.\u001b[39m_allow_stdin:\n\u001b[0;32m   1072\u001b[0m     \u001b[38;5;28;01mraise\u001b[39;00m StdinNotImplementedError(\n\u001b[0;32m   1073\u001b[0m         \u001b[38;5;124m\"\u001b[39m\u001b[38;5;124mraw_input was called, but this frontend does not support input requests.\u001b[39m\u001b[38;5;124m\"\u001b[39m\n\u001b[0;32m   1074\u001b[0m     )\n\u001b[1;32m-> 1075\u001b[0m \u001b[38;5;28;01mreturn\u001b[39;00m \u001b[38;5;28;43mself\u001b[39;49m\u001b[38;5;241;43m.\u001b[39;49m\u001b[43m_input_request\u001b[49m\u001b[43m(\u001b[49m\n\u001b[0;32m   1076\u001b[0m \u001b[43m    \u001b[49m\u001b[38;5;28;43mstr\u001b[39;49m\u001b[43m(\u001b[49m\u001b[43mprompt\u001b[49m\u001b[43m)\u001b[49m\u001b[43m,\u001b[49m\n\u001b[0;32m   1077\u001b[0m \u001b[43m    \u001b[49m\u001b[38;5;28;43mself\u001b[39;49m\u001b[38;5;241;43m.\u001b[39;49m\u001b[43m_parent_ident\u001b[49m\u001b[43m[\u001b[49m\u001b[38;5;124;43m\"\u001b[39;49m\u001b[38;5;124;43mshell\u001b[39;49m\u001b[38;5;124;43m\"\u001b[39;49m\u001b[43m]\u001b[49m\u001b[43m,\u001b[49m\n\u001b[0;32m   1078\u001b[0m \u001b[43m    \u001b[49m\u001b[38;5;28;43mself\u001b[39;49m\u001b[38;5;241;43m.\u001b[39;49m\u001b[43mget_parent\u001b[49m\u001b[43m(\u001b[49m\u001b[38;5;124;43m\"\u001b[39;49m\u001b[38;5;124;43mshell\u001b[39;49m\u001b[38;5;124;43m\"\u001b[39;49m\u001b[43m)\u001b[49m\u001b[43m,\u001b[49m\n\u001b[0;32m   1079\u001b[0m \u001b[43m    \u001b[49m\u001b[43mpassword\u001b[49m\u001b[38;5;241;43m=\u001b[39;49m\u001b[38;5;28;43;01mFalse\u001b[39;49;00m\u001b[43m,\u001b[49m\n\u001b[0;32m   1080\u001b[0m \u001b[43m\u001b[49m\u001b[43m)\u001b[49m\n",
      "File \u001b[1;32m~\\Anaconda3\\lib\\site-packages\\ipykernel\\kernelbase.py:1120\u001b[0m, in \u001b[0;36mKernel._input_request\u001b[1;34m(self, prompt, ident, parent, password)\u001b[0m\n\u001b[0;32m   1117\u001b[0m             \u001b[38;5;28;01mbreak\u001b[39;00m\n\u001b[0;32m   1118\u001b[0m \u001b[38;5;28;01mexcept\u001b[39;00m \u001b[38;5;167;01mKeyboardInterrupt\u001b[39;00m:\n\u001b[0;32m   1119\u001b[0m     \u001b[38;5;66;03m# re-raise KeyboardInterrupt, to truncate traceback\u001b[39;00m\n\u001b[1;32m-> 1120\u001b[0m     \u001b[38;5;28;01mraise\u001b[39;00m \u001b[38;5;167;01mKeyboardInterrupt\u001b[39;00m(\u001b[38;5;124m\"\u001b[39m\u001b[38;5;124mInterrupted by user\u001b[39m\u001b[38;5;124m\"\u001b[39m) \u001b[38;5;28;01mfrom\u001b[39;00m \u001b[38;5;28mNone\u001b[39m\n\u001b[0;32m   1121\u001b[0m \u001b[38;5;28;01mexcept\u001b[39;00m \u001b[38;5;167;01mException\u001b[39;00m:\n\u001b[0;32m   1122\u001b[0m     \u001b[38;5;28mself\u001b[39m\u001b[38;5;241m.\u001b[39mlog\u001b[38;5;241m.\u001b[39mwarning(\u001b[38;5;124m\"\u001b[39m\u001b[38;5;124mInvalid Message:\u001b[39m\u001b[38;5;124m\"\u001b[39m, exc_info\u001b[38;5;241m=\u001b[39m\u001b[38;5;28;01mTrue\u001b[39;00m)\n",
      "\u001b[1;31mKeyboardInterrupt\u001b[0m: Interrupted by user"
     ]
    }
   ],
   "source": [
    "a = input(\"OX입력 >> \")\n",
    "r, s = 0, 0\n",
    "\n",
    "for i in a:\n",
    "    if i == 'O':\n",
    "        s += 1\n",
    "        r += s\n",
    "    else: \n",
    "        s = 0\n",
    "\n",
    "print(f\"{r}점\")"
   ]
  },
  {
   "cell_type": "code",
   "execution_count": null,
   "id": "c265451c",
   "metadata": {},
   "outputs": [],
   "source": [
    "ox = input(\"OX입력 >> \")\n",
    "score = 0\n",
    "result = 0\n",
    "\n",
    "for i in range(0, len(ox), 1):\n",
    "    if ox[i] == 'O':\n",
    "        score += 1\n",
    "        result += score\n",
    "    else: \n",
    "        score = 0\n",
    "\n",
    "print(f\"{result}점\")"
   ]
  },
  {
   "cell_type": "markdown",
   "id": "33fef634",
   "metadata": {},
   "source": [
    "### 숙제 (선생님 버전)"
   ]
  },
  {
   "cell_type": "code",
   "execution_count": 9,
   "id": "f5a9ab38",
   "metadata": {
    "scrolled": true
   },
   "outputs": [
    {
     "name": "stdout",
     "output_type": "stream",
     "text": [
      "==================================================\n",
      "이름\t Python\t Java\t DB\t 평균\t 학점\n",
      "==================================================\n",
      "박매일 \t 89 \t 78 \t 99 \t 88 \t D\n",
      "김미희 \t 67 \t 88 \t 77 \t 77 \t D\n",
      "강예진 \t 100 \t 55 \t 96 \t 83 \t D\n",
      "==================================================\n",
      "평균 \t 85 \t 73 \t 90\n"
     ]
    }
   ],
   "source": [
    "score_list = [[\"박매일\",89,78,99],[\"김미희\",67,88,77],[\"강예진\",100,55,96]]\n",
    "\n",
    "print(\"=\"*50)\n",
    "print(\"이름\\t\", \"Python\\t\", \"Java\\t\", \"DB\\t\", '평균\\t', '학점')\n",
    "print(\"=\"*50)\n",
    "\n",
    "python, java, db = 0, 0, 0\n",
    "\n",
    "for i in score_list:\n",
    "    avg = int((i[1]+i[2]+i[3])/len(score_list))   #선생님별 평균\n",
    "    avg_p, avg_j, avg_d = 0, 0, 0   #과목별별 평균\n",
    "    \n",
    "    if avg >= 90:\n",
    "        grade = \"A\"\n",
    "    if avg >= 80:\n",
    "        grade = \"B\"\n",
    "    if avg >= 70:\n",
    "        grade = \"C\"\n",
    "    if avg >= 60:\n",
    "        grade = \"D\"\n",
    "    else:\n",
    "        grade = \"F\"\n",
    "    \n",
    "    python += i[1]\n",
    "    java += i[2]\n",
    "    db += i[3]\n",
    "    \n",
    "    avg_p = int(python/len(score_list))\n",
    "    avg_j = int(java/len(score_list))\n",
    "    avg_d = int(db/len(score_list))\n",
    "    \n",
    "    print(i[0], '\\t', i[1], '\\t', i[2], '\\t', i[3], '\\t', avg, '\\t', grade)\n",
    "\n",
    "print(\"=\"*50)\n",
    "\n",
    "print('평균', '\\t', avg_p, '\\t', avg_j, '\\t', avg_d)    \n",
    "        "
   ]
  },
  {
   "cell_type": "markdown",
   "id": "b7fb0f87",
   "metadata": {},
   "source": [
    "### 네이버 영화 리뷰 간단 분석"
   ]
  },
  {
   "cell_type": "code",
   "execution_count": null,
   "id": "a3ce5f97",
   "metadata": {},
   "outputs": [],
   "source": [
    "import pickle   #pickle : 리스트와 같은 자료구조 자체를 저장하거나 불러오게 해주는 라이브러리(기능들의 집합)"
   ]
  },
  {
   "cell_type": "code",
   "execution_count": null,
   "id": "a03a9761",
   "metadata": {},
   "outputs": [],
   "source": [
    "with open(\"data/movie_review.pkl\",'rb') as f:\n",
    "    my = pickle.load(f)"
   ]
  },
  {
   "cell_type": "code",
   "execution_count": null,
   "id": "2dfe378d",
   "metadata": {},
   "outputs": [],
   "source": [
    "my"
   ]
  },
  {
   "cell_type": "code",
   "execution_count": null,
   "id": "06f17ef7",
   "metadata": {},
   "outputs": [],
   "source": []
  },
  {
   "cell_type": "code",
   "execution_count": null,
   "id": "13e5bb2d",
   "metadata": {},
   "outputs": [],
   "source": []
  },
  {
   "cell_type": "code",
   "execution_count": null,
   "id": "1e886ea7",
   "metadata": {},
   "outputs": [],
   "source": []
  },
  {
   "cell_type": "code",
   "execution_count": null,
   "id": "c9e63c83",
   "metadata": {},
   "outputs": [],
   "source": []
  },
  {
   "cell_type": "code",
   "execution_count": null,
   "id": "a1b45251",
   "metadata": {},
   "outputs": [],
   "source": []
  },
  {
   "cell_type": "code",
   "execution_count": null,
   "id": "27b56437",
   "metadata": {},
   "outputs": [],
   "source": []
  },
  {
   "cell_type": "code",
   "execution_count": null,
   "id": "c0a2f5ff",
   "metadata": {},
   "outputs": [],
   "source": []
  },
  {
   "cell_type": "code",
   "execution_count": null,
   "id": "7a129ff1",
   "metadata": {},
   "outputs": [],
   "source": []
  },
  {
   "cell_type": "code",
   "execution_count": null,
   "id": "a11ea5e2",
   "metadata": {},
   "outputs": [],
   "source": []
  },
  {
   "cell_type": "code",
   "execution_count": null,
   "id": "2e16e2c6",
   "metadata": {},
   "outputs": [],
   "source": []
  },
  {
   "cell_type": "code",
   "execution_count": null,
   "id": "17b2434c",
   "metadata": {},
   "outputs": [],
   "source": []
  },
  {
   "cell_type": "code",
   "execution_count": null,
   "id": "a9361ad6",
   "metadata": {},
   "outputs": [],
   "source": []
  },
  {
   "cell_type": "code",
   "execution_count": null,
   "id": "c3a23c51",
   "metadata": {},
   "outputs": [],
   "source": []
  },
  {
   "cell_type": "code",
   "execution_count": null,
   "id": "81c8c76f",
   "metadata": {},
   "outputs": [],
   "source": []
  },
  {
   "cell_type": "code",
   "execution_count": null,
   "id": "85dc7c92",
   "metadata": {},
   "outputs": [],
   "source": []
  },
  {
   "cell_type": "code",
   "execution_count": null,
   "id": "d5499cb1",
   "metadata": {},
   "outputs": [],
   "source": []
  },
  {
   "cell_type": "code",
   "execution_count": null,
   "id": "e1458115",
   "metadata": {},
   "outputs": [],
   "source": []
  },
  {
   "cell_type": "code",
   "execution_count": null,
   "id": "729ebc88",
   "metadata": {},
   "outputs": [],
   "source": []
  },
  {
   "cell_type": "code",
   "execution_count": null,
   "id": "38bc0cab",
   "metadata": {},
   "outputs": [],
   "source": []
  },
  {
   "cell_type": "code",
   "execution_count": null,
   "id": "3771ee96",
   "metadata": {},
   "outputs": [],
   "source": []
  },
  {
   "cell_type": "code",
   "execution_count": null,
   "id": "243ea17b",
   "metadata": {},
   "outputs": [],
   "source": []
  },
  {
   "cell_type": "code",
   "execution_count": null,
   "id": "51071e90",
   "metadata": {},
   "outputs": [],
   "source": []
  },
  {
   "cell_type": "code",
   "execution_count": null,
   "id": "5b4d0662",
   "metadata": {},
   "outputs": [],
   "source": []
  },
  {
   "cell_type": "code",
   "execution_count": null,
   "id": "52e48ade",
   "metadata": {},
   "outputs": [],
   "source": []
  },
  {
   "cell_type": "code",
   "execution_count": null,
   "id": "b73f6782",
   "metadata": {},
   "outputs": [],
   "source": []
  },
  {
   "cell_type": "code",
   "execution_count": null,
   "id": "9843d611",
   "metadata": {},
   "outputs": [],
   "source": []
  },
  {
   "cell_type": "code",
   "execution_count": null,
   "id": "4eb6541c",
   "metadata": {},
   "outputs": [],
   "source": []
  },
  {
   "cell_type": "code",
   "execution_count": null,
   "id": "000a73fc",
   "metadata": {},
   "outputs": [],
   "source": []
  },
  {
   "cell_type": "code",
   "execution_count": null,
   "id": "37bc88e8",
   "metadata": {},
   "outputs": [],
   "source": []
  },
  {
   "cell_type": "code",
   "execution_count": null,
   "id": "d17b45df",
   "metadata": {},
   "outputs": [],
   "source": []
  },
  {
   "cell_type": "code",
   "execution_count": null,
   "id": "4e467a7d",
   "metadata": {},
   "outputs": [],
   "source": []
  },
  {
   "cell_type": "code",
   "execution_count": null,
   "id": "1781d138",
   "metadata": {},
   "outputs": [],
   "source": []
  },
  {
   "cell_type": "code",
   "execution_count": null,
   "id": "93403153",
   "metadata": {},
   "outputs": [],
   "source": []
  }
 ],
 "metadata": {
  "kernelspec": {
   "display_name": "Python 3 (ipykernel)",
   "language": "python",
   "name": "python3"
  },
  "language_info": {
   "codemirror_mode": {
    "name": "ipython",
    "version": 3
   },
   "file_extension": ".py",
   "mimetype": "text/x-python",
   "name": "python",
   "nbconvert_exporter": "python",
   "pygments_lexer": "ipython3",
   "version": "3.9.12"
  }
 },
 "nbformat": 4,
 "nbformat_minor": 5
}
